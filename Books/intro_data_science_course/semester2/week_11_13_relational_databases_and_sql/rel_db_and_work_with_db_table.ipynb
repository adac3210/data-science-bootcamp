{
 "cells": [
  {
   "cell_type": "markdown",
   "id": "970209b0-a40f-4fc9-80a1-d78442473f12",
   "metadata": {},
   "source": [
    "<img src=\"../../predictioNN_Logo_JPG(72).jpg\" width=200>"
   ]
  },
  {
   "cell_type": "markdown",
   "id": "b05f03d1-3af1-4233-9eb9-2b7636fe6550",
   "metadata": {},
   "source": [
    "---\n",
    "\n",
    "## Creating and Working with a Relational Database\n",
    "\n",
    "### Introduction to Data Science\n",
    "### Last Updated: March 12, 2023\n",
    "---  \n",
    "\n",
    "### OBJECTIVES\n",
    "- Understand basic properties of a relational database\n",
    "- Differentiate between a primary key and a foreign key\n",
    "- Connect to a SQLite database with Python\n",
    "- Write SQL commands to:\n",
    "  - create a database table\n",
    "  - insert data into a table\n",
    "  - select data from a table\n",
    "  - apply filters to condition on data\n",
    "- Write basic SQL commands directly in SQLite\n",
    "\n",
    "### CONCEPTS\n",
    "- relational database\n",
    "- SQL for querying a database\n",
    "- filtering on records\n",
    "- primary key\n",
    "- foreign key\n",
    "\n",
    "---\n"
   ]
  },
  {
   "cell_type": "markdown",
   "id": "b01a7a0c-ba59-47b3-8055-e4165b4288e3",
   "metadata": {
    "tags": []
   },
   "source": [
    "### I. Getting Started with Relational Databases\n",
    "\n",
    "Databases are a critical piece of any application, as they store the required data.\n",
    "\n",
    "**Relational databases** separate data into tables so they meet certain properties including:\n",
    "- avoiding entry of the same data into different tables (exception: using the data to join tables)\n",
    "- the different tables express different attributes of the data\n",
    "\n",
    "The tables are joined on common *fields* (also called *columns* or *attributes*).\n",
    "\n",
    "Most databases are relational databases, as there are many benefits to this structure.\n",
    "\n",
    "The image below shows a database with two tables:\n",
    "- Customer\n",
    "- Invoice\n",
    "\n",
    "The `Customer` table contains a field named SSN. This is a **primary key**.  \n",
    "\n",
    "A primary key:\n",
    "- must have unique values to tell apart the *records* (also called *rows* or *tuples*)\n",
    "- can be used to join other tables containing the primary key field(s)\n",
    "- can consist of multiple fields, in which case it's called a *composite key*"
   ]
  },
  {
   "cell_type": "markdown",
   "id": "4c8a3b24-2cda-46e4-b46c-fe4f6745fd3b",
   "metadata": {},
   "source": [
    "<img src=\"./table_join.png\">"
   ]
  },
  {
   "cell_type": "markdown",
   "id": "a8a0f297-6d9d-4ba3-824c-358acd5849fd",
   "metadata": {},
   "source": [
    "Both the `Customer` and the `Invoice` tables include `ssn`, so the tables can be joined.\n",
    "\n",
    "Note:  \n",
    "A **foreign key** is a field in one table that references the primary key in another table.\n",
    "\n",
    "`ssn` is a foreign key in the Invoice table.\n",
    "\n",
    "Enough background info, now let's get to work!"
   ]
  },
  {
   "cell_type": "markdown",
   "id": "aab16297-d8e0-4d26-8213-6d481b062d1b",
   "metadata": {},
   "source": [
    "You will work with a popular relational database management system called **SQLite**.\n",
    "\n",
    "\n",
    "We will walk through creating a database and interacting with it using Python:\n",
    "- creating a table\n",
    "- inserting records into the table\n",
    "- querying the data\n",
    "\n",
    "---\n"
   ]
  },
  {
   "cell_type": "markdown",
   "id": "84441a33-ab7f-4417-9a0a-9f4942b38fde",
   "metadata": {},
   "source": [
    "### II. Download and Installation\n",
    "\n",
    "Download SQLite [here](https://www.sqlite.org/download.html)\n",
    "\n",
    "   - Windows users will install:\n",
    "   `sqlite-tools-win32-x86-[some_number].zip`\n",
    "\n",
    "   - Mac users will install:\n",
    "   `sqlite-tools-osx-x86-[some_number].zip`\n",
    "   \n",
    "Where [some_number] is a version that changes over time. \n",
    "\n",
    "If the `sqlite` folder name is long, you can shorten it to `sqlite`\n",
    "\n",
    "---\n",
    "\n",
    "Make note of where you save the database. This is the *database path*.  \n",
    "\n",
    "On Windows it might look something like:  \n",
    "\n",
    "`C:\\Users\\apt4c\\Documents\\database\\sqlite`\n",
    " \n",
    "On a mac, it might look something like:\n",
    "\n",
    "`/user/apt4c/Documents/database/sqlite`\n",
    "\n",
    "mac differences:  \n",
    "- you will use forward slash `/` instead of backslash `\\`\n",
    "- there is no drive letter\n",
    " \n",
    "The example below continues with the Windows version. \n",
    " \n",
    "---"
   ]
  },
  {
   "cell_type": "markdown",
   "id": "e1a8c349-eecb-4b1f-aee5-5eddd38b78ee",
   "metadata": {
    "tags": []
   },
   "source": [
    "### III. Launching terminal and working with SQLite\n",
    "\n",
    "After install, launch terminal (Windows users press `START` key and then type `CMD`)  \n",
    "\n",
    "From terminal, change directory to the database path:\n",
    "\n",
    "`> cd C:\\Users\\apt4c\\Documents\\database\\sqlite`\n",
    "\n",
    "where: \n",
    "- `>` is the prompt\n",
    "- `cd` is the change directory command\n",
    "\n",
    "Next you will create a database called stocks with this command:\n",
    "\n",
    "`> sqlite3 stocks.db`\n",
    "\n",
    "You will see something like this:  \n",
    "```\n",
    "SQLite version 3.39.4 2022-09-29 15:55:41  \n",
    "Enter \".help\" for usage hints.\n",
    "```\n",
    "\n",
    "The prompt will change to this:\n",
    "\n",
    "`> sqlite3`"
   ]
  },
  {
   "cell_type": "markdown",
   "id": "258a102d-926d-4a7b-958c-2c8420813dde",
   "metadata": {},
   "source": [
    "List the databases like this:\n",
    "\n",
    "`sqlite> .databases`\n",
    "\n",
    "You should see `stocks.db` listed.\n",
    "\n",
    "If you look in the sqlite folder, you will see a file called `stocks.db` which stores the database.\n",
    "\n",
    "You can interact with the database in terminal, but here we will switch to Python.\n",
    "\n",
    "---"
   ]
  },
  {
   "cell_type": "markdown",
   "id": "a4489ca2-8dce-426e-be01-37e430d89606",
   "metadata": {},
   "source": [
    "### IV. Working with SQLite from Python"
   ]
  },
  {
   "cell_type": "markdown",
   "id": "2d2322ce-da80-4df6-9e42-525e67890249",
   "metadata": {},
   "source": [
    "Python has APIs for working with databases.\n",
    "\n",
    "Here we use the SQLite API."
   ]
  },
  {
   "cell_type": "code",
   "execution_count": 1,
   "id": "c9181b94-5812-4218-94ca-450cd03f6784",
   "metadata": {},
   "outputs": [],
   "source": [
    "# import the SQLite API\n",
    "import sqlite3"
   ]
  },
  {
   "cell_type": "code",
   "execution_count": 2,
   "id": "12d4c34b-7e5d-4977-ba4d-0529b4b6e7b4",
   "metadata": {},
   "outputs": [],
   "source": [
    "# create some data\n",
    "stocks = [\n",
    "        ('AMZN',114.56,-5.74),\n",
    "        ('AAPL',146,-2.73),\n",
    "        ('GOOG',2829.27,-58.20)]"
   ]
  },
  {
   "cell_type": "code",
   "execution_count": 1,
   "id": "55d5b838-60fa-455f-93a7-cbca5693f1ca",
   "metadata": {},
   "outputs": [],
   "source": [
    "# set path to the database; modify to match your path; use forward slashes '/' in Python\n",
    "PATH_TO_DB = \"C:/Users/apt4c/Documents/database/sqlite/stocks.db\"    "
   ]
  },
  {
   "cell_type": "code",
   "execution_count": null,
   "id": "98e1940f-346a-479c-9e79-432e69680abc",
   "metadata": {},
   "outputs": [],
   "source": [
    "# create db connection\n",
    "conn = sqlite3.connect(PATH_TO_DB)\n",
    "\n",
    "# create cursor\n",
    "cur = conn.cursor()"
   ]
  },
  {
   "cell_type": "markdown",
   "id": "09dfe09c-213a-4907-be1d-46bcf09a4ea1",
   "metadata": {},
   "source": [
    "**We start to write SQL (structured query language) statements to execute on the database.**  \n",
    "Note: It is not required to write SQL commands in UPPERCASE, but it can help for readability.\n",
    "\n",
    "Create a table in the db called \"prices\" and pass a schema.\n",
    "The schema provides for each field:\n",
    "- name\n",
    "- data type\n",
    "- optional attributes such as nullable, primary key\n",
    "\n",
    "End the transaction with a commit"
   ]
  },
  {
   "cell_type": "code",
   "execution_count": 5,
   "id": "edca8a66-7e72-4063-81fc-fe1b9f42857f",
   "metadata": {},
   "outputs": [],
   "source": [
    "cur.execute('CREATE TABLE prices (ticker text, price real, chg real)')\n",
    "conn.commit()"
   ]
  },
  {
   "cell_type": "markdown",
   "id": "1a8d023c-70ba-4a01-a074-4264bdf2f5b4",
   "metadata": {},
   "source": [
    "**NOTE:** The string inside the quotes is the SQL statement:\n",
    "\n",
    "```\n",
    "  CREATE TABLE prices (ticker text, price real, chg real)\n",
    "```"
   ]
  },
  {
   "cell_type": "markdown",
   "id": "79c2725b-3dee-4d76-a25a-57bb6d8e01f1",
   "metadata": {},
   "source": [
    "Next, insert multiple records of data with `executemany()`"
   ]
  },
  {
   "cell_type": "code",
   "execution_count": 6,
   "id": "21ba9f42-190e-440f-af2a-9fcad2b23b3c",
   "metadata": {},
   "outputs": [],
   "source": [
    "cur.executemany('INSERT INTO prices VALUES (?,?,?)', stocks)\n",
    "conn.commit()"
   ]
  },
  {
   "cell_type": "markdown",
   "id": "bd26eebc-7601-42d9-816a-872c3c55c9e3",
   "metadata": {},
   "source": [
    "Use a SELECT statement to select all rows and columns from the price data.  \n",
    "`*` instructs to take all columns  \n",
    "Note this is done with a `for` loop, and each row is printed with the `print()` statement."
   ]
  },
  {
   "cell_type": "code",
   "execution_count": 8,
   "id": "06603878-44b3-47ec-b8a3-70672c141bf4",
   "metadata": {},
   "outputs": [
    {
     "name": "stdout",
     "output_type": "stream",
     "text": [
      "('AMZN', 114.56, -5.74)\n",
      "('AAPL', 146.0, -2.73)\n",
      "('GOOG', 2829.27, -58.2)\n"
     ]
    }
   ],
   "source": [
    "for row in conn.execute('SELECT * FROM prices'):\n",
    "    print(row)"
   ]
  },
  {
   "cell_type": "markdown",
   "id": "a7c70064-028f-4c8f-8435-e97844dfacb2",
   "metadata": {},
   "source": [
    "Apply a filter (condition statement) to the rows, printing all the rows where price > 200  \n",
    "Filtering can be done with `WHERE`"
   ]
  },
  {
   "cell_type": "code",
   "execution_count": 10,
   "id": "e8992c04-2a49-4bc5-90c2-95c9c30368f1",
   "metadata": {},
   "outputs": [
    {
     "name": "stdout",
     "output_type": "stream",
     "text": [
      "('GOOG', 2829.27, -58.2)\n"
     ]
    }
   ],
   "source": [
    "for row in conn.execute('SELECT * FROM prices WHERE price > 200'):\n",
    "    print(row)"
   ]
  },
  {
   "cell_type": "markdown",
   "id": "a2e6f201-e1a8-412f-8f3d-84c5fc02de54",
   "metadata": {},
   "source": [
    "We were selecting all columns with `*` but this isn't necessary.  \n",
    "We can specify the columns that we want.\n",
    "\n",
    "Print all the rows where price > 200. Show only ticker, price."
   ]
  },
  {
   "cell_type": "code",
   "execution_count": 11,
   "id": "8bfc20ee-a499-4e48-abd1-6e8c2d6d2245",
   "metadata": {},
   "outputs": [
    {
     "name": "stdout",
     "output_type": "stream",
     "text": [
      "('GOOG', 2829.27)\n"
     ]
    }
   ],
   "source": [
    "for row in conn.execute('SELECT ticker, price FROM prices WHERE price > 200'):\n",
    "    print(row)"
   ]
  },
  {
   "cell_type": "markdown",
   "id": "4f3bea56-2527-4c65-be85-0eda20599b6e",
   "metadata": {},
   "source": [
    "Save the resultant dataset in a list"
   ]
  },
  {
   "cell_type": "code",
   "execution_count": 13,
   "id": "f5a0b203-6a6f-4711-a7f7-3b203fcf93c6",
   "metadata": {},
   "outputs": [],
   "source": [
    "data = []\n",
    "for row in conn.execute('SELECT ticker, price FROM prices WHERE price > 200'):\n",
    "    data.append(row)"
   ]
  },
  {
   "cell_type": "code",
   "execution_count": 14,
   "id": "d1a387a2-4788-4d48-ae01-e2aea1f378e0",
   "metadata": {},
   "outputs": [
    {
     "data": {
      "text/plain": [
       "[('GOOG', 2829.27)]"
      ]
     },
     "execution_count": 14,
     "metadata": {},
     "output_type": "execute_result"
    }
   ],
   "source": [
    "data"
   ]
  },
  {
   "cell_type": "markdown",
   "id": "06001dda-ab3f-4842-b58f-e63db452ce36",
   "metadata": {},
   "source": [
    "---\n",
    "\n",
    "**TRY FOR YOURSELF**  \n",
    "\n",
    "1. Return to the command line to practice running SQL directly.  \n",
    "\n",
    "1a. List all tables by running at the prompt:   \n",
    "    `> .tables`  \n",
    "    \n",
    "1b. Write a SELECT statement that returns all records where price > 200  \n",
    "    Note: You will need to end the query line with a semicolon  \n",
    "\n",
    "---\n",
    "\n",
    "2. Return to JupyterLab to work in Python.\n",
    "\n",
    "2a. Create a new table called `company_info` with these fields:\n",
    "- ticker (type: text)\n",
    "- ceo_name (type: text)\n",
    "- year_founded (type: integer)\n",
    "\n",
    "You will populate the `company_info` table with the tickers from the `prices` table, the current CEO name, and the year the company was founded. \n",
    "\n",
    "2b. Run a SELECT statement to return all data from the `company_info` table.\n",
    "\n",
    "2c. Run a SQL query with a WHERE clause to filter on a condition.\n",
    "\n",
    "---"
   ]
  },
  {
   "cell_type": "markdown",
   "id": "079a004f-1755-420c-a276-86167622176f",
   "metadata": {},
   "source": [
    "### V. Summary\n",
    "\n",
    "You now know some SQL commands for working with tables.\n",
    "\n",
    "You ran SQL directly in a SQLite terminal.\n",
    "\n",
    "You also ran SQL with the help of the Python SQLite API.  \n",
    "Python includes specialized functions for writing SQL against the database.\n",
    "\n",
    "SQL is very powerful and the statements can grow complex.\n",
    "\n",
    "It is also possible to join two or more tables to bring data together. We will explore this next!\n",
    "\n",
    "\n",
    "---"
   ]
  }
 ],
 "metadata": {
  "kernelspec": {
   "display_name": "Python 3 (ipykernel)",
   "language": "python",
   "name": "python3"
  },
  "language_info": {
   "codemirror_mode": {
    "name": "ipython",
    "version": 3
   },
   "file_extension": ".py",
   "mimetype": "text/x-python",
   "name": "python",
   "nbconvert_exporter": "python",
   "pygments_lexer": "ipython3",
   "version": "3.9.12"
  }
 },
 "nbformat": 4,
 "nbformat_minor": 5
}
