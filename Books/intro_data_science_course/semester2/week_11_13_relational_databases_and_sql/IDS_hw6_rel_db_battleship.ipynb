{
 "cells": [
  {
   "cell_type": "markdown",
   "id": "e91ca8a2-5c45-4d04-b144-dca2f3549449",
   "metadata": {},
   "source": [
    "<img src=\"../../predictioNN_Logo_JPG(72).jpg\" width=200>"
   ]
  },
  {
   "cell_type": "markdown",
   "id": "b05f03d1-3af1-4233-9eb9-2b7636fe6550",
   "metadata": {},
   "source": [
    "---\n",
    "\n",
    "## Battleship using Database Tables!\n",
    "\n",
    "\n",
    "### The Covenant School\n",
    "### Introduction to Data Science\n",
    "### Last Updated: October 26, 2022\n",
    "---  \n",
    "\n",
    "### OBJECTIVES\n",
    "- Practice using database concepts while playing Battleship\n",
    "\n",
    "### CONCEPTS\n",
    "- records, fields\n",
    "- creating a table\n",
    "- inserting data into a table\n",
    "- updating records\n",
    "\n",
    "### GRADING\n",
    "This will be graded as a homework exercise worth 10 points.  \n",
    "You simply need to include from one of your games:  \n",
    "- your board\n",
    "- your opponent's board\n",
    "- some of your SQL code\n",
    "\n",
    "Also, answer the questions at bottom.\n",
    "\n",
    "---\n"
   ]
  },
  {
   "cell_type": "code",
   "execution_count": 3,
   "id": "f2357944-7250-4330-b79b-ae4076210eaf",
   "metadata": {},
   "outputs": [],
   "source": [
    "# import the SQLiteAPI\n",
    "import sqlite3\n",
    "\n",
    "# set database path\n",
    "PATH_TO_DB = \"C:/Users/apt4c/Documents/database/sqlite/stocks.db\"    "
   ]
  },
  {
   "cell_type": "markdown",
   "id": "b01a7a0c-ba59-47b3-8055-e4165b4288e3",
   "metadata": {
    "tags": []
   },
   "source": [
    "### I. Battleship Rules\n",
    "\n",
    "We will play a modification of the game **Battleship** to practice database concepts.  \n",
    "This is a two-player game where each player arranges ships of different sizes on a 5x5 board.  \n",
    "The original game uses a 10x10 board.\n",
    "\n",
    "\n"
   ]
  },
  {
   "cell_type": "markdown",
   "id": "540cdee0-3d98-4724-a4cf-acb786edc8f6",
   "metadata": {},
   "source": [
    "<img src=\"./battleship_game.jpg\">"
   ]
  },
  {
   "cell_type": "markdown",
   "id": "7944c141-538c-41e9-9f07-6bf8363a5d23",
   "metadata": {},
   "source": [
    "The ships are arranged vertically or horizontally, and they cannot be overlapping.   \n",
    "The board is not shown to the opponent.  \n",
    "The players take turns guessing one coordinate pair (eg, `A4`) to locate ships.  \n",
    "If the guessed coordinate is occupied by the ship, the player calls out \"Hit\" and marks the cell with an X.  \n",
    "Each player keeps a second board representing the opponent, marking hits (X) and misses (-) as they get feedback on their guesses.  \n",
    "\n",
    "When a ship is sunk, the player announces the ship type that has been sunk.  \n",
    "The object of the game is to be the first player to guess all of the ship coordinates, sinking the ships. \n",
    "\n",
    "For more details about the game visit [here](https://en.wikipedia.org/wiki/Battleship_(game))\n",
    "\n",
    "We will use these ships:\n",
    "\n",
    "| Class of Ship      | Size |\n",
    "| ----------- | ----------- |\n",
    "| Carrier      | 5       |\n",
    "| Battleship   | 4        |\n",
    "| Submarine   | 3        |\n",
    "\n",
    "The code below sets up a sample player board as a table,  \n",
    "where 1 represents a ship position and 0 is unoccupied."
   ]
  },
  {
   "cell_type": "code",
   "execution_count": 4,
   "id": "c13661a4-a66c-4ce3-8407-875c89366907",
   "metadata": {},
   "outputs": [],
   "source": [
    "player_pos = [\n",
    "        ('A',1,1,1,1,1), # Carrier\n",
    "        ('B',0,1,1,1,1), # Battleship\n",
    "        ('C',0,0,0,0,0), \n",
    "        ('D',0,0,0,0,0),\n",
    "        ('E',0,0,1,1,1)] # Submarine\n",
    "        \n",
    "conn = sqlite3.connect(PATH_TO_DB)\n",
    "cur = conn.cursor()\n",
    "\n",
    "cur.execute('DROP TABLE player')\n",
    "cur.execute('CREATE TABLE player (row text,col1 text,col2 text,col3 text,col4 text,col5 text)')\n",
    "conn.commit()\n",
    "\n",
    "cur.executemany('INSERT INTO player VALUES (?,?,?,?,?,?)', player_pos)\n",
    "conn.commit()"
   ]
  },
  {
   "cell_type": "code",
   "execution_count": 5,
   "id": "ffef7cec-e0f0-4c28-918c-1710b8e44bc7",
   "metadata": {},
   "outputs": [
    {
     "name": "stdout",
     "output_type": "stream",
     "text": [
      "('A', '1', '1', '1', '1', '1')\n",
      "('B', '0', '1', '1', '1', '1')\n",
      "('C', '0', '0', '0', '0', '0')\n",
      "('D', '0', '0', '0', '0', '0')\n",
      "('E', '0', '0', '1', '1', '1')\n"
     ]
    }
   ],
   "source": [
    "for row in conn.execute('SELECT * FROM player'):\n",
    "    print(row)"
   ]
  },
  {
   "cell_type": "markdown",
   "id": "6ebf1144-9633-403d-a199-68e3a0e84d71",
   "metadata": {},
   "source": [
    "### Deleting the Boards\n",
    "\n",
    "You can drop a table with this command:  \n",
    "```\n",
    "cur.execute('DROP TABLE player')\n",
    "```"
   ]
  },
  {
   "cell_type": "markdown",
   "id": "84441a33-ab7f-4417-9a0a-9f4942b38fde",
   "metadata": {},
   "source": [
    "### Updating the Boards\n",
    "\n",
    "You can make updates to boards with the UPDATE statement like this:"
   ]
  },
  {
   "cell_type": "code",
   "execution_count": 6,
   "id": "159aa29a-a525-4090-9444-aada60768d91",
   "metadata": {},
   "outputs": [
    {
     "name": "stdout",
     "output_type": "stream",
     "text": [
      "('A', '1', 'X', '1', '1', '1')\n",
      "('B', '0', '1', '1', '1', '1')\n",
      "('C', '0', '0', '0', '0', '0')\n",
      "('D', '0', '0', '0', '0', '0')\n",
      "('E', '0', '0', '1', '1', '1')\n"
     ]
    }
   ],
   "source": [
    "# update A2 with a hit X\n",
    "cur.execute('UPDATE player SET col2 = \"X\" WHERE row = \"A\"')\n",
    "\n",
    "# show the updated table\n",
    "for row in conn.execute('SELECT * FROM player'):\n",
    "    print(row)"
   ]
  },
  {
   "cell_type": "markdown",
   "id": "2a83ab42-7de2-498d-a063-ce270ca02fcc",
   "metadata": {},
   "source": [
    "---"
   ]
  },
  {
   "cell_type": "markdown",
   "id": "38865fb6-498d-493a-8578-5f7ec580d1e2",
   "metadata": {},
   "source": [
    "### Get Playing!"
   ]
  },
  {
   "cell_type": "markdown",
   "id": "eb972639-8c34-4148-9da1-7d49ae0220c8",
   "metadata": {},
   "source": [
    "Let's set up your player board and your knowledge of your opponent's board.  \n",
    "You can reuse the code above to play the game.  \n",
    "Play a few rounds against your opponent."
   ]
  },
  {
   "cell_type": "markdown",
   "id": "547f09ca-5be4-4cde-a629-3b66e220fd33",
   "metadata": {},
   "source": [
    "**YOUR BOARD - update when you are HIT**"
   ]
  },
  {
   "cell_type": "code",
   "execution_count": 7,
   "id": "94f09a1e-5f19-4854-be6a-9449832348de",
   "metadata": {
    "tags": []
   },
   "outputs": [],
   "source": [
    "your_pos = [\n",
    "        ('A',1,1,1,1,1),\n",
    "        ('B',0,0,1,0,0),\n",
    "        ('C',0,0,1,0,1),\n",
    "        ('D',0,0,1,0,1),\n",
    "        ('E',0,0,1,0,1)]\n",
    "       \n",
    "cur.execute('DROP TABLE you')\n",
    "cur.execute('CREATE TABLE you (row text,col1 text,col2 text,col3 text,col4 text,col5 text)')\n",
    "conn.commit()\n",
    "\n",
    "cur.executemany('INSERT INTO you VALUES (?,?,?,?,?,?)', your_pos)\n",
    "conn.commit()"
   ]
  },
  {
   "cell_type": "code",
   "execution_count": 9,
   "id": "781398a3-b850-47b2-a7e4-45cf95713c62",
   "metadata": {},
   "outputs": [
    {
     "name": "stdout",
     "output_type": "stream",
     "text": [
      "('A', '1', '1', '1', '1', '1')\n",
      "('B', '0', '0', '1', '0', '0')\n",
      "('C', '0', '0', '1', '0', '1')\n",
      "('D', '0', '0', '1', '0', '1')\n",
      "('E', '0', '0', '1', '0', '1')\n"
     ]
    }
   ],
   "source": [
    "# each time you make an update, you can rerun SELECT to see the update\n",
    "for row in conn.execute('SELECT * FROM you'):\n",
    "    print(row)"
   ]
  },
  {
   "cell_type": "code",
   "execution_count": null,
   "id": "eaee7550-752f-43ee-a062-a3f57386ffcc",
   "metadata": {},
   "outputs": [],
   "source": [
    "# for adding hits X\n",
    "cur.execute('UPDATE you SET col1 = \"X\" WHERE row = \"A\"')"
   ]
  },
  {
   "cell_type": "code",
   "execution_count": null,
   "id": "81800522-a793-4d6f-b2a5-889772e090c5",
   "metadata": {},
   "outputs": [],
   "source": [
    "# for resetting cell to zero (to UNDO)\n",
    "cur.execute('UPDATE you SET col1 = \"0\" WHERE row = \"A\"')"
   ]
  },
  {
   "cell_type": "markdown",
   "id": "b3a12561-6f41-4ed3-a1e6-550dcb054c79",
   "metadata": {},
   "source": [
    "**OPPONENT BOARD - update when you HIT and MISS your opponent**"
   ]
  },
  {
   "cell_type": "code",
   "execution_count": null,
   "id": "ae0ed7c3-f0a6-4256-a805-a093af4c4962",
   "metadata": {
    "tags": []
   },
   "outputs": [],
   "source": [
    "opp_pos = [\n",
    "        ('A',0,0,0,0,0),\n",
    "        ('B',0,0,0,0,0),\n",
    "        ('C',0,0,0,0,0),\n",
    "        ('D',0,0,0,0,0),\n",
    "        ('E',0,0,0,0,0)]\n",
    "        \n",
    "cur.execute('DROP TABLE opp')\n",
    "cur.execute('CREATE TABLE opp (row text,col1 text,col2 text,col3 text,col4 text,col5 text)')\n",
    "conn.commit()\n",
    "\n",
    "cur.executemany('INSERT INTO opp VALUES (?,?,?,?,?,?)', opp_pos)\n",
    "conn.commit()"
   ]
  },
  {
   "cell_type": "code",
   "execution_count": null,
   "id": "e4e28a70-5c0a-4c23-9323-dec46036eabe",
   "metadata": {},
   "outputs": [],
   "source": [
    "# each time you make an update, you can rerun SELECT to see the update\n",
    "for row in conn.execute('SELECT * FROM opp'):\n",
    "    print(row)"
   ]
  },
  {
   "cell_type": "code",
   "execution_count": null,
   "id": "442ab388-3e88-4005-88c5-880e6b1e310b",
   "metadata": {},
   "outputs": [],
   "source": [
    "# for adding hits X\n",
    "cur.execute('UPDATE opp SET col1 = \"X\" WHERE row = \"A\"')"
   ]
  },
  {
   "cell_type": "code",
   "execution_count": null,
   "id": "63500df3-a5c6-40ac-ad9f-14ba79951cf9",
   "metadata": {},
   "outputs": [],
   "source": [
    "# for adding misses -\n",
    "cur.execute('UPDATE opp SET col1 = \"-\" WHERE row = \"A\"')"
   ]
  },
  {
   "cell_type": "code",
   "execution_count": null,
   "id": "22e0aa1d-2d98-4a2c-b25f-2ac2a2664283",
   "metadata": {},
   "outputs": [],
   "source": [
    "# for resetting cell to zero (to UNDO)\n",
    "cur.execute('UPDATE opp SET col1 = \"0\" WHERE row = \"A\"')"
   ]
  },
  {
   "cell_type": "markdown",
   "id": "01071a1a-b68e-43fc-bb8d-00eb4bf22967",
   "metadata": {},
   "source": [
    "---"
   ]
  },
  {
   "cell_type": "markdown",
   "id": "8be2e0be-f694-4799-a1d5-ab14ee4e5134",
   "metadata": {},
   "source": [
    "**QUESTIONS TO ANSWER**"
   ]
  },
  {
   "cell_type": "markdown",
   "id": "6f139da3-3b68-4c3f-a3f2-ed4bab5028c9",
   "metadata": {},
   "source": [
    "1) Was this fun? Why or why not?"
   ]
  },
  {
   "cell_type": "markdown",
   "id": "a1c2002c-a4b5-4630-b462-996ee4605af6",
   "metadata": {},
   "source": []
  },
  {
   "cell_type": "markdown",
   "id": "bee4bc59-7a2a-4118-a356-595cb02654f5",
   "metadata": {},
   "source": [
    "2) For making table updates, what allows you to select specific rows and columns?"
   ]
  },
  {
   "cell_type": "markdown",
   "id": "bb91741d-2a4e-450e-8242-cc0bf2102b0b",
   "metadata": {},
   "source": []
  }
 ],
 "metadata": {
  "kernelspec": {
   "display_name": "Python 3 (ipykernel)",
   "language": "python",
   "name": "python3"
  },
  "language_info": {
   "codemirror_mode": {
    "name": "ipython",
    "version": 3
   },
   "file_extension": ".py",
   "mimetype": "text/x-python",
   "name": "python",
   "nbconvert_exporter": "python",
   "pygments_lexer": "ipython3",
   "version": "3.9.12"
  }
 },
 "nbformat": 4,
 "nbformat_minor": 5
}
