{
 "cells": [
  {
   "cell_type": "markdown",
   "metadata": {},
   "source": [
    "<img src=\"../../predictioNN_Logo_JPG(72).jpg\" width=200>"
   ]
  },
  {
   "cell_type": "markdown",
   "metadata": {
    "tags": []
   },
   "source": [
    "---\n",
    "\n",
    "## Coding Assignment 1: Error Measurement\n",
    "\n",
    "### Introduction to Data Science\n",
    "#### Last Updated: November 28, 2022\n",
    "\n",
    "---"
   ]
  },
  {
   "cell_type": "markdown",
   "metadata": {},
   "source": [
    "### Skills Assessed\n",
    "\n",
    "You will demonstrate these skills in the HW:\n",
    "- Compute accuracy, recall, and precision for a binary classifier\n",
    "- How to fit a linear regression model\n",
    "- How to compute rmse\n",
    "\n",
    "---"
   ]
  },
  {
   "cell_type": "markdown",
   "metadata": {},
   "source": [
    "### Instructions\n",
    "\n",
    "Show all work and solutions for each question below. \n",
    "\n",
    "**TOTAL POINTS: 10**\n",
    "\n",
    "---"
   ]
  },
  {
   "cell_type": "markdown",
   "metadata": {},
   "source": [
    "### 1) Binary Classification\n",
    "\n",
    "1a. A binary classifier is used to detect a disease in a group of subjects.  \n",
    "The prediction and actual status are shown below for five subjects.  \n",
    "Showing all work, compute:\n",
    "- accuracy **(1 PT)**\n",
    "- recall **(1 PT)**\n",
    "- precision **(1 PT)**"
   ]
  },
  {
   "cell_type": "markdown",
   "metadata": {},
   "source": [
    "| Subject |Prediction| Actual |\n",
    "| ----------- | ----------- |  ----------- |\n",
    "| 1 | Positive | Positive |\n",
    "| 2 | Negative      |  Negative   |\n",
    "| 3 | Negative      |  Positive   |\n",
    "| 4 | Negative      |  Positive   |\n",
    "| 5 | Positive      |  Negative   |"
   ]
  },
  {
   "cell_type": "code",
   "execution_count": null,
   "metadata": {},
   "outputs": [],
   "source": []
  },
  {
   "cell_type": "markdown",
   "metadata": {},
   "source": [
    "1b. **(1 PT)** How can a binary classifier get perfect recall? Can you think of any problem with this method?"
   ]
  },
  {
   "cell_type": "code",
   "execution_count": null,
   "metadata": {},
   "outputs": [],
   "source": []
  },
  {
   "cell_type": "markdown",
   "metadata": {},
   "source": [
    "### 2) Regression\n"
   ]
  },
  {
   "cell_type": "markdown",
   "metadata": {},
   "source": [
    "Continue the example with the Ames housing dataset"
   ]
  },
  {
   "cell_type": "markdown",
   "metadata": {
    "tags": []
   },
   "source": [
    "Read in the dataset"
   ]
  },
  {
   "cell_type": "code",
   "execution_count": 39,
   "metadata": {},
   "outputs": [],
   "source": [
    "import pandas as pd"
   ]
  },
  {
   "cell_type": "code",
   "execution_count": 23,
   "metadata": {},
   "outputs": [],
   "source": [
    "housing_datafile = '../datasets/ames_housing.csv'\n",
    "housing = pd.read_csv(housing_datafile)"
   ]
  },
  {
   "cell_type": "markdown",
   "metadata": {},
   "source": [
    "2a. **(2 PTS)** Use both `1stFlrSF` and `2ndFlrSF` as predictors in a linear regression model, where `SalePrice` is the target. Compute rmse."
   ]
  },
  {
   "cell_type": "markdown",
   "metadata": {},
   "source": []
  },
  {
   "cell_type": "markdown",
   "metadata": {},
   "source": [
    "2b. **(1 PT)** Compute and print the largest error, where error is defined as:\n",
    "\n",
    "error = actual SalePrice - predicted SalePrice"
   ]
  },
  {
   "cell_type": "code",
   "execution_count": null,
   "metadata": {},
   "outputs": [],
   "source": []
  },
  {
   "cell_type": "markdown",
   "metadata": {},
   "source": [
    "2c. **(1 PT)** Compute and print the largest absolute error (either positive or negative)"
   ]
  },
  {
   "cell_type": "code",
   "execution_count": null,
   "metadata": {},
   "outputs": [],
   "source": []
  },
  {
   "cell_type": "markdown",
   "metadata": {},
   "source": [
    "2d. **(2 PTS)** How does this model compare to the models using 1stFlrSF and 2ndFlrSF separately (from the lecture notes)?  \n",
    "Does this make sense? Explain your answer."
   ]
  },
  {
   "cell_type": "code",
   "execution_count": null,
   "metadata": {},
   "outputs": [],
   "source": []
  },
  {
   "cell_type": "markdown",
   "metadata": {},
   "source": [
    "2e. Use `1stFlrSF` and `2ndFlrSF` as predictors, where `SalePrice` is the target.  \n",
    "See if you can include a third predictor that lowers the rmse below the value from question 2a.  Show all work."
   ]
  },
  {
   "cell_type": "code",
   "execution_count": null,
   "metadata": {},
   "outputs": [],
   "source": []
  },
  {
   "cell_type": "markdown",
   "metadata": {},
   "source": [
    "---"
   ]
  }
 ],
 "metadata": {
  "anaconda-cloud": {},
  "kernelspec": {
   "display_name": "Python 3 (ipykernel)",
   "language": "python",
   "name": "python3"
  },
  "language_info": {
   "codemirror_mode": {
    "name": "ipython",
    "version": 3
   },
   "file_extension": ".py",
   "mimetype": "text/x-python",
   "name": "python",
   "nbconvert_exporter": "python",
   "pygments_lexer": "ipython3",
   "version": "3.9.12"
  }
 },
 "nbformat": 4,
 "nbformat_minor": 4
}
