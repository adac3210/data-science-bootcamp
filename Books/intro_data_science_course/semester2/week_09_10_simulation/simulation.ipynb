{
 "cells": [
  {
   "cell_type": "markdown",
   "metadata": {},
   "source": [
    "<img src=\"../../predictioNN_Logo_JPG(72).jpg\" width=200>"
   ]
  },
  {
   "cell_type": "markdown",
   "metadata": {
    "tags": []
   },
   "source": [
    "---\n",
    "\n",
    "## Simulation\n",
    "\n",
    "### Introduction to Data Science\n",
    "### Last Updated: October 3, 2022\n",
    "---  \n",
    "\n",
    "### OBJECTIVES\n",
    "- Simulate random variables\n",
    "- Quantify the probability of an event using simulation\n",
    "- Create a random variable which is a mixture of random variables\n",
    "- Understand why setting a seed is useful\n",
    "\n",
    "### CONCEPTS\n",
    "- uncertainty\n",
    "- countable and uncountable\n",
    "- probability distribution\n",
    "- simulation to quantify uncertainty\n",
    "- finite mixture of normal (Gaussian) distributions\n",
    "- seed for simulating pseudo-random numbers\n",
    "\n",
    "---\n"
   ]
  },
  {
   "cell_type": "code",
   "execution_count": 2,
   "metadata": {},
   "outputs": [],
   "source": [
    "import numpy as np\n",
    "import seaborn as sns"
   ]
  },
  {
   "cell_type": "markdown",
   "metadata": {
    "tags": []
   },
   "source": [
    "## I. Simulation for Quantifying Uncertainty\n",
    "\n",
    "Many phenomena have values that are uncertain, but there is structure in the uncertainty: \n",
    "\n",
    "- What will Google's stock price close at tomorrow?\n",
    "- When will the next Italian restaurant open in Chicago?\n",
    "- How many people will attend the next Taylor Swift concert?\n",
    "\n",
    "Such values can be modeled by a *probability distribution* which assigns a probability to each possible value of a *random variable*.\n",
    "\n",
    "Example: Flip two fair coins and note the total number of heads.  \n",
    "There are only three possible outcomes, and since these outcomes can be *counted*, this is a *discrete outcome space*.  \n",
    "\n",
    "| #HEADS      | PROBABILITY |\n",
    "| ----------- | ----------- |\n",
    "|0|1/4|\n",
    "|1|1/2|\n",
    "|2|1/4|\n",
    "\n",
    "For more about *countability*, see the Appendix at bottom."
   ]
  },
  {
   "cell_type": "markdown",
   "metadata": {},
   "source": [
    "---\n",
    "\n",
    "**THINK ABOUT AND DISCUSS**  \n",
    "\n",
    "1) Does this table make sense?\n",
    "\n",
    "---"
   ]
  },
  {
   "cell_type": "markdown",
   "metadata": {},
   "source": [
    "If we ask the question: what is the probability of two heads?\n",
    "\n",
    "We can look up the answer in the table: 1/4\n",
    "\n",
    "How about this one: if we flip 100 fair coins, what is the probability of 50 heads?\n",
    "\n",
    "We can work out the probability analytically, or we can use simulation like this:\n",
    "\n",
    "1. Use a mathematical model that fits the problem  \n",
    "2. Draw a \"large\" number of outcomes from the model and compute the answer. The larger the number, the more accurate the answer.\n",
    "\n",
    "For this problem, the *binomial* distribution is appropriate:\n",
    "- it returns the number of successes given:\n",
    "  - there are $n$ independent trials \n",
    "  - the probability of success is $p$ for each trial"
   ]
  },
  {
   "cell_type": "code",
   "execution_count": 4,
   "metadata": {},
   "outputs": [
    {
     "data": {
      "text/plain": [
       "<AxesSubplot:ylabel='Count'>"
      ]
     },
     "execution_count": 4,
     "metadata": {},
     "output_type": "execute_result"
    },
    {
     "data": {
      "image/png": "[encoded data removed]",
      "text/plain": [
       "<Figure size 432x288 with 1 Axes>"
      ]
     },
     "metadata": {
      "needs_background": "light"
     },
     "output_type": "display_data"
    }
   ],
   "source": [
    "size = 10000 # simulated values\n",
    "n = 100 # number of trials\n",
    "p = 0.5 # probability of success\n",
    "outcomes = np.random.binomial(n, p, size)\n",
    "\n",
    "# histogram of the outcomes\n",
    "sns.histplot(outcomes)"
   ]
  },
  {
   "cell_type": "markdown",
   "metadata": {},
   "source": [
    "---\n",
    "\n",
    "**THINK ABOUT AND DISCUSS**\n",
    "\n",
    "2) Rerun the cell above several times to simulate different outcomes. What do you notice about this plot?"
   ]
  },
  {
   "cell_type": "markdown",
   "metadata": {},
   "source": []
  },
  {
   "cell_type": "markdown",
   "metadata": {
    "jupyter": {
     "source_hidden": true
    },
    "tags": []
   },
   "source": [
    "The distribution is roughly symmetric, with the majority of outcomes in the middle.\n",
    "\n",
    "---"
   ]
  },
  {
   "cell_type": "markdown",
   "metadata": {},
   "source": [
    "Now that we have a large number of outcomes, we can compute the probability of 50 heads.  \n",
    "It is equal to the fraction of simulated values equal to 50:\n",
    "\n",
    "$Prob(Heads = 50) = #outcomes_where_value=50 / #simulated_values$"
   ]
  },
  {
   "cell_type": "code",
   "execution_count": 136,
   "metadata": {},
   "outputs": [
    {
     "data": {
      "text/plain": [
       "0.0783"
      ]
     },
     "execution_count": 136,
     "metadata": {},
     "output_type": "execute_result"
    }
   ],
   "source": [
    "len(outcomes[outcomes==50]) / size"
   ]
  },
  {
   "cell_type": "markdown",
   "metadata": {},
   "source": [
    "## II. Pseudo-Random Numbers\n",
    "\n",
    "At the heart of simulation is the generation of sequences of numbers.  \n",
    "Each time you ran the simulations above, it generated different numbers.  \n",
    "The values were not random; they were actually deterministic and computed from a formula.  \n",
    "They appeared random, hence the term *pseudo-random*.\n",
    "\n",
    "The sequences are indexed by a **seed**.  \n",
    "If you ask for the same quantity of numbers with the same seed, you will see the same numbers.\n",
    "\n",
    "When we want to replicate results, we use a seed.  \n",
    "**For the simulation homework, you will use a seed so that the results can match the solutions.**\n",
    "\n",
    "Let's do one more simulation, with and without a seed. Run each cell several times and observe what happens."
   ]
  },
  {
   "cell_type": "code",
   "execution_count": 20,
   "metadata": {},
   "outputs": [
    {
     "data": {
      "text/plain": [
       "array([3, 2, 2, 3, 2, 4, 4, 1, 1, 3])"
      ]
     },
     "execution_count": 20,
     "metadata": {},
     "output_type": "execute_result"
    }
   ],
   "source": [
    "# no seed set. the values will change.\n",
    "np.random.binomial(n=5, p=0.5, size=10)"
   ]
  },
  {
   "cell_type": "code",
   "execution_count": 23,
   "metadata": {},
   "outputs": [
    {
     "data": {
      "text/plain": [
       "array([4, 3, 2, 3, 4, 4, 3, 2, 4, 2])"
      ]
     },
     "execution_count": 23,
     "metadata": {},
     "output_type": "execute_result"
    }
   ],
   "source": [
    "# seed set. the values will not change.\n",
    "np.random.seed(314) # use seed=314\n",
    "np.random.binomial(n=5, p=0.5, size=10)"
   ]
  },
  {
   "cell_type": "markdown",
   "metadata": {},
   "source": [
    "Next, we set the same seed and generate 11 numbers instead of 10. notice the first 10 numbers match the run above."
   ]
  },
  {
   "cell_type": "code",
   "execution_count": 24,
   "metadata": {},
   "outputs": [
    {
     "data": {
      "text/plain": [
       "array([4, 3, 2, 3, 4, 4, 3, 2, 4, 2, 3])"
      ]
     },
     "execution_count": 24,
     "metadata": {},
     "output_type": "execute_result"
    }
   ],
   "source": [
    "np.random.seed(314) # use seed=314\n",
    "np.random.binomial(n=5, p=0.5, size=11)"
   ]
  },
  {
   "cell_type": "markdown",
   "metadata": {},
   "source": [
    "## III. Normal (Gaussian) Distribution"
   ]
  },
  {
   "cell_type": "markdown",
   "metadata": {},
   "source": [
    "As the number of trials increases, the binomial distribution gets closer to a *normal distribution*.  \n",
    "The normal distribution is also named the *Gaussian distribution* for the mathematician who discovered it: Carl Friedrich Gauss.\n",
    "\n",
    "The plots below illustrate the behavior."
   ]
  },
  {
   "cell_type": "code",
   "execution_count": 7,
   "metadata": {},
   "outputs": [
    {
     "data": {
      "text/plain": [
       "<AxesSubplot:ylabel='Count'>"
      ]
     },
     "execution_count": 7,
     "metadata": {},
     "output_type": "execute_result"
    },
    {
     "data": {
      "image/png": "[encoded data removed]",
      "text/plain": [
       "<Figure size 432x288 with 1 Axes>"
      ]
     },
     "metadata": {
      "needs_background": "light"
     },
     "output_type": "display_data"
    }
   ],
   "source": [
    "size=1000\n",
    "sns.histplot(np.random.binomial(1, p, size))"
   ]
  },
  {
   "cell_type": "code",
   "execution_count": 9,
   "metadata": {},
   "outputs": [
    {
     "data": {
      "text/plain": [
       "<AxesSubplot:ylabel='Count'>"
      ]
     },
     "execution_count": 9,
     "metadata": {},
     "output_type": "execute_result"
    },
    {
     "data": {
      "image/png": "[encoded data removed]",
      "text/plain": [
       "<Figure size 432x288 with 1 Axes>"
      ]
     },
     "metadata": {
      "needs_background": "light"
     },
     "output_type": "display_data"
    }
   ],
   "source": [
    "sns.histplot(np.random.binomial(10, p, size))"
   ]
  },
  {
   "cell_type": "code",
   "execution_count": 10,
   "metadata": {},
   "outputs": [
    {
     "data": {
      "text/plain": [
       "<AxesSubplot:ylabel='Count'>"
      ]
     },
     "execution_count": 10,
     "metadata": {},
     "output_type": "execute_result"
    },
    {
     "data": {
      "image/png": "[encoded data removed]",
      "text/plain": [
       "<Figure size 432x288 with 1 Axes>"
      ]
     },
     "metadata": {
      "needs_background": "light"
     },
     "output_type": "display_data"
    }
   ],
   "source": [
    "sns.histplot(np.random.binomial(100, p, size))"
   ]
  },
  {
   "cell_type": "code",
   "execution_count": 11,
   "metadata": {},
   "outputs": [
    {
     "data": {
      "text/plain": [
       "<AxesSubplot:ylabel='Count'>"
      ]
     },
     "execution_count": 11,
     "metadata": {},
     "output_type": "execute_result"
    },
    {
     "data": {
      "image/png": "[encoded data removed]",
      "text/plain": [
       "<Figure size 432x288 with 1 Axes>"
      ]
     },
     "metadata": {
      "needs_background": "light"
     },
     "output_type": "display_data"
    }
   ],
   "source": [
    "sns.histplot(np.random.binomial(1000, p, size))"
   ]
  },
  {
   "cell_type": "code",
   "execution_count": 17,
   "metadata": {},
   "outputs": [
    {
     "data": {
      "text/plain": [
       "<AxesSubplot:ylabel='Count'>"
      ]
     },
     "execution_count": 17,
     "metadata": {},
     "output_type": "execute_result"
    },
    {
     "data": {
      "image/png": "[encoded data removed]",
      "text/plain": [
       "<Figure size 432x288 with 1 Axes>"
      ]
     },
     "metadata": {
      "needs_background": "light"
     },
     "output_type": "display_data"
    }
   ],
   "source": [
    "sns.histplot(np.random.binomial(10000, p, size))"
   ]
  },
  {
   "cell_type": "markdown",
   "metadata": {},
   "source": [
    "The normal distribution is the most common continuous distribution, and it is described by two parameters:\n",
    "\n",
    "- the mean $\\mu$, which measures the center of the distribution\n",
    "- the standard deviation $\\sigma$, which measures the spread of the distribution\n",
    "\n",
    "Next, we simulate 1000 draws from a normal distribution with mean 5000 and standard deviation 1.  \n",
    "Notice this looks fairly similar to the binomial simulation above."
   ]
  },
  {
   "cell_type": "code",
   "execution_count": 22,
   "metadata": {},
   "outputs": [
    {
     "data": {
      "text/plain": [
       "<AxesSubplot:ylabel='Count'>"
      ]
     },
     "execution_count": 22,
     "metadata": {},
     "output_type": "execute_result"
    },
    {
     "data": {
      "image/png": "[encoded data removed]",
      "text/plain": [
       "<Figure size 432x288 with 1 Axes>"
      ]
     },
     "metadata": {
      "needs_background": "light"
     },
     "output_type": "display_data"
    }
   ],
   "source": [
    "sns.histplot(np.random.normal(loc = 5000, scale = 1, size = 1000))"
   ]
  },
  {
   "cell_type": "markdown",
   "metadata": {},
   "source": [
    "---\n",
    "\n",
    "**TRY FOR YOURSELF**\n",
    "\n",
    "3) Simulate 100000 draws from a normal distribution with mean 5000 and standard deviation 10"
   ]
  },
  {
   "cell_type": "code",
   "execution_count": null,
   "metadata": {},
   "outputs": [],
   "source": []
  },
  {
   "cell_type": "code",
   "execution_count": 177,
   "metadata": {
    "collapsed": true,
    "jupyter": {
     "outputs_hidden": true,
     "source_hidden": true
    },
    "tags": []
   },
   "outputs": [
    {
     "data": {
      "text/plain": [
       "<AxesSubplot:ylabel='Count'>"
      ]
     },
     "execution_count": 177,
     "metadata": {},
     "output_type": "execute_result"
    },
    {
     "data": {
      "image/png": "[encoded data removed]",
      "text/plain": [
       "<Figure size 432x288 with 1 Axes>"
      ]
     },
     "metadata": {
      "needs_background": "light"
     },
     "output_type": "display_data"
    }
   ],
   "source": [
    "sns.histplot(np.random.normal(loc = 5000, scale = 10, size = 10000))"
   ]
  },
  {
   "cell_type": "markdown",
   "metadata": {},
   "source": [
    "---"
   ]
  },
  {
   "cell_type": "markdown",
   "metadata": {
    "tags": []
   },
   "source": [
    "## IV. Mixture Model Simulation"
   ]
  },
  {
   "cell_type": "markdown",
   "metadata": {},
   "source": [
    "Many random phenomena follow distributions that are more complex than a normal (Gaussian) distribution.  \n",
    "Some may be modeled effectively with a mixture of normals.  \n",
    "\n",
    "The mixing parameter $p$ weighs two normal distributions $N_1$ and $N_2$ like this:\n",
    "\n",
    "$f = p * N_1 + (1 - p) * N_2$ \n",
    "\n",
    "where \n",
    "\n",
    "- $f$ is the overall result\n",
    "- $N_1$ is weighted by $p$ \n",
    "- $N_2$ is weighted by the remaining fraction $1-p$\n",
    "\n",
    "---"
   ]
  },
  {
   "cell_type": "markdown",
   "metadata": {},
   "source": [
    "### Running the Simulation"
   ]
  },
  {
   "cell_type": "markdown",
   "metadata": {},
   "source": [
    "We start by simulating two random normal distributions. The first has a greater mean and smaller standard deviation.  \n",
    "If we were modeling the financial market, $N_1$ might represent a bull market and $N_2$ might represent a bear market."
   ]
  },
  {
   "cell_type": "code",
   "execution_count": 101,
   "metadata": {},
   "outputs": [
    {
     "name": "stdout",
     "output_type": "stream",
     "text": [
      "first 10 values from x1: \n",
      " [ 0.07672168  0.10537981 -0.06529469  0.0119827   0.21128624  0.05913768\n",
      "  0.1408433   0.12046697  0.09579586  0.08241729]\n",
      "\n",
      "first 10 values from x2: \n",
      " [-0.50731061  0.0776752  -0.0038083  -0.06152088 -0.26899087 -0.22872431\n",
      " -0.04107909 -0.08449928 -0.29614683 -0.41301345]\n"
     ]
    }
   ],
   "source": [
    "# simulate 100 random normals with mean 0.1 and standard deviation 0.01\n",
    "x1 = np.random.normal(loc = 0.10, scale = 0.1, size = 1000)\n",
    "print('first 10 values from x1: \\n', x1[:10])\n",
    "\n",
    "# simulate 100 random normals with mean -0.15 and standard deviation 0.2\n",
    "x2 = np.random.normal(loc = -0.15, scale = 0.2, size = 1000)\n",
    "print('')\n",
    "print('first 10 values from x2: \\n', x2[:10])"
   ]
  },
  {
   "cell_type": "markdown",
   "metadata": {},
   "source": [
    "Next, let's visualize the distributions on a single plot:"
   ]
  },
  {
   "cell_type": "code",
   "execution_count": 102,
   "metadata": {},
   "outputs": [
    {
     "data": {
      "text/plain": [
       "<AxesSubplot:ylabel='Count'>"
      ]
     },
     "execution_count": 102,
     "metadata": {},
     "output_type": "execute_result"
    },
    {
     "data": {
      "image/png": "[encoded data removed]",
      "text/plain": [
       "<Figure size 432x288 with 1 Axes>"
      ]
     },
     "metadata": {
      "needs_background": "light"
     },
     "output_type": "display_data"
    }
   ],
   "source": [
    "sns.histplot([x1, x2])"
   ]
  },
  {
   "cell_type": "markdown",
   "metadata": {},
   "source": [
    "This roughly has a bimodal distribution."
   ]
  },
  {
   "cell_type": "markdown",
   "metadata": {},
   "source": [
    "---\n",
    "\n",
    "**TRY FOR YOURSELF**\n",
    "\n",
    "4) Rerun the cells above to simulate new data and recreate the plot.\n",
    "\n",
    "---"
   ]
  },
  {
   "cell_type": "markdown",
   "metadata": {},
   "source": [
    "Next, we set a mixing parameter $p$ and generate $f$, the random variable that follows the mixture distribution.  \n",
    "\n",
    "Numpy makes it easy to scale vectors and add them, since it does operations elementwise."
   ]
  },
  {
   "cell_type": "code",
   "execution_count": 71,
   "metadata": {},
   "outputs": [
    {
     "name": "stdout",
     "output_type": "stream",
     "text": [
      "first value from x1:\n",
      " [0.15653217] \n",
      "\n",
      "first value from x2:\n",
      " [-0.48107726] \n",
      "\n",
      "first value from f:\n",
      " [-0.00287019]\n"
     ]
    }
   ],
   "source": [
    "p = 0.75\n",
    "f = p * x1 + (1 - p) * x2\n",
    "\n",
    "print('first value from x1:\\n', x1[:1], '\\n')\n",
    "print('first value from x2:\\n', x2[:1], '\\n')\n",
    "print('first value from f:\\n', f[:1])"
   ]
  },
  {
   "cell_type": "markdown",
   "metadata": {},
   "source": [
    "---\n",
    "\n",
    "**TRY FOR YOURSELF**\n",
    "\n",
    "5) Use the formula for $f$ to verify that the result is correct."
   ]
  },
  {
   "cell_type": "code",
   "execution_count": null,
   "metadata": {},
   "outputs": [],
   "source": []
  },
  {
   "cell_type": "code",
   "execution_count": 73,
   "metadata": {
    "collapsed": true,
    "jupyter": {
     "outputs_hidden": true,
     "source_hidden": true
    },
    "tags": []
   },
   "outputs": [
    {
     "data": {
      "text/plain": [
       "-0.002870187499999996"
      ]
     },
     "execution_count": 73,
     "metadata": {},
     "output_type": "execute_result"
    }
   ],
   "source": [
    "# answer\n",
    "0.15653217 * .75 + -0.48107726 * .25"
   ]
  },
  {
   "cell_type": "markdown",
   "metadata": {},
   "source": [
    "---"
   ]
  },
  {
   "cell_type": "markdown",
   "metadata": {},
   "source": [
    "Next, let's plot the histogram of $f$:"
   ]
  },
  {
   "cell_type": "code",
   "execution_count": 72,
   "metadata": {},
   "outputs": [
    {
     "data": {
      "text/plain": [
       "<AxesSubplot:ylabel='Count'>"
      ]
     },
     "execution_count": 72,
     "metadata": {},
     "output_type": "execute_result"
    },
    {
     "data": {
      "image/png": "[encoded data removed]",
      "text/plain": [
       "<Figure size 432x288 with 1 Axes>"
      ]
     },
     "metadata": {
      "needs_background": "light"
     },
     "output_type": "display_data"
    }
   ],
   "source": [
    "sns.histplot(f)"
   ]
  },
  {
   "cell_type": "markdown",
   "metadata": {},
   "source": [
    "Compute the overall mean of $f$"
   ]
  },
  {
   "cell_type": "code",
   "execution_count": 74,
   "metadata": {},
   "outputs": [
    {
     "data": {
      "text/plain": [
       "0.034604625497682104"
      ]
     },
     "execution_count": 74,
     "metadata": {},
     "output_type": "execute_result"
    }
   ],
   "source": [
    "f.mean()"
   ]
  },
  {
   "cell_type": "markdown",
   "metadata": {},
   "source": [
    "The distribution is bimodal again, but it looks more similar to $N_1$.  \n",
    "Also notice the mean is positive.  \n",
    "Does this make sense?"
   ]
  },
  {
   "cell_type": "markdown",
   "metadata": {},
   "source": [
    "---\n",
    "\n",
    "**TRY FOR YOURSELF**\n",
    "\n",
    "6a) Change the mixing parameter $p$ to 0.25, regenerate $f$, compute the mean, and plot the histogram. What do you observe?"
   ]
  },
  {
   "cell_type": "code",
   "execution_count": null,
   "metadata": {},
   "outputs": [],
   "source": []
  },
  {
   "cell_type": "code",
   "execution_count": 80,
   "metadata": {
    "collapsed": true,
    "jupyter": {
     "outputs_hidden": true,
     "source_hidden": true
    },
    "tags": []
   },
   "outputs": [
    {
     "data": {
      "text/plain": [
       "<AxesSubplot:ylabel='Count'>"
      ]
     },
     "execution_count": 80,
     "metadata": {},
     "output_type": "execute_result"
    },
    {
     "data": {
      "image/png": "[encoded data removed]",
      "text/plain": [
       "<Figure size 432x288 with 1 Axes>"
      ]
     },
     "metadata": {
      "needs_background": "light"
     },
     "output_type": "display_data"
    }
   ],
   "source": [
    "# answer\n",
    "p = 0.25\n",
    "f = p * x1 + (1 - p) * x2\n",
    "sns.histplot(f)"
   ]
  },
  {
   "cell_type": "code",
   "execution_count": 77,
   "metadata": {
    "collapsed": true,
    "jupyter": {
     "outputs_hidden": true,
     "source_hidden": true
    },
    "tags": []
   },
   "outputs": [
    {
     "data": {
      "text/plain": [
       "-0.0847967135315157"
      ]
     },
     "execution_count": 77,
     "metadata": {},
     "output_type": "execute_result"
    }
   ],
   "source": [
    "f.mean()"
   ]
  },
  {
   "cell_type": "markdown",
   "metadata": {
    "jupyter": {
     "source_hidden": true
    },
    "tags": []
   },
   "source": [
    "The mean is now negative, and the distribution looks more similar to $N2$."
   ]
  },
  {
   "cell_type": "markdown",
   "metadata": {},
   "source": [
    "6b) What is the probability that this random variable $f$ will be less than -0.2?  \n",
    "If this variable were the percentage change in the stock market over a year, this would mean a loss bigger than 20%.\n",
    "\n",
    "Hint: Simulate $f$ a large number of times. Then use these values and the definition of probability to compute an answer."
   ]
  },
  {
   "cell_type": "code",
   "execution_count": null,
   "metadata": {},
   "outputs": [],
   "source": []
  },
  {
   "cell_type": "code",
   "execution_count": 100,
   "metadata": {
    "collapsed": true,
    "jupyter": {
     "outputs_hidden": true,
     "source_hidden": true
    },
    "tags": []
   },
   "outputs": [
    {
     "data": {
      "text/plain": [
       "0.23172"
      ]
     },
     "execution_count": 100,
     "metadata": {},
     "output_type": "execute_result"
    }
   ],
   "source": [
    "# answer\n",
    "\n",
    "nsim = 100000\n",
    "# simulate x1 and x2\n",
    "x1 = np.random.normal(loc = 0.10, scale = 0.1, size = nsim)\n",
    "x2 = np.random.normal(loc = -0.15, scale = 0.2, size = nsim)\n",
    "\n",
    "p = 0.25\n",
    "f = p * x1 + (1 - p) * x2\n",
    "\n",
    "# probability = #values<-0.2 / #simulated_values\n",
    "len(f[f<-.2]) / nsim"
   ]
  },
  {
   "cell_type": "markdown",
   "metadata": {},
   "source": [
    "---"
   ]
  },
  {
   "cell_type": "markdown",
   "metadata": {},
   "source": [
    "## V. Summary\n",
    "\n",
    "We covered a lot of ground in this exercise:\n",
    "\n",
    "- We studied a discrete random variable that follows a binomial distribution. Discrete random variables have a countable number of  outcomes.\n",
    "- We studied a continuous random variable that follows a normal distribution. Continuous random variables have an uncountable number of outcomes.\n",
    "- We simulated the random variables to quantify events (e.g., number of heads)\n",
    "- We learned about pseudo-random numbers and how to replicate their values by setting a seed \n",
    "- We observed how a binomially-distributed variable approaches a normally-distributed variable as we increase the number of trials\n",
    "- We studied and simulated a random variable following a mixture of normal distributions\n",
    "\n",
    "---"
   ]
  },
  {
   "cell_type": "markdown",
   "metadata": {},
   "source": [
    "## Appendix: Countable versus Uncountable\n",
    "\n",
    "Think about the sequence 0, 1, 2, ...  \n",
    "This goes on forever (it is infinite), but given enough time, we can count off the numbers. The sequence is **countable**.  \n",
    "\n",
    "Now think about all of the real numbers in the interval $[0,1]$.\n",
    "The interval contains an infinite quantity of numbers, and we could not even count the numbers. The sequence is **uncountable**.\n",
    "\n",
    "There's a notion of sizes of infinity here: the uncountable example is larger than the countable example.\n",
    "\n",
    "This distinction is important:\n",
    "- a random variable with a countable domain is a *discrete random variable* and it can be modeled with discrete probability distributions like the *binomial distribution*.\n",
    "\n",
    "- a random variable with an uncountable domain is a *continuous random variable* and it can be modeled with continuous probability distributions like the *normal distribution*.\n",
    "\n",
    "---"
   ]
  }
 ],
 "metadata": {
  "anaconda-cloud": {},
  "kernelspec": {
   "display_name": "Python 3 (ipykernel)",
   "language": "python",
   "name": "python3"
  },
  "language_info": {
   "codemirror_mode": {
    "name": "ipython",
    "version": 3
   },
   "file_extension": ".py",
   "mimetype": "text/x-python",
   "name": "python",
   "nbconvert_exporter": "python",
   "pygments_lexer": "ipython3",
   "version": "3.9.12"
  }
 },
 "nbformat": 4,
 "nbformat_minor": 4
}
