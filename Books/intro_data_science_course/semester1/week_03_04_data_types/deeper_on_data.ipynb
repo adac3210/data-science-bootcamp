{
 "cells": [
  {
   "cell_type": "markdown",
   "metadata": {},
   "source": [
    "<img src=\"../../predictioNN_Logo_JPG(72).jpg\" width=200>"
   ]
  },
  {
   "cell_type": "markdown",
   "metadata": {
    "tags": []
   },
   "source": [
    "---\n",
    "\n",
    "## Deeper on Data\n",
    "\n",
    "### Introduction to Data Science\n",
    "### Last Updated: November 17, 2022\n",
    "---  \n",
    "\n",
    "\n",
    "### SOURCES \n",
    "- The Data Revolution: Big Data, Open Data, Data Infrastructures & Their Consequences. Rob Kitchin\n",
    "- The University of Washington Libraries [FAQ: How to know if my sources are reliable?](https://guides.lib.uw.edu/research/faq/reliable)\n",
    "\n",
    "### OBJECTIVES\n",
    "- Understand the different levels of data structure\n",
    "- Differentiate between batch data and streaming data\n",
    "- Differentiate between data and metadata\n",
    "- Reason about data to understand if it is representative, and how it may be biased\n",
    "- Reason about the credibility/reliability of data\n",
    "\n",
    "### CONCEPTS\n",
    "\n",
    "- Data is everywhere!\n",
    "- Levels of data structure: unstructured, semi-structured, structured\n",
    "- Data velocity: batch vs streaming\n",
    "- Qualitative vs Quantitative data\n",
    "- Metadata\n",
    "- Data Representativeness\n",
    "- Bias\n",
    "- Data are never simply just data\n",
    "- Assessing the Credibility / Reliability of Data\n",
    "\n",
    "---"
   ]
  },
  {
   "cell_type": "markdown",
   "metadata": {},
   "source": [
    "## I. Data is everywhere!"
   ]
  },
  {
   "cell_type": "markdown",
   "metadata": {},
   "source": [
    "The amount of data in the world is growing exponentially. Digital data is nearly all data (books hold less than 10% of data as of 2022).  \n",
    "Social media, internet of things, web servers, and sensors all contribute massive amounts of digital data.\n",
    "\n",
    "We take a closer look at data in this lesson, examining the forms of data, information about the data, and what the data tells us and doesn't tell us."
   ]
  },
  {
   "cell_type": "markdown",
   "metadata": {},
   "source": [
    "## II. Qualitative vs Quantitative Data\n"
   ]
  },
  {
   "cell_type": "markdown",
   "metadata": {},
   "source": [
    "We often think of quantative data: integers, real numbers; organized tables of measurements.\n",
    "\n",
    "There is also *qualitative data*: documents, images, videos, signals.  This data can be digitized and it can get massive!\n",
    "\n",
    "To compute on qualitative data, it must be converted to numbers."
   ]
  },
  {
   "cell_type": "markdown",
   "metadata": {},
   "source": [
    "## III. Levels of data structure: unstructured, semi-structured, structured"
   ]
  },
  {
   "cell_type": "markdown",
   "metadata": {},
   "source": [
    "**Structured data**  \n",
    "For some data, it makes sense to structure it into tables and databases.\n",
    "\n",
    "This is the case when the rows, or records, contain the same data attributes, or columns.\n",
    "\n",
    "It can be upfront work to structure data, but it makes downstream processing easier (retrieval, computing).\n",
    "\n",
    "However, sometimes adding structure can be inefficient. For example, there might be variables that are missing for most subjects. "
   ]
  },
  {
   "cell_type": "markdown",
   "metadata": {},
   "source": [
    "<img src=\"./table.png\">"
   ]
  },
  {
   "cell_type": "markdown",
   "metadata": {},
   "source": [
    "**Semi-structured data**  \n",
    "\n",
    "This format is often useful when:\n",
    "- there is data hierarchy\n",
    "- different records hold different kinds of data\n",
    "\n",
    "---\n",
    "\n",
    "I. *data hierarchy*\n",
    "\n",
    "Some data has a natural hierarchy and it can be stored in key-value pairs.\n",
    "\n",
    "Here is a small example that stores login credentials for a user:  \n",
    "\n",
    "`{'userid' : 'jim', 'password' : 'qwerty123!'}`\n",
    "\n",
    "The first field, or key, is `userid` and it is associated with value `jim`\n",
    "\n",
    "The next field is `password` and it is associated with value `qwerty123!`\n",
    "\n",
    "A value can be much more complex and large, such as a video, an image, or the contents of a webpage.\n",
    "\n",
    "You might notice that these key-value pair objects look a lot like Python dictionaries.\n",
    "\n",
    "In fact, we can use Python dictionaries to work with semi-structured data.\n",
    "\n",
    "---\n",
    "\n",
    "II. *different records hold different kinds of data*  \n",
    "\n",
    "Here is a small example showing two users with some of their social data:"
   ]
  },
  {
   "cell_type": "code",
   "execution_count": 1,
   "metadata": {},
   "outputs": [],
   "source": [
    "user1 = {'userid' : 11, \n",
    "         'social_data' : {'website_visits' : ['www.google.com','www.yahoo.com'], \n",
    "                          'purchases' : 2} \n",
    "        }"
   ]
  },
  {
   "cell_type": "code",
   "execution_count": 2,
   "metadata": {},
   "outputs": [],
   "source": [
    "user2 = {'userid' : 12, \n",
    "         'social_data' : {'phone_calls' : 5, \n",
    "                          'followers' : 2, \n",
    "                          'following' : 100}\n",
    "        }"
   ]
  },
  {
   "cell_type": "markdown",
   "metadata": {},
   "source": [
    "At the top level, `user1` has an identifier and social data.  The social data consists of a list (or array) of visited websites, and the number of purchases made. Any of this data can be easily extracted."
   ]
  },
  {
   "cell_type": "markdown",
   "metadata": {},
   "source": [
    "**These two users did different things, so this semi-structured format works better than squeezing the user data into a table.**\n",
    "\n",
    "We can extract user1 website visits by using dictionary operations as follows:"
   ]
  },
  {
   "cell_type": "code",
   "execution_count": 3,
   "metadata": {},
   "outputs": [
    {
     "data": {
      "text/plain": [
       "['www.google.com', 'www.yahoo.com']"
      ]
     },
     "execution_count": 3,
     "metadata": {},
     "output_type": "execute_result"
    }
   ],
   "source": [
    "user1['social_data']['website_visits']"
   ]
  },
  {
   "cell_type": "markdown",
   "metadata": {},
   "source": [
    "---\n",
    "\n",
    "**TRY AND DISCUSS**\n",
    "\n",
    "1. Extract the number of followers for user2"
   ]
  },
  {
   "cell_type": "code",
   "execution_count": null,
   "metadata": {
    "tags": []
   },
   "outputs": [],
   "source": []
  },
  {
   "cell_type": "code",
   "execution_count": 3,
   "metadata": {
    "collapsed": true,
    "jupyter": {
     "outputs_hidden": true,
     "source_hidden": true
    },
    "tags": []
   },
   "outputs": [
    {
     "data": {
      "text/plain": [
       "2"
      ]
     },
     "execution_count": 3,
     "metadata": {},
     "output_type": "execute_result"
    }
   ],
   "source": [
    "# answer\n",
    "user2['social_data']['followers']"
   ]
  },
  {
   "cell_type": "markdown",
   "metadata": {
    "tags": []
   },
   "source": [
    "---"
   ]
  },
  {
   "cell_type": "markdown",
   "metadata": {},
   "source": [
    "**Unstructured Data**  \n",
    "\n",
    "Some data has little or no structure, such as text in a document or a video.  \n",
    "This data is increasingly common given devices, sensors, and the internet.  \n",
    "To extract information from unstructured data can be more work."
   ]
  },
  {
   "cell_type": "markdown",
   "metadata": {},
   "source": [
    "---\n",
    "**THINK ABOUT AND DISCUSS**\n",
    "\n",
    "2. Imagine that you read a news article into computer memory. How might you code the task of counting the number of sentences in the article?\n",
    "\n",
    "Are there any weaknesses to your approach?"
   ]
  },
  {
   "cell_type": "markdown",
   "metadata": {},
   "source": []
  },
  {
   "cell_type": "markdown",
   "metadata": {
    "tags": []
   },
   "source": [
    "answer: you might count the number of periods to represent the number of sentences. \n",
    "\n",
    "weaknesses: Acronyms like B.A. can use periods and this can overestimate the number of sentences. This task is surprisingly difficult and is tackled with natural language processing."
   ]
  },
  {
   "cell_type": "markdown",
   "metadata": {},
   "source": [
    "---"
   ]
  },
  {
   "cell_type": "markdown",
   "metadata": {},
   "source": [
    "<img src=\"./book_pages.png\">"
   ]
  },
  {
   "cell_type": "markdown",
   "metadata": {},
   "source": [
    "Data at all levels of structure can be created, stored, retrieved, and processed...though the tools and level of effort \n",
    "may differ."
   ]
  },
  {
   "cell_type": "markdown",
   "metadata": {},
   "source": [
    "## IV. Data Velocity"
   ]
  },
  {
   "cell_type": "markdown",
   "metadata": {},
   "source": [
    "**Batch Data**  \n",
    "A finite block of data is called *batch* data, and processing the batch is called *batch processing*.  \n",
    "Before the internet, mobile devices, the internet of things and so forth, most data was batch data.  \n",
    "\n",
    "If you think about a data file, this is batch. A program can process the data, store results, and be finished with it.\n",
    "\n",
    "**Streaming Data**  \n",
    "*Streaming* data is infinite. Processing this data is called *stream processing*.\n",
    "\n",
    "Some examples:\n",
    "- the Twitter feed\n",
    "- a sensor collecting traffic flow data\n",
    "\n",
    "Since stream data is infinite, things get more complicated when compared to batch processing:\n",
    "\n",
    "1) since the data cannot all be stored, we need to think about how to prevent losing important information in the event of a crash  \n",
    "\n",
    "2) when computing analytics, we need to decide when to compute, and which data records to use (this is called *windowing*)  \n",
    "\n",
    "3) when reporting analytics, we need to decide when to report intermediate results\n",
    "\n",
    "For (1) & (2), we might compute statistics on the data and store only those statistics (like a running average or running count).  \n",
    "For the data records usage, we might use a sliding window (for example, all the data from the last hour) that slides at the end of the hour.  \n",
    "We might report updated results at the end of the hour.  \n",
    "These decisions should be guided by what stakeholders will find valuable.\n",
    "\n",
    "Many tools exist for batch and stream processing, for example *AWS Batch* and *Spark Streaming*."
   ]
  },
  {
   "cell_type": "markdown",
   "metadata": {},
   "source": [
    "---\n",
    "\n",
    "**THINK ABOUT AND DISCUSS**\n",
    "\n"
   ]
  },
  {
   "cell_type": "markdown",
   "metadata": {},
   "source": [
    "3. A sensor monitors traffic flow at a busy intersection. It interfaces with software that counts the number of cars passing through the intersection over time. How can the sensor prevent data loss in the event of a power outage?"
   ]
  },
  {
   "cell_type": "markdown",
   "metadata": {},
   "source": []
  },
  {
   "cell_type": "markdown",
   "metadata": {
    "jupyter": {
     "source_hidden": true
    },
    "tags": []
   },
   "source": [
    "answer: If we only care about the number of cars passing through the intersection over time, we might store the times when a car passes through the intersection. The timestamps can be stored in a data lake in the cloud, for example."
   ]
  },
  {
   "cell_type": "markdown",
   "metadata": {},
   "source": [
    "---"
   ]
  },
  {
   "cell_type": "markdown",
   "metadata": {},
   "source": [
    "## V. Metadata"
   ]
  },
  {
   "cell_type": "markdown",
   "metadata": {},
   "source": [
    "*Metadata* is data about data.\n",
    "\n",
    "For example, consider a data file containing Twitter members, #following, and #followers.  \n",
    "Metadata can include:\n",
    "\n",
    "- file size\n",
    "- file format\n",
    "- file name\n",
    "- what the data represents\n",
    "- how the data was collected\n",
    "\n",
    "Consider a movie. The movie contents are data, while these items are metadata:\n",
    "\n",
    "- runtime\n",
    "- producer\n",
    "- movie genre\n",
    "- filming location"
   ]
  },
  {
   "cell_type": "markdown",
   "metadata": {},
   "source": [
    "---\n",
    "**THINK ABOUT AND DISCUSS**\n",
    "\n",
    "4. Imagine you just took a photo with your phone. Give examples of metadata that might be useful."
   ]
  },
  {
   "cell_type": "markdown",
   "metadata": {},
   "source": []
  },
  {
   "cell_type": "markdown",
   "metadata": {
    "jupyter": {
     "source_hidden": true
    },
    "tags": []
   },
   "source": [
    "Examples might include: file size, where photo was taken, f-stop, shutter speed"
   ]
  },
  {
   "cell_type": "markdown",
   "metadata": {},
   "source": [
    "## VI. Representativeness and Bias"
   ]
  },
  {
   "cell_type": "markdown",
   "metadata": {},
   "source": [
    "A goal of useful data is that it should be *representative* of the phenomenon it seeks to represent.\n",
    "\n",
    "We need to be very careful that our data is not **biased**, or systematically misrepresentative of the overall population.\n",
    "\n",
    "In fact, bias can have disastrous consequences in some circumstances.\n",
    "\n",
    "To help avoid bias, it helps to ask: does this data leave out any segments of the population? \n",
    "\n",
    "- if the data are collected over time, are we leaving out important time periods?\n",
    "- if the data are collected across groups (of people, animals, planets, ...), are we leaving out important groups, such as demographic segments?\n",
    "- if the data are collected across locations, are we leaving out any locations?\n",
    "\n",
    "All people working with data should ask these questions - not just data scientists.\n",
    "\n",
    "---"
   ]
  },
  {
   "cell_type": "markdown",
   "metadata": {},
   "source": [
    "**THINK ABOUT AND DISCUSS**\n",
    "\n",
    "5. Imagine that we survey all students in this data science course, asking them to rate the course from one star to five stars.  \n",
    "Then we compute the average score.  \n",
    "Is it fair to say that this score would be representative of the student average across our entire school? Why or why not?"
   ]
  },
  {
   "cell_type": "markdown",
   "metadata": {},
   "source": []
  },
  {
   "cell_type": "markdown",
   "metadata": {
    "jupyter": {
     "source_hidden": true
    },
    "tags": []
   },
   "source": [
    "answer: the result would not be representative. It would likely be biased upward, as students in the data science course are more likely than the average student to enjoy math and/or computer science. "
   ]
  },
  {
   "cell_type": "markdown",
   "metadata": {},
   "source": [
    "6. A group of engineers develops a crash test dummy that is used to evaluate the safety of a human involved in a crash in a particular automobile. The crash test dummy has a height equal to the average height of an adult male.\n",
    "\n",
    "After many tests, the dummy is not damaged.  Is it fair to say that all adults involved in a similar crash in this automobile would be safe? Why or why not?"
   ]
  },
  {
   "cell_type": "markdown",
   "metadata": {},
   "source": []
  },
  {
   "cell_type": "markdown",
   "metadata": {
    "jupyter": {
     "source_hidden": true
    },
    "tags": []
   },
   "source": [
    "answer: No, it is not fair to conclude that all adults would be safe. Perhaps it would be safe for a person of this height. But what about females, who are generally shorter? Or people of different heights? There is a bias toward male drivers with this test. "
   ]
  },
  {
   "cell_type": "markdown",
   "metadata": {},
   "source": [
    "## VII.  Data is never simply just data"
   ]
  },
  {
   "cell_type": "markdown",
   "metadata": {},
   "source": [
    "As we started to learn from the bias discussion, data is never just data.\n",
    "\n",
    "How data is conceived and used varies between those who capture, analyse and draw conclusions from the data.\n",
    "\n",
    "**As we work with data, we must learn to view it critically.** We should ask questions like:\n",
    "\n",
    "- How might this data be biased?\n",
    "- What are the limitations of this data? What can we do with this data? What can we not do?\n",
    "- How can we improve this data? \n",
    "- Is this analysis interpreting the data correctly? Am I being fooled by the data, the analysis, or the results?\n",
    "\n",
    "Challenge the data, the analysis, and the results! These skills will always be valuable and important."
   ]
  },
  {
   "cell_type": "markdown",
   "metadata": {},
   "source": [
    "## VIII. Assess the Credibility / Reliability of the Data"
   ]
  },
  {
   "cell_type": "markdown",
   "metadata": {},
   "source": [
    "It is essential to insure the data source and data is credible and reliable.\n",
    "\n",
    "Here is some advice from the University of Washington Libraries:\n",
    "\n",
    "- What is the reputation of the **source**?\n",
    "- What is the reputation of the **author**?\n",
    "- Does anything jump out as being potentially untrue?\n",
    "- Cross reference the data. How does it compare to another source?\n",
    "\n",
    "Recall that no model can overcome bad data!"
   ]
  },
  {
   "cell_type": "markdown",
   "metadata": {},
   "source": [
    "---\n",
    "**THINK ABOUT AND DISCUSS**\n",
    "\n",
    "7. Can you think of any credible sources for data science datasets?  \n",
    "Hint: some of our lecture notes and assignments use these sources."
   ]
  },
  {
   "cell_type": "markdown",
   "metadata": {},
   "source": []
  },
  {
   "cell_type": "markdown",
   "metadata": {
    "jupyter": {
     "source_hidden": true
    },
    "tags": []
   },
   "source": [
    "answer: UCI Machine Learning repo, Kaggle"
   ]
  },
  {
   "cell_type": "markdown",
   "metadata": {},
   "source": [
    "---"
   ]
  }
 ],
 "metadata": {
  "anaconda-cloud": {},
  "kernelspec": {
   "display_name": "Python 3 (ipykernel)",
   "language": "python",
   "name": "python3"
  },
  "language_info": {
   "codemirror_mode": {
    "name": "ipython",
    "version": 3
   },
   "file_extension": ".py",
   "mimetype": "text/x-python",
   "name": "python",
   "nbconvert_exporter": "python",
   "pygments_lexer": "ipython3",
   "version": "3.9.12"
  }
 },
 "nbformat": 4,
 "nbformat_minor": 4
}
