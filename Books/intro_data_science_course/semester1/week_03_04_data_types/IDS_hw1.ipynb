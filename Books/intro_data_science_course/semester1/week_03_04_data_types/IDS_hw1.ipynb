{
 "cells": [
  {
   "cell_type": "markdown",
   "id": "21f3b904-a7e6-4012-b8fc-cc5ebc671f99",
   "metadata": {},
   "source": [
    "<img src=\"../../predictioNN_Logo_JPG(72).jpg\" width=200>"
   ]
  },
  {
   "cell_type": "markdown",
   "id": "dc09e7a3",
   "metadata": {},
   "source": [
    "---\n",
    "\n",
    "## Coding Assignment 1\n",
    "\n",
    "### Introduction to Data Science\n",
    "#### Last Updated: August 20, 2022"
   ]
  },
  {
   "cell_type": "markdown",
   "id": "e8d6a082",
   "metadata": {},
   "source": [
    "---  \n",
    "\n",
    "### Skills Assessed\n",
    "\n",
    "You will demonstrate these skills in the HW:\n",
    "- import csv\n",
    "- load a package\n",
    "- basic dataframe operations\n",
    "- computing statistics\n",
    "- working with data types: set, dict, list\n",
    "\n",
    "---"
   ]
  },
  {
   "cell_type": "markdown",
   "id": "6ac0024d",
   "metadata": {},
   "source": [
    "### Instructions\n",
    "\n",
    "Find the CSV data file associated with this assignment entitled `Country_Happiness.csv`.  \n",
    "It is saved in the `datasets` folder. Make sure you have this folder on your machine.\n",
    "\n",
    "Complete all questions thoroughly and be sure to show all work.\n",
    "\n",
    "For pandas help, you can also refer to the Pandas documentation: https://pandas.pydata.org/pandas-docs/stable/reference/api/pandas.DataFrame.html\n",
    "\n",
    "**TOTAL POINTS: 16**\n",
    "\n",
    "---"
   ]
  },
  {
   "cell_type": "markdown",
   "id": "011111ff",
   "metadata": {},
   "source": [
    "### Problem 1: Quick Discussion on Code cells and Markdown cells\n",
    "\n",
    "This block of code is a markdown block. Markdown can include special characters to display rich text, images and other useful information.\n",
    "\n",
    "The next block is a code cell. You can enter running code in code cells."
   ]
  },
  {
   "cell_type": "code",
   "execution_count": 2,
   "id": "c7b884b2",
   "metadata": {},
   "outputs": [
    {
     "data": {
      "text/plain": [
       "81"
      ]
     },
     "execution_count": 2,
     "metadata": {},
     "output_type": "execute_result"
    }
   ],
   "source": [
    "3**4"
   ]
  },
  {
   "cell_type": "markdown",
   "id": "19a4aa81-3f25-4ad6-9b6b-04ddeb5a4a1a",
   "metadata": {},
   "source": [
    "It is possible to change between markdown cells and code cells. You can use:\n",
    "\n",
    "- the dropdown in the Jupyter notebook ribbon up top\n",
    "- keyboard shortcuts\n",
    "\n",
    "Try it out with the code cell below, changing it to markdown. Clicking SHIFT + ENTER in this cell produces an error.  \n",
    "When you change it to markdown and rerun, the error goes away. Show this. **(1 point)**"
   ]
  },
  {
   "cell_type": "code",
   "execution_count": 1,
   "id": "bbf5d624-671a-4382-be27-0b05c360e90b",
   "metadata": {},
   "outputs": [
    {
     "ename": "SyntaxError",
     "evalue": "invalid syntax (4106479188.py, line 1)",
     "output_type": "error",
     "traceback": [
      "\u001b[1;36m  Input \u001b[1;32mIn [1]\u001b[1;36m\u001b[0m\n\u001b[1;33m    This should be markdown but it's a code cell. Whoops!\u001b[0m\n\u001b[1;37m         ^\u001b[0m\n\u001b[1;31mSyntaxError\u001b[0m\u001b[1;31m:\u001b[0m invalid syntax\n"
     ]
    }
   ],
   "source": [
    "This should be markdown but it's a code cell. Whoops!"
   ]
  },
  {
   "cell_type": "markdown",
   "id": "1a7be320",
   "metadata": {},
   "source": [
    "### Problem 2\n",
    "\n",
    "Import the Pandas library that you will need by typing:\n",
    "\n",
    "```\n",
    "import pandas as pd\n",
    "```\n",
    "\n",
    "into a code block. **(1 point)**"
   ]
  },
  {
   "cell_type": "code",
   "execution_count": null,
   "id": "e35f4b0f",
   "metadata": {},
   "outputs": [],
   "source": []
  },
  {
   "cell_type": "markdown",
   "id": "989f99fb",
   "metadata": {},
   "source": [
    "### Problem 3\n",
    "\n",
    "Read in the `Country_Happiness.csv` file using a Pandas function, and store it as `Country` **(1 point)**"
   ]
  },
  {
   "cell_type": "code",
   "execution_count": null,
   "id": "9a575b4f",
   "metadata": {},
   "outputs": [],
   "source": []
  },
  {
   "cell_type": "markdown",
   "id": "50cd8bb3",
   "metadata": {},
   "source": [
    "### Problem 4\n",
    "\n",
    "Display the output of the .info() method of Country, display the columns of country using .columns, and display the head and tail of the dataframe.  \n",
    "**(3 points)**"
   ]
  },
  {
   "cell_type": "code",
   "execution_count": null,
   "id": "776ee163",
   "metadata": {},
   "outputs": [],
   "source": []
  },
  {
   "cell_type": "code",
   "execution_count": null,
   "id": "dee81067",
   "metadata": {},
   "outputs": [],
   "source": []
  },
  {
   "cell_type": "code",
   "execution_count": null,
   "id": "e6bb9526",
   "metadata": {},
   "outputs": [],
   "source": []
  },
  {
   "cell_type": "markdown",
   "id": "ae30a36a",
   "metadata": {},
   "source": [
    "### Problem 5\n",
    "\n",
    "Display the mean happiness score.  What is higher, the mean or median happiness score?  Show these scores in your output.  Are they close together?  What does that say about the shape of the happiness score distribution?  You may have to google this. **(3 points)**\n",
    "\n",
    "Extra point for using an `f-string` to display output with this format:\n",
    "\n",
    "\"The mean happiness score is (insert mean), and the median is (insert median).\"  \n",
    "\n",
    "where (insert mean), will be replaced by the mean, and (insert median), will be replaced by the median "
   ]
  },
  {
   "cell_type": "code",
   "execution_count": null,
   "id": "7ec84a2e",
   "metadata": {},
   "outputs": [],
   "source": []
  },
  {
   "cell_type": "code",
   "execution_count": null,
   "id": "f976a7c1",
   "metadata": {},
   "outputs": [],
   "source": []
  },
  {
   "cell_type": "code",
   "execution_count": null,
   "id": "bdb6a3e6",
   "metadata": {},
   "outputs": [],
   "source": []
  },
  {
   "cell_type": "markdown",
   "id": "ea41d121",
   "metadata": {},
   "source": [
    "### Problem 6\n",
    "\n",
    "Consider the columns 'Explained by: GDP per capita' and 'Explained by: Healthy life expectancy'.  Use .mean() and .std() to compute the column means and standard deviations. Print them. **(2 points)**"
   ]
  },
  {
   "cell_type": "markdown",
   "id": "96f2a75f-f37a-4c40-b927-663f9c574ada",
   "metadata": {},
   "source": [
    "---  \n",
    "\n",
    "STATISTICAL BACKGROUND:  \n",
    "The *mean* measures the central tendency of the data.  \n",
    "It is computed as the sum of the values divided by the number of values.\n",
    "\n",
    "The *standard deviation* measures the average deviation of a set of data points from the mean.  \n",
    "If all values are identical, the standard deviation will be zero. \n",
    "\n",
    "For more details, see [here](https://en.wikipedia.org/wiki/Standard_deviation)  \n",
    "\n",
    "---"
   ]
  },
  {
   "cell_type": "code",
   "execution_count": null,
   "id": "7876118e",
   "metadata": {},
   "outputs": [],
   "source": []
  },
  {
   "cell_type": "code",
   "execution_count": null,
   "id": "13197deb",
   "metadata": {},
   "outputs": [],
   "source": []
  },
  {
   "cell_type": "code",
   "execution_count": null,
   "id": "598bdaf1",
   "metadata": {},
   "outputs": [],
   "source": []
  },
  {
   "cell_type": "markdown",
   "id": "6a51f3bd",
   "metadata": {},
   "source": [
    "### Problem 7\n",
    "\n",
    "Which country is the happiest? You may want to start by finding what the highest (max) happiness score is, then finding which country has that score.  Show your code that led to your answer. **(1 point)**\n",
    "\n",
    "If you need help, Google \"pandas find a row that matches a column value\""
   ]
  },
  {
   "cell_type": "code",
   "execution_count": null,
   "id": "37a6b1bd",
   "metadata": {},
   "outputs": [],
   "source": []
  },
  {
   "cell_type": "markdown",
   "id": "988f114a-1524-441e-91f6-87b7a61233c8",
   "metadata": {},
   "source": [
    "## Working with Data Types"
   ]
  },
  {
   "cell_type": "markdown",
   "id": "2fe1a2a7-ff19-449f-9b52-dff07c80a9c6",
   "metadata": {},
   "source": [
    "### Problem 8\n",
    "\n",
    "Consider the list below. Using what you know about data types (list, set, dictionary, tuple),  \n",
    "write one line of code to show the unique list of subjects. Do NOT use a loop. **(1 point)**"
   ]
  },
  {
   "cell_type": "code",
   "execution_count": null,
   "id": "e2c09094-3d1b-4d7f-bff0-45504248131e",
   "metadata": {},
   "outputs": [],
   "source": []
  },
  {
   "cell_type": "code",
   "execution_count": null,
   "id": "88e6b0e1-69e0-4f95-82ed-431155188c42",
   "metadata": {},
   "outputs": [],
   "source": []
  },
  {
   "cell_type": "markdown",
   "id": "d1e63324-19dc-4b1d-8e98-03c0a72826dc",
   "metadata": {},
   "source": [
    "### Problem 9\n",
    "\n",
    "You would like to store some names with associated birthdays.  \n",
    "Given a name, you would like to easily \"look up\" the birthday in the structure.\n",
    "\n",
    "9a) Which structure (list, set, dictionary, tuple) would be a good candidate and why? **(1 point)**"
   ]
  },
  {
   "cell_type": "markdown",
   "id": "dcbb5dbe-7b78-49c9-b081-0fe924e46500",
   "metadata": {},
   "source": []
  },
  {
   "cell_type": "markdown",
   "id": "3ae31dc0-d314-43cd-9ea9-80b175eab438",
   "metadata": {},
   "source": [
    "**Data**\n",
    "\n",
    "\"Callie\", \"Jan 10\"  \n",
    "\"Jack\", \"Apr 9\"  \n",
    "\"Eli\", \"June 8\"  \n",
    "\"James\", \"Sep 6\""
   ]
  },
  {
   "cell_type": "markdown",
   "id": "aa72d293-2afc-49f7-bb5e-a04611754a14",
   "metadata": {},
   "source": [
    "9b) Create the structure and print it. **(1 point)**"
   ]
  },
  {
   "cell_type": "code",
   "execution_count": null,
   "id": "c11fc4d2-c907-4d96-a263-4cfc1976daad",
   "metadata": {},
   "outputs": [],
   "source": []
  },
  {
   "cell_type": "markdown",
   "id": "39012210-74be-4818-9e5f-262d8a6667cb",
   "metadata": {},
   "source": [
    "9c) Show how you can easily look up Jack's birthday, printing the result. **(1 point)**"
   ]
  },
  {
   "cell_type": "code",
   "execution_count": null,
   "id": "4b8a3f0d-1221-4d88-b68c-10855701d68d",
   "metadata": {},
   "outputs": [],
   "source": []
  },
  {
   "cell_type": "markdown",
   "id": "5039ea22-37fe-4598-855a-9c7ab976c97a",
   "metadata": {},
   "source": [
    "---"
   ]
  }
 ],
 "metadata": {
  "kernelspec": {
   "display_name": "Python 3 (ipykernel)",
   "language": "python",
   "name": "python3"
  },
  "language_info": {
   "codemirror_mode": {
    "name": "ipython",
    "version": 3
   },
   "file_extension": ".py",
   "mimetype": "text/x-python",
   "name": "python",
   "nbconvert_exporter": "python",
   "pygments_lexer": "ipython3",
   "version": "3.9.12"
  }
 },
 "nbformat": 4,
 "nbformat_minor": 5
}
