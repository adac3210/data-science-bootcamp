{
 "cells": [
  {
   "cell_type": "markdown",
   "id": "48b77943-0007-4063-8b2c-da8c3a5f494e",
   "metadata": {},
   "source": [
    "<img src=\"../../predictioNN_Logo_JPG(72).jpg\" width=200>"
   ]
  },
  {
   "cell_type": "markdown",
   "id": "f64d4824",
   "metadata": {},
   "source": [
    "---\n",
    "\n",
    "## Coding Assignment 3: Forest Fires\n",
    "\n",
    "### Introduction to Data Science\n",
    "#### Last Updated: August 20, 2022"
   ]
  },
  {
   "cell_type": "markdown",
   "id": "4903c392",
   "metadata": {},
   "source": [
    "---  \n",
    "\n",
    "### Skills Assessed\n",
    "\n",
    "You will demonstrate these skills in the HW:\n",
    "- pandas operations: subsetting\n",
    "- pandas operations: creating new columns\n",
    "- pandas operations: summarizing data\n",
    "- pandas operations: aggregating data\n",
    "- pandas operations: lambda functions\n",
    "---"
   ]
  },
  {
   "cell_type": "markdown",
   "id": "d407703e",
   "metadata": {},
   "source": [
    "### Instructions\n",
    "\n",
    "You will show off your pandas skills in this assignment.\n",
    "\n",
    "It uses a dataset looking at the burned area of forest fires in the northeast region of Portugal, by using meteorological and other data.\n",
    "\n",
    "NOTE: All questions are independent. For example, if question 2 asks you to filter a dataframe, the filter is only applied for question 2.\n",
    "\n",
    "**Data source:** https://archive.ics.uci.edu/ml/machine-learning-databases/forest-fires/\n",
    "\n",
    "### About the data columns\n",
    "\n",
    "   1. X - x-axis spatial coordinate within the Montesinho park map: 1 to 9\n",
    "   2. Y - y-axis spatial coordinate within the Montesinho park map: 2 to 9\n",
    "   3. month - month of the year: \"jan\" to \"dec\" \n",
    "   4. day - day of the week: \"mon\" to \"sun\"\n",
    "   5. FFMC - FFMC index from the FWI system: 18.7 to 96.20\n",
    "   6. DMC - DMC index from the FWI system: 1.1 to 291.3 \n",
    "   7. DC - DC index from the FWI system: 7.9 to 860.6 \n",
    "   8. ISI - ISI index from the FWI system: 0.0 to 56.10\n",
    "   9. temp - temperature in Celsius degrees: 2.2 to 33.30\n",
    "   10. RH - relative humidity in %: 15 to 100\n",
    "   11. wind - wind speed in km/h: 0.40 to 9.40 \n",
    "   12. rain - outside rain in mm/m2 : 0.0 to 6.4 \n",
    "   13. area - the burned area of the forest (in ha): 0.00 to 1090.84 \n",
    "   (this output variable is very skewed towards 0.0, thus it may make\n",
    "    sense to model with the logarithm transform). \n",
    "\n",
    "**TOTAL POINTS: 10**\n",
    "\n",
    "---"
   ]
  },
  {
   "cell_type": "markdown",
   "id": "40bb925c",
   "metadata": {},
   "source": [
    "You'll work with pandas dataframes so import the module"
   ]
  },
  {
   "cell_type": "code",
   "execution_count": null,
   "id": "28c2cd63",
   "metadata": {},
   "outputs": [],
   "source": []
  },
  {
   "cell_type": "markdown",
   "id": "02d87d63",
   "metadata": {},
   "source": [
    "1) (1 PT) Read the fire data into a dataframe and print the first 4 rows of data (not including the header)."
   ]
  },
  {
   "cell_type": "code",
   "execution_count": null,
   "id": "b9e0073c",
   "metadata": {},
   "outputs": [],
   "source": []
  },
  {
   "cell_type": "markdown",
   "id": "e28350a1",
   "metadata": {},
   "source": [
    "2) (1 PT) Determine the unique month values. Next, sort them and print them."
   ]
  },
  {
   "cell_type": "code",
   "execution_count": null,
   "id": "1540ccce",
   "metadata": {},
   "outputs": [],
   "source": []
  },
  {
   "cell_type": "markdown",
   "id": "dc42a986",
   "metadata": {},
   "source": [
    "3) (1 PT) Create a new column called *temp_f* and append it to the dataframe.   \n",
    "It will be the *temp* column converted to Fahrenheit (look up the formula).\n",
    "\n",
    "Print the first four rows of data.  \n",
    "HINT: Use a lambda function."
   ]
  },
  {
   "cell_type": "code",
   "execution_count": null,
   "id": "d1f44b5d",
   "metadata": {},
   "outputs": [],
   "source": []
  },
  {
   "cell_type": "markdown",
   "id": "d806f607",
   "metadata": {},
   "source": [
    "4) (1 PT) Select the following columns (together) from the dataframe: `day`, `month`,`area`.  \n",
    "Print the rows from these columns where the area is greater than 10 and less than 10.5."
   ]
  },
  {
   "cell_type": "code",
   "execution_count": null,
   "id": "afa6c7da",
   "metadata": {},
   "outputs": [],
   "source": []
  },
  {
   "cell_type": "markdown",
   "id": "cc3eee50",
   "metadata": {},
   "source": [
    "5) (1 PT) Compute the mean `area`, grouped (aggregated) by `month`.  \n",
    "\n",
    "Print the result; it should only contain the columns: `area` and `month`"
   ]
  },
  {
   "cell_type": "code",
   "execution_count": null,
   "id": "304be57b",
   "metadata": {},
   "outputs": [],
   "source": []
  },
  {
   "cell_type": "markdown",
   "id": "29c37bde",
   "metadata": {},
   "source": [
    "6) (1 PT) Print the datatype of each column in the dataframe. Hint: there is a function to do this."
   ]
  },
  {
   "cell_type": "code",
   "execution_count": null,
   "id": "f4f9c93a",
   "metadata": {},
   "outputs": [],
   "source": []
  },
  {
   "cell_type": "markdown",
   "id": "159a10db",
   "metadata": {},
   "source": [
    "7) (3 PTS) For this part, you will break the columns into separate lists by data type. This is often useful for preprocessing predictors in machine learning.\n",
    "\n",
    "- Save the categorical column names in a list named `cats`\n",
    "- Save the continuous variable column names in a list named `con`. These variables have float (decimal) values.\n",
    "- Save the discrete variable column names in a list called `disc`. These variables have integer values.\n",
    "\n",
    "Hint: Use what you learned from task 5. You can also use the `value_counts()` function to explore the values of a column like this:"
   ]
  },
  {
   "cell_type": "code",
   "execution_count": null,
   "id": "62bb826f",
   "metadata": {},
   "outputs": [],
   "source": []
  },
  {
   "cell_type": "code",
   "execution_count": null,
   "id": "2f7b8680",
   "metadata": {},
   "outputs": [],
   "source": []
  },
  {
   "cell_type": "markdown",
   "id": "19d330fd",
   "metadata": {},
   "source": [
    "---"
   ]
  },
  {
   "cell_type": "markdown",
   "id": "68642871",
   "metadata": {},
   "source": [
    "8) (1 PT) Using the list `disc`, subset those columns in the dataframe and print the first four rows of those columns. "
   ]
  },
  {
   "cell_type": "code",
   "execution_count": null,
   "id": "885e504d",
   "metadata": {},
   "outputs": [],
   "source": []
  },
  {
   "cell_type": "markdown",
   "id": "313144ad",
   "metadata": {},
   "source": [
    "---"
   ]
  }
 ],
 "metadata": {
  "kernelspec": {
   "display_name": "Python 3 (ipykernel)",
   "language": "python",
   "name": "python3"
  },
  "language_info": {
   "codemirror_mode": {
    "name": "ipython",
    "version": 3
   },
   "file_extension": ".py",
   "mimetype": "text/x-python",
   "name": "python",
   "nbconvert_exporter": "python",
   "pygments_lexer": "ipython3",
   "version": "3.9.12"
  }
 },
 "nbformat": 4,
 "nbformat_minor": 5
}
