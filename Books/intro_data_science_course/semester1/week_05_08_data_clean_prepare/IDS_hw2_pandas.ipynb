{
 "cells": [
  {
   "cell_type": "markdown",
   "id": "61ea5f6e-6458-4301-85d3-76062b1922a6",
   "metadata": {},
   "source": [
    "<img src=\"../../predictioNN_Logo_JPG(72).jpg\" width=200>"
   ]
  },
  {
   "cell_type": "markdown",
   "id": "ef7fec5c",
   "metadata": {},
   "source": [
    "---\n",
    "\n",
    "## Coding Assignment 2: Pandas Operations\n",
    "\n",
    "### Introduction to Data Science\n",
    "#### Last Updated: September 23, 2022"
   ]
  },
  {
   "cell_type": "markdown",
   "id": "d664754b",
   "metadata": {},
   "source": [
    "---  \n",
    "\n",
    "### Skills Assessed\n",
    "\n",
    "You will demonstrate these skills in the HW:\n",
    "- pandas operations: subsetting\n",
    "- pandas operations: creating new columns\n",
    "- pandas operations: summarizing data\n",
    "---"
   ]
  },
  {
   "cell_type": "markdown",
   "id": "0dc4b08d",
   "metadata": {},
   "source": [
    "### Instructions\n",
    "\n",
    "You will show off your pandas skills in this assignment.\n",
    "\n",
    "Please answer the following questions as completely as possible using text, code, and the results of code as needed. Format your answers in this Jupyter notebook. To receive full credit, make sure you address every part of the problem, and make sure your document is formatted in a clean and professional way.\n",
    "\n",
    "Google is your friend if you are stuck on how to do something. You can also refer to the Pandas documentation: https://pandas.pydata.org/pandas-docs/stable/reference/api/pandas.DataFrame.html\n",
    "\n",
    "\n",
    "**TOTAL POINTS: 10**\n",
    "\n",
    "---"
   ]
  },
  {
   "cell_type": "markdown",
   "id": "d7708c2c-0a34-49be-abb6-38d6aeccf1d6",
   "metadata": {
    "tags": []
   },
   "source": [
    "### World Happiness Report  \n",
    "\n",
    "\"The World Happiness Report is a landmark survey of the state of global happiness. The first report was published in 2012. The World Happiness 2017, which ranks 155 countries by their happiness levels, was released at the United Nations at an event celebrating International Day of Happiness on March 20th.\"\n",
    "\n",
    "source: Kaggle\n",
    "\n",
    "---"
   ]
  },
  {
   "cell_type": "markdown",
   "id": "e2a9c8a1",
   "metadata": {},
   "source": [
    "You'll work with pandas dataframes so import the module"
   ]
  },
  {
   "cell_type": "code",
   "execution_count": null,
   "id": "562b4982",
   "metadata": {},
   "outputs": [],
   "source": []
  },
  {
   "cell_type": "markdown",
   "id": "60d46d87",
   "metadata": {},
   "source": [
    "1) (1 PT) Read the happiness data into a dataframe and print the first 4 rows of data (not including the header)."
   ]
  },
  {
   "cell_type": "code",
   "execution_count": null,
   "id": "fb350a69",
   "metadata": {},
   "outputs": [],
   "source": []
  },
  {
   "cell_type": "markdown",
   "id": "fda56b82",
   "metadata": {},
   "source": [
    "2) (1 PT) Determine the unique Country values. You might need to search for the function to do this.  \n",
    "   Next, sort them and print them."
   ]
  },
  {
   "cell_type": "code",
   "execution_count": null,
   "id": "fd8afa8c",
   "metadata": {},
   "outputs": [],
   "source": []
  },
  {
   "cell_type": "markdown",
   "id": "a758654a",
   "metadata": {},
   "source": [
    "3) (1 PT) Select the following columns (together) from the dataframe: `Country`, `Happiness score`  \n",
    "Print the first four rows of data from these columns."
   ]
  },
  {
   "cell_type": "code",
   "execution_count": null,
   "id": "7bcab98a",
   "metadata": {},
   "outputs": [],
   "source": []
  },
  {
   "cell_type": "markdown",
   "id": "3fc04eb4",
   "metadata": {},
   "source": [
    "4) (1 PT) Compute the following statistics on all values of `Happiness score`:\n",
    "- mean, std, min, 25%, 50%, 75%, max  \n",
    "Hint: there is a function that does this."
   ]
  },
  {
   "cell_type": "code",
   "execution_count": null,
   "id": "0bfd6666",
   "metadata": {},
   "outputs": [],
   "source": []
  },
  {
   "cell_type": "markdown",
   "id": "463605c7",
   "metadata": {},
   "source": [
    "5) (2 PTS) Create a new column in the dataframe and name it: `Happiness_high`  \n",
    "It will be derived from `Happiness score` as follows:\n",
    "- if `Happiness score` > 6, the value will be True\n",
    "- otherwise, the value will be False\n",
    "\n",
    "Print the first five rows of the data"
   ]
  },
  {
   "cell_type": "code",
   "execution_count": null,
   "id": "6ced3411",
   "metadata": {},
   "outputs": [],
   "source": []
  },
  {
   "cell_type": "markdown",
   "id": "5d87b041",
   "metadata": {},
   "source": [
    "Print the last five rows of the data"
   ]
  },
  {
   "cell_type": "code",
   "execution_count": null,
   "id": "01a5b339",
   "metadata": {},
   "outputs": [],
   "source": []
  },
  {
   "cell_type": "markdown",
   "id": "af2ad7be",
   "metadata": {},
   "source": [
    "6) (1 PT) Print all rows from the data where `Happiness score` is greater than 5.9 and less than 6."
   ]
  },
  {
   "cell_type": "code",
   "execution_count": null,
   "id": "293b7454",
   "metadata": {},
   "outputs": [],
   "source": []
  },
  {
   "cell_type": "markdown",
   "id": "eb53db49",
   "metadata": {},
   "source": [
    "Run the cell below to create a new dataframe called `df_miss`.  \n",
    "Its first column will contain some missing values."
   ]
  },
  {
   "cell_type": "code",
   "execution_count": null,
   "id": "4565ad8c",
   "metadata": {},
   "outputs": [],
   "source": [
    "import numpy as np\n",
    "import random\n",
    "\n",
    "nrows = 10\n",
    "ncols = 5\n",
    "\n",
    "# set a seed for random number generation\n",
    "np.random.seed(314)\n",
    "# create an array filled with random data\n",
    "data = np.array(np.random.rand(nrows, ncols))\n",
    "# put the data to a pandas dataframe\n",
    "df_miss = pd.DataFrame(data)\n",
    "# rename the columns\n",
    "df_miss.columns = ['col_'+str(ii) for ii in range(ncols)]\n",
    "\n",
    "# randomly set some values to missing\n",
    "ix0 = np.random.randint(nrows, size=3)\n",
    "ix1 = np.random.randint(nrows, size=3)\n",
    "\n",
    "df_miss['col_0'][ix0] = np.nan\n",
    "df_miss['col_1'][ix1] = np.nan\n",
    "\n",
    "print(df_miss)"
   ]
  },
  {
   "cell_type": "markdown",
   "id": "5c6e0c64",
   "metadata": {},
   "source": [
    "7) (2 PTS) Impute the missing values (NaN) in `col_0` (but not `col_1`) with the median.  \n",
    "Store the values in the dataframe by using the parameter `inplace`.  \n",
    "Print the dataframe."
   ]
  },
  {
   "cell_type": "code",
   "execution_count": null,
   "id": "253efe31",
   "metadata": {},
   "outputs": [],
   "source": []
  },
  {
   "cell_type": "markdown",
   "id": "e2e43725",
   "metadata": {},
   "source": [
    "8) (1 PT) Impute the missing values in `col_1` with value 0.  \n",
    "Store the values in the dataframe by using the parameter `inplace`.  \n",
    "Print the dataframe."
   ]
  },
  {
   "cell_type": "code",
   "execution_count": null,
   "id": "d3c600ba",
   "metadata": {},
   "outputs": [],
   "source": []
  },
  {
   "cell_type": "markdown",
   "id": "520cd3c8",
   "metadata": {},
   "source": [
    "---"
   ]
  }
 ],
 "metadata": {
  "kernelspec": {
   "display_name": "Python 3 (ipykernel)",
   "language": "python",
   "name": "python3"
  },
  "language_info": {
   "codemirror_mode": {
    "name": "ipython",
    "version": 3
   },
   "file_extension": ".py",
   "mimetype": "text/x-python",
   "name": "python",
   "nbconvert_exporter": "python",
   "pygments_lexer": "ipython3",
   "version": "3.9.12"
  }
 },
 "nbformat": 4,
 "nbformat_minor": 5
}
