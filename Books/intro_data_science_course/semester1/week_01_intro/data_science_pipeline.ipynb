{
 "cells": [
  {
   "cell_type": "markdown",
   "metadata": {
    "tags": []
   },
   "source": [
    "<img src=\"../../predictioNN_Logo_JPG(72).jpg\" width=200>"
   ]
  },
  {
   "cell_type": "markdown",
   "metadata": {},
   "source": [
    "---\n",
    "\n",
    "## The Data Science Pipeline\n",
    "\n",
    "### Introduction to Data Science\n",
    "### Last Updated: September 16, 2022\n",
    "---  \n",
    "\n",
    "### OBJECTIVES\n",
    "- Examine the data science pipeline\n",
    "\n",
    "### CONCEPTS\n",
    "\n",
    "- data science pipeline\n",
    "- the data science development process is iterative\n",
    "\n",
    "---\n"
   ]
  },
  {
   "cell_type": "markdown",
   "metadata": {
    "tags": []
   },
   "source": [
    "## Introducing the Data Science Pipeline"
   ]
  },
  {
   "cell_type": "markdown",
   "metadata": {
    "tags": []
   },
   "source": [
    "One of the *big ideas* in data science is the *data science pipeline*.\n",
    "\n",
    "This illustration shows the steps:"
   ]
  },
  {
   "cell_type": "markdown",
   "metadata": {
    "tags": []
   },
   "source": [
    "<img src=\"./data_science_pipeline_v2.jpg\">"
   ]
  },
  {
   "cell_type": "markdown",
   "metadata": {},
   "source": [
    "Notice the iteration loop.  \n",
    "After the data is prepared, the stages of data transformation, model construction and evaluation are repeated to improve the model."
   ]
  },
  {
   "cell_type": "markdown",
   "metadata": {
    "tags": []
   },
   "source": [
    "### Breaking Down the Steps\n",
    "\n",
    "**Data loading**:  \n",
    "The data may be raw (e.g., very messy) or it may be processed to some degree.\n",
    "\n",
    "**Data cleaning**:  \n",
    "There may be a lot of wrangling to get the data prepared.  \n",
    "This step is generally the most time consuming.  \n",
    "After the data is cleaned, it should be saved in a new file.  \n",
    "All cleaning should be done with code, so that the process is repeatable.\n",
    "\n",
    "**Data transformation**:  \n",
    "Create variables that may be useful predictors of an outcome.  \n",
    "This may involve application of mathematical & statistical functions.\n",
    "\n",
    "**Data visualization & summarization**:  \n",
    "Produce statistical summaries and graphics to understand the data.  \n",
    "\n",
    "**Build model**:  \n",
    "Build a model that takes predictors as input and explains or predicts an outcome.\n",
    "\n",
    "**Evaluate model**:  \n",
    "The model needs to be evaluated for reasonableness and effectiveness. \n",
    "This helps compare competing, alternative models.\n",
    "\n",
    "**Presenting findings**:  \n",
    "Share the story and insights from the analytics and modeling."
   ]
  },
  {
   "cell_type": "markdown",
   "metadata": {},
   "source": [
    "## Promise of This Course\n",
    "\n",
    "This course will teach you how to build your own end-to-end data science pipeline.\n",
    "\n",
    "As you learn the fundamentals, you'll apply them with your team to develop and deliver a data science project.\n",
    "\n",
    "You will also learn how to be thoughtful, responsible, and purposeful with data and data science applications.\n",
    "\n",
    "Data science skills bring great power and great responsibility!"
   ]
  },
  {
   "cell_type": "markdown",
   "metadata": {},
   "source": [
    "---"
   ]
  }
 ],
 "metadata": {
  "anaconda-cloud": {},
  "kernelspec": {
   "display_name": "Python 3 (ipykernel)",
   "language": "python",
   "name": "python3"
  },
  "language_info": {
   "codemirror_mode": {
    "name": "ipython",
    "version": 3
   },
   "file_extension": ".py",
   "mimetype": "text/x-python",
   "name": "python",
   "nbconvert_exporter": "python",
   "pygments_lexer": "ipython3",
   "version": "3.9.12"
  }
 },
 "nbformat": 4,
 "nbformat_minor": 4
}
