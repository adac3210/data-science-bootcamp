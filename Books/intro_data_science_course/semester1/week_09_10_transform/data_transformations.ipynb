{
 "cells": [
  {
   "cell_type": "markdown",
   "metadata": {},
   "source": [
    "<img src=\"../../predictioNN_Logo_JPG(72).jpg\" width=200>"
   ]
  },
  {
   "cell_type": "markdown",
   "metadata": {
    "tags": []
   },
   "source": [
    "---\n",
    "\n",
    "## Data Transformations\n",
    "\n",
    "### Introduction to Data Science\n",
    "### Last Updated: November 13, 2022\n",
    "---  \n",
    "\n",
    "\n",
    "### PREREQUISITES\n",
    "- variables\n",
    "- data types\n",
    "- operators\n",
    "- pandas DataFrames I\n",
    "- pandas DataFrames II\n",
    "\n",
    "\n",
    "### SOURCES\n",
    "- StandardScaler()  \n",
    "https://scikit-learn.org/stable/modules/generated/sklearn.preprocessing.StandardScaler.html\n",
    "\n",
    "- Binarizing data  \n",
    "https://stackoverflow.com/questions/48472156/binarizing-pandas-dataframe-column\n",
    "\n",
    "- Transforming data with mathematical functions  \n",
    "https://www.statology.org/transform-data-in-python/\n",
    "\n",
    "\n",
    "\n",
    "### OBJECTIVES\n",
    "- Introduce important data transformations\n",
    "- Illustrate how to implement the transformations using sklearn\n",
    "- Understand the benefits of scaling data\n",
    "- Understand how to scale data\n",
    "- Understand the benefits of binarizing data\n",
    "- Understand how to binarize data\n",
    "- Understand the benefits of one hot encoding data\n",
    "- Understand how to one hot encode data\n",
    "\n",
    "### CONCEPTS\n",
    "\n",
    "- dummy coding categorical data\n",
    "- data standardization\n",
    "- StandardScaler()\n",
    "- binarization of data\n",
    "- one hot encoding of data\n",
    "- applying mathematical & statistical functions to data\n",
    "\n",
    "---"
   ]
  },
  {
   "cell_type": "code",
   "execution_count": 4,
   "metadata": {},
   "outputs": [],
   "source": [
    "import numpy as np\n",
    "import pandas as pd"
   ]
  },
  {
   "cell_type": "markdown",
   "metadata": {},
   "source": [
    "Let's load the World Happiness Report dataset and learn data transformations."
   ]
  },
  {
   "cell_type": "code",
   "execution_count": 5,
   "metadata": {},
   "outputs": [
    {
     "data": {
      "text/html": [
       "<div>\n",
       "<style scoped>\n",
       "    .dataframe tbody tr th:only-of-type {\n",
       "        vertical-align: middle;\n",
       "    }\n",
       "\n",
       "    .dataframe tbody tr th {\n",
       "        vertical-align: top;\n",
       "    }\n",
       "\n",
       "    .dataframe thead th {\n",
       "        text-align: right;\n",
       "    }\n",
       "</style>\n",
       "<table border=\"1\" class=\"dataframe\">\n",
       "  <thead>\n",
       "    <tr style=\"text-align: right;\">\n",
       "      <th></th>\n",
       "      <th>Country</th>\n",
       "      <th>Happiness score</th>\n",
       "      <th>Whisker-high</th>\n",
       "      <th>Whisker-low</th>\n",
       "      <th>Dystopia (1.92) + residual</th>\n",
       "      <th>Explained by: GDP per capita</th>\n",
       "      <th>Explained by: Social support</th>\n",
       "      <th>Explained by: Healthy life expectancy</th>\n",
       "      <th>Explained by: Freedom to make life choices</th>\n",
       "      <th>Explained by: Generosity</th>\n",
       "      <th>Explained by: Perceptions of corruption</th>\n",
       "    </tr>\n",
       "  </thead>\n",
       "  <tbody>\n",
       "    <tr>\n",
       "      <th>0</th>\n",
       "      <td>Finland</td>\n",
       "      <td>7.632</td>\n",
       "      <td>7.695</td>\n",
       "      <td>7.569</td>\n",
       "      <td>2.595</td>\n",
       "      <td>1.305</td>\n",
       "      <td>1.592</td>\n",
       "      <td>0.874</td>\n",
       "      <td>0.681</td>\n",
       "      <td>0.192</td>\n",
       "      <td>0.393</td>\n",
       "    </tr>\n",
       "    <tr>\n",
       "      <th>1</th>\n",
       "      <td>Norway</td>\n",
       "      <td>7.594</td>\n",
       "      <td>7.657</td>\n",
       "      <td>7.530</td>\n",
       "      <td>2.383</td>\n",
       "      <td>1.456</td>\n",
       "      <td>1.582</td>\n",
       "      <td>0.861</td>\n",
       "      <td>0.686</td>\n",
       "      <td>0.286</td>\n",
       "      <td>0.340</td>\n",
       "    </tr>\n",
       "    <tr>\n",
       "      <th>2</th>\n",
       "      <td>Denmark</td>\n",
       "      <td>7.555</td>\n",
       "      <td>7.623</td>\n",
       "      <td>7.487</td>\n",
       "      <td>2.370</td>\n",
       "      <td>1.351</td>\n",
       "      <td>1.590</td>\n",
       "      <td>0.868</td>\n",
       "      <td>0.683</td>\n",
       "      <td>0.284</td>\n",
       "      <td>0.408</td>\n",
       "    </tr>\n",
       "    <tr>\n",
       "      <th>3</th>\n",
       "      <td>Iceland</td>\n",
       "      <td>7.495</td>\n",
       "      <td>7.593</td>\n",
       "      <td>7.398</td>\n",
       "      <td>2.426</td>\n",
       "      <td>1.343</td>\n",
       "      <td>1.644</td>\n",
       "      <td>0.914</td>\n",
       "      <td>0.677</td>\n",
       "      <td>0.353</td>\n",
       "      <td>0.138</td>\n",
       "    </tr>\n",
       "    <tr>\n",
       "      <th>4</th>\n",
       "      <td>Switzerland</td>\n",
       "      <td>7.487</td>\n",
       "      <td>7.570</td>\n",
       "      <td>7.405</td>\n",
       "      <td>2.320</td>\n",
       "      <td>1.420</td>\n",
       "      <td>1.549</td>\n",
       "      <td>0.927</td>\n",
       "      <td>0.660</td>\n",
       "      <td>0.256</td>\n",
       "      <td>0.357</td>\n",
       "    </tr>\n",
       "  </tbody>\n",
       "</table>\n",
       "</div>"
      ],
      "text/plain": [
       "       Country  Happiness score  Whisker-high  Whisker-low  \\\n",
       "0      Finland            7.632         7.695        7.569   \n",
       "1       Norway            7.594         7.657        7.530   \n",
       "2      Denmark            7.555         7.623        7.487   \n",
       "3      Iceland            7.495         7.593        7.398   \n",
       "4  Switzerland            7.487         7.570        7.405   \n",
       "\n",
       "   Dystopia (1.92) + residual  Explained by: GDP per capita  \\\n",
       "0                       2.595                         1.305   \n",
       "1                       2.383                         1.456   \n",
       "2                       2.370                         1.351   \n",
       "3                       2.426                         1.343   \n",
       "4                       2.320                         1.420   \n",
       "\n",
       "   Explained by: Social support  Explained by: Healthy life expectancy  \\\n",
       "0                         1.592                                  0.874   \n",
       "1                         1.582                                  0.861   \n",
       "2                         1.590                                  0.868   \n",
       "3                         1.644                                  0.914   \n",
       "4                         1.549                                  0.927   \n",
       "\n",
       "   Explained by: Freedom to make life choices  Explained by: Generosity  \\\n",
       "0                                       0.681                     0.192   \n",
       "1                                       0.686                     0.286   \n",
       "2                                       0.683                     0.284   \n",
       "3                                       0.677                     0.353   \n",
       "4                                       0.660                     0.256   \n",
       "\n",
       "   Explained by: Perceptions of corruption  \n",
       "0                                    0.393  \n",
       "1                                    0.340  \n",
       "2                                    0.408  \n",
       "3                                    0.138  \n",
       "4                                    0.357  "
      ]
     },
     "execution_count": 5,
     "metadata": {},
     "output_type": "execute_result"
    }
   ],
   "source": [
    "df = pd.read_csv('../datasets/Country_Happiness.csv')\n",
    "df.head()"
   ]
  },
  {
   "cell_type": "markdown",
   "metadata": {},
   "source": [
    "## I. Why do we transform data"
   ]
  },
  {
   "cell_type": "markdown",
   "metadata": {},
   "source": [
    "Data transformation: changing the format, structure, or values of data.  Why do we do it?\n",
    "\n",
    "Some possible benefits:\n",
    "\n",
    "- Facilitate compatability between data types or systems (e.g., put different variables on compatible scales)  \n",
    "  Example: **When variables have different orders of magnitude, some models, like linear regression, can be difficult or impossible to train.** \n",
    "\n",
    "- Organize the data better\n",
    "- Produce better predictors for a model\n",
    "- Improve data quality to impute missing data (null values), remove unwanted duplicates, or fix incorrect indexing"
   ]
  },
  {
   "cell_type": "markdown",
   "metadata": {},
   "source": [
    "**Orders of Magnitude**\n",
    "\n",
    "Orders of magnitude are multiples of 10 (think scientific notation). For example, if variable X ranges between 10-50 and variable Y ranges between 10000-40000, they are separated by three orders of magnitude (difference of three zeroes). This gives a rough guide of their size."
   ]
  },
  {
   "cell_type": "markdown",
   "metadata": {},
   "source": [
    "## II. Some Common Transformations"
   ]
  },
  {
   "cell_type": "markdown",
   "metadata": {},
   "source": [
    "#### Standard Scaler"
   ]
  },
  {
   "cell_type": "markdown",
   "metadata": {},
   "source": [
    "##### Example of why we might apply Standard Scaler\n",
    "\n",
    "- Different features in a dataset may be on different scales, like **square footage** and **house price.**  \n",
    "  If a house is 3,000 square feet while its price is $600,000 these values are separated by two orders of magnitude.  \n",
    "  Scaling these values will be beneficial when including the data in a model.\n"
   ]
  },
  {
   "cell_type": "markdown",
   "metadata": {},
   "source": [
    "When applying Standard Scaler, there are two operations which are both optional:\n",
    "\n",
    "**Centering** a variable:  \n",
    "Step 1: Compute the mean (measure of central tendency) of the variable  \n",
    "Step 2: Subtract this mean from all values of the variable\n",
    "\n",
    "**Scaling** a variable:  \n",
    "Step 1: Compute the standard deviation (measure of spread) of the variable  \n",
    "Step 2: Divide all values of the variable by this standard deviation"
   ]
  },
  {
   "cell_type": "markdown",
   "metadata": {},
   "source": [
    "##### How can StandardScaler() be applied?\n",
    "\n",
    "The `StandardScaler()` transformer in Python normalizes the features individually.   \n",
    "\n",
    "It is possible to apply only centering or only scaling by setting parameters.\n",
    "\n",
    "Suppose you do both. Then it works like this:\n",
    "\n",
    "Step 1: Center the data. Each column/feature will have a mean of 0  \n",
    "Step 2: Scale the data. Each column/feature will have a standard deviation of 1"
   ]
  },
  {
   "cell_type": "markdown",
   "metadata": {},
   "source": [
    "#### Example of Centering and Scaling"
   ]
  },
  {
   "cell_type": "code",
   "execution_count": 6,
   "metadata": {},
   "outputs": [],
   "source": [
    "from sklearn.preprocessing import StandardScaler\n",
    "import numpy as np\n",
    "\n",
    "# 4 samples/observations and 2 variables/features\n",
    "data = np.array([[4, 4], [6, 0], [0, 1.5], [1, 1]])\n",
    "scaler = StandardScaler()\n",
    "scaled_data = scaler.fit_transform(data)"
   ]
  },
  {
   "cell_type": "code",
   "execution_count": 7,
   "metadata": {},
   "outputs": [
    {
     "data": {
      "text/plain": [
       "array([[4. , 4. ],\n",
       "       [6. , 0. ],\n",
       "       [0. , 1.5],\n",
       "       [1. , 1. ]])"
      ]
     },
     "execution_count": 7,
     "metadata": {},
     "output_type": "execute_result"
    }
   ],
   "source": [
    "data"
   ]
  },
  {
   "cell_type": "code",
   "execution_count": 8,
   "metadata": {},
   "outputs": [
    {
     "data": {
      "text/plain": [
       "array([[ 0.52414242,  1.61155897],\n",
       "       [ 1.36277029, -1.10264561],\n",
       "       [-1.15311332, -0.08481889],\n",
       "       [-0.73379939, -0.42409446]])"
      ]
     },
     "execution_count": 8,
     "metadata": {},
     "output_type": "execute_result"
    }
   ],
   "source": [
    "scaled_data"
   ]
  },
  {
   "cell_type": "markdown",
   "metadata": {},
   "source": [
    "compute the mean and standard deviation for each column of data"
   ]
  },
  {
   "cell_type": "code",
   "execution_count": 9,
   "metadata": {},
   "outputs": [
    {
     "name": "stdout",
     "output_type": "stream",
     "text": [
      "column means:\n",
      "[2.75  1.625]\n",
      "\n",
      "column standard deviations:\n",
      "[2.384848   1.47372827]\n"
     ]
    }
   ],
   "source": [
    "print('column means:')\n",
    "print(data.mean(axis=0))\n",
    "print('')\n",
    "print('column standard deviations:')\n",
    "print(data.std(axis=0))"
   ]
  },
  {
   "cell_type": "markdown",
   "metadata": {},
   "source": [
    "using the scaled data, compute the mean and standard deviation of each column"
   ]
  },
  {
   "cell_type": "code",
   "execution_count": 10,
   "metadata": {},
   "outputs": [
    {
     "name": "stdout",
     "output_type": "stream",
     "text": [
      "column means:\n",
      "[-5.55111512e-17  4.16333634e-17]\n",
      "\n",
      "column standard deviations:\n",
      "[1. 1.]\n"
     ]
    }
   ],
   "source": [
    "print('column means:')\n",
    "print(scaled_data.mean(axis=0))\n",
    "print('')\n",
    "print('column standard deviations:')\n",
    "print(scaled_data.std(axis=0))"
   ]
  },
  {
   "cell_type": "markdown",
   "metadata": {},
   "source": [
    "Notice the scaled data is centered, with all means nearly zero.  \n",
    "It is also scaled, with all standard deviations equal to one."
   ]
  },
  {
   "cell_type": "markdown",
   "metadata": {},
   "source": [
    "#### Dummy Variables"
   ]
  },
  {
   "cell_type": "markdown",
   "metadata": {},
   "source": [
    "Categorical data takes discrete values where computation on the values does not make sense.  \n",
    "- t-shirt size (S, M, L, XL)\n",
    "- zip code. While the values are digits, calculation on zip codes does not make sense.\n",
    "\n",
    "\n",
    "To include **categoricals in models, they must be converted to numeric.**  \n",
    "\n",
    "This is true generally for text: text data can not be directly used in models. It must be converted to numeric.\n",
    "\n",
    "Conversion of categorical -> numeric data can be done in Python with `get_dummies()`\n",
    "\n",
    "This takes a categorical variable and outputs a set of *dummy variables*, also called *indicator variables.*\n",
    "\n",
    "Important parameters: \n",
    "\n",
    "- `prefix`    : append prefix to column names (a good idea for later referencing)\n",
    "- `drop_first`: remove first level, as only `k-1` variables needed to represent `k` levels\n",
    "\n",
    "[Details](https://pandas.pydata.org/pandas-docs/stable/reference/api/pandas.get_dummies.html)"
   ]
  },
  {
   "cell_type": "code",
   "execution_count": 12,
   "metadata": {
    "tags": []
   },
   "outputs": [
    {
     "name": "stdout",
     "output_type": "stream",
     "text": [
      "--categorical data\n",
      "       breed\n",
      "0    persian\n",
      "1    persian\n",
      "2    siamese\n",
      "3  himalayan\n",
      "4    burmese\n",
      "\n",
      "\n",
      "--dummified categorical data\n",
      "   breed_himalayan  breed_persian  breed_siamese\n",
      "0                0              1              0\n",
      "1                0              1              0\n",
      "2                0              0              1\n",
      "3                1              0              0\n",
      "4                0              0              0\n"
     ]
    }
   ],
   "source": [
    "cats = pd.DataFrame({'breed':['persian','persian','siamese','himalayan','burmese']})\n",
    "\n",
    "print('--categorical data')\n",
    "print(cats)\n",
    "\n",
    "cats = pd.get_dummies(cats.breed, drop_first=True, prefix='breed')\n",
    "\n",
    "print('\\n')\n",
    "print('--dummified categorical data')\n",
    "print(cats)"
   ]
  },
  {
   "cell_type": "markdown",
   "metadata": {},
   "source": [
    "Notice `burmese` was dropped (first level by alphabet)\n",
    "\n",
    "a persian is represented like this:\n",
    "\n",
    "```\n",
    "   breed_himalayan  breed_persian  breed_siamese  \n",
    "               0              1              0\n",
    "```\n",
    "\n",
    "a burmese is represented like this:\n",
    "\n",
    "```\n",
    "   breed_himalayan  breed_persian  breed_siamese  \n",
    "               0              0              0\n",
    "```\n",
    "\n",
    "In other words, given the four possible cat breeds, since this latter cat is not himalayan, persian or siamese, it must be burmese.\n",
    "\n",
    "The practice of **representing data** in different ways is very commonplace and important in data science.\n",
    "\n",
    "---"
   ]
  },
  {
   "cell_type": "markdown",
   "metadata": {
    "tags": []
   },
   "source": [
    "#### Binarizing Data\n",
    "\n",
    "Binarizing data is common when you want to:\n",
    "- check if something happened or not (user makes a purchase, installs an app, team wins game, ...)  \n",
    "  Example: user visited website five times today. binary variable: `has_visited = 1`  \n",
    "  Sometimes a binary variable will be a better predictor than the actual value.\n",
    "\n",
    "- predict an outcome that is binary (survival, fraud, stock price increase, ...)  \n",
    "  Example: probability of fraud = 0.35. compare to threshold, say, 0.5.  \n",
    "  0.35 < 0.5, so we conclude `is_fraud = 0`"
   ]
  },
  {
   "cell_type": "markdown",
   "metadata": {},
   "source": [
    "Mathematically, binarization is a step function. For example:\n",
    "\n",
    "For some cutoff $c$,\n",
    "\n",
    "```\n",
    "case 1: x < c,  then f(x) = 0  \n",
    "case 2: x >= c, then f(x) = 1\n",
    "```"
   ]
  },
  {
   "cell_type": "markdown",
   "metadata": {},
   "source": [
    "Binarization can be done using comparison operators >, >=, <, <=  "
   ]
  },
  {
   "cell_type": "markdown",
   "metadata": {},
   "source": [
    "**Binarization example with Country_Happiness dataset:**    \n",
    "Create new binarized variable where: \n",
    "- Happiness score < 7.5 mapped to 0  \n",
    "- Happiness score >= 7.5 mapped to 1"
   ]
  },
  {
   "cell_type": "code",
   "execution_count": 13,
   "metadata": {},
   "outputs": [
    {
     "data": {
      "text/html": [
       "<div>\n",
       "<style scoped>\n",
       "    .dataframe tbody tr th:only-of-type {\n",
       "        vertical-align: middle;\n",
       "    }\n",
       "\n",
       "    .dataframe tbody tr th {\n",
       "        vertical-align: top;\n",
       "    }\n",
       "\n",
       "    .dataframe thead th {\n",
       "        text-align: right;\n",
       "    }\n",
       "</style>\n",
       "<table border=\"1\" class=\"dataframe\">\n",
       "  <thead>\n",
       "    <tr style=\"text-align: right;\">\n",
       "      <th></th>\n",
       "      <th>Country</th>\n",
       "      <th>Happiness score</th>\n",
       "      <th>Whisker-high</th>\n",
       "      <th>Whisker-low</th>\n",
       "      <th>Dystopia (1.92) + residual</th>\n",
       "      <th>Explained by: GDP per capita</th>\n",
       "      <th>Explained by: Social support</th>\n",
       "      <th>Explained by: Healthy life expectancy</th>\n",
       "      <th>Explained by: Freedom to make life choices</th>\n",
       "      <th>Explained by: Generosity</th>\n",
       "      <th>Explained by: Perceptions of corruption</th>\n",
       "      <th>Happiness_score_bin</th>\n",
       "    </tr>\n",
       "  </thead>\n",
       "  <tbody>\n",
       "    <tr>\n",
       "      <th>0</th>\n",
       "      <td>Finland</td>\n",
       "      <td>7.632</td>\n",
       "      <td>7.695</td>\n",
       "      <td>7.569</td>\n",
       "      <td>2.595</td>\n",
       "      <td>1.305</td>\n",
       "      <td>1.592</td>\n",
       "      <td>0.874</td>\n",
       "      <td>0.681</td>\n",
       "      <td>0.192</td>\n",
       "      <td>0.393</td>\n",
       "      <td>1</td>\n",
       "    </tr>\n",
       "    <tr>\n",
       "      <th>1</th>\n",
       "      <td>Norway</td>\n",
       "      <td>7.594</td>\n",
       "      <td>7.657</td>\n",
       "      <td>7.530</td>\n",
       "      <td>2.383</td>\n",
       "      <td>1.456</td>\n",
       "      <td>1.582</td>\n",
       "      <td>0.861</td>\n",
       "      <td>0.686</td>\n",
       "      <td>0.286</td>\n",
       "      <td>0.340</td>\n",
       "      <td>1</td>\n",
       "    </tr>\n",
       "    <tr>\n",
       "      <th>2</th>\n",
       "      <td>Denmark</td>\n",
       "      <td>7.555</td>\n",
       "      <td>7.623</td>\n",
       "      <td>7.487</td>\n",
       "      <td>2.370</td>\n",
       "      <td>1.351</td>\n",
       "      <td>1.590</td>\n",
       "      <td>0.868</td>\n",
       "      <td>0.683</td>\n",
       "      <td>0.284</td>\n",
       "      <td>0.408</td>\n",
       "      <td>1</td>\n",
       "    </tr>\n",
       "    <tr>\n",
       "      <th>3</th>\n",
       "      <td>Iceland</td>\n",
       "      <td>7.495</td>\n",
       "      <td>7.593</td>\n",
       "      <td>7.398</td>\n",
       "      <td>2.426</td>\n",
       "      <td>1.343</td>\n",
       "      <td>1.644</td>\n",
       "      <td>0.914</td>\n",
       "      <td>0.677</td>\n",
       "      <td>0.353</td>\n",
       "      <td>0.138</td>\n",
       "      <td>0</td>\n",
       "    </tr>\n",
       "    <tr>\n",
       "      <th>4</th>\n",
       "      <td>Switzerland</td>\n",
       "      <td>7.487</td>\n",
       "      <td>7.570</td>\n",
       "      <td>7.405</td>\n",
       "      <td>2.320</td>\n",
       "      <td>1.420</td>\n",
       "      <td>1.549</td>\n",
       "      <td>0.927</td>\n",
       "      <td>0.660</td>\n",
       "      <td>0.256</td>\n",
       "      <td>0.357</td>\n",
       "      <td>0</td>\n",
       "    </tr>\n",
       "    <tr>\n",
       "      <th>5</th>\n",
       "      <td>Netherlands</td>\n",
       "      <td>7.441</td>\n",
       "      <td>7.498</td>\n",
       "      <td>7.384</td>\n",
       "      <td>2.448</td>\n",
       "      <td>1.361</td>\n",
       "      <td>1.488</td>\n",
       "      <td>0.878</td>\n",
       "      <td>0.638</td>\n",
       "      <td>0.333</td>\n",
       "      <td>0.295</td>\n",
       "      <td>0</td>\n",
       "    </tr>\n",
       "    <tr>\n",
       "      <th>6</th>\n",
       "      <td>Canada</td>\n",
       "      <td>7.328</td>\n",
       "      <td>7.421</td>\n",
       "      <td>7.236</td>\n",
       "      <td>2.306</td>\n",
       "      <td>1.330</td>\n",
       "      <td>1.532</td>\n",
       "      <td>0.896</td>\n",
       "      <td>0.653</td>\n",
       "      <td>0.321</td>\n",
       "      <td>0.291</td>\n",
       "      <td>0</td>\n",
       "    </tr>\n",
       "    <tr>\n",
       "      <th>7</th>\n",
       "      <td>New Zealand</td>\n",
       "      <td>7.324</td>\n",
       "      <td>7.401</td>\n",
       "      <td>7.247</td>\n",
       "      <td>2.156</td>\n",
       "      <td>1.268</td>\n",
       "      <td>1.601</td>\n",
       "      <td>0.876</td>\n",
       "      <td>0.669</td>\n",
       "      <td>0.365</td>\n",
       "      <td>0.389</td>\n",
       "      <td>0</td>\n",
       "    </tr>\n",
       "  </tbody>\n",
       "</table>\n",
       "</div>"
      ],
      "text/plain": [
       "       Country  Happiness score  Whisker-high  Whisker-low  \\\n",
       "0      Finland            7.632         7.695        7.569   \n",
       "1       Norway            7.594         7.657        7.530   \n",
       "2      Denmark            7.555         7.623        7.487   \n",
       "3      Iceland            7.495         7.593        7.398   \n",
       "4  Switzerland            7.487         7.570        7.405   \n",
       "5  Netherlands            7.441         7.498        7.384   \n",
       "6       Canada            7.328         7.421        7.236   \n",
       "7  New Zealand            7.324         7.401        7.247   \n",
       "\n",
       "   Dystopia (1.92) + residual  Explained by: GDP per capita  \\\n",
       "0                       2.595                         1.305   \n",
       "1                       2.383                         1.456   \n",
       "2                       2.370                         1.351   \n",
       "3                       2.426                         1.343   \n",
       "4                       2.320                         1.420   \n",
       "5                       2.448                         1.361   \n",
       "6                       2.306                         1.330   \n",
       "7                       2.156                         1.268   \n",
       "\n",
       "   Explained by: Social support  Explained by: Healthy life expectancy  \\\n",
       "0                         1.592                                  0.874   \n",
       "1                         1.582                                  0.861   \n",
       "2                         1.590                                  0.868   \n",
       "3                         1.644                                  0.914   \n",
       "4                         1.549                                  0.927   \n",
       "5                         1.488                                  0.878   \n",
       "6                         1.532                                  0.896   \n",
       "7                         1.601                                  0.876   \n",
       "\n",
       "   Explained by: Freedom to make life choices  Explained by: Generosity  \\\n",
       "0                                       0.681                     0.192   \n",
       "1                                       0.686                     0.286   \n",
       "2                                       0.683                     0.284   \n",
       "3                                       0.677                     0.353   \n",
       "4                                       0.660                     0.256   \n",
       "5                                       0.638                     0.333   \n",
       "6                                       0.653                     0.321   \n",
       "7                                       0.669                     0.365   \n",
       "\n",
       "   Explained by: Perceptions of corruption  Happiness_score_bin  \n",
       "0                                    0.393                    1  \n",
       "1                                    0.340                    1  \n",
       "2                                    0.408                    1  \n",
       "3                                    0.138                    0  \n",
       "4                                    0.357                    0  \n",
       "5                                    0.295                    0  \n",
       "6                                    0.291                    0  \n",
       "7                                    0.389                    0  "
      ]
     },
     "execution_count": 13,
     "metadata": {},
     "output_type": "execute_result"
    }
   ],
   "source": [
    "df['Happiness_score_bin'] = df['Happiness score'].apply(lambda x: 0 if x < 7.5 else 1)\n",
    "df.head(8)"
   ]
  },
  {
   "cell_type": "markdown",
   "metadata": {},
   "source": [
    "Let's visualize the raw Happiness scores for each level of Binarized Happiness scores:"
   ]
  },
  {
   "cell_type": "code",
   "execution_count": 27,
   "metadata": {},
   "outputs": [
    {
     "data": {
      "text/plain": [
       "<AxesSubplot:xlabel='Happiness_score_bin', ylabel='Happiness score'>"
      ]
     },
     "execution_count": 27,
     "metadata": {},
     "output_type": "execute_result"
    },
    {
     "data": {
      "image/png": "[encoded data removed]",
      "text/plain": [
       "<Figure size 432x288 with 1 Axes>"
      ]
     },
     "metadata": {
      "needs_background": "light"
     },
     "output_type": "display_data"
    }
   ],
   "source": [
    "import seaborn as sns\n",
    "sns.boxplot(x='Happiness_score_bin', y='Happiness score', data=df)"
   ]
  },
  {
   "cell_type": "markdown",
   "metadata": {},
   "source": [
    "What is the maximum Happiness score where Happiness_score_bin is zero?"
   ]
  },
  {
   "cell_type": "code",
   "execution_count": 26,
   "metadata": {},
   "outputs": [
    {
     "data": {
      "text/plain": [
       "7.495"
      ]
     },
     "execution_count": 26,
     "metadata": {},
     "output_type": "execute_result"
    }
   ],
   "source": [
    "df[df['Happiness_score_bin']==0]['Happiness score'].max()"
   ]
  },
  {
   "cell_type": "markdown",
   "metadata": {},
   "source": [
    "This is below the threshold of 7.5 which makes sense.\n",
    "\n",
    "Again, we could try both of these variables in a predictive model."
   ]
  },
  {
   "cell_type": "markdown",
   "metadata": {},
   "source": [
    "## III. Other Transformations"
   ]
  },
  {
   "cell_type": "markdown",
   "metadata": {},
   "source": [
    "Mathematical Functions like `sin()`, `log()`, `sqrt()` may be useful in creating predictors or transforming the response variable.\n",
    "\n",
    "The following examples demonstrate transforming data, and their distributions.\n",
    "\n",
    "**Example 1: Draw data from uniform distribution and take log**"
   ]
  },
  {
   "cell_type": "code",
   "execution_count": 37,
   "metadata": {},
   "outputs": [
    {
     "data": {
      "text/plain": [
       "Text(0.5, 1.0, 'Logged Data')"
      ]
     },
     "execution_count": 37,
     "metadata": {},
     "output_type": "execute_result"
    },
    {
     "data": {
      "image/png": "[encoded data removed]",
      "text/plain": [
       "<Figure size 432x288 with 2 Axes>"
      ]
     },
     "metadata": {
      "needs_background": "light"
     },
     "output_type": "display_data"
    }
   ],
   "source": [
    "import matplotlib.pyplot as plt\n",
    "\n",
    "# set a seed for reproducibility\n",
    "np.random.seed(314)\n",
    "\n",
    "# create uniform distributed random variable with 300 values\n",
    "data = np.random.uniform(low=1, high=5, size=300)\n",
    "\n",
    "# take natural log of data, base e\n",
    "data_log = np.log(data)\n",
    "\n",
    "# set grid of subplots\n",
    "fig, axs = plt.subplots(nrows=1, ncols=2)\n",
    "\n",
    "# histograms\n",
    "axs[0].hist(data, edgecolor='black')\n",
    "axs[1].hist(data_log, edgecolor='black')\n",
    "\n",
    "# add titles\n",
    "axs[0].set_title('Original Data')\n",
    "axs[1].set_title('Logged Data')"
   ]
  },
  {
   "cell_type": "markdown",
   "metadata": {},
   "source": [
    "**Example 2: Compute sine of data**"
   ]
  },
  {
   "cell_type": "code",
   "execution_count": 40,
   "metadata": {},
   "outputs": [
    {
     "data": {
      "text/plain": [
       "Text(0.5, 1.0, 'Sine-Transformed Data')"
      ]
     },
     "execution_count": 40,
     "metadata": {},
     "output_type": "execute_result"
    },
    {
     "data": {
      "image/png": "[encoded data removed]",
      "text/plain": [
       "<Figure size 432x288 with 2 Axes>"
      ]
     },
     "metadata": {
      "needs_background": "light"
     },
     "output_type": "display_data"
    }
   ],
   "source": [
    "data_sine = np.sin(data)\n",
    "fig, axs = plt.subplots(nrows=1, ncols=2)\n",
    "\n",
    "# histograms\n",
    "axs[0].hist(data, edgecolor='black')\n",
    "axs[1].hist(data_sine, edgecolor='black')\n",
    "\n",
    "# add titles\n",
    "axs[0].set_title('Original Data')\n",
    "axs[1].set_title('Sine-Transformed Data')"
   ]
  },
  {
   "cell_type": "markdown",
   "metadata": {},
   "source": [
    "**Example 3: Compute square root of data**"
   ]
  },
  {
   "cell_type": "code",
   "execution_count": 46,
   "metadata": {},
   "outputs": [
    {
     "ename": "NameError",
     "evalue": "name 'data_sqrt' is not defined",
     "output_type": "error",
     "traceback": [
      "\u001b[1;31m---------------------------------------------------------------------------\u001b[0m",
      "\u001b[1;31mNameError\u001b[0m                                 Traceback (most recent call last)",
      "Input \u001b[1;32mIn [46]\u001b[0m, in \u001b[0;36m<cell line: 6>\u001b[1;34m()\u001b[0m\n\u001b[0;32m      4\u001b[0m \u001b[38;5;66;03m# histograms\u001b[39;00m\n\u001b[0;32m      5\u001b[0m axs[\u001b[38;5;241m0\u001b[39m]\u001b[38;5;241m.\u001b[39mhist(data, edgecolor\u001b[38;5;241m=\u001b[39m\u001b[38;5;124m'\u001b[39m\u001b[38;5;124mblack\u001b[39m\u001b[38;5;124m'\u001b[39m)\n\u001b[1;32m----> 6\u001b[0m axs[\u001b[38;5;241m1\u001b[39m]\u001b[38;5;241m.\u001b[39mhist(\u001b[43mdata_sqrt\u001b[49m, edgecolor\u001b[38;5;241m=\u001b[39m\u001b[38;5;124m'\u001b[39m\u001b[38;5;124mblack\u001b[39m\u001b[38;5;124m'\u001b[39m)\n\u001b[0;32m      8\u001b[0m \u001b[38;5;66;03m# add titles\u001b[39;00m\n\u001b[0;32m      9\u001b[0m axs[\u001b[38;5;241m0\u001b[39m]\u001b[38;5;241m.\u001b[39mset_title(\u001b[38;5;124m'\u001b[39m\u001b[38;5;124mOriginal Data\u001b[39m\u001b[38;5;124m'\u001b[39m)\n",
      "\u001b[1;31mNameError\u001b[0m: name 'data_sqrt' is not defined"
     ]
    },
    {
     "data": {
      "image/png": "[encoded data removed]",
      "text/plain": [
       "<Figure size 432x288 with 2 Axes>"
      ]
     },
     "metadata": {
      "needs_background": "light"
     },
     "output_type": "display_data"
    }
   ],
   "source": [
    "data_log= np.sqrt(data)\n",
    "fig, axs = plt.subplots(nrows=1, ncols=2)\n",
    "\n",
    "# histograms\n",
    "axs[0].hist(data, edgecolor='black')\n",
    "axs[1].hist(data_sqrt, edgecolor='black')\n",
    "\n",
    "# add titles\n",
    "axs[0].set_title('Original Data')\n",
    "axs[1].set_title('Sqrt-Transformed Data')"
   ]
  },
  {
   "cell_type": "markdown",
   "metadata": {},
   "source": [
    "**We got an error.  What went wrong, and how can we fix it?**"
   ]
  },
  {
   "cell_type": "markdown",
   "metadata": {},
   "source": [
    "---"
   ]
  },
  {
   "cell_type": "markdown",
   "metadata": {},
   "source": [
    "### TRY FOR YOURSELF (UNGRADED EXERCISES)"
   ]
  },
  {
   "cell_type": "markdown",
   "metadata": {},
   "source": [
    "1) In our Country Happiness df, find the median of any column.  Then, create a new binarized version of the column, changing the values below the median to 0, and above the median to 1."
   ]
  },
  {
   "cell_type": "code",
   "execution_count": null,
   "metadata": {},
   "outputs": [],
   "source": []
  },
  {
   "cell_type": "markdown",
   "metadata": {},
   "source": [
    "2) Standardize all the data in the Country Happiness df and verify that a few of the columns have a mean of 0 and standard deviation of 1.  Would this be helpful, why or why not?"
   ]
  },
  {
   "cell_type": "code",
   "execution_count": null,
   "metadata": {},
   "outputs": [],
   "source": []
  },
  {
   "cell_type": "markdown",
   "metadata": {},
   "source": [
    "3) Use the code `data = np.random.beta(a=4, b=15, size=100)` and perform different transformations and observe the results. "
   ]
  },
  {
   "cell_type": "code",
   "execution_count": null,
   "metadata": {},
   "outputs": [],
   "source": []
  },
  {
   "cell_type": "markdown",
   "metadata": {},
   "source": [
    "---"
   ]
  },
  {
   "cell_type": "markdown",
   "metadata": {},
   "source": [
    "### Summary\n",
    "\n",
    "In this notebook, we've studied several common ways to transform data to make it more useful:\n",
    "\n",
    "- standardizing data columns to put them on a common scale\n",
    "- binarizing data columns to convert them to indicator functions with values 0 and 1\n",
    "- one hot encoding of categorical data columns to make them numeric\n",
    "- applying mathematical functions such as `sin()` and `sqrt()`\n",
    "\n",
    "These transformations can make data easier to visualize, and more useful in predictive models"
   ]
  }
 ],
 "metadata": {
  "anaconda-cloud": {},
  "kernelspec": {
   "display_name": "Python 3 (ipykernel)",
   "language": "python",
   "name": "python3"
  },
  "language_info": {
   "codemirror_mode": {
    "name": "ipython",
    "version": 3
   },
   "file_extension": ".py",
   "mimetype": "text/x-python",
   "name": "python",
   "nbconvert_exporter": "python",
   "pygments_lexer": "ipython3",
   "version": "3.9.12"
  }
 },
 "nbformat": 4,
 "nbformat_minor": 4
}
