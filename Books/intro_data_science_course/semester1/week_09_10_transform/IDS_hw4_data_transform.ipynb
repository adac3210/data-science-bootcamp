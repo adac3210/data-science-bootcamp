{
 "cells": [
  {
   "cell_type": "markdown",
   "id": "d4ae7805-0f3b-4d90-9e5d-248080134bf4",
   "metadata": {},
   "source": [
    "<img src=\"../../predictioNN_Logo_JPG(72).jpg\" width=200>"
   ]
  },
  {
   "cell_type": "markdown",
   "id": "03156d81-f72f-424a-9c6e-cb86cf079025",
   "metadata": {},
   "source": [
    "---\n",
    "\n",
    "## Coding Assignment 4: Data Transformations\n",
    "\n",
    "### Introduction to Data Science\n",
    "#### Last Updated: August 21, 2022\n",
    "\n",
    "---"
   ]
  },
  {
   "cell_type": "markdown",
   "id": "61dda6ed-4b29-4e8c-b8b9-35a273cf37e6",
   "metadata": {},
   "source": [
    "### Skills Assessed\n",
    "\n",
    "You will demonstrate these skills in the HW:\n",
    "- subsetting a pandas dataframe\n",
    "- working with lists\n",
    "- scaling data\n",
    "- binarizing data\n",
    "- merging data\n",
    "\n",
    "---"
   ]
  },
  {
   "cell_type": "markdown",
   "id": "1acd0a12-72d9-4ac0-9754-87ced6b5c9dd",
   "metadata": {},
   "source": [
    "### Instructions\n",
    "\n",
    "You will show off your data transformation skills in this assignment.\n",
    "\n",
    "**About the Data**\n",
    "\n",
    "The dataset is the [2017 Workplace Health in America survey](https://www.cdc.gov/workplacehealthpromotion/survey/data.html) which was conducted by the Centers for Disease Control and Prevention.  \n",
    "For details, refer to this [guidance document](https://www.cdc.gov/workplacehealthpromotion/data-surveillance/docs/2017-WHA-Guidance-Document-for-Use-of-Public-Data-files-508.pdf).\n",
    "\n",
    "The data contains over 300 features including:\n",
    "- industry of employment\n",
    "- company type\n",
    "- type of health insurance programs offered\n",
    "- whether remote work was allowed\n",
    "- gender\n",
    "- age\n",
    "\n",
    "Follow the framed-out code below, filling in the missing pieces.\n",
    "\n",
    "**TOTAL POINTS: 10**\n",
    "\n",
    "---"
   ]
  },
  {
   "cell_type": "code",
   "execution_count": 1,
   "id": "b183cac0-7e07-4671-9d3f-4ca28076b85c",
   "metadata": {},
   "outputs": [],
   "source": [
    "import warnings\n",
    "warnings.filterwarnings(\"ignore\")"
   ]
  },
  {
   "cell_type": "markdown",
   "id": "4d38a4a1-e452-4512-b062-7cf3b0f644eb",
   "metadata": {},
   "source": [
    "Review the instructions below to figure out which modules are required. Import them all here."
   ]
  },
  {
   "cell_type": "code",
   "execution_count": null,
   "id": "283e19dc-8039-479b-b442-6c9f811cabf0",
   "metadata": {},
   "outputs": [],
   "source": []
  },
  {
   "cell_type": "markdown",
   "id": "4a11f6a0-6206-4986-9b06-6ef08407f402",
   "metadata": {},
   "source": [
    "## 1. Data Loading and Prep"
   ]
  },
  {
   "cell_type": "markdown",
   "id": "62988aec-87b1-4bda-b62d-b65da88f0a1c",
   "metadata": {},
   "source": [
    "The data is stored in a csv file here: https://www.cdc.gov/workplacehealthpromotion/survey/data.html\n",
    "\n",
    "1) **(1 PT)** Load the data directly into Python without manually downloading the data onto your hard drive. Show the first five rows of data.\n",
    "\n",
    "Note: The columns are separated by '~', so you'll want to pass a parameter to your function to handle this."
   ]
  },
  {
   "cell_type": "code",
   "execution_count": null,
   "id": "6160d45f-6785-41c4-b299-3fa93d1fef1c",
   "metadata": {},
   "outputs": [],
   "source": []
  },
  {
   "cell_type": "markdown",
   "id": "21a4b356-d130-40fe-be1f-f08857930201",
   "metadata": {},
   "source": [
    "It's always a good idea to check the data types of the columns. Let's do this:"
   ]
  },
  {
   "cell_type": "code",
   "execution_count": 4,
   "id": "194e79e0-3d7d-466b-8891-1524bb096a19",
   "metadata": {},
   "outputs": [
    {
     "data": {
      "text/plain": [
       "OC1                      object\n",
       "OC3                     float64\n",
       "HI1                     float64\n",
       "HI2                     float64\n",
       "HI3                     float64\n",
       "                         ...   \n",
       "CDC_Region              float64\n",
       "Industry                float64\n",
       "Size                    float64\n",
       "Varstrata               float64\n",
       "Finalwt_worksite,,,,     object\n",
       "Length: 301, dtype: object"
      ]
     },
     "execution_count": 4,
     "metadata": {},
     "output_type": "execute_result"
    }
   ],
   "source": [
    "df.dtypes"
   ]
  },
  {
   "cell_type": "markdown",
   "id": "2cb4454e-5716-4414-8ec0-d05ef8180bf8",
   "metadata": {},
   "source": [
    "Hmm. `OC1` seems like an integer, but it's considered an object. Something strange is going on.  \n",
    "It turns out there is a bad row of data! It's the row with index 1662. Let's look at the data:"
   ]
  },
  {
   "cell_type": "code",
   "execution_count": 5,
   "id": "a9e93192-fbc1-4879-9a8e-ab8711d998fc",
   "metadata": {},
   "outputs": [
    {
     "data": {
      "text/plain": [
       "OC1                     1~4~2~1~2~1~2~96~96~96~1~1~1~1~1~1~5~3~1~5~96~...\n",
       "OC3                                                                   NaN\n",
       "HI1                                                                   NaN\n",
       "HI2                                                                   NaN\n",
       "HI3                                                                   NaN\n",
       "                                              ...                        \n",
       "CDC_Region                                                            NaN\n",
       "Industry                                                              NaN\n",
       "Size                                                                  NaN\n",
       "Varstrata                                                             NaN\n",
       "Finalwt_worksite,,,,                                                  NaN\n",
       "Name: 1662, Length: 301, dtype: object"
      ]
     },
     "execution_count": 5,
     "metadata": {},
     "output_type": "execute_result"
    }
   ],
   "source": [
    "df.iloc[1662,:]"
   ]
  },
  {
   "cell_type": "markdown",
   "id": "531e501f-d1e8-4df9-9222-b3b9296f5319",
   "metadata": {},
   "source": [
    "Let's remove this row"
   ]
  },
  {
   "cell_type": "code",
   "execution_count": 6,
   "id": "dd158cdb-bfe3-4083-9e0e-85b6ab3e324a",
   "metadata": {},
   "outputs": [],
   "source": [
    "df.drop(1662, inplace=True)"
   ]
  },
  {
   "cell_type": "markdown",
   "id": "9132bc93-fbcf-49f3-91e0-a9959bf43e77",
   "metadata": {},
   "source": [
    "2) **(2 PTS)** The data contains 301 columns and you don't need most of them. Create a new dataframe called `work` containing only the columns listed below. Show the first five rows in `work`.\n",
    "\n",
    "* `Industry`: 7 Industry Categories with NAICS codes\n",
    "\n",
    "* `Size`: 8 Employee Size Categories\n",
    "\n",
    "* `OC3` Is your organization for profit, non-profit, government?\n",
    "\n",
    "* `HI1` In general, do you offer full, partial or no payment of premiums for personal health insurance for full-time employees?\n",
    "\n",
    "* `HI2` Over the past 12 months, were full-time employees asked to pay a larger proportion, smaller proportion or the same proportion of personal health insurance premiums?\n",
    "\n",
    "* `HI3`: Does your organization offer personal health insurance for your part-time employees?\n",
    "\n",
    "* `CP1`: Are there health education programs, which focus on skill development and lifestyle behavior change along with information dissemination and awareness building?\n",
    "\n",
    "* `WL6`: Allow employees to work from home?\n",
    "\n",
    "* Every column that begins `WD`, expressing the percentage of employees that have certain characteristics at the firm.  \n",
    "  **Hint: see if you can find a function that helps with this.**"
   ]
  },
  {
   "cell_type": "code",
   "execution_count": null,
   "id": "c33c15e0-280b-44c3-a81d-be3a3200849f",
   "metadata": {},
   "outputs": [],
   "source": []
  },
  {
   "cell_type": "markdown",
   "id": "02094573-991c-4190-812f-a7f812ffff8b",
   "metadata": {},
   "source": [
    "3) **(1 PT)** Next, let's understand if the variables are on different scales. Compute their minimum, maximum, standard deviation and mean.  \n",
    "It is fine to print additional statistics as well."
   ]
  },
  {
   "cell_type": "code",
   "execution_count": null,
   "id": "8c8b4b98-4021-4bf1-ae27-5c5383d31e76",
   "metadata": {},
   "outputs": [],
   "source": []
  },
  {
   "cell_type": "markdown",
   "id": "95dc93c8-630f-4890-9cca-f4c906b5c298",
   "metadata": {},
   "source": [
    "4) **(1 PT)** Briefly explain a benefit of scaling data."
   ]
  },
  {
   "cell_type": "markdown",
   "id": "31635c61-7fcc-4c23-a7c7-2294c7ead980",
   "metadata": {},
   "source": []
  },
  {
   "cell_type": "markdown",
   "id": "95950130-b493-4651-a5e2-d77c9e87ae73",
   "metadata": {},
   "source": [
    "5) **(1 PT)** It appears that the ranges of some of the variables are very different. Let's standardize the data.  \n",
    "Save the scaled data in `work_scaled` and print it."
   ]
  },
  {
   "cell_type": "code",
   "execution_count": null,
   "id": "7b936303-bc2b-42db-be2c-6120ced7dfaa",
   "metadata": {},
   "outputs": [],
   "source": []
  },
  {
   "cell_type": "markdown",
   "id": "8e58f45e-d42c-4801-9c1b-ad24cbbd2bcf",
   "metadata": {},
   "source": [
    "Notice that `work` is a dataframe, but `work_scaled` is an array. This might be surprising!  \n",
    "Recall that dataframes store data as numpy arrays as well.  \n",
    "**Changing data types can be a source of confusion and bugs. It's good practice to check the data type and dimension of objects.**"
   ]
  },
  {
   "cell_type": "code",
   "execution_count": 11,
   "id": "9563b642-2cd3-48bb-be16-b01a70385958",
   "metadata": {},
   "outputs": [
    {
     "data": {
      "text/plain": [
       "numpy.ndarray"
      ]
     },
     "execution_count": 11,
     "metadata": {},
     "output_type": "execute_result"
    }
   ],
   "source": [
    "type(work_scaled)"
   ]
  },
  {
   "cell_type": "markdown",
   "id": "df9950d1-0668-4f38-928d-756cdcf8f78d",
   "metadata": {},
   "source": [
    "This confirms `work_scaled` is a numpy array"
   ]
  },
  {
   "cell_type": "markdown",
   "id": "49b12773-b776-49b1-8a59-d34398ad04be",
   "metadata": {},
   "source": [
    "6) **(1 PT)** Let's make sure the shape of `work_scaled` matches the shape of `work`. Print the dimensions (rows, columns) of each object."
   ]
  },
  {
   "cell_type": "code",
   "execution_count": null,
   "id": "94b77e9d-00b5-411c-a7c8-f3931eb77d87",
   "metadata": {},
   "outputs": [],
   "source": []
  },
  {
   "cell_type": "markdown",
   "id": "e3c8ca3d-0654-448b-8990-05455bd72aa3",
   "metadata": {},
   "source": [
    "7. **(1 PT)** Let's make sure the scaled variables have standard deviation close to one. Print their standard deviations.  \n",
    "Hint: since `work_scaled` is a numpy array, you'll want to import a package to do the computation.  \n",
    "Also, there are 16 variables, so you should see 16 standard deviations in an array."
   ]
  },
  {
   "cell_type": "code",
   "execution_count": null,
   "id": "8b538996-fc1e-429c-b0c0-114bc37fc54d",
   "metadata": {},
   "outputs": [],
   "source": []
  },
  {
   "cell_type": "markdown",
   "id": "8fd7faa1-98bc-4954-8fb4-368f8c1114fc",
   "metadata": {},
   "source": [
    "8. **(1 PT)** Next, you would like to binarize the variable `CP1` in dataframe *work*.  \n",
    "Specifically, create a new variable in the *work* dataframe named `CP1_bin`, where:  \n",
    "\n",
    "```\n",
    "CP1_bin = 1 if CP1 >= 2\n",
    "CP1_bin = 0 if CP1 < 2\n",
    "```\n",
    "\n",
    "Print the first five rows of the dataframe to show the new column."
   ]
  },
  {
   "cell_type": "code",
   "execution_count": null,
   "id": "70f11cc3-d6d1-4895-8c16-48e6f564a264",
   "metadata": {},
   "outputs": [],
   "source": []
  },
  {
   "cell_type": "markdown",
   "id": "eec84db2-4e8c-46a8-9e99-ce5a862c2007",
   "metadata": {},
   "source": [
    "---\n",
    "\n",
    "Next, `CP1_bin` is converted to an array (specifically, a column vector):"
   ]
  },
  {
   "cell_type": "code",
   "execution_count": null,
   "id": "e703c46a-f44f-4526-ac36-218690d0a914",
   "metadata": {},
   "outputs": [],
   "source": [
    "cpi_bin = work.CP1_bin.values.reshape(-1,1)\n",
    "cpi_bin"
   ]
  },
  {
   "cell_type": "markdown",
   "id": "a43a3d1b-bef7-4166-8c71-f0915ca80caf",
   "metadata": {},
   "source": [
    "9. **(1 PT)** As a final step, you'd like to merge the two numpy arrays `work_scaled` and `cpi_bin` into a new array called `final`.  \n",
    "This will make it easier to do machine learning on the data later. Merge these arrays together and print out the result.  \n",
    "Hint: consider the function `hstack()`"
   ]
  },
  {
   "cell_type": "code",
   "execution_count": null,
   "id": "d5018ef8-b176-4c49-a0a9-9b5988a32d17",
   "metadata": {},
   "outputs": [],
   "source": []
  },
  {
   "cell_type": "markdown",
   "id": "378108c5-097f-45ed-b365-48d81be7698a",
   "metadata": {},
   "source": [
    "---\n",
    "\n",
    "Print the shapes of: `work_scaled`, `cpi_bin`, `final`\n",
    "\n",
    "`work_scaled` should have 16 columns  \n",
    "`cpi_bin` should have 1 column  \n",
    "`final` should have 16 + 1 columns."
   ]
  },
  {
   "cell_type": "code",
   "execution_count": 18,
   "id": "723dab26-a5e7-4e19-8043-9977e838ba49",
   "metadata": {},
   "outputs": [
    {
     "name": "stdout",
     "output_type": "stream",
     "text": [
      "(2842, 16)\n",
      "(2842, 1)\n",
      "(2842, 17)\n"
     ]
    }
   ],
   "source": [
    "print(work_scaled.shape)\n",
    "print(cpi_bin.shape)\n",
    "print(final.shape)"
   ]
  },
  {
   "cell_type": "markdown",
   "id": "c517d35f-bbb6-49ef-998e-6619660b65c6",
   "metadata": {},
   "source": [
    "If you completed this notebook, you have made substantial progress in the course. Congrats!  \n",
    "You demonstrated that you can load, prepare, scale, binarize and merge data.  \n",
    "This gets you very close to training a model on data."
   ]
  },
  {
   "cell_type": "markdown",
   "id": "34c848cb-079c-4ebe-a4ba-ec9e495fd643",
   "metadata": {},
   "source": [
    "---"
   ]
  }
 ],
 "metadata": {
  "kernelspec": {
   "display_name": "Python 3 (ipykernel)",
   "language": "python",
   "name": "python3"
  },
  "language_info": {
   "codemirror_mode": {
    "name": "ipython",
    "version": 3
   },
   "file_extension": ".py",
   "mimetype": "text/x-python",
   "name": "python",
   "nbconvert_exporter": "python",
   "pygments_lexer": "ipython3",
   "version": "3.9.12"
  }
 },
 "nbformat": 4,
 "nbformat_minor": 5
}
