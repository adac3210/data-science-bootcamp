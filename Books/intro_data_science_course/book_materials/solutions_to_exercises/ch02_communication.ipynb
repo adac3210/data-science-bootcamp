{
 "cells": [
  {
   "cell_type": "markdown",
   "id": "a20e5935-c0a3-45e8-bdd8-2444aad4ede1",
   "metadata": {},
   "source": [
    "<img src=\"../../predictioNN_Logo_JPG(72).jpg\" width=200>"
   ]
  },
  {
   "cell_type": "markdown",
   "id": "47a073ee-d3bb-402c-a440-4567e032c151",
   "metadata": {},
   "source": [
    "## Book Solutions\n",
    "### Chapter 2: Communicating Effectively and Earning Trust\n",
    "\n",
    "Last updated: May 9, 2023\n",
    "\n",
    "---"
   ]
  },
  {
   "cell_type": "markdown",
   "id": "74d06935-0397-4cf0-9c6b-8e8bc6e91da4",
   "metadata": {},
   "source": [
    "3. Give an example of something that should be included in a presentation to an engineering leader but not to the CEO."
   ]
  },
  {
   "cell_type": "markdown",
   "id": "2438d16a-a41b-406f-aad7-332f74ccb524",
   "metadata": {},
   "source": [
    "Answer: An architecture diagram will show the components of a system. This would be of interest to an engineering leader, who needs to understand how the system would operate at a high level, but it is too detailed for a CEO.\n",
    "\n",
    "---"
   ]
  },
  {
   "cell_type": "markdown",
   "id": "701d6b24-3949-4ed8-9ba5-2b92b900b7bd",
   "metadata": {},
   "source": [
    "4. Why is it important to include an executive summary at the start of a presentation to leadership?"
   ]
  },
  {
   "cell_type": "markdown",
   "id": "bc778cc9-0863-4dde-9526-1d50b944f94d",
   "metadata": {},
   "source": [
    "Answer: Starting with the executive summary will ensure that the main points of the presentation are covered. Depending on the audience, the presentation may go off course and lead to discussions which may be valuable but tangential to the presentation slides.\n",
    "\n",
    "---"
   ]
  },
  {
   "cell_type": "markdown",
   "id": "68a4ea23-1aa4-4f9d-b385-79d8c68dbd76",
   "metadata": {},
   "source": [
    "5. What should be included in a data science story?"
   ]
  },
  {
   "cell_type": "markdown",
   "id": "c9303ca0-1d01-4da2-b2da-5d6d3b2916a5",
   "metadata": {},
   "source": [
    "Answer: A data science story should discuss the user persona, the functionality, and the benefit that the project hopes to achieve. It is also useful to include high-level information about the data, model, usage, and results.\n",
    "\n",
    "---"
   ]
  },
  {
   "cell_type": "markdown",
   "id": "70858cf3-2887-4443-bc6b-3338a9d75d4c",
   "metadata": {},
   "source": [
    "6. True or False: A data science story should begin with a table of numbers."
   ]
  },
  {
   "cell_type": "markdown",
   "id": "604db769-2e05-429a-bc4a-b215eafdf987",
   "metadata": {},
   "source": [
    "Answer: False. The data science story should begin with a narrative.\n",
    "\n",
    "---"
   ]
  },
  {
   "cell_type": "markdown",
   "id": "9464839e-3299-4061-adb1-1d13475dd838",
   "metadata": {},
   "source": [
    "7. Indicate if the following product story is a good template, and explain your reasoning:\n",
    "\n",
    "\n",
    "James is a radiologist. He needs a fast, accurate system that can review chest x-rays for tumors.\n"
   ]
  },
  {
   "cell_type": "markdown",
   "id": "da819f04-2dc6-420d-90a5-f363d3bea53b",
   "metadata": {},
   "source": [
    "Answer: This is a good template as it briefly explains the user persona, the functionality, and the benefit.\n",
    "\n",
    "---"
   ]
  },
  {
   "cell_type": "markdown",
   "id": "a9f65c35-4357-4942-99ec-4e9c3238b7b7",
   "metadata": {},
   "source": [
    "8. You've just started a new data science role. What is the best way to get unstuck at work? Select the best answer.\n",
    "\n",
    "a) Wait until someone comes to offer help  \n",
    "b) Keep trying until you eventually find the solution. It's best not to waste the time of your colleagues.  \n",
    "c) See if you can quickly solve the problem yourself, and then ask for help if needed.  \n",
    "d) Ask your manager or nearest colleague each time you have a question. There is no shame in asking for help when it's needed."
   ]
  },
  {
   "cell_type": "markdown",
   "id": "a5fc8eb8-f5df-4eb3-baaf-7d1f18037ba0",
   "metadata": {},
   "source": [
    "Answer: c. You should first try to solve the problem yourself, and then ask for help.\n",
    "\n",
    "---"
   ]
  },
  {
   "cell_type": "markdown",
   "id": "99c7172a-2e9d-4b67-b2d4-39a3c72ddf8c",
   "metadata": {},
   "source": [
    "9. Which of these selections are examples of blockers? Select all that apply.\n",
    "\n",
    "a) The necessary dataset is not yet available for the project  \n",
    "b) A different engineering team needs to build a feature before the next team can begin their part of the project  \n",
    "c) The development team meets each morning to discuss the project status and plan for the day  \n",
    "d) A manager needs to sign off on the project and he is not responding to requests"
   ]
  },
  {
   "cell_type": "markdown",
   "id": "f76b5e5b-0a70-4434-8563-f19fabfc8ac7",
   "metadata": {},
   "source": [
    "Answer: a, b, d\n",
    "\n",
    "a - If the dataset is not available, then the project cannot start. This is a blocker.  \n",
    "\n",
    "b - Since a feature needs to be completed befure the next team can begin, this is a blocker.\n",
    "\n",
    "c - Daily standups help with planning and communication. This is NOT a blocker.  \n",
    "\n",
    "d - The project cannot move forward without signoff from the manager. This is a blocker.\n",
    "\n",
    "---"
   ]
  },
  {
   "cell_type": "markdown",
   "id": "988f3888-8c0f-4b90-834e-2351fe40a75b",
   "metadata": {},
   "source": [
    "12. Provide an example of how you can demonstrate ownership of something."
   ]
  },
  {
   "cell_type": "markdown",
   "id": "3e4b0a8f-e7f7-4638-b653-16f7d0742baf",
   "metadata": {},
   "source": [
    "Answer: You can take the lead on a project and navigate it to completion. As issues come up, you work to resolve them."
   ]
  },
  {
   "cell_type": "markdown",
   "id": "b19c7095-5a4f-4bf3-8caf-b432e97af343",
   "metadata": {},
   "source": [
    "---"
   ]
  }
 ],
 "metadata": {
  "kernelspec": {
   "display_name": "Python 3 (ipykernel)",
   "language": "python",
   "name": "python3"
  },
  "language_info": {
   "codemirror_mode": {
    "name": "ipython",
    "version": 3
   },
   "file_extension": ".py",
   "mimetype": "text/x-python",
   "name": "python",
   "nbconvert_exporter": "python",
   "pygments_lexer": "ipython3",
   "version": "3.9.12"
  }
 },
 "nbformat": 4,
 "nbformat_minor": 5
}
