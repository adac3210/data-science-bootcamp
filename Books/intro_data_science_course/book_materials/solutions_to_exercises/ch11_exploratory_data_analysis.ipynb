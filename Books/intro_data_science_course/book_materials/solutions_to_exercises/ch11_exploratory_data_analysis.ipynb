{
 "cells": [
  {
   "cell_type": "markdown",
   "id": "38a2c3f8-908d-4888-992b-afd335d48b1c",
   "metadata": {},
   "source": [
    "<img src=\"../../predictioNN_Logo_JPG(72).jpg\" width=200>"
   ]
  },
  {
   "cell_type": "markdown",
   "id": "ad115841-eda9-464c-aa67-04241f963a1d",
   "metadata": {},
   "source": [
    "## Book Solutions\n",
    "### Chapter 11: Exploratory Data Analysis\n",
    "\n",
    "Last updated: January 13, 2024\n",
    "\n",
    "---"
   ]
  },
  {
   "cell_type": "markdown",
   "id": "74d06935-0397-4cf0-9c6b-8e8bc6e91da4",
   "metadata": {},
   "source": [
    "1. From the Check Fraud exercise, what was the probability of a check being fraudulent given that it was unsigned?"
   ]
  },
  {
   "cell_type": "markdown",
   "id": "2438d16a-a41b-406f-aad7-332f74ccb524",
   "metadata": {},
   "source": [
    "Answer: From the two-way classification table, there were 4 unsigned checks, and three of them were fraudulent.  \n",
    "The probability of a check being fraudulent given that it was unsiged is therefore 3/4.\n",
    "\n",
    "---"
   ]
  },
  {
   "cell_type": "markdown",
   "id": "cb240609-0ca7-4f29-9bce-45123cd02b0e",
   "metadata": {},
   "source": [
    "3. For each of the given scenarios, indicate whether the mean, median, or mode would be the most appropriate measure of central tendency:\n",
    "\n",
    "a) You would like to compute the central tendency of a set of home sales in a certain neighborhood. The homes that sold consist of 20 nearly identical ranch-style 3-bedroom houses.  \n",
    "b) You would like to compute the central tendency of a set of home sales in a certain neighborhood. The homes that sold consist of 20 nearly identical ranch-style 3-bedroom houses and one seaside mansion.  \n",
    "c) A dataset has a categorical variable with some missing values. You wish to use a measure of central tendency to impute the missing values."
   ]
  },
  {
   "cell_type": "markdown",
   "id": "b6a036e7-d2ce-473c-b9bb-2972b6c7d2b0",
   "metadata": {},
   "source": [
    "Answer: \n",
    "\n",
    "a - The mean is appropriate for this case where the sold homes are nearly identical.\n",
    "\n",
    "b - The median is appropriate for this case where there is one outlier home sale which would skew the mean.\n",
    "\n",
    "c - The mode is appropriate for this case where the data is categorical. The mode will indicate the value which occured most often.\n",
    "\n",
    "---"
   ]
  },
  {
   "cell_type": "markdown",
   "id": "7b1c0a4b-8278-4875-976a-764b1d88a401",
   "metadata": {},
   "source": [
    "6. True or False: The primary objective of graphics should be to show the viewer something visually impressive."
   ]
  },
  {
   "cell_type": "markdown",
   "id": "ed51d685-c473-496f-9ff7-77182223e04a",
   "metadata": {},
   "source": [
    "Answer: False. The primary objective of graphics is that it should tell the truth about data.\n",
    "\n",
    "---"
   ]
  },
  {
   "cell_type": "markdown",
   "id": "3d394e84-b60e-4349-97a4-5404d8758c64",
   "metadata": {},
   "source": [
    "10. You produce a bar plot where each month of the year is represented with a different color. Is this a good practice? Explain why or why not."
   ]
  },
  {
   "cell_type": "markdown",
   "id": "11f6ccce-3716-4a45-a233-3def7c692e23",
   "metadata": {},
   "source": [
    "Answer: A different color for each month is not a good practice as it introduces a fake dimension. The separate bars indicate different months; the different color suggests another piece of information that doesn't truly exist.\n",
    "\n",
    "---"
   ]
  },
  {
   "cell_type": "markdown",
   "id": "08a7cbe0-40b6-4354-922a-8ed3894bf8cc",
   "metadata": {},
   "source": [
    "11. From the World Happiness dataset, use `seaborn` to produce a scatterplot with the `Generosity` variable on the x-axis and the `Happiness score` on the y-axis. "
   ]
  },
  {
   "cell_type": "markdown",
   "id": "399cb0ea-786b-4871-b02b-e46c3be06bf1",
   "metadata": {},
   "source": [
    "Answer: \n",
    "\n",
    "This code will produce the plot:\n",
    "\n",
    "```\n",
    "sns.scatterplot(x='Explained by: Generosity',           \n",
    "                y='Happiness score', data=df)\n",
    "```\n"
   ]
  },
  {
   "cell_type": "markdown",
   "id": "0e9e422d-b042-4223-a118-a0819fc108e8",
   "metadata": {},
   "source": [
    "<img src=\"./generosity.png\" width=400>\n",
    "\n",
    "---"
   ]
  }
 ],
 "metadata": {
  "kernelspec": {
   "display_name": "Python 3 (ipykernel)",
   "language": "python",
   "name": "python3"
  },
  "language_info": {
   "codemirror_mode": {
    "name": "ipython",
    "version": 3
   },
   "file_extension": ".py",
   "mimetype": "text/x-python",
   "name": "python",
   "nbconvert_exporter": "python",
   "pygments_lexer": "ipython3",
   "version": "3.9.12"
  }
 },
 "nbformat": 4,
 "nbformat_minor": 5
}
