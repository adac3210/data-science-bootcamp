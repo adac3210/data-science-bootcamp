{
 "cells": [
  {
   "cell_type": "markdown",
   "id": "bb27dd0a-627e-44fa-8176-2fe670c38712",
   "metadata": {},
   "source": [
    "<img src=\"../../predictioNN_Logo_JPG(72).jpg\" width=200>"
   ]
  },
  {
   "cell_type": "markdown",
   "id": "c4181d56-668d-4793-984d-f4f0666e2a93",
   "metadata": {},
   "source": [
    "## Book Solutions\n",
    "### Chapter 7: Data Storage and Retrieval\n",
    "\n",
    "Last updated: January 13, 2024\n",
    "\n",
    "---"
   ]
  },
  {
   "cell_type": "markdown",
   "id": "6e28c2dd-5eb9-444f-b85d-8b65cc929163",
   "metadata": {},
   "source": [
    "1. Can an Excel spreadsheet be considered a database? Explain your answer."
   ]
  },
  {
   "cell_type": "markdown",
   "id": "839a418a-48d3-48d7-a813-47634f95a59d",
   "metadata": {},
   "source": [
    "Answer: Yes. A database needs to support the CRUD operations.\n",
    "\n",
    "C - Data can be *created* in excel  \n",
    "R - It is possible to *retrieve* data in excel  \n",
    "U - Data in excel can be *updated*  \n",
    "D - It is possible to *delete* data in excel  \n",
    "\n",
    "\n",
    "---"
   ]
  },
  {
   "cell_type": "markdown",
   "id": "24aa5c8a-0a6c-4323-afa4-157912d1e12c",
   "metadata": {},
   "source": [
    "2. True or False: For any relational database table, there needs to be one field which has unique values."
   ]
  },
  {
   "cell_type": "markdown",
   "id": "088e76cb-4598-4a24-9472-83160aa173b4",
   "metadata": {},
   "source": [
    "Answer: False. A composite key can use multiple fields to uniquely identify records. These combined fields need to be unique.\n",
    "\n",
    "---"
   ]
  },
  {
   "cell_type": "markdown",
   "id": "260a182c-923a-442a-9a60-a1d32be72b5e",
   "metadata": {},
   "source": [
    "3. Rows in a database table are also called $x$ and $y$. Columns in a database table are also called $a$ and $b$. What are $x$, $y$, $a$, and $b$?"
   ]
  },
  {
   "cell_type": "markdown",
   "id": "78c8d8b8-4b83-48c3-9b73-952aaae80453",
   "metadata": {},
   "source": [
    "Answer: Rows are also called records ($x$) and tuples ($y$). Columns are also called fields ($a$) and attributes ($b$).\n",
    "\n",
    "---"
   ]
  },
  {
   "cell_type": "markdown",
   "id": "773fa7e6-8b52-41f6-8691-ecd495889db7",
   "metadata": {},
   "source": [
    "4. A database administrator wishes to prevent users from inserting an invalid field value into a table. What can be done to support this requirement?"
   ]
  },
  {
   "cell_type": "markdown",
   "id": "a36302bf-2931-4371-97b2-f2d8fc939d2b",
   "metadata": {},
   "source": [
    "Answer: The field can be a primary key in one table (call it Table A), and it can be a foreign key in the table of interest (Table B). If a user tries to insert a value into Table B which is not in Table A, the operation will not be permitted.\n",
    "\n",
    "\n",
    "---"
   ]
  },
  {
   "cell_type": "markdown",
   "id": "6162c004-2344-4d46-8354-8ec90ce92bd5",
   "metadata": {},
   "source": [
    "5. Explain the difference between a primary key and a foreign key."
   ]
  },
  {
   "cell_type": "markdown",
   "id": "2a4f7dd3-3536-414f-bf91-71458587dc8b",
   "metadata": {},
   "source": [
    "Answer: A primary key is useful for identifying unique records in a table. A foreign key is a field in one table that references a primary key in another table.\n",
    "\n",
    "\n",
    "\n",
    "---"
   ]
  },
  {
   "cell_type": "markdown",
   "id": "732d6e1f-0165-460a-8bb9-1ab4198dc28c",
   "metadata": {},
   "source": [
    "6. A relational database uses multiple tables. Explain at least one benefit to this approach."
   ]
  },
  {
   "cell_type": "markdown",
   "id": "dcebdeb1-8e89-46c1-82e6-27ceefc2661a",
   "metadata": {},
   "source": [
    "Answer: A relational database should store different concepts in different tables. This will minimize redundancy of the data, which will reduce the likelihood of errors.\n",
    "\n",
    "\n",
    "---"
   ]
  },
  {
   "cell_type": "markdown",
   "id": "133ce299-58fb-459b-a51a-7c6151f50e9c",
   "metadata": {},
   "source": [
    "11.  True or False: An outer join will merge two tables and produce a new table with no missing values."
   ]
  },
  {
   "cell_type": "markdown",
   "id": "f9ff0403-e07c-4d90-9ca2-4cb43a81e582",
   "metadata": {},
   "source": [
    "Answer: False. An outer join may result in missing values.\n",
    "\n",
    "\n",
    "---"
   ]
  },
  {
   "cell_type": "markdown",
   "id": "25c0b990-4201-49b4-aa4f-f63367f914ea",
   "metadata": {},
   "source": [
    "14. When is it preferable to use a data lake instead of a data warehouse? "
   ]
  },
  {
   "cell_type": "markdown",
   "id": "9880fc56-3e1c-4b91-8e78-79114d55e149",
   "metadata": {},
   "source": [
    "Answer: A data lake is preferable for semi-structured data and unstructured data. A data warehouse is a powerful tool for structured data.\n",
    "\n",
    "---"
   ]
  },
  {
   "cell_type": "markdown",
   "id": "5bfd957d-1d63-40bd-8324-6db7f5fca6f1",
   "metadata": {},
   "source": [
    "15. Discuss a large challenge faced by data lakes."
   ]
  },
  {
   "cell_type": "markdown",
   "id": "dcce7471-1332-4fb3-bd29-b58a3e873084",
   "metadata": {},
   "source": [
    "Answer: A data model is not required when storing data into a data lake. It can be easy for bad data to corrupt the lake, making it less useful.\n",
    "\n",
    "---"
   ]
  },
  {
   "cell_type": "markdown",
   "id": "e0f12549-0177-462e-9c1c-a3a1d140ea09",
   "metadata": {},
   "source": [
    "16. Read about *eventual consistency* and summarize the premise in a few sentences. What is the benefit to eventual consistency?"
   ]
  },
  {
   "cell_type": "markdown",
   "id": "1f9e0704-0463-47ba-8167-79e91122db33",
   "metadata": {},
   "source": [
    "Answer: To serve results faster, it can be preferable to maintain copies of the database and situate them in different regions close to users. This introduces the problem that the databases may not be perfectly synced, and users receiving data from the different databases may see different results. Eventual consistency is the concept that while the results may differ, they will eventually get synced, assuming new data doesn't arrive. \n",
    "\n",
    "---"
   ]
  }
 ],
 "metadata": {
  "kernelspec": {
   "display_name": "Python 3 (ipykernel)",
   "language": "python",
   "name": "python3"
  },
  "language_info": {
   "codemirror_mode": {
    "name": "ipython",
    "version": 3
   },
   "file_extension": ".py",
   "mimetype": "text/x-python",
   "name": "python",
   "nbconvert_exporter": "python",
   "pygments_lexer": "ipython3",
   "version": "3.9.12"
  }
 },
 "nbformat": 4,
 "nbformat_minor": 5
}
