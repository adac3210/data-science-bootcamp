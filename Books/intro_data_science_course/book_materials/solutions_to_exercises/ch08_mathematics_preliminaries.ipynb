{
 "cells": [
  {
   "cell_type": "markdown",
   "id": "bb27dd0a-627e-44fa-8176-2fe670c38712",
   "metadata": {},
   "source": [
    "<img src=\"../../predictioNN_Logo_JPG(72).jpg\" width=200>"
   ]
  },
  {
   "cell_type": "markdown",
   "id": "c4181d56-668d-4793-984d-f4f0666e2a93",
   "metadata": {},
   "source": [
    "## Book Solutions\n",
    "### Chapter 8: Mathematics Preliminaries\n",
    "\n",
    "Last updated: May 12, 2023\n",
    "\n",
    "---"
   ]
  },
  {
   "cell_type": "markdown",
   "id": "8dffd3c2-41f6-442f-8bf6-5f6c85b3b932",
   "metadata": {},
   "source": [
    "For questions 2 and 3, consider the sets U, X, Y, and Z below, where U is the universal set.\n",
    "\n",
    "$U = \\{a,b,c,d,e,f,g\\}$  \n",
    "$X = \\{a,b,c \\}$  \n",
    "$Y = \\{d,e,f \\}$  \n",
    "$Z = \\{b,c,g \\}$  \n",
    "\n",
    "---"
   ]
  },
  {
   "cell_type": "markdown",
   "id": "6e28c2dd-5eb9-444f-b85d-8b65cc929163",
   "metadata": {},
   "source": [
    "2. What is the union of X and Y?"
   ]
  },
  {
   "cell_type": "markdown",
   "id": "839a418a-48d3-48d7-a813-47634f95a59d",
   "metadata": {},
   "source": [
    "Answer: a, b, c, d, e, f\n",
    "\n",
    "The union holds the unique elements from each set. Any element in set X, Y, or both would be in the union.\n",
    "\n",
    "---"
   ]
  },
  {
   "cell_type": "markdown",
   "id": "24aa5c8a-0a6c-4323-afa4-157912d1e12c",
   "metadata": {},
   "source": [
    "3. What is the intersection of Y and Z?"
   ]
  },
  {
   "cell_type": "markdown",
   "id": "088e76cb-4598-4a24-9472-83160aa173b4",
   "metadata": {},
   "source": [
    "Answer: The empty set\n",
    "\n",
    "The intersection is the elements in both sets.  \n",
    "There are no common elements in Y and Z.\n",
    "\n",
    "---"
   ]
  },
  {
   "cell_type": "markdown",
   "id": "260a182c-923a-442a-9a60-a1d32be72b5e",
   "metadata": {},
   "source": [
    "4. Does the function $f(x)=7x^2$ have an inverse? Explain your reasoning."
   ]
  },
  {
   "cell_type": "markdown",
   "id": "78c8d8b8-4b83-48c3-9b73-952aaae80453",
   "metadata": {},
   "source": [
    "Answer: The function does not have an inverse as it fails the horizontal line test.  \n",
    "Graphically, $f$ is a parabola that opens upward.  \n",
    "Since there are values of $f(x)$ which map to two possible values of x, the function does not have an inverse. \n",
    "\n",
    "One example is $f(-1)=f(1)=7$  \n",
    "For the function value 7, both $x=-1$ and $x=1$ would satisfy the requirement.\n",
    "\n",
    "---"
   ]
  },
  {
   "cell_type": "markdown",
   "id": "773fa7e6-8b52-41f6-8691-ecd495889db7",
   "metadata": {},
   "source": [
    "6. Explain the limit of a function."
   ]
  },
  {
   "cell_type": "markdown",
   "id": "a36302bf-2931-4371-97b2-f2d8fc939d2b",
   "metadata": {},
   "source": [
    "Answer: The limit of a function is the value that the function approaches (e.g., $L$) as the input approaches a value (e.g., $\\delta$).\n",
    "\n",
    "\n",
    "---"
   ]
  },
  {
   "cell_type": "markdown",
   "id": "6162c004-2344-4d46-8354-8ec90ce92bd5",
   "metadata": {},
   "source": [
    "7. What is the limit of the function $f(x)=\\frac{1}{2x-1}$ as x approaches 1/2?"
   ]
  },
  {
   "cell_type": "markdown",
   "id": "2a4f7dd3-3536-414f-bf91-71458587dc8b",
   "metadata": {},
   "source": [
    "Answer:\n",
    "\n",
    "Substituting $x=1/2$ into the function produces a zero in the denominator. This means that the limit is undefined.\n",
    "\n",
    "---"
   ]
  },
  {
   "cell_type": "markdown",
   "id": "732d6e1f-0165-460a-8bb9-1ab4198dc28c",
   "metadata": {},
   "source": [
    "11. Explain the derivative of a function."
   ]
  },
  {
   "cell_type": "markdown",
   "id": "dcebdeb1-8e89-46c1-82e6-27ceefc2661a",
   "metadata": {},
   "source": [
    "Answer: The derivative represents the slope of a tangent line to the function at a given point.  \n",
    "It is an instantaneous rate of change at the point.\n",
    "\n",
    "\n",
    "---"
   ]
  },
  {
   "cell_type": "markdown",
   "id": "133ce299-58fb-459b-a51a-7c6151f50e9c",
   "metadata": {},
   "source": [
    "16. Calculate the derivative of $f(x)=6x^2+1$"
   ]
  },
  {
   "cell_type": "markdown",
   "id": "f9ff0403-e07c-4d90-9ca2-4cb43a81e582",
   "metadata": {},
   "source": [
    "Answer:\n",
    "\n",
    "We can apply differentiation to each term and sum the terms:\n",
    "\n",
    "$\\frac{d}{dx} f(x) = \\frac{d}{dx} (6x^2) + \\frac{d}{dx} (1)$\n",
    "\n",
    "For the first term, we apply the power rule\n",
    "\n",
    "For the second term, the derivative of a constant is zero\n",
    "\n",
    "This yields\n",
    "\n",
    "$\\frac{d}{dx} f(x) = 12x + 0 = 12x$\n",
    "\n",
    "---"
   ]
  },
  {
   "cell_type": "markdown",
   "id": "25c0b990-4201-49b4-aa4f-f63367f914ea",
   "metadata": {},
   "source": [
    "18. Calculate the derivative of $f(x)=2x^3 e^{2x}$"
   ]
  },
  {
   "cell_type": "markdown",
   "id": "9880fc56-3e1c-4b91-8e78-79114d55e149",
   "metadata": {},
   "source": [
    "Answer: We can use the product rule as follows:\n",
    "\n",
    "First write the function as the product of two simpler functions:  \n",
    "$f(x) = g(x)h(x)$ where $g(x)=2x^3$ and $e^{2x}$\n",
    "\n",
    "The product rule says that\n",
    "\n",
    "$f'(x)= g(x)h'(x) +  g'(x)h(x)$\n",
    "\n",
    "Now we need to compute the derivatives $g'(x)$ and $h'(x)$:\n",
    "\n",
    "$g'(x) = 6x^2$ by the power rule\n",
    "\n",
    "To compute $h'(x)$ we apply the chain rule and the rule for differentiation of the exponential function:\n",
    "\n",
    "$h'(x)=e^{2x} \\cdot \\frac{d}{dx}(2x) = 2e^{2x}$\n",
    "\n",
    "Putting the pieces together,\n",
    "\n",
    "$f'(x)= 2x^3 \\cdot 2e^{2x} + 6x^2 \\cdot e^{2x}$  \n",
    "\n",
    "We can take out the common factor $2x^2e^{2x}$ for a simplified expression:\n",
    "\n",
    "$f'(x)=2x^2e^{2x}(2x + 3)$\n",
    "\n",
    "---"
   ]
  },
  {
   "cell_type": "markdown",
   "id": "5bfd957d-1d63-40bd-8324-6db7f5fca6f1",
   "metadata": {},
   "source": [
    "20. Apply the derivative to find the maximum of the function $f(x)=-4x^2+5x$ on the domain $(-\\infty, \\infty)$. For which value of x does the maximum occur?"
   ]
  },
  {
   "cell_type": "markdown",
   "id": "dcce7471-1332-4fb3-bd29-b58a3e873084",
   "metadata": {},
   "source": [
    "Answer: We can take the derivative of each term and sum the terms as follows:\n",
    "\n",
    "$f'(x) = \\frac{d}{dx}(-4x^2) + \\frac{d}{dx}(5x)$  \n",
    "$f'(x) = -4 \\frac{d}{dx}(x^2) + 5 \\frac{d}{dx}(x)$ ;    (constant is taken out of differentiation)  \n",
    "$f'(x) = -8x + 5$ ; (by the power rule)\n",
    "\n",
    "We can find the critical value to determine the function maximum.  \n",
    "The critical value occurs where the derivative is equal to zero.\n",
    "\n",
    "$f'(x) = -8x + 5 = 0$\n",
    "\n",
    "At input value $x = 5/8$, the function will attain its maximum. We plug this value into $f(x)$.  \n",
    "Notice how much we can simplify the expression keeping things as fractions:\n",
    "\n",
    "$f(5/8) = -4(5/8)^2 + 5(5/8)$  \n",
    "$f(5/8) = (5/8)[-4(5/8)+5]$  \n",
    "$f(5/8) = (5/8)[-(20/8)+40/8]$  \n",
    "$f(5/8) = (5/8)[20/8]$  \n",
    "$f(5/8) = (5/8)[5/2]$  \n",
    "$f(5/8) = 25/16$  \n",
    "\n",
    "As a decimal:  \n",
    "$f(5/8) = 0.5625$ \n",
    "\n",
    "---"
   ]
  },
  {
   "cell_type": "markdown",
   "id": "a9c9cc2d-bbaf-462a-aba6-3d10d86423c7",
   "metadata": {},
   "source": [
    "21. Compute the gradient of the function $f(x,y) = 2x + 3y^2 + 1$"
   ]
  },
  {
   "cell_type": "markdown",
   "id": "df1f7f8b-e859-4d87-829a-b059613c3a8c",
   "metadata": {},
   "source": [
    "Answer: The gradient is the vector of partial derivatives.  \n",
    "\n",
    "$\\nabla f(x,y) = \\left(\\frac{\\partial f}{\\partial x}, \\frac{\\partial f}{\\partial y} \\right)$\n",
    "\n",
    "As $f$ is a function of $x$ and $y$, we will compute each partial derivative:\n",
    "\n",
    "$\\frac{\\partial f}{\\partial x}(x,y) = 2 \\frac{\\partial f}{\\partial x}(x) + \\frac{\\partial f}{\\partial x}(3y^2)+\\frac{\\partial f}{\\partial x}(1)$  \n",
    "\n",
    "For partial derivative $\\frac{\\partial f}{\\partial x}$, $y$ is treated as a constant. Things simplify to\n",
    "\n",
    "$\\frac{\\partial f}{\\partial x}(x,y) = 2 + 0 + 0 = 2$  (power rule applied to first term; others treated as constants)\n",
    "\n",
    "For partial derivative $\\frac{\\partial f}{\\partial y}$, $x$ is treated as a constant:  \n",
    "\n",
    "$\\frac{\\partial f}{\\partial y}(x,y) = \\frac{\\partial f}{\\partial y}(2x) + 3\\frac{\\partial f}{\\partial y}(y^2)+\\frac{\\partial f}{\\partial y}(1)$  \n",
    "\n",
    "$\\frac{\\partial f}{\\partial y}(x,y) = 0 + 6y + 0 = 6y$ ; (power rule applied to second term; others treated as constants)\n",
    "\n",
    "Collecting the partial derivatives into a vector yields the gradient:\n",
    "\n",
    "$\\nabla f(x,y) = \\left(2, 6y \\right)$\n",
    "\n",
    "---"
   ]
  },
  {
   "cell_type": "markdown",
   "id": "a790b207-f67c-4ca5-a419-124394a5c516",
   "metadata": {},
   "source": [
    "22. A couple has two children. One child is known to be a girl. What is the probability that the other child is a girl?"
   ]
  },
  {
   "cell_type": "markdown",
   "id": "2592321b-04b5-47c7-b507-4846b2f2ac2f",
   "metadata": {},
   "source": [
    "Answer: 1/3\n",
    "\n",
    "It may be tempting to say that the probability of each child being a girl is 1/2, but this is incorrect.\n",
    "\n",
    "We need to use the information provided, which means calculating a conditional probability.\n",
    "\n",
    "Since one child is a girl, there are three possible outcomes (BB is ruled out):\n",
    "\n",
    "$\\{GB, BG, GG\\}$\n",
    "\n",
    "Notice that order matters\n",
    "\n",
    "A successful outcome will be GG (there is one path to success)\n",
    "\n",
    "This means the probability is 1 / 3\n",
    "\n",
    "---"
   ]
  },
  {
   "cell_type": "markdown",
   "id": "0d64c474-3b31-4bc6-932b-5c3da989f745",
   "metadata": {},
   "source": [
    "24. A random variable U follows a Uniform(0,1). What is the probability that U is between 1/3 and 2/3?"
   ]
  },
  {
   "cell_type": "markdown",
   "id": "bcd37dfe-357c-49bb-aac9-90dcc2b72200",
   "metadata": {},
   "source": [
    "Answer: The probability density function of a Uniform(0,1) looks like a square with height and width 1.  \n",
    "The probability of interest $P(1/3 < U < 2/3)$ can be computed as the area of the relevant region.  \n",
    "The region has height 1 and width: (2/3)-(1/3) = 1/3.  \n",
    "The area is then $1 \\times 1/3 = 1/3$\n",
    "\n",
    "---"
   ]
  },
  {
   "cell_type": "markdown",
   "id": "31ef7444-6e2a-477d-b0ef-651f0d3c9a17",
   "metadata": {},
   "source": [
    "25. True or False: For a random variable X following a normal distribution, the probability that X=0 is zero."
   ]
  },
  {
   "cell_type": "markdown",
   "id": "9e1a9e1d-221b-4423-ae2b-19ba77d6f3ec",
   "metadata": {},
   "source": [
    "Answer: True\n",
    "\n",
    "For a random variable which follows a continuous distribution, the probability at any point is zero.\n",
    "\n",
    "---"
   ]
  },
  {
   "cell_type": "markdown",
   "id": "ddfb1b2e-5a9c-4bc4-93d9-002ba89d057e",
   "metadata": {},
   "source": [
    "26. A random variable X follows a normal distribution with mean 10 and standard deviation 2. What is the probability that X is between 8 and 14?"
   ]
  },
  {
   "cell_type": "markdown",
   "id": "b68ed094-340a-46a4-a8d5-eb2449494626",
   "metadata": {},
   "source": [
    "Answer: We can first compute z-scores to work with a standard normal random variable:  \n",
    "\n",
    "The formula for the z-score is $z = \\frac{X-\\mu}{\\sigma}$\n",
    "\n",
    "The probability  \n",
    "$P(8 < X < 14)$\n",
    "\n",
    "is equivalent to the probability \n",
    "\n",
    "$P(\\frac{8-10}{2} < Z < \\frac{14-10}{2})$\n",
    "\n",
    "which we can simplify to\n",
    "\n",
    "$P(-1 < Z < 2)$  \n",
    "\n",
    "This means that we wish to find the probability that a standard normal falls between one standard deviation  \n",
    "below the mean and two standard deviations above the mean.\n",
    "\n",
    "We can compute the cumulative probability $P(Z < 2)$ and then subtract off the cumulative probability $P(Z < -1)$.  \n",
    "\n",
    "Please see Python code below for details.\n",
    "\n",
    "$P(Z < 2) = 0.97725$\n",
    "\n",
    "$P(Z < -1) = 0.15866$\n",
    "\n",
    "Lastly, \n",
    "\n",
    "$P(Z < 2) - P(Z < -1) = 0.81859$\n"
   ]
  },
  {
   "cell_type": "code",
   "execution_count": 24,
   "id": "529b36de-73f2-4b3b-85e1-37b77fc664ed",
   "metadata": {},
   "outputs": [
    {
     "name": "stdout",
     "output_type": "stream",
     "text": [
      "P(Z < 2) :  0.9772498680518208\n",
      "P(Z < -1) :  0.15865525393145707\n",
      "P(-1 < Z < 2) :  0.8185946141203637\n"
     ]
    }
   ],
   "source": [
    "from scipy import stats\n",
    "\n",
    "# compute cumulative density function F(2)\n",
    "prob_z_less_than_2 = stats.norm.cdf(2)\n",
    "\n",
    "# compute cumulative density function F(-1)\n",
    "prob_z_less_than_negative_one = stats.norm.cdf(-1)\n",
    "\n",
    "# compute difference in cumulative density functions F(2)-F(-1)\n",
    "prob_z_between_negative_one_and_two = prob_z_less_than_2 - prob_z_less_than_negative_one\n",
    "\n",
    "# print the results\n",
    "print('P(Z < 2) : ',prob_z_less_than_2)\n",
    "print('P(Z < -1) : ',prob_z_less_than_negative_one)\n",
    "print('P(-1 < Z < 2) : ', prob_z_between_negative_one_and_two)\n"
   ]
  },
  {
   "cell_type": "markdown",
   "id": "1570839a-8a8a-4c41-a87b-def8f2c2f6b4",
   "metadata": {},
   "source": [
    "---"
   ]
  },
  {
   "cell_type": "markdown",
   "id": "026b84c4-2238-4958-a00d-118ee737be00",
   "metadata": {},
   "source": [
    "27. A random variable follows a Weibull distribution with shape parameter 1 and scale parameter 2. One thousand independent draws are made and the mean value is computed. This is repeated 100,000 times. What is the approximate distribution of the means?"
   ]
  },
  {
   "cell_type": "markdown",
   "id": "5be57702-ecb7-4e81-a341-295f2af85131",
   "metadata": {},
   "source": [
    "Answer: By the central limit theorem, the distribution will be approximately normal.\n",
    "\n",
    "---"
   ]
  },
  {
   "cell_type": "markdown",
   "id": "ca192554-c6b3-4c9a-92ac-105a359580f1",
   "metadata": {},
   "source": [
    "30. Consider a vector $\\textbf{v}$ which contains zeroes in the first 99 positions and a value of 1 in the final position. A second vector $\\textbf{w}$ contains a 1 in the first position and zeroes in the next 99 positions. What is the inner product of $\\textbf{v}$ and $\\textbf{w}$?"
   ]
  },
  {
   "cell_type": "markdown",
   "id": "b66702e3-93ba-4203-a231-6b500fbacf38",
   "metadata": {},
   "source": [
    "Answer: 0\n",
    "\n",
    "The inner product is computed by: \n",
    "\n",
    "1. multiplying the corresponding elements of each vector (the products)\n",
    "2. summing over the products \n",
    "\n",
    "We can save a lot of work by realizing that in each position, we are multiplying a zero by a non-zero value. Since the product of a zero and a non-zero is zero, then step (1) yields all zeroes. Adding these zeroes gives an inner product of zero.\n",
    "\n",
    "---"
   ]
  }
 ],
 "metadata": {
  "kernelspec": {
   "display_name": "Python 3 (ipykernel)",
   "language": "python",
   "name": "python3"
  },
  "language_info": {
   "codemirror_mode": {
    "name": "ipython",
    "version": 3
   },
   "file_extension": ".py",
   "mimetype": "text/x-python",
   "name": "python",
   "nbconvert_exporter": "python",
   "pygments_lexer": "ipython3",
   "version": "3.9.12"
  }
 },
 "nbformat": 4,
 "nbformat_minor": 5
}
