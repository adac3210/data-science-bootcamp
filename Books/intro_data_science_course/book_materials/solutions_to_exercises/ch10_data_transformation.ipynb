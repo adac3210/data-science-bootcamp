{
 "cells": [
  {
   "cell_type": "markdown",
   "id": "6583138d-7dac-40ea-b7cf-e34f55c9a534",
   "metadata": {},
   "source": [
    "<img src=\"../../predictioNN_Logo_JPG(72).jpg\" width=200>"
   ]
  },
  {
   "cell_type": "markdown",
   "id": "69da4844-eda2-498f-a750-fe88665d8ecc",
   "metadata": {},
   "source": [
    "## Book Solutions\n",
    "### Chapter 10: Data Transformation\n",
    "\n",
    "Last updated: January 13, 2024\n",
    "\n",
    "---"
   ]
  },
  {
   "cell_type": "markdown",
   "id": "74d06935-0397-4cf0-9c6b-8e8bc6e91da4",
   "metadata": {},
   "source": [
    "2. You are deciding between the use of a 5-day moving average and a 30-day moving average. Explain how smoothing and the lag effect will differ between the two."
   ]
  },
  {
   "cell_type": "markdown",
   "id": "2438d16a-a41b-406f-aad7-332f74ccb524",
   "metadata": {},
   "source": [
    "Answer:  The 5-day moving average adapts more quickly and drops old data faster than the 30-day moving average. The 5-day moving average tends to be more irregular as a result.\n",
    "\n",
    "For an $n$-day moving average, the first data point begins on day $n$. Therefore, the 5-day and 30-day moving averages will have their first data points after 5 and 30 days, respectively. The 30-day average thus incurs a much longer lag time.\n",
    "\n",
    "---"
   ]
  },
  {
   "cell_type": "markdown",
   "id": "cb240609-0ca7-4f29-9bce-45123cd02b0e",
   "metadata": {},
   "source": [
    "4. What is the order of magnitude difference between five thousand and two billion?"
   ]
  },
  {
   "cell_type": "markdown",
   "id": "b6a036e7-d2ce-473c-b9bb-2972b6c7d2b0",
   "metadata": {},
   "source": [
    "Answer: \n",
    "\n",
    "The solution requires counting the number of additional zeroes between the two numbers:\n",
    "\n",
    "- 5,000  \n",
    "- 2,000,000,000\n",
    "\n",
    "The order of magnitude difference is 6.\n",
    "\n",
    "Alternatively, you could convert the numbers to scientific notation and take the power of ten difference:\n",
    "\n",
    "- 5 thousand = $5 x 10^3$\n",
    "- 2 billion = $2 x 10^9$\n",
    "\n",
    "The power of ten difference is 9 - 3 = 6.  \n",
    "Once again, the order of magnitude difference is 6.\n",
    "\n",
    "---"
   ]
  },
  {
   "cell_type": "markdown",
   "id": "7b1c0a4b-8278-4875-976a-764b1d88a401",
   "metadata": {},
   "source": [
    "5. What is the order of magnitude difference between 1/10 and 100,000?"
   ]
  },
  {
   "cell_type": "markdown",
   "id": "ed51d685-c473-496f-9ff7-77182223e04a",
   "metadata": {},
   "source": [
    "Answer:\n",
    "\n",
    "- 1/10 = $1 x 10^{-1}$\n",
    "- 100,000 = $1 x 10^5$\n",
    "\n",
    "The order of magnitude difference is 5 - (-1) = 6\n",
    "\n",
    "---"
   ]
  },
  {
   "cell_type": "markdown",
   "id": "3d394e84-b60e-4349-97a4-5404d8758c64",
   "metadata": {},
   "source": [
    "7. A student scored a 90 on a test. The class average and standard deviation were 75 and 5, respectively. Calculate the student's z-score."
   ]
  },
  {
   "cell_type": "markdown",
   "id": "11f6ccce-3716-4a45-a233-3def7c692e23",
   "metadata": {},
   "source": [
    "Answer: \n",
    "\n",
    "z-score = $\\frac{x-\\mu}{\\sigma}\n",
    "        =\\frac{90 - 75}{5} = \\frac{15}{5}=3$\n",
    "\n",
    "---"
   ]
  },
  {
   "cell_type": "markdown",
   "id": "08a7cbe0-40b6-4354-922a-8ed3894bf8cc",
   "metadata": {},
   "source": [
    "8. A student scored a 75 on a test. The class average and standard deviation were 75 and 5, respectively. Calculate the student's z-score."
   ]
  },
  {
   "cell_type": "markdown",
   "id": "399cb0ea-786b-4871-b02b-e46c3be06bf1",
   "metadata": {},
   "source": [
    "Answer: \n",
    "\n",
    "We can take a shortcut using the definition.  \n",
    "Since the student's score matched the mean, the z-score is zero.\n",
    "\n",
    "---"
   ]
  },
  {
   "cell_type": "markdown",
   "id": "29788b45-35e2-45eb-9357-ce9bb80d0f47",
   "metadata": {},
   "source": [
    "9. Use `numpy` and seed 314 to generate 1000 random values from a uniform distribution. Apply StandardScaler() to the data and verify that the standardized data has an approximate mean of zero and standard deviation of one."
   ]
  },
  {
   "cell_type": "markdown",
   "id": "b734f4c9-3e36-4f2a-bd63-e648b1d2f78b",
   "metadata": {},
   "source": [
    "Answer:\n",
    "\n",
    "Here is code for the task:\n",
    "\n",
    "```\n",
    "import numpy as np\n",
    "from sklearn.preprocessing import StandardScaler\n",
    "\n",
    "# set a seed for reproducibility\n",
    "np.random.seed(314)\n",
    "\n",
    "# create uniform distributed random variable with 1000 values\n",
    "\n",
    "# note that we reshape the data to a column vector\n",
    "data = np.random.uniform(low=0, \n",
    "                         high=1, \n",
    "                         size=1000).reshape(-1,1)\n",
    "\n",
    "scaler = StandardScaler()\n",
    "# center and scale the data\n",
    "scaled_data = scaler.fit_transform(data)\n",
    "\n",
    "print('mean:', scaled_data.mean())\n",
    "print('std dev:', scaled_data.std())\n",
    "```\n",
    "\n",
    "Here is the output:\n",
    "\n",
    "mean: 6.306066779870889e-17  \n",
    "std dev: 1.0\n",
    "\n",
    "\n",
    "---"
   ]
  },
  {
   "cell_type": "markdown",
   "id": "7c9d2bac-28a5-4be5-b113-f5fda88bee7d",
   "metadata": {},
   "source": [
    "12. Given the following list of categorical values, create and print the one-hot encoding matrix. The first level based on alphabet should be dropped.\n",
    "\n",
    "```\n",
    "edu_level = ['college','some college','associate','graduate']\n",
    "```\n"
   ]
  },
  {
   "cell_type": "markdown",
   "id": "1e03cdad-f0ae-47fa-a3a7-001ec0af2318",
   "metadata": {},
   "source": [
    "Answer:\n",
    "\n",
    "Here is code for the task:\n",
    "\n",
    "\n",
    "```\n",
    "import pandas as pd\n",
    "\n",
    "df = pd.DataFrame({'edu_level' : ['college','some college','associate','graduate']})\n",
    "\n",
    "\n",
    "pd.get_dummies(df.edu_level, drop_first=True, prefix='edu')\n",
    "\n",
    "```\n"
   ]
  },
  {
   "cell_type": "markdown",
   "id": "0f323d6a-4f88-43f5-93bf-05a41bef3552",
   "metadata": {},
   "source": [
    "<img src=\"./indicator_matrix.png\" width=400>\n",
    "\n",
    "---"
   ]
  },
  {
   "cell_type": "markdown",
   "id": "c1d6d97a-fd49-43ef-b966-21663a9ea699",
   "metadata": {},
   "source": [
    "13. Which of these variables are good candidates for binarization? Select all that apply.\n",
    "\n",
    "a) A categorical variable such as employment type  \n",
    "b) A variable indicating if a patron was satisfied with her meal  \n",
    "c) The number visits that a user made to a website in the last two days  \n",
    "d) The number of marathons that a group of randomly selected individuals ran last summer."
   ]
  },
  {
   "cell_type": "markdown",
   "id": "ade5877f-e101-4e28-ae65-e9e1f63465f4",
   "metadata": {},
   "source": [
    "Answer: c, d\n",
    "\n",
    "a - The categorical variable, which has string datatype, won't be a good candidate for binarization\n",
    "\n",
    "b - The indicator variable is already binary. this is not a good candidate\n",
    "\n",
    "c - It could be useful to binarize this count variable\n",
    "\n",
    "d - It could be useful to binarize this count variable\n",
    "\n",
    "---"
   ]
  },
  {
   "cell_type": "code",
   "execution_count": null,
   "id": "3b4ed70c-5818-4baf-92b1-43613e41b0f4",
   "metadata": {},
   "outputs": [],
   "source": []
  }
 ],
 "metadata": {
  "kernelspec": {
   "display_name": "Python 3 (ipykernel)",
   "language": "python",
   "name": "python3"
  },
  "language_info": {
   "codemirror_mode": {
    "name": "ipython",
    "version": 3
   },
   "file_extension": ".py",
   "mimetype": "text/x-python",
   "name": "python",
   "nbconvert_exporter": "python",
   "pygments_lexer": "ipython3",
   "version": "3.9.12"
  }
 },
 "nbformat": 4,
 "nbformat_minor": 5
}
