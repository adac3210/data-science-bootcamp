{
 "cells": [
  {
   "cell_type": "markdown",
   "id": "419ec340-df4c-4f38-96e7-ed7b356ddc8f",
   "metadata": {},
   "source": [
    "<img src=\"../../predictioNN_Logo_JPG(72).jpg\" width=200>"
   ]
  },
  {
   "cell_type": "markdown",
   "id": "af20ff12-e911-4f8b-9862-e4fa1e501a2f",
   "metadata": {},
   "source": [
    "## Book Solutions\n",
    "### Chapter 13: Modeling with Linear Regression\n",
    "\n",
    "Last updated: May 9, 2023\n",
    "\n",
    "---"
   ]
  },
  {
   "cell_type": "markdown",
   "id": "3bd0dbd4-695c-41e1-8aeb-e05d90d0388f",
   "metadata": {},
   "source": [
    "2. True or False: You have a system of linear equations with more equations than unknowns. This system can be solved exactly."
   ]
  },
  {
   "cell_type": "markdown",
   "id": "d57e08ef-0e47-433a-b35c-0a22b4ce538d",
   "metadata": {},
   "source": [
    "Answer: False\n",
    "\n",
    "A system with more equations than unknowns is an overdetermined system. It is not possible to solve this system exactly; regression is one method for solving such a system.\n",
    "\n",
    "---"
   ]
  },
  {
   "cell_type": "markdown",
   "id": "db40f7d4-128c-4b48-b380-0f9b6875e256",
   "metadata": {},
   "source": [
    "4. True or False: An intercept term adds flexibility to the linear regression model."
   ]
  },
  {
   "cell_type": "markdown",
   "id": "09fb3120-966a-4140-afc1-ac21791528f7",
   "metadata": {},
   "source": [
    "Answer: True\n",
    "\n",
    "The additional parameter allows for greater flexibility in the model. For example, without an intercept term, the model output would be zero when all predictors are zero.\n",
    "\n",
    "---"
   ]
  },
  {
   "cell_type": "markdown",
   "id": "ec4ecba5-4b9c-4aa1-a2ad-a50f1da84a78",
   "metadata": {},
   "source": [
    "6. Explain how the parameters of a linear regression model can be estimated. The discussion should include the concept of critical points."
   ]
  },
  {
   "cell_type": "markdown",
   "id": "dbd30a05-c678-411a-b7a2-ae8af73e2e97",
   "metadata": {},
   "source": [
    "Answer: To estimate the parameters of a linear regression model, an expression for the sum of squared errors is established. Since the sum is a function of the parameters, it can be minimized by taking the derivative with respect to each parameter and finding the critical point. The critical point will indicate the parameter values such that the gradient is equal to zero.\n",
    "\n",
    "---"
   ]
  },
  {
   "cell_type": "markdown",
   "id": "7d8a181f-b313-48fe-82f0-ed05ba9d68da",
   "metadata": {},
   "source": [
    "8. Consider a simple linear regression model where the predictor is uncorrelated to the response variable. What do you expect will be the value of the slope parameter? "
   ]
  },
  {
   "cell_type": "markdown",
   "id": "333b734e-56f2-4ca3-b59b-461321bd7089",
   "metadata": {},
   "source": [
    "Answer: If a predictor is uncorrelated to the response variable in a simple linear regression model, then we expect the slope parameter to have a value of zero.\n",
    "\n",
    "---"
   ]
  },
  {
   "cell_type": "markdown",
   "id": "3e4d3406-3d82-4bb4-b2d7-0580a7826a96",
   "metadata": {},
   "source": [
    "10. True or False: You have a dataset with tens of thousands of potential predictors. The best practice is for the model to include all of the statistically significant predictors."
   ]
  },
  {
   "cell_type": "markdown",
   "id": "193eb32c-1239-4b9c-9007-17549d7d9e71",
   "metadata": {},
   "source": [
    "Answer: False\n",
    "\n",
    "It is not enough to include predictors that are statistically significant. The variables should also make intuitive sense and they should avoid harmful consequences, such as introducing bias.\n",
    "\n",
    "---"
   ]
  },
  {
   "cell_type": "markdown",
   "id": "30c038aa-2905-478b-8dbc-8ac3f5766b07",
   "metadata": {},
   "source": [
    "13. Explain how $R^2$ is related to correlation."
   ]
  },
  {
   "cell_type": "markdown",
   "id": "98bb5efe-9f28-4e22-8442-690136827087",
   "metadata": {},
   "source": [
    "Answer: $R^2$ is the square of the correlation.\n",
    "\n",
    "---"
   ]
  },
  {
   "cell_type": "markdown",
   "id": "9e284133-fea9-4f76-b0fd-4ba64f702508",
   "metadata": {},
   "source": [
    "16. A residual plot shows a clear pattern. What does this mean?"
   ]
  },
  {
   "cell_type": "markdown",
   "id": "d3be8e0a-dd66-4a84-a5ec-b97e83dc3b28",
   "metadata": {},
   "source": [
    "Answer: A pattern in a residual plot suggests that a variable may be missing from the model.\n",
    "\n",
    "---"
   ]
  },
  {
   "cell_type": "markdown",
   "id": "9ce4aec3-4033-4edf-a652-5f660188e215",
   "metadata": {},
   "source": [
    "18. Using the `sklearn` module, fit a linear regression model to this dataset: $\\{(3,6),(3.5,9),(4,8)\\}$. Show your code and print the intercept and slope coefficient estimates and the R-squared."
   ]
  },
  {
   "cell_type": "markdown",
   "id": "1e07db54-43a3-40f9-a945-f9a9e0b95653",
   "metadata": {},
   "source": [
    "Answer: The code below will solve the task."
   ]
  },
  {
   "cell_type": "code",
   "execution_count": 9,
   "id": "ce6188ae-2136-4345-9187-0143f5bbae83",
   "metadata": {},
   "outputs": [],
   "source": [
    "import numpy as np\n",
    "from sklearn.linear_model import LinearRegression\n",
    "from sklearn.metrics import r2_score # R-squared"
   ]
  },
  {
   "cell_type": "code",
   "execution_count": 4,
   "id": "724b5a16-11d4-40d9-ae1f-ae1657d26a54",
   "metadata": {},
   "outputs": [
    {
     "data": {
      "text/plain": [
       "array([[3. , 6. ],\n",
       "       [3.5, 9. ],\n",
       "       [4. , 8. ]])"
      ]
     },
     "execution_count": 4,
     "metadata": {},
     "output_type": "execute_result"
    }
   ],
   "source": [
    "data = np.array([[3,6],[3.5,9],[4,8]])\n",
    "data"
   ]
  },
  {
   "cell_type": "code",
   "execution_count": 10,
   "id": "0c785367-1438-4b5f-8740-c309e0dc46f6",
   "metadata": {},
   "outputs": [],
   "source": [
    "X = data[:,0].reshape(-1, 1)\n",
    "y = data[:,1].reshape(-1, 1)\n",
    "\n",
    "reg = LinearRegression().fit(X,y)"
   ]
  },
  {
   "cell_type": "code",
   "execution_count": 11,
   "id": "7863616c-5550-426f-970d-e908ae768303",
   "metadata": {},
   "outputs": [
    {
     "data": {
      "text/plain": [
       "array([0.66666667])"
      ]
     },
     "execution_count": 11,
     "metadata": {},
     "output_type": "execute_result"
    }
   ],
   "source": [
    "reg.intercept_"
   ]
  },
  {
   "cell_type": "code",
   "execution_count": 12,
   "id": "8ee0468b-f764-4b13-8b85-1243c5125155",
   "metadata": {},
   "outputs": [
    {
     "data": {
      "text/plain": [
       "array([[2.]])"
      ]
     },
     "execution_count": 12,
     "metadata": {},
     "output_type": "execute_result"
    }
   ],
   "source": [
    "reg.coef_"
   ]
  },
  {
   "cell_type": "code",
   "execution_count": 16,
   "id": "60c318ad-41b8-4eb2-b36c-aabf7a2d490a",
   "metadata": {},
   "outputs": [
    {
     "data": {
      "text/plain": [
       "array([[6.66666667],\n",
       "       [7.66666667],\n",
       "       [8.66666667]])"
      ]
     },
     "execution_count": 16,
     "metadata": {},
     "output_type": "execute_result"
    }
   ],
   "source": [
    "# predicted y\n",
    "y_pred = reg.predict(X)\n",
    "y_pred"
   ]
  },
  {
   "cell_type": "code",
   "execution_count": 15,
   "id": "d52be0a3-1d21-40f0-9dfa-76914d75c8b1",
   "metadata": {},
   "outputs": [
    {
     "name": "stdout",
     "output_type": "stream",
     "text": [
      "R-squared: 0.42857142857142794\n"
     ]
    }
   ],
   "source": [
    "print('R-squared:', r2_score(y, y_pred))"
   ]
  }
 ],
 "metadata": {
  "kernelspec": {
   "display_name": "Python 3 (ipykernel)",
   "language": "python",
   "name": "python3"
  },
  "language_info": {
   "codemirror_mode": {
    "name": "ipython",
    "version": 3
   },
   "file_extension": ".py",
   "mimetype": "text/x-python",
   "name": "python",
   "nbconvert_exporter": "python",
   "pygments_lexer": "ipython3",
   "version": "3.9.12"
  }
 },
 "nbformat": 4,
 "nbformat_minor": 5
}
