{
 "cells": [
  {
   "cell_type": "markdown",
   "id": "7eebc9b1-5112-4237-91a6-ffe7ca1ec240",
   "metadata": {},
   "source": [
    "<img src=\"../../predictioNN_Logo_JPG(72).jpg\" width=200>"
   ]
  },
  {
   "cell_type": "markdown",
   "id": "8c8a1468-6929-4d86-a11d-95314714fa96",
   "metadata": {},
   "source": [
    "## Book Solutions\n",
    "### Chapter 4: An Overview of Data\n",
    "\n",
    "Last updated: May 9, 2023\n",
    "\n",
    "---"
   ]
  },
  {
   "cell_type": "markdown",
   "id": "74d06935-0397-4cf0-9c6b-8e8bc6e91da4",
   "metadata": {},
   "source": [
    "1. Which of the following are data? Select all that apply.\n",
    "\n",
    "a) a ruler  \n",
    "b) the dimensions of a ruler   \n",
    "c) a book  \n",
    "d) the text from a book  \n",
    "e) daily historical temperatures"
   ]
  },
  {
   "cell_type": "markdown",
   "id": "2438d16a-a41b-406f-aad7-332f74ccb524",
   "metadata": {},
   "source": [
    "Answer: b, d, e\n",
    "\n",
    "For each of these examples of data, the information can be stored and used by a computer.\n",
    "\n",
    "---"
   ]
  },
  {
   "cell_type": "markdown",
   "id": "cb240609-0ca7-4f29-9bce-45123cd02b0e",
   "metadata": {},
   "source": [
    "3. A set of patient ECG waves are collected and processed to remove noisy measurements. The cleaned data is stored and the raw data is deleted. Is this a good practice? Explain why or why not."
   ]
  },
  {
   "cell_type": "markdown",
   "id": "b6a036e7-d2ce-473c-b9bb-2972b6c7d2b0",
   "metadata": {},
   "source": [
    "Answer: Deleting the raw data is not a good practice. It is best to store the raw data and the cleaned data, so that reversion to the raw data is possible if needed.\n",
    "\n",
    "---"
   ]
  },
  {
   "cell_type": "markdown",
   "id": "94961e33-091b-428b-bc01-1491bc8718ce",
   "metadata": {},
   "source": [
    "4. For each of the given examples, indicate if the data is at rest (R), in use (U), or in motion (M):\n",
    "\n",
    "a) restaurant reviews on Yelp  \n",
    "b) a file in the process of being downloaded to a laptop  \n",
    "c) a table of data being updated by a nurse  \n",
    "d) a set of videos being transferred from a camera to a server"
   ]
  },
  {
   "cell_type": "markdown",
   "id": "d940a3d3-0de3-4cdd-995c-ff7a02e0b8bd",
   "metadata": {},
   "source": [
    "Answer:\n",
    "\n",
    "a) (R) the review data is at rest  \n",
    "b) (M) the data being downloaded is in motion  \n",
    "c) (U) the data being updated is in use  \n",
    "d) (M) the transferred videos are in motion\n",
    "\n",
    "---"
   ]
  },
  {
   "cell_type": "markdown",
   "id": "9f535814-8e33-4426-8cbd-de02caf9ac1b",
   "metadata": {},
   "source": [
    "5. Imagine that you have developed a system that reports on the risk of clients' stock portfolios. You have an automated, daily data feed that delivers data to your system at 1am Eastern Standard Time. Occasionally, some stock prices arrive up to 24 hours late. Clients expect a statistical report each day. Explain how you might calculate and report the statistics to satisfy your clients. Results don't need to be perfect."
   ]
  },
  {
   "cell_type": "markdown",
   "id": "b007c1ec-a50c-4c3c-9e5c-f5e8f6c88388",
   "metadata": {},
   "source": [
    "Answer: You can set a daily cutoff time. Following the cutoff, all received data can be processed for the report. Data arriving after the cutoff can be included in a later report when appropriate.\n",
    "\n",
    "---"
   ]
  },
  {
   "cell_type": "markdown",
   "id": "e5ae1341-14bf-402b-b653-0b7782b85094",
   "metadata": {},
   "source": [
    "6. You browse Netflix to find a movie to watch with your friends. How can metadata help in making the right selection?"
   ]
  },
  {
   "cell_type": "markdown",
   "id": "0c7512cc-9123-4667-a748-a28a8fc33b3b",
   "metadata": {},
   "source": [
    "Answer: There are several pieces of metadata that can help make the selection, including a plot summary, the genre, and the actors.\n",
    "\n",
    "---"
   ]
  },
  {
   "cell_type": "markdown",
   "id": "ef9195a4-4e01-4089-b7c8-14ea66f661f2",
   "metadata": {},
   "source": [
    "9. What is the danger of bias in a dataset? "
   ]
  },
  {
   "cell_type": "markdown",
   "id": "40736767-9f49-4d4b-a0d5-b92ff3c2f6b4",
   "metadata": {},
   "source": [
    "Answer: Bias will result in a misrepresentation of the data. This can lead to decisions which don't meet the right objectives.\n",
    "\n",
    "---"
   ]
  },
  {
   "cell_type": "markdown",
   "id": "b16bba8d-bce9-427c-b504-f4d323ca7d11",
   "metadata": {},
   "source": [
    "10. Imagine that data flows through a pipeline with these steps: \n",
    "\n",
    "Step 1: Sensors capture the data  \n",
    "Step 2: Algorithms process the data  \n",
    "Step 3: Predictions are made by a machine learning model  \n",
    "Step 4: Results are reported in a dashboard on the web \n",
    "\n",
    "Given that each of these steps is automated, is it correct to say that the data is neutral? Explain your reasoning."
   ]
  },
  {
   "cell_type": "markdown",
   "id": "5973b608-14b1-475a-b87d-fa39ea9072fa",
   "metadata": {},
   "source": [
    "Answer: The data is not neutral. For example:\n",
    "\n",
    "- the sensors might not capture all of the relevant inputs  \n",
    "- the model might not use all of the relevant features, and it might use inappropriate features\n",
    "- the dashboard might not reflect all of the right metrics, and it might show misleading metrics\n",
    "\n",
    "---"
   ]
  },
  {
   "cell_type": "code",
   "execution_count": null,
   "id": "524cb536-6015-4272-af40-e0a12009e766",
   "metadata": {},
   "outputs": [],
   "source": []
  }
 ],
 "metadata": {
  "kernelspec": {
   "display_name": "Python 3 (ipykernel)",
   "language": "python",
   "name": "python3"
  },
  "language_info": {
   "codemirror_mode": {
    "name": "ipython",
    "version": 3
   },
   "file_extension": ".py",
   "mimetype": "text/x-python",
   "name": "python",
   "nbconvert_exporter": "python",
   "pygments_lexer": "ipython3",
   "version": "3.9.12"
  }
 },
 "nbformat": 4,
 "nbformat_minor": 5
}
