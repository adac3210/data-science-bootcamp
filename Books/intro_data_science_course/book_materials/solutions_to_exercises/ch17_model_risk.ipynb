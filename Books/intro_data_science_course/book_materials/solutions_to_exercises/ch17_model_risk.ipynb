{
 "cells": [
  {
   "cell_type": "markdown",
   "id": "e0f27310-ab21-4420-b026-3916923ad617",
   "metadata": {},
   "source": [
    "<img src=\"../../predictioNN_Logo_JPG(72).jpg\" width=200>"
   ]
  },
  {
   "cell_type": "markdown",
   "id": "acbe558c-5b7c-4e21-a622-12a2eab873eb",
   "metadata": {},
   "source": [
    "## Book Solutions\n",
    "### Chapter 17: Model Risk\n",
    "\n",
    "Last updated: January 15, 2024\n",
    "\n",
    "---"
   ]
  },
  {
   "cell_type": "markdown",
   "id": "74d06935-0397-4cf0-9c6b-8e8bc6e91da4",
   "metadata": {},
   "source": [
    "1.  You are asked to validate a linear regression model. What might you verify as part of checking the conceptual soundness of the model?"
   ]
  },
  {
   "cell_type": "markdown",
   "id": "2438d16a-a41b-406f-aad7-332f74ccb524",
   "metadata": {},
   "source": [
    "Answer: You should inspect the residuals, which indicates if any trends are present after subtracting out the predictions. There should not be patterns in a residual plot.\n",
    "\n",
    "---"
   ]
  },
  {
   "cell_type": "markdown",
   "id": "cb240609-0ca7-4f29-9bce-45123cd02b0e",
   "metadata": {},
   "source": [
    "3. Why is a benchmark model important?"
   ]
  },
  {
   "cell_type": "markdown",
   "id": "b6a036e7-d2ce-473c-b9bb-2972b6c7d2b0",
   "metadata": {},
   "source": [
    "Answer: A benchmark model will illustrate predictive performance for a model with low complexity. To justify use of a more complex model, it should soundly beat the benchmark.\n",
    "\n",
    "---"
   ]
  },
  {
   "cell_type": "markdown",
   "id": "7b1c0a4b-8278-4875-976a-764b1d88a401",
   "metadata": {},
   "source": [
    "5. A technology startup has developed a sophisticated model to predict fraud. The startup believes that the F1 score is the most important metric to its target customer, and through testing, their model has a very high F1 score. Assuming that F1 score is the only thing that matters to the customer, are they likely to use the model? Explain your answer."
   ]
  },
  {
   "cell_type": "markdown",
   "id": "ed51d685-c473-496f-9ff7-77182223e04a",
   "metadata": {},
   "source": [
    "Answer: If the customer cares only about F1 score, and the model offers a high F1 score, then it will be likely to get adoption. However, the model should be tested on the customer data if possible, to insure that the model generalizes well.\n",
    "\n",
    "---"
   ]
  },
  {
   "cell_type": "markdown",
   "id": "3d394e84-b60e-4349-97a4-5404d8758c64",
   "metadata": {},
   "source": [
    "6. Explain how stress testing is different from sensitivity analysis"
   ]
  },
  {
   "cell_type": "markdown",
   "id": "11f6ccce-3716-4a45-a233-3def7c692e23",
   "metadata": {},
   "source": [
    "Answer: Stress testing measures the impact on model outputs given extreme but plausible inputs. Sensitivity analysis quantifies the impact on model outputs when the inputs and assumptions are changed. The changes to inputs may be small, such as exploring around the neighborhood of one or more hyperparameters.\n",
    "\n",
    "---"
   ]
  },
  {
   "cell_type": "markdown",
   "id": "08a7cbe0-40b6-4354-922a-8ed3894bf8cc",
   "metadata": {},
   "source": [
    "9. Explain the difference between monitoring and observability. Hint: is there a dependency between them?"
   ]
  },
  {
   "cell_type": "markdown",
   "id": "399cb0ea-786b-4871-b02b-e46c3be06bf1",
   "metadata": {},
   "source": [
    "Answer: In order to monitor components of a system, they must be observable. For example, an engineer might add logging to code, which can indicate if steps in the process failed and reasons for failure. When the system monitoring runs, the logging will make it easier to diagnose failures.\n",
    "\n",
    "---"
   ]
  },
  {
   "cell_type": "markdown",
   "id": "80fdebe4-4596-422c-99eb-8b064f238576",
   "metadata": {},
   "source": [
    "11. How might you detect factor drift? How could you mitigate factor drift?"
   ]
  },
  {
   "cell_type": "markdown",
   "id": "6599ff94-2e7b-490f-bd38-6381654e1192",
   "metadata": {},
   "source": [
    "Answer: Factor drift can be detected with visualizations for qualitative assessments, and statistical tests for formal assessments. For example, the K-S test can be run on factor distributions at two different times, and a statistically significant difference can trigger an alert. \n",
    "\n",
    "Factor drift can be mitigated by retraining the model with recent data included in the training set.\n",
    "\n",
    "---"
   ]
  },
  {
   "cell_type": "markdown",
   "id": "4e03aa5c-e2ec-4897-a1f4-7495121f3e26",
   "metadata": {},
   "source": [
    "13.  A data scientist located a model on the company's production server that predicts credit card losses. Her team needed a credit card model, and so she started using it without reading its documentation. What is one of the largest risks of this action?"
   ]
  },
  {
   "cell_type": "markdown",
   "id": "8dbe1ed6-5ae5-4a6d-a924-8598c29ce475",
   "metadata": {},
   "source": [
    "Answer: Use of a model without reading the documentation can result in using a model that is not fit for purpose.\n",
    "\n",
    "---"
   ]
  },
  {
   "cell_type": "markdown",
   "id": "a523ce05-d5ca-4ba0-b264-dd460c267b08",
   "metadata": {},
   "source": [
    "15. Which of these variables are sensible when making lending decisions? Select all that apply.\n",
    "\n",
    "a) Salary  \n",
    "b) Credit score  \n",
    "c) Religion  \n",
    "d) Loan purpose"
   ]
  },
  {
   "cell_type": "markdown",
   "id": "a99201d0-26c5-46d9-8715-af98fe5cdca1",
   "metadata": {},
   "source": [
    "Answer: b, d\n",
    "\n",
    "a - Salary can reflect demographics, which is problematic as it can result in disparate treatment\n",
    "\n",
    "b - Credit score is an accepted lending predictor, as it is intended to measure credit risk\n",
    "\n",
    "c - Religion is not suitable for making lending decisions\n",
    "\n",
    "d - The purpose of the loan is a legitimate input\n",
    "\n",
    "---"
   ]
  },
  {
   "cell_type": "markdown",
   "id": "dea515ed-c87d-4291-8b19-9fb857c30cdc",
   "metadata": {},
   "source": [
    "16. A fair lending model indicated that gender was a significant predictor. What does this mean?"
   ]
  },
  {
   "cell_type": "markdown",
   "id": "532e832b-895b-421e-8d15-a4f27dd10955",
   "metadata": {},
   "source": [
    "This means that different levels of the gender variable (e.g., male/female) experienced a meaningful difference in lending outcomes after adjusting for the other model predictors. This may be problematic and should be investigated further to insure fair lending practice.\n",
    "\n",
    "---"
   ]
  }
 ],
 "metadata": {
  "kernelspec": {
   "display_name": "Python 3 (ipykernel)",
   "language": "python",
   "name": "python3"
  },
  "language_info": {
   "codemirror_mode": {
    "name": "ipython",
    "version": 3
   },
   "file_extension": ".py",
   "mimetype": "text/x-python",
   "name": "python",
   "nbconvert_exporter": "python",
   "pygments_lexer": "ipython3",
   "version": "3.9.12"
  }
 },
 "nbformat": 4,
 "nbformat_minor": 5
}
