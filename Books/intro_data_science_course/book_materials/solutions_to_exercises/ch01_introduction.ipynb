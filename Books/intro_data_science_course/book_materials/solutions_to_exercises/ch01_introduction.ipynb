{
 "cells": [
  {
   "cell_type": "markdown",
   "id": "bb27dd0a-627e-44fa-8176-2fe670c38712",
   "metadata": {},
   "source": [
    "<img src=\"../../predictioNN_Logo_JPG(72).jpg\" width=200>"
   ]
  },
  {
   "cell_type": "markdown",
   "id": "d297109a-4517-4f36-be5a-edcab16c0f1f",
   "metadata": {},
   "source": [
    "## Book Solutions\n",
    "### Chapter 1: Introduction\n",
    "\n",
    "Last updated: May 9, 2023\n",
    "\n",
    "---"
   ]
  },
  {
   "cell_type": "markdown",
   "id": "74d06935-0397-4cf0-9c6b-8e8bc6e91da4",
   "metadata": {},
   "source": [
    "1. Explain data science in terms your grandmother would understand."
   ]
  },
  {
   "cell_type": "markdown",
   "id": "2438d16a-a41b-406f-aad7-332f74ccb524",
   "metadata": {},
   "source": [
    "Answer: Data science explores trends and relationships in data, and solves problems using information in data. It uses tools from mathematics, statistics, and computer science.\n",
    "\n",
    "---"
   ]
  },
  {
   "cell_type": "markdown",
   "id": "92e0e4b6-0316-4857-b703-67ec69b96132",
   "metadata": {},
   "source": [
    "2. Your grandmother asks how data science is different from statistics. Explain the difference in simple terms."
   ]
  },
  {
   "cell_type": "markdown",
   "id": "96386b5e-9740-4f3f-8c13-7e383522ce90",
   "metadata": {},
   "source": [
    "Answer: While data science uses tools from statistics such as modeling and sampling, it is broader. For example, data science includes the ingestion and storage of large-scale data.\n",
    "\n",
    "---"
   ]
  },
  {
   "cell_type": "markdown",
   "id": "74206a08-d793-4c41-b103-b1b221b6cff7",
   "metadata": {},
   "source": [
    "5. Give an example of something that you believe to be random but could be at least partially predicted. What might you use to predict the outcome?\n"
   ]
  },
  {
   "cell_type": "markdown",
   "id": "7f75efc3-6b25-4dcd-999c-f280858250f5",
   "metadata": {},
   "source": [
    "Answer: Future stock prices are random, but variables such as macroeconomic factors, earnings, historical prices, and historical volumes may be helpful for prediction.\n",
    "\n",
    "---"
   ]
  },
  {
   "cell_type": "markdown",
   "id": "6d2550a4-4b6e-429c-ad2c-d2743a7b9023",
   "metadata": {},
   "source": [
    "6. Explain how the data science pipeline is different from the data pipeline."
   ]
  },
  {
   "cell_type": "markdown",
   "id": "dfcf4195-8315-43a0-8a16-144b8c12dcd1",
   "metadata": {},
   "source": [
    "Answer:  \n",
    "The data science pipeline includes steps for model training and evaluation.  \n",
    "Data pipelines are used for extracting, processing, and storing data; they will not involve modeling.\n",
    "\n",
    "---"
   ]
  },
  {
   "cell_type": "markdown",
   "id": "78f5e3b3-53ab-46bd-94a0-ee15b3b10d4a",
   "metadata": {},
   "source": [
    "9. Explain why data literacy is important."
   ]
  },
  {
   "cell_type": "markdown",
   "id": "0b1c618e-eb8c-4902-823e-e7a5e9873ef9",
   "metadata": {},
   "source": [
    "Answer: Data is everywhere, and it is being generated and used at an unprecedented rate. Everyone needs to have an understanding of what data is, how it is used in daily life, and how it may be abused. The more knowledge that people have about data, the more they can use it effectively and advocate for themselves and others."
   ]
  },
  {
   "cell_type": "markdown",
   "id": "b19c7095-5a4f-4bf3-8caf-b432e97af343",
   "metadata": {},
   "source": [
    "---"
   ]
  }
 ],
 "metadata": {
  "kernelspec": {
   "display_name": "Python 3 (ipykernel)",
   "language": "python",
   "name": "python3"
  },
  "language_info": {
   "codemirror_mode": {
    "name": "ipython",
    "version": 3
   },
   "file_extension": ".py",
   "mimetype": "text/x-python",
   "name": "python",
   "nbconvert_exporter": "python",
   "pygments_lexer": "ipython3",
   "version": "3.9.12"
  }
 },
 "nbformat": 4,
 "nbformat_minor": 5
}
