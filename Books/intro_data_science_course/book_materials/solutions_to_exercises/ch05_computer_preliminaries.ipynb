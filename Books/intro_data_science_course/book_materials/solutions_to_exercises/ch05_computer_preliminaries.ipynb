{
 "cells": [
  {
   "cell_type": "markdown",
   "id": "c1e25d8c-53f3-4b6b-8c7c-e4179911414c",
   "metadata": {},
   "source": [
    "<img src=\"../../predictioNN_Logo_JPG(72).jpg\" width=200>"
   ]
  },
  {
   "cell_type": "markdown",
   "id": "6d633158-6669-4ab8-981d-09db19c1782a",
   "metadata": {},
   "source": [
    "## Book Solutions\n",
    "### Chapter 5: Computer Preliminaries\n",
    "\n",
    "Last updated: May 9, 2023\n",
    "\n",
    "---"
   ]
  },
  {
   "cell_type": "markdown",
   "id": "74d06935-0397-4cf0-9c6b-8e8bc6e91da4",
   "metadata": {},
   "source": [
    "1.  Explain the difference between hardware and software."
   ]
  },
  {
   "cell_type": "markdown",
   "id": "2438d16a-a41b-406f-aad7-332f74ccb524",
   "metadata": {},
   "source": [
    "Answer: Hardware consists of physical components of the computer. Software is a set of instructions to operate the computer and execute tasks.\n",
    "\n",
    "---"
   ]
  },
  {
   "cell_type": "markdown",
   "id": "cb240609-0ca7-4f29-9bce-45123cd02b0e",
   "metadata": {},
   "source": [
    "3. Why is data retrieval on a hard disk drive slower than retrieval in RAM?"
   ]
  },
  {
   "cell_type": "markdown",
   "id": "b6a036e7-d2ce-473c-b9bb-2972b6c7d2b0",
   "metadata": {},
   "source": [
    "Answer: A hard disk uses a mechanical arm that needs to navigate to the proper location on a spinning disk. By contrast, RAM retrieval is fully electronic.\n",
    "\n",
    "---"
   ]
  },
  {
   "cell_type": "markdown",
   "id": "7b1c0a4b-8278-4875-976a-764b1d88a401",
   "metadata": {},
   "source": [
    "4. What is a computer core?"
   ]
  },
  {
   "cell_type": "markdown",
   "id": "ed51d685-c473-496f-9ff7-77182223e04a",
   "metadata": {},
   "source": [
    "Answer: A core is a processing unit in the CPU. It receives instructions and carries out actions.\n",
    "\n",
    "---"
   ]
  },
  {
   "cell_type": "markdown",
   "id": "3d394e84-b60e-4349-97a4-5404d8758c64",
   "metadata": {},
   "source": [
    "6. Explain one or more benefits of using the command-line interface instead of a GUI."
   ]
  },
  {
   "cell_type": "markdown",
   "id": "11f6ccce-3716-4a45-a233-3def7c692e23",
   "metadata": {},
   "source": [
    "Answer: It can be much faster to use the CLI as the hands don't need to leave the keyboard. It is also easier to provide step-by-step instructions for a task that is CLI based, since they consist of lines of commands. \n",
    "\n",
    "---"
   ]
  },
  {
   "cell_type": "markdown",
   "id": "08a7cbe0-40b6-4354-922a-8ed3894bf8cc",
   "metadata": {},
   "source": [
    "7. What is the most important software on a computer?"
   ]
  },
  {
   "cell_type": "markdown",
   "id": "399cb0ea-786b-4871-b02b-e46c3be06bf1",
   "metadata": {},
   "source": [
    "Answer: the operating system.\n",
    "\n",
    "---"
   ]
  },
  {
   "cell_type": "markdown",
   "id": "80fdebe4-4596-422c-99eb-8b064f238576",
   "metadata": {},
   "source": [
    "10. True or False: You are working on a code project by yourself. To track file changes, you will need to use GitHub."
   ]
  },
  {
   "cell_type": "markdown",
   "id": "6599ff94-2e7b-490f-bd38-6381654e1192",
   "metadata": {},
   "source": [
    "Answer: False. You can use `Git` for version control. `GitHub` is needed for collaboration.\n",
    "\n",
    "---"
   ]
  },
  {
   "cell_type": "markdown",
   "id": "4e03aa5c-e2ec-4897-a1f4-7495121f3e26",
   "metadata": {},
   "source": [
    "12. You open a terminal and change directory. Next, you enter `git clone` at the command line. What needs to be included to successfully clone a repo?"
   ]
  },
  {
   "cell_type": "markdown",
   "id": "8dbe1ed6-5ae5-4a6d-a924-8598c29ce475",
   "metadata": {},
   "source": [
    "Answer: The url for the repo, such as:\n",
    "\n",
    "`git clone https://github.com/github/training-kit.git`\n",
    "\n",
    "---"
   ]
  },
  {
   "cell_type": "markdown",
   "id": "a523ce05-d5ca-4ba0-b264-dd460c267b08",
   "metadata": {},
   "source": [
    "13. You have created a `GitHub` account and you forked the course repo. What should you expect to happen next?"
   ]
  },
  {
   "cell_type": "markdown",
   "id": "a99201d0-26c5-46d9-8715-af98fe5cdca1",
   "metadata": {},
   "source": [
    "Answer: The repo will be copied to your personal `GitHub` account\n",
    "\n",
    "---"
   ]
  },
  {
   "cell_type": "markdown",
   "id": "dea515ed-c87d-4291-8b19-9fb857c30cdc",
   "metadata": {},
   "source": [
    "14. Which of these are benefits to using `Anaconda` for Python coding? Select all that apply.\n",
    "\n",
    "a) It directly provides unlimited cloud computing with GPUs  \n",
    "b) It includes many commonly-used modules for computing  \n",
    "c) It supports different operating systems  \n",
    "d) It is free"
   ]
  },
  {
   "cell_type": "markdown",
   "id": "532e832b-895b-421e-8d15-a4f27dd10955",
   "metadata": {},
   "source": [
    "Answer: b, c, d\n",
    "\n",
    "Choice `a` is incorrect. Anaconda does not provide cloud computing services\n",
    "\n",
    "---"
   ]
  }
 ],
 "metadata": {
  "kernelspec": {
   "display_name": "Python 3 (ipykernel)",
   "language": "python",
   "name": "python3"
  },
  "language_info": {
   "codemirror_mode": {
    "name": "ipython",
    "version": 3
   },
   "file_extension": ".py",
   "mimetype": "text/x-python",
   "name": "python",
   "nbconvert_exporter": "python",
   "pygments_lexer": "ipython3",
   "version": "3.9.12"
  }
 },
 "nbformat": 4,
 "nbformat_minor": 5
}
