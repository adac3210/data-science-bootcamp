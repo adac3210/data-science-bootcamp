{
 "cells": [
  {
   "cell_type": "markdown",
   "id": "15fb7ba3-b642-4cc2-aa05-f076a5e25353",
   "metadata": {},
   "source": [
    "<img src=\"../../predictioNN_Logo_JPG(72).jpg\" width=200>"
   ]
  },
  {
   "cell_type": "markdown",
   "id": "daf68d88-7506-4775-a247-ffaae976b9c0",
   "metadata": {},
   "source": [
    "## Book Solutions\n",
    "### Chapter 4: Data Science Project Planning\n",
    "\n",
    "Last updated: January 9, 2024\n",
    "\n",
    "---"
   ]
  },
  {
   "cell_type": "markdown",
   "id": "74d06935-0397-4cf0-9c6b-8e8bc6e91da4",
   "metadata": {},
   "source": [
    "1.  Which of these is a business objective?\n",
    "\n",
    "a) Minimizing the model recall  \n",
    "b) Maximizing the revenue of a product  \n",
    "c) Eliminating bugs from a piece of code  \n",
    "d) Reducing the runtime of a process"
   ]
  },
  {
   "cell_type": "markdown",
   "id": "2438d16a-a41b-406f-aad7-332f74ccb524",
   "metadata": {},
   "source": [
    "Answer: b\n",
    "\n",
    "a - this is a model performance metric\n",
    "\n",
    "c - this falls under software / engineering\n",
    "\n",
    "d - this is an operational metric\n",
    "\n",
    "---"
   ]
  },
  {
   "cell_type": "markdown",
   "id": "cb240609-0ca7-4f29-9bce-45123cd02b0e",
   "metadata": {},
   "source": [
    "2. Which of these are red flags which should serve as a warning that a data science project may not be successful? Select all that apply.\n",
    "\n",
    "a) A clear objective and commitment from leadership  \n",
    "b) Key stakeholders do not attend meetings  \n",
    "c) The necessary data is not available  \n",
    "d) There is no sense of urgency for the project\n"
   ]
  },
  {
   "cell_type": "markdown",
   "id": "b6a036e7-d2ce-473c-b9bb-2972b6c7d2b0",
   "metadata": {},
   "source": [
    "Answer: b, c, d\n",
    "\n",
    "a - These are good signs for the project\n",
    "\n",
    "b - It is important for key stakeholders to attend the meetings. This shows commitment and helps things progress.\n",
    "\n",
    "c - If the required data isn't available, the project will not be able to move forward\n",
    "\n",
    "d - Without urgency, the project may stall as other projects will likely get higher priority and more resources\n",
    "\n",
    "---"
   ]
  },
  {
   "cell_type": "markdown",
   "id": "94961e33-091b-428b-bc01-1491bc8718ce",
   "metadata": {},
   "source": [
    "3. A colleague asks you to build a model for an important initiative. He insists that you get started before planning the project. Which of these actions would be best?\n",
    "\n",
    "a) You should get started on the project. If you complete it quickly, you will impress him.  \n",
    "b) You should report this to his boss. Your colleague is out of line.  \n",
    "c) You should explain the importance of the planning process. Once the planning is completed, you can both be confident that the project will be successful.  \n",
    "d) You should explain the importance of the planning process. This will increase the probability that the project will be successful. "
   ]
  },
  {
   "cell_type": "markdown",
   "id": "d940a3d3-0de3-4cdd-995c-ff7a02e0b8bd",
   "metadata": {},
   "source": [
    "Answer: d\n",
    "\n",
    "You should develop, socialize, and defend your process.  \n",
    "Careful planning will increase the probability that the project will be successful. There are no guarantees, unfortunately.  \n",
    "Rushing into a project without planning will often lead to trouble, such as missing requirements or unsatisfactory performance.  \n",
    "\n",
    "\n",
    "\n",
    "---"
   ]
  },
  {
   "cell_type": "markdown",
   "id": "9f535814-8e33-4426-8cbd-de02caf9ac1b",
   "metadata": {},
   "source": [
    "5. Explain why latency and uptime are important."
   ]
  },
  {
   "cell_type": "markdown",
   "id": "b007c1ec-a50c-4c3c-9e5c-f5e8f6c88388",
   "metadata": {},
   "source": [
    "Answer: \n",
    "\n",
    "Latency is the elapsed time between when the request is made and when results come back.  \n",
    "Users don't want to wait, and they will choose services with shorter latency, all else equal.  \n",
    "\n",
    "Uptime is the fraction of time that the service is available. Users require high availability;  \n",
    "when the service is down, they can't use it.\n",
    "\n",
    "---"
   ]
  },
  {
   "cell_type": "markdown",
   "id": "e5ae1341-14bf-402b-b653-0b7782b85094",
   "metadata": {},
   "source": [
    "6. A service claims to have ``five nines'' of uptime. How many seconds of downtime is this per year?"
   ]
  },
  {
   "cell_type": "markdown",
   "id": "0c7512cc-9123-4667-a748-a28a8fc33b3b",
   "metadata": {},
   "source": [
    "Answer: \n",
    "\n",
    "Five nines = 99.999%  \n",
    "Seconds per year = 365.25 (avg days/year) x 24 hrs/day x 60 min/hr x 60 seconds/min = 31557600 seconds/yr    \n",
    "Seconds of downtime per year =  (1 - 99.999%) x seconds per year = **316 seconds downtime/yr**\n",
    "\n",
    "---"
   ]
  },
  {
   "cell_type": "markdown",
   "id": "ef9195a4-4e01-4089-b7c8-14ea66f661f2",
   "metadata": {},
   "source": [
    "9. What is user-product interaction data? Why is it important for recommendation systems?"
   ]
  },
  {
   "cell_type": "markdown",
   "id": "40736767-9f49-4d4b-a0d5-b92ff3c2f6b4",
   "metadata": {},
   "source": [
    "Answer: User-product interaction data captures the events when users engage with products.  \n",
    "For example, a streaming video service would collect the timestamp of when each user rented each video.  \n",
    "This event data can be used to predict future interactions.\n",
    "\n",
    "---"
   ]
  },
  {
   "cell_type": "markdown",
   "id": "b16bba8d-bce9-427c-b504-f4d323ca7d11",
   "metadata": {},
   "source": [
    "11. Which of these predictive modeling tasks is most difficult? \n",
    "\n",
    "a) Predicting the sales price of a beach home when the last three years of sales prices and property information is available for the neighborhood  \n",
    "b) Predicting the sales price of a beach home at the start of a financial recession when historical sales information is available from a bull market  \n",
    "c) Predicting the number of checking accounts opened at the start of a new promotion. Data from similar promotions is available from the last three years.  \n",
    "d) Predicting a student's performance on a final exam given performance on the midterm, quizzes, and homework\n"
   ]
  },
  {
   "cell_type": "markdown",
   "id": "5973b608-14b1-475a-b87d-fa39ea9072fa",
   "metadata": {},
   "source": [
    "Answer: b\n",
    "\n",
    "In this case, historical data is not available from a recession period. Data from a bull market will provide optimistic and incorrect predictions.\n",
    "\n",
    "---"
   ]
  },
  {
   "cell_type": "markdown",
   "id": "deb21ade-c69e-486c-8e00-b56c148fc0ce",
   "metadata": {},
   "source": [
    "12. You are tasked with building a model to predict if a customer will churn (switch to a competitor). You are asked how many rows of data will be needed. Which is the best response?\n",
    "\n",
    "a) One thousand rows of data. It is best to be definitive.  \n",
    "b) Five hundred rows of data for both the case of customers churning and not churning. This will cover each outcome.  \n",
    "c) You should indicate that you will need cases where the customer churned and did not churn. It is hard to say how many rows are needed, but you will certainly need variables that are predictive.  \n",
    "d) You should refer to the project that you did for predicting if a stock went up or down. The number of rows used in that project should be sufficient. \n"
   ]
  },
  {
   "cell_type": "markdown",
   "id": "bf0f7c2a-61dd-439d-9beb-869818e1f753",
   "metadata": {},
   "source": [
    "Answer: c\n",
    "\n",
    "It is difficult to give a definitive answer to this question, but data for each case is certainly needed.\n",
    "\n",
    "---"
   ]
  },
  {
   "cell_type": "markdown",
   "id": "7b1c0a4b-8278-4875-976a-764b1d88a401",
   "metadata": {},
   "source": [
    "14. Your company does not have the necessary data for a project, and you decide to purchase data from a vendor. What are essential things to consider when using vendor data?"
   ]
  },
  {
   "cell_type": "markdown",
   "id": "ed51d685-c473-496f-9ff7-77182223e04a",
   "metadata": {},
   "source": [
    "Answer: Some important properties of vendor data are that it should be accurate, consistent, and it should be predictive.\n",
    "\n",
    "---"
   ]
  }
 ],
 "metadata": {
  "kernelspec": {
   "display_name": "Python 3 (ipykernel)",
   "language": "python",
   "name": "python3"
  },
  "language_info": {
   "codemirror_mode": {
    "name": "ipython",
    "version": 3
   },
   "file_extension": ".py",
   "mimetype": "text/x-python",
   "name": "python",
   "nbconvert_exporter": "python",
   "pygments_lexer": "ipython3",
   "version": "3.9.12"
  }
 },
 "nbformat": 4,
 "nbformat_minor": 5
}
