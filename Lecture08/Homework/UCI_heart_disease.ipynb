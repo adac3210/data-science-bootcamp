{
 "cells": [
  {
   "cell_type": "code",
   "execution_count": 1,
   "id": "d7bdb43c-f120-410e-92cc-ad3814107e01",
   "metadata": {},
   "outputs": [],
   "source": [
    "# Import libraries needed for the project\n",
    "import pandas as pd              # For working with data tables (like spreadsheets)\n",
    "import matplotlib.pyplot as plt  # For creating plots and visualizations\n",
    "import seaborn as sns            # For making plots look nicer and easier\n",
    "from sklearn.model_selection import train_test_split  # To split data into training and testing sets\n",
    "from sklearn.linear_model import LogisticRegression   # For building the classification model\n",
    "from sklearn.metrics import accuracy_score            # To check how well the model performs\n",
    "from sklearn.preprocessing import StandardScaler      # To standardize numerical data"
   ]
  },
  {
   "cell_type": "code",
   "execution_count": null,
   "id": "535e3ffd-8188-488d-a0fd-773981947d7f",
   "metadata": {},
   "outputs": [],
   "source": [
    "# Load the dataset from a CSV file\n",
    "# The dataset contains patient info and whether they have heart disease\n",
    "data = pd.read_csv('https://raw.githubusercontent.com/nmiuddin/UCI-Heart-Disease-Dataset/master/heart.csv')"
   ]
  }
 ],
 "metadata": {
  "kernelspec": {
   "display_name": "Python 3 (ipykernel)",
   "language": "python",
   "name": "python3"
  },
  "language_info": {
   "codemirror_mode": {
    "name": "ipython",
    "version": 3
   },
   "file_extension": ".py",
   "mimetype": "text/x-python",
   "name": "python",
   "nbconvert_exporter": "python",
   "pygments_lexer": "ipython3",
   "version": "3.9.21"
  }
 },
 "nbformat": 4,
 "nbformat_minor": 5
}
