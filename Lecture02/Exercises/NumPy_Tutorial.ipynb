{
 "cells": [
  {
   "cell_type": "markdown",
   "id": "56cc8d2b-5a02-4878-8421-75df5f492c39",
   "metadata": {},
   "source": [
    "## Important NumPy Concepts"
   ]
  },
  {
   "cell_type": "code",
   "execution_count": 1,
   "id": "0fcb529b",
   "metadata": {},
   "outputs": [],
   "source": [
    "import numpy as np  # Import NumPy library"
   ]
  },
  {
   "cell_type": "code",
   "execution_count": 2,
   "id": "613eff3f",
   "metadata": {},
   "outputs": [
    {
     "data": {
      "text/plain": [
       "[1, 2, 3, 4, 5]"
      ]
     },
     "execution_count": 2,
     "metadata": {},
     "output_type": "execute_result"
    }
   ],
   "source": [
    "# This is a list of integers\n",
    "Int_list = [1,2,3,4,5]  # Indexing operation on the array\n",
    "Int_list  # Additional operation"
   ]
  },
  {
   "cell_type": "code",
   "execution_count": 3,
   "id": "ee4d6848",
   "metadata": {},
   "outputs": [
    {
     "data": {
      "text/plain": [
       "array([1, 2, 3, 4, 5])"
      ]
     },
     "execution_count": 3,
     "metadata": {},
     "output_type": "execute_result"
    }
   ],
   "source": [
    "# Create an array of integers\n",
    "x = np.array(Int_list)  # Create a NumPy array\n",
    "x  # Additional operation"
   ]
  },
  {
   "cell_type": "code",
   "execution_count": 4,
   "id": "183b9e84",
   "metadata": {},
   "outputs": [
    {
     "data": {
      "text/plain": [
       "numpy.ndarray"
      ]
     },
     "execution_count": 4,
     "metadata": {},
     "output_type": "execute_result"
    }
   ],
   "source": [
    "# Check for the type of array\n",
    "type(x)  # Additional operation"
   ]
  },
  {
   "cell_type": "code",
   "execution_count": 5,
   "id": "7e610956",
   "metadata": {},
   "outputs": [
    {
     "data": {
      "text/plain": [
       "1"
      ]
     },
     "execution_count": 5,
     "metadata": {},
     "output_type": "execute_result"
    }
   ],
   "source": [
    "# Shows how many dimensions the array has\n",
    "x.ndim  # Additional operation"
   ]
  },
  {
   "cell_type": "code",
   "execution_count": 6,
   "id": "dc21393e",
   "metadata": {},
   "outputs": [
    {
     "data": {
      "text/plain": [
       "(5,)"
      ]
     },
     "execution_count": 6,
     "metadata": {},
     "output_type": "execute_result"
    }
   ],
   "source": [
    "# Shows the shape (the arrangement)\n",
    "x.shape  # Additional operation"
   ]
  },
  {
   "cell_type": "code",
   "execution_count": 7,
   "id": "5c2fbd4b",
   "metadata": {},
   "outputs": [
    {
     "data": {
      "text/plain": [
       "array([[4, 5, 6],\n",
       "       [1, 2, 3]])"
      ]
     },
     "execution_count": 7,
     "metadata": {},
     "output_type": "execute_result"
    }
   ],
   "source": [
    "# This is a matrix\n",
    "x = [1,2,3]  # Indexing operation on the array\n",
    "y = [4,5,6]  # Indexing operation on the array\n",
    "my_list = [y,x]  # nested list\n",
    "my_matrix = np.array(my_list)  # creating the matrix\n",
    "my_matrix   # show the matrix"
   ]
  },
  {
   "cell_type": "code",
   "execution_count": 8,
   "id": "a42f49d3",
   "metadata": {},
   "outputs": [
    {
     "data": {
      "text/plain": [
       "2"
      ]
     },
     "execution_count": 8,
     "metadata": {},
     "output_type": "execute_result"
    }
   ],
   "source": [
    "# Show the dimensions\n",
    "my_matrix.ndim  # Additional operation"
   ]
  },
  {
   "cell_type": "code",
   "execution_count": 9,
   "id": "ce908123",
   "metadata": {},
   "outputs": [
    {
     "data": {
      "text/plain": [
       "(2, 3)"
      ]
     },
     "execution_count": 9,
     "metadata": {},
     "output_type": "execute_result"
    }
   ],
   "source": [
    "# Show the shape (the arrangement)\n",
    "my_matrix.shape  # Additional operation"
   ]
  },
  {
   "cell_type": "code",
   "execution_count": 10,
   "id": "10582618",
   "metadata": {},
   "outputs": [
    {
     "data": {
      "text/plain": [
       "array([[4, 5, 6],\n",
       "       [1, 2, 3]])"
      ]
     },
     "execution_count": 10,
     "metadata": {},
     "output_type": "execute_result"
    }
   ],
   "source": [
    "my_matrix  # Additional operation"
   ]
  },
  {
   "cell_type": "code",
   "execution_count": 11,
   "id": "02bbc666",
   "metadata": {},
   "outputs": [
    {
     "data": {
      "text/plain": [
       "array([[4, 1],\n",
       "       [5, 2],\n",
       "       [6, 3]])"
      ]
     },
     "execution_count": 11,
     "metadata": {},
     "output_type": "execute_result"
    }
   ],
   "source": [
    "# Transpose the matrix (change the rows to columns)\n",
    "t_matrix = my_matrix.transpose()  # Variable assignment\n",
    "t_matrix  # show the new matrix"
   ]
  },
  {
   "cell_type": "code",
   "execution_count": 12,
   "id": "b4c6af3a",
   "metadata": {},
   "outputs": [
    {
     "data": {
      "text/plain": [
       "array([ 0,  2,  4,  6,  8, 10])"
      ]
     },
     "execution_count": 12,
     "metadata": {},
     "output_type": "execute_result"
    }
   ],
   "source": [
    "# Array of even numbers between 0 and 10\n",
    "Even_array = np.arange(0,11,2)  # Create an array with a range of values\n",
    "Even_array   # show the even number array"
   ]
  },
  {
   "cell_type": "code",
   "execution_count": 13,
   "id": "e32cb76f",
   "metadata": {},
   "outputs": [
    {
     "data": {
      "text/plain": [
       "array([ 0.,  2.,  4.,  6.,  8., 10.])"
      ]
     },
     "execution_count": 13,
     "metadata": {},
     "output_type": "execute_result"
    }
   ],
   "source": [
    "# Array of even floating numbers between 0 and 10\n",
    "Even_array2 = np.arange(0,11,2,dtype='float')  # Create an array with a range of values\n",
    "Even_array2   # show the even floating number array"
   ]
  },
  {
   "cell_type": "code",
   "execution_count": 14,
   "id": "e1a69c7a",
   "metadata": {},
   "outputs": [
    {
     "data": {
      "text/plain": [
       "array([0.  , 1.25, 2.5 , 3.75, 5.  ])"
      ]
     },
     "execution_count": 14,
     "metadata": {},
     "output_type": "execute_result"
    }
   ],
   "source": [
    "# Arrays of linearly spaced points\n",
    "A = np.linspace(0,5,5)   # 5 equal pionts between 0 & 5\n",
    "A  # show Array A"
   ]
  },
  {
   "cell_type": "code",
   "execution_count": 15,
   "id": "fb895e75",
   "metadata": {},
   "outputs": [
    {
     "data": {
      "text/plain": [
       "array([ 51.,  52.,  53.,  54.,  55.,  56.,  57.,  58.,  59.,  60.,  61.,\n",
       "        62.,  63.,  64.,  65.,  66.,  67.,  68.,  69.,  70.,  71.,  72.,\n",
       "        73.,  74.,  75.,  76.,  77.,  78.,  79.,  80.,  81.,  82.,  83.,\n",
       "        84.,  85.,  86.,  87.,  88.,  89.,  90.,  91.,  92.,  93.,  94.,\n",
       "        95.,  96.,  97.,  98.,  99., 100.])"
      ]
     },
     "execution_count": 15,
     "metadata": {},
     "output_type": "execute_result"
    }
   ],
   "source": [
    "B = np.linspace(51,100)  # 50 equal points between 51 & 100\n",
    "B  # show Array B"
   ]
  },
  {
   "cell_type": "code",
   "execution_count": 16,
   "id": "95c99606",
   "metadata": {},
   "outputs": [
    {
     "data": {
      "text/plain": [
       "array([0., 0., 0.])"
      ]
     },
     "execution_count": 16,
     "metadata": {},
     "output_type": "execute_result"
    }
   ],
   "source": [
    "# Create a vector of 3 elements with zeros()\n",
    "np.zeros(3)    # A vector of 3 elements"
   ]
  },
  {
   "cell_type": "code",
   "execution_count": 17,
   "id": "f8de55c5",
   "metadata": {},
   "outputs": [
    {
     "data": {
      "text/plain": [
       "array([[0., 0., 0.],\n",
       "       [0., 0., 0.]])"
      ]
     },
     "execution_count": 17,
     "metadata": {},
     "output_type": "execute_result"
    }
   ],
   "source": [
    "# Create a matrix of 6 elements: 2 rows, 3 columns\n",
    "np.zeros((2,3))  # Additional operation"
   ]
  },
  {
   "cell_type": "code",
   "execution_count": 18,
   "id": "02df114d",
   "metadata": {},
   "outputs": [
    {
     "data": {
      "text/plain": [
       "array([1., 1., 1.])"
      ]
     },
     "execution_count": 18,
     "metadata": {},
     "output_type": "execute_result"
    }
   ],
   "source": [
    "# Create a vector of 3 elements with ones()\n",
    "np.ones(3)      # A vector of 3 elememnts"
   ]
  },
  {
   "cell_type": "code",
   "execution_count": 19,
   "id": "83ae80cc",
   "metadata": {},
   "outputs": [
    {
     "data": {
      "text/plain": [
       "array([[1., 1., 1.],\n",
       "       [1., 1., 1.]])"
      ]
     },
     "execution_count": 19,
     "metadata": {},
     "output_type": "execute_result"
    }
   ],
   "source": [
    "# Create a matrix of 6 elements with ones()\n",
    "np.ones((2,3))   # A matrix of 6 elements: 2 rows, 3 columns"
   ]
  },
  {
   "cell_type": "code",
   "execution_count": 20,
   "id": "8df504ce",
   "metadata": {},
   "outputs": [
    {
     "data": {
      "text/plain": [
       "array([0.73248508, 0.02988756])"
      ]
     },
     "execution_count": 20,
     "metadata": {},
     "output_type": "execute_result"
    }
   ],
   "source": [
    "# Create a vector 2 random values\n",
    "np.random.rand(2)   # A vector of 2 random values"
   ]
  },
  {
   "cell_type": "code",
   "execution_count": 21,
   "id": "957ea7fc",
   "metadata": {},
   "outputs": [
    {
     "data": {
      "text/plain": [
       "array([[0.31290165, 0.74601029, 0.86564308],\n",
       "       [0.21752575, 0.48615572, 0.96782446]])"
      ]
     },
     "execution_count": 21,
     "metadata": {},
     "output_type": "execute_result"
    }
   ],
   "source": [
    "# Create a matrix of 6 random values\n",
    "np.random.rand(2,3)  # A matrix of 6 random values"
   ]
  },
  {
   "cell_type": "code",
   "execution_count": 22,
   "id": "6ea4501f",
   "metadata": {},
   "outputs": [
    {
     "data": {
      "text/plain": [
       "3"
      ]
     },
     "execution_count": 22,
     "metadata": {},
     "output_type": "execute_result"
    }
   ],
   "source": [
    "# Create a random value between 1 and 5\n",
    "np.random.randint(1,5)    # A random value between 1 and 5"
   ]
  },
  {
   "cell_type": "code",
   "execution_count": 23,
   "id": "bb3f0a6a",
   "metadata": {},
   "outputs": [
    {
     "data": {
      "text/plain": [
       "array([54, 12, 71, 39, 98,  8])"
      ]
     },
     "execution_count": 23,
     "metadata": {},
     "output_type": "execute_result"
    }
   ],
   "source": [
    "# Create a vector of 6 random values between 1 and 100\n",
    "np.random.randint(1,100,6)  # Additional operation"
   ]
  },
  {
   "cell_type": "code",
   "execution_count": 24,
   "id": "d9036902",
   "metadata": {},
   "outputs": [
    {
     "data": {
      "text/plain": [
       "array([[43, 91, 82],\n",
       "       [20, 31, 18]])"
      ]
     },
     "execution_count": 24,
     "metadata": {},
     "output_type": "execute_result"
    }
   ],
   "source": [
    "# Create a matrix of 6 random values between 1 and 100\n",
    "np.random.randint(1,100,(2,3))  # Additional operation"
   ]
  },
  {
   "cell_type": "code",
   "execution_count": 25,
   "id": "2889c4f7",
   "metadata": {},
   "outputs": [],
   "source": [
    "# Create a dice roll game with randinit()\n",
    "# Define the function\n",
    "def roll_dice():  # Additional operation\n",
    "    #This function displays a dice roll value when called\n",
    "    dice1 = np.random.randint(1,7)  # This allows 6 to be inclusive\n",
    "    dice2 = np.random.randint(1,7)    # Variable assignment\n",
    "    \n",
    "    # Display condition\n",
    "    if dice1 == dice2:  # Variable assignment\n",
    "        print('Roll: ', dice1, '&', dice2,'\\ndoubles!')  # Print the result\n",
    "    if dice1 == 1:  # Variable assignment\n",
    "        print('snake eyes')  # Print the result\n",
    "    else:  # Additional operation\n",
    "        print('Roll: ', dice1, '&', dice2)  # Print the result"
   ]
  },
  {
   "cell_type": "code",
   "execution_count": 26,
   "id": "84f0535b",
   "metadata": {},
   "outputs": [
    {
     "name": "stdout",
     "output_type": "stream",
     "text": [
      "Roll:  4 & 6\n"
     ]
    }
   ],
   "source": [
    "# Call the function\n",
    "roll_dice()  # Additional operation"
   ]
  },
  {
   "cell_type": "code",
   "execution_count": 27,
   "id": "1372b3f7",
   "metadata": {},
   "outputs": [
    {
     "data": {
      "text/plain": [
       "array([1, 2, 3])"
      ]
     },
     "execution_count": 27,
     "metadata": {},
     "output_type": "execute_result"
    }
   ],
   "source": [
    "# Create 1d array\n",
    "x = np.array([1,2,3])  # Create a NumPy array\n",
    "x  # Additional operation"
   ]
  },
  {
   "cell_type": "code",
   "execution_count": 28,
   "id": "6d542ec2",
   "metadata": {},
   "outputs": [
    {
     "data": {
      "text/plain": [
       "array([[1, 2, 3],\n",
       "       [4, 5, 6]])"
      ]
     },
     "execution_count": 28,
     "metadata": {},
     "output_type": "execute_result"
    }
   ],
   "source": [
    "# Create 2d array\n",
    "y = np.array([(1,2,3),(4,5,6)])  # Create a NumPy array\n",
    "y  # Additional operation"
   ]
  },
  {
   "cell_type": "code",
   "execution_count": 29,
   "id": "b5a4c8e4",
   "metadata": {},
   "outputs": [
    {
     "data": {
      "text/plain": [
       "array([1, 3, 5, 7, 9])"
      ]
     },
     "execution_count": 29,
     "metadata": {},
     "output_type": "execute_result"
    }
   ],
   "source": [
    "# Create range array\n",
    "z = np.arange(1,10,2)  # Create an array with a range of values\n",
    "z  # Additional operation"
   ]
  },
  {
   "cell_type": "code",
   "execution_count": 30,
   "id": "61d9396b",
   "metadata": {},
   "outputs": [
    {
     "data": {
      "text/plain": [
       "array([0.  , 0.25, 0.5 , 0.75, 1.  , 1.25, 1.5 , 1.75, 2.  ])"
      ]
     },
     "execution_count": 30,
     "metadata": {},
     "output_type": "execute_result"
    }
   ],
   "source": [
    "# Add evenly spaced values btw interval to array of length\n",
    "l = np.linspace(0,2,9)  # Variable assignment\n",
    "l  # Additional operation"
   ]
  },
  {
   "cell_type": "code",
   "execution_count": 31,
   "id": "7dacfb17",
   "metadata": {},
   "outputs": [
    {
     "data": {
      "text/plain": [
       "array([[0., 0.]])"
      ]
     },
     "execution_count": 31,
     "metadata": {},
     "output_type": "execute_result"
    }
   ],
   "source": [
    "# Create an array filled with zeros\n",
    "a = np.zeros((1,2))  # Variable assignment\n",
    "a  # Additional operation"
   ]
  },
  {
   "cell_type": "code",
   "execution_count": 32,
   "id": "81c133d7",
   "metadata": {},
   "outputs": [
    {
     "data": {
      "text/plain": [
       "array([[1., 1.]])"
      ]
     },
     "execution_count": 32,
     "metadata": {},
     "output_type": "execute_result"
    }
   ],
   "source": [
    "# Create an array filled with ones\n",
    "b = np.ones((1,2))  # Variable assignment\n",
    "b  # Additional operation"
   ]
  },
  {
   "cell_type": "code",
   "execution_count": 33,
   "id": "83221946",
   "metadata": {},
   "outputs": [
    {
     "data": {
      "text/plain": [
       "array([[0.9569499 , 0.53481655, 0.30591274, 0.05430286, 0.87917053],\n",
       "       [0.16257284, 0.25145604, 0.25734291, 0.96784049, 0.59709853],\n",
       "       [0.37672634, 0.3785197 , 0.12041916, 0.43400998, 0.49158785],\n",
       "       [0.53081913, 0.43828688, 0.15685637, 0.85936307, 0.210186  ],\n",
       "       [0.72737164, 0.75302948, 0.91889786, 0.12500115, 0.68619914]])"
      ]
     },
     "execution_count": 33,
     "metadata": {},
     "output_type": "execute_result"
    }
   ],
   "source": [
    "# Create random array\n",
    "c = np.random.random((5,5))  # Variable assignment\n",
    "c  # Additional operation"
   ]
  },
  {
   "cell_type": "code",
   "execution_count": 34,
   "id": "ebb659e2",
   "metadata": {},
   "outputs": [
    {
     "data": {
      "text/plain": [
       "array([[1.25, 2.5 ],\n",
       "       [3.75, 5.  ]])"
      ]
     },
     "execution_count": 34,
     "metadata": {},
     "output_type": "execute_result"
    }
   ],
   "source": [
    "# Create an empty array\n",
    "d = np.empty((2,2))  # Variable assignment\n",
    "d  # Additional operation"
   ]
  },
  {
   "cell_type": "code",
   "execution_count": 35,
   "id": "4eb9374e",
   "metadata": {},
   "outputs": [
    {
     "data": {
      "text/plain": [
       "(2, 3)"
      ]
     },
     "execution_count": 35,
     "metadata": {},
     "output_type": "execute_result"
    }
   ],
   "source": [
    "# Get Dimensios (Rows, Columns) of an array\n",
    "y.shape  # Additional operation"
   ]
  },
  {
   "cell_type": "code",
   "execution_count": 36,
   "id": "aaf4ed3e",
   "metadata": {},
   "outputs": [
    {
     "data": {
      "text/plain": [
       "3"
      ]
     },
     "execution_count": 36,
     "metadata": {},
     "output_type": "execute_result"
    }
   ],
   "source": [
    "# Get length of array\n",
    "len(x)  # Additional operation"
   ]
  },
  {
   "cell_type": "code",
   "execution_count": 37,
   "id": "3a45e186",
   "metadata": {},
   "outputs": [
    {
     "data": {
      "text/plain": [
       "2"
      ]
     },
     "execution_count": 37,
     "metadata": {},
     "output_type": "execute_result"
    }
   ],
   "source": [
    "# Get number of array dimensions\n",
    "y.ndim  # Additional operation"
   ]
  },
  {
   "cell_type": "code",
   "execution_count": 38,
   "id": "f6a64334",
   "metadata": {},
   "outputs": [
    {
     "data": {
      "text/plain": [
       "dtype('int32')"
      ]
     },
     "execution_count": 38,
     "metadata": {},
     "output_type": "execute_result"
    }
   ],
   "source": [
    "# Get data type of array\n",
    "x.dtype  # Additional operation"
   ]
  },
  {
   "cell_type": "code",
   "execution_count": 39,
   "id": "5e510446",
   "metadata": {},
   "outputs": [
    {
     "data": {
      "text/plain": [
       "array([1., 2., 3.])"
      ]
     },
     "execution_count": 39,
     "metadata": {},
     "output_type": "execute_result"
    }
   ],
   "source": [
    "# Converts to data type\n",
    "f = x.astype(float)  # Variable assignment\n",
    "f  # Additional operation"
   ]
  },
  {
   "cell_type": "code",
   "execution_count": 40,
   "id": "dd2046ec",
   "metadata": {},
   "outputs": [
    {
     "data": {
      "text/plain": [
       "numpy.ndarray"
      ]
     },
     "execution_count": 40,
     "metadata": {},
     "output_type": "execute_result"
    }
   ],
   "source": [
    "# Get type of array\n",
    "type(f)  # Additional operation"
   ]
  },
  {
   "cell_type": "code",
   "execution_count": 41,
   "id": "d19fe242",
   "metadata": {},
   "outputs": [
    {
     "data": {
      "text/plain": [
       "array([0, 1, 2, 3, 4, 5, 6, 7, 8, 9])"
      ]
     },
     "execution_count": 41,
     "metadata": {},
     "output_type": "execute_result"
    }
   ],
   "source": [
    "# Import NumPy package\n",
    "import numpy as np  # Import NumPy library\n",
    "\n",
    "# Change the dimensions of an array with reshape()\n",
    "freq = np.arange(10)   # Create a vector with 10 numbers\n",
    "freq    # Show array"
   ]
  },
  {
   "cell_type": "code",
   "execution_count": 42,
   "id": "79cb737d",
   "metadata": {},
   "outputs": [
    {
     "data": {
      "text/plain": [
       "array([[0, 1],\n",
       "       [2, 3],\n",
       "       [4, 5],\n",
       "       [6, 7],\n",
       "       [8, 9]])"
      ]
     },
     "execution_count": 42,
     "metadata": {},
     "output_type": "execute_result"
    }
   ],
   "source": [
    "# Make freq 2 dimensional 5 rows, 2 columns\n",
    "np.reshape(freq, (5,2))  # Reshape the array"
   ]
  },
  {
   "cell_type": "code",
   "execution_count": 43,
   "id": "a70a5f34",
   "metadata": {},
   "outputs": [
    {
     "data": {
      "text/plain": [
       "array([0.15672197, 0.19022125, 0.17166789, 0.75934033, 0.98330655,\n",
       "       0.76634917, 0.12190456, 0.44142627, 0.47014191, 0.40448493])"
      ]
     },
     "execution_count": 43,
     "metadata": {},
     "output_type": "execute_result"
    }
   ],
   "source": [
    "# Create a vector with 10 random numbers\n",
    "values = np.random.rand(10)  # Variable assignment\n",
    "values  # Additional operation"
   ]
  },
  {
   "cell_type": "code",
   "execution_count": 44,
   "id": "30d994c3",
   "metadata": {},
   "outputs": [
    {
     "data": {
      "text/plain": [
       "array([[0.15672197, 0.19022125, 0.17166789, 0.75934033, 0.98330655],\n",
       "       [0.76634917, 0.12190456, 0.44142627, 0.47014191, 0.40448493]])"
      ]
     },
     "execution_count": 44,
     "metadata": {},
     "output_type": "execute_result"
    }
   ],
   "source": [
    "# Make values 2 dimensional 2 rows, 5 columns\n",
    "np.reshape(values, (2,5))  # Reshape the array"
   ]
  },
  {
   "cell_type": "code",
   "execution_count": 45,
   "id": "50610ae2",
   "metadata": {},
   "outputs": [
    {
     "data": {
      "text/plain": [
       "0.9833065481751366"
      ]
     },
     "execution_count": 45,
     "metadata": {},
     "output_type": "execute_result"
    }
   ],
   "source": [
    "# Find the maximum value in the 'values' array\n",
    "values.max()  # Additional operation"
   ]
  },
  {
   "cell_type": "code",
   "execution_count": 46,
   "id": "799d5a66",
   "metadata": {},
   "outputs": [
    {
     "data": {
      "text/plain": [
       "4"
      ]
     },
     "execution_count": 46,
     "metadata": {},
     "output_type": "execute_result"
    }
   ],
   "source": [
    "# Find the index of the maximum value in the 'values' array\n",
    "values.argmax()  # Additional operation"
   ]
  },
  {
   "cell_type": "code",
   "execution_count": 47,
   "id": "bf56d03a",
   "metadata": {},
   "outputs": [
    {
     "data": {
      "text/plain": [
       "0.12190456196595323"
      ]
     },
     "execution_count": 47,
     "metadata": {},
     "output_type": "execute_result"
    }
   ],
   "source": [
    "# Find the minimum value in the 'values' array\n",
    "values.min()  # Additional operation"
   ]
  },
  {
   "cell_type": "code",
   "execution_count": 48,
   "id": "41229c14",
   "metadata": {},
   "outputs": [
    {
     "data": {
      "text/plain": [
       "6"
      ]
     },
     "execution_count": 48,
     "metadata": {},
     "output_type": "execute_result"
    }
   ],
   "source": [
    "# Find the index of the minimum value in the 'values' array\n",
    "values.argmin()  # Additional operation"
   ]
  },
  {
   "cell_type": "code",
   "execution_count": 49,
   "id": "3813d024",
   "metadata": {},
   "outputs": [
    {
     "data": {
      "text/plain": [
       "array([0.15672197, 0.19022125, 0.17166789, 0.75934033, 0.98330655,\n",
       "       0.76634917, 0.12190456, 0.44142627, 0.47014191, 0.40448493])"
      ]
     },
     "execution_count": 49,
     "metadata": {},
     "output_type": "execute_result"
    }
   ],
   "source": [
    "values  # Additional operation"
   ]
  },
  {
   "cell_type": "code",
   "execution_count": 50,
   "id": "ed2f204c",
   "metadata": {},
   "outputs": [
    {
     "data": {
      "text/plain": [
       "0.15672196587618248"
      ]
     },
     "execution_count": 50,
     "metadata": {},
     "output_type": "execute_result"
    }
   ],
   "source": [
    "values[0]  # grabbing 1st item"
   ]
  },
  {
   "cell_type": "code",
   "execution_count": 51,
   "id": "c21789a8",
   "metadata": {},
   "outputs": [
    {
     "data": {
      "text/plain": [
       "0.40448492834307714"
      ]
     },
     "execution_count": 51,
     "metadata": {},
     "output_type": "execute_result"
    }
   ],
   "source": [
    "values[-1]  # grabbing last item"
   ]
  },
  {
   "cell_type": "code",
   "execution_count": 52,
   "id": "3140805c",
   "metadata": {},
   "outputs": [
    {
     "data": {
      "text/plain": [
       "array([0.19022125, 0.17166789])"
      ]
     },
     "execution_count": 52,
     "metadata": {},
     "output_type": "execute_result"
    }
   ],
   "source": [
    "values[1:3]  # grabbing 2nd & 3rd item"
   ]
  },
  {
   "cell_type": "code",
   "execution_count": 53,
   "id": "469e0d6a",
   "metadata": {},
   "outputs": [
    {
     "data": {
      "text/plain": [
       "array([0.75934033, 0.98330655, 0.76634917, 0.12190456, 0.44142627])"
      ]
     },
     "execution_count": 53,
     "metadata": {},
     "output_type": "execute_result"
    }
   ],
   "source": [
    "values[3:8]  # item 4 to 8"
   ]
  },
  {
   "cell_type": "code",
   "execution_count": 54,
   "id": "4f4f6b81",
   "metadata": {},
   "outputs": [
    {
     "data": {
      "text/plain": [
       "[0, 1, 2, 3, 4, 5, 6, 7, 8, 9, 10]"
      ]
     },
     "execution_count": 54,
     "metadata": {},
     "output_type": "execute_result"
    }
   ],
   "source": [
    "# Create a list from 0 to 10\n",
    "num_list = list(range(11))  # list from 0 to 10\n",
    "num_list # show list"
   ]
  },
  {
   "cell_type": "code",
   "execution_count": 55,
   "id": "91f282da",
   "metadata": {},
   "outputs": [
    {
     "data": {
      "text/plain": [
       "[0, 1, 2, 3]"
      ]
     },
     "execution_count": 55,
     "metadata": {},
     "output_type": "execute_result"
    }
   ],
   "source": [
    "list_slice = num_list[:4]  # first 4 items\n",
    "list_slice     # show slice"
   ]
  },
  {
   "cell_type": "code",
   "execution_count": 56,
   "id": "328413d5",
   "metadata": {},
   "outputs": [
    {
     "data": {
      "text/plain": [
       "[5, 7, 9, 3]"
      ]
     },
     "execution_count": 56,
     "metadata": {},
     "output_type": "execute_result"
    }
   ],
   "source": [
    "list_slice[:] = [5,7,9,3]   # Re-assignign elements\n",
    "list_slice    # show updated values"
   ]
  },
  {
   "cell_type": "code",
   "execution_count": 57,
   "id": "faab8aa1",
   "metadata": {},
   "outputs": [
    {
     "data": {
      "text/plain": [
       "[0, 1, 2, 3, 4, 5, 6, 7, 8, 9, 10]"
      ]
     },
     "execution_count": 57,
     "metadata": {},
     "output_type": "execute_result"
    }
   ],
   "source": [
    "# Check for the original list\n",
    "num_list     # show original list"
   ]
  },
  {
   "cell_type": "code",
   "execution_count": 58,
   "id": "ff5ca889",
   "metadata": {},
   "outputs": [
    {
     "data": {
      "text/plain": [
       "[0, 1, 2, 3]"
      ]
     },
     "execution_count": 58,
     "metadata": {},
     "output_type": "execute_result"
    }
   ],
   "source": [
    "# Slice first 4 items in the list\n",
    "list_slice = num_list[:4]      # first 4 items\n",
    "list_slice      # show slice"
   ]
  },
  {
   "cell_type": "code",
   "execution_count": 59,
   "id": "a4393456",
   "metadata": {},
   "outputs": [
    {
     "data": {
      "text/plain": [
       "array([ 0,  1,  2,  3,  4,  5,  6,  7,  8,  9, 10])"
      ]
     },
     "execution_count": 59,
     "metadata": {},
     "output_type": "execute_result"
    }
   ],
   "source": [
    "# Create an array from 0 to 10\n",
    "num_array = np.arange(11)       # array from 0-10\n",
    "num_array       # show array"
   ]
  },
  {
   "cell_type": "code",
   "execution_count": 60,
   "id": "6466cffd",
   "metadata": {},
   "outputs": [
    {
     "data": {
      "text/plain": [
       "array([0, 1, 2, 3])"
      ]
     },
     "execution_count": 60,
     "metadata": {},
     "output_type": "execute_result"
    }
   ],
   "source": [
    "# Slice first 4 items in the array\n",
    "array_slice = num_array[:4]     # first 4 items\n",
    "array_slice      # show slice"
   ]
  },
  {
   "cell_type": "code",
   "execution_count": 61,
   "id": "12789a78",
   "metadata": {},
   "outputs": [
    {
     "data": {
      "text/plain": [
       "array([5, 7, 9, 3])"
      ]
     },
     "execution_count": 61,
     "metadata": {},
     "output_type": "execute_result"
    }
   ],
   "source": [
    "# Re-assign elements\n",
    "array_slice[:] = [5,7,9,3]   # Re-assign elements\n",
    "array_slice     # show slice"
   ]
  },
  {
   "cell_type": "code",
   "execution_count": 62,
   "id": "326ddad4",
   "metadata": {},
   "outputs": [
    {
     "data": {
      "text/plain": [
       "array([ 5,  7,  9,  3,  4,  5,  6,  7,  8,  9, 10])"
      ]
     },
     "execution_count": 62,
     "metadata": {},
     "output_type": "execute_result"
    }
   ],
   "source": [
    "# Check for the original array\n",
    "num_array    # show original array"
   ]
  },
  {
   "cell_type": "code",
   "execution_count": 63,
   "id": "4afe977d",
   "metadata": {},
   "outputs": [
    {
     "data": {
      "text/plain": [
       "array([5, 7, 9, 3])"
      ]
     },
     "execution_count": 63,
     "metadata": {},
     "output_type": "execute_result"
    }
   ],
   "source": [
    "# Make a copy of the first 4 items of the original array\n",
    "array_copy = num_array.copy()[:4]   # copies the first 4 items of the array \n",
    "array_copy   # show array"
   ]
  },
  {
   "cell_type": "code",
   "execution_count": 64,
   "id": "ba76ebdc",
   "metadata": {},
   "outputs": [
    {
     "data": {
      "text/plain": [
       "array([10, 10, 10, 10])"
      ]
     },
     "execution_count": 64,
     "metadata": {},
     "output_type": "execute_result"
    }
   ],
   "source": [
    "# Re-assign 10 to the copied array\n",
    "array_copy[:] = 10     # re-assign 10 to the copied array\n",
    "array_copy     # show array"
   ]
  },
  {
   "cell_type": "code",
   "execution_count": 65,
   "id": "3352c52e",
   "metadata": {},
   "outputs": [
    {
     "data": {
      "text/plain": [
       "array([ 5,  7,  9,  3,  4,  5,  6,  7,  8,  9, 10])"
      ]
     },
     "execution_count": 65,
     "metadata": {},
     "output_type": "execute_result"
    }
   ],
   "source": [
    "# Check the original array\n",
    "num_array   # show the original array"
   ]
  },
  {
   "cell_type": "code",
   "execution_count": 66,
   "id": "1bd310f7",
   "metadata": {},
   "outputs": [
    {
     "data": {
      "text/plain": [
       "array([[ 5, 10, 15],\n",
       "       [20, 25, 30],\n",
       "       [35, 40, 45]])"
      ]
     },
     "execution_count": 66,
     "metadata": {},
     "output_type": "execute_result"
    }
   ],
   "source": [
    "# Create the matrix\n",
    "matrix = np.array(([5,10,15],[20,25,30],[35,40,45]))  # Create a NumPy array\n",
    "matrix     # display matrix"
   ]
  },
  {
   "cell_type": "code",
   "execution_count": 67,
   "id": "4820050c",
   "metadata": {},
   "outputs": [
    {
     "data": {
      "text/plain": [
       "array([20, 25, 30])"
      ]
     },
     "execution_count": 67,
     "metadata": {},
     "output_type": "execute_result"
    }
   ],
   "source": [
    "# Grab the second row\n",
    "matrix[1]  # Indexing operation on the array"
   ]
  },
  {
   "cell_type": "code",
   "execution_count": 68,
   "id": "2df3005e",
   "metadata": {},
   "outputs": [
    {
     "data": {
      "text/plain": [
       "35"
      ]
     },
     "execution_count": 68,
     "metadata": {},
     "output_type": "execute_result"
    }
   ],
   "source": [
    "# Grab 35\n",
    "matrix[2][0]  # Indexing operation on the array"
   ]
  },
  {
   "cell_type": "code",
   "execution_count": 69,
   "id": "e09473ca",
   "metadata": {},
   "outputs": [
    {
     "data": {
      "text/plain": [
       "array([[ 5, 10, 15],\n",
       "       [20, 25, 30]])"
      ]
     },
     "execution_count": 69,
     "metadata": {},
     "output_type": "execute_result"
    }
   ],
   "source": [
    "# Grab first 2 rows\n",
    "matrix[0:2]  # Indexing operation on the array"
   ]
  },
  {
   "cell_type": "code",
   "execution_count": 70,
   "id": "de0a11a7",
   "metadata": {},
   "outputs": [
    {
     "data": {
      "text/plain": [
       "45"
      ]
     },
     "execution_count": 70,
     "metadata": {},
     "output_type": "execute_result"
    }
   ],
   "source": [
    "# Grab 45\n",
    "matrix[2,2]  # Indexing operation on the array"
   ]
  },
  {
   "cell_type": "code",
   "execution_count": 71,
   "id": "da4cf298",
   "metadata": {},
   "outputs": [
    {
     "data": {
      "text/plain": [
       "array([[10],\n",
       "       [25],\n",
       "       [40]])"
      ]
     },
     "execution_count": 71,
     "metadata": {},
     "output_type": "execute_result"
    }
   ],
   "source": [
    "# Grab the second column\n",
    "column_slice = matrix[:,1:2]    # Assign the second column to a variable\n",
    "column_slice  # Additional operation"
   ]
  },
  {
   "cell_type": "code",
   "execution_count": 72,
   "id": "2f13b40a",
   "metadata": {},
   "outputs": [
    {
     "data": {
      "text/plain": [
       "array([ 0,  2,  4,  6,  8, 10, 12, 14, 16, 18])"
      ]
     },
     "execution_count": 72,
     "metadata": {},
     "output_type": "execute_result"
    }
   ],
   "source": [
    "# Create an array of odd numbers between 0 and 20\n",
    "odd_array = np.arange(0, 20, 2)   # an array of odd numbers between 0 and 20\n",
    "odd_array       # show array"
   ]
  },
  {
   "cell_type": "code",
   "execution_count": 73,
   "id": "f8c3912d",
   "metadata": {},
   "outputs": [
    {
     "data": {
      "text/plain": [
       "array([False, False, False, False, False, False,  True,  True,  True,\n",
       "        True])"
      ]
     },
     "execution_count": 73,
     "metadata": {},
     "output_type": "execute_result"
    }
   ],
   "source": [
    "# Extract elements above 11 into a new array\n",
    "bool_array = odd_array > 11    # boolean conditional array\n",
    "bool_array      # show array"
   ]
  },
  {
   "cell_type": "code",
   "execution_count": 74,
   "id": "60377e48",
   "metadata": {},
   "outputs": [
    {
     "data": {
      "text/plain": [
       "array([12, 14, 16, 18])"
      ]
     },
     "execution_count": 74,
     "metadata": {},
     "output_type": "execute_result"
    }
   ],
   "source": [
    "# Get the values that we want by passing the bool_array into the original array\n",
    "useful_array = odd_array[bool_array]   # the values we want\n",
    "useful_array    # show array"
   ]
  },
  {
   "cell_type": "code",
   "execution_count": 75,
   "id": "d4e45471",
   "metadata": {},
   "outputs": [
    {
     "data": {
      "text/plain": [
       "array([12, 14, 16, 18])"
      ]
     },
     "execution_count": 75,
     "metadata": {},
     "output_type": "execute_result"
    }
   ],
   "source": [
    "# This code is more compact\n",
    "compact_array = odd_array[odd_array > 11]    # one line \n",
    "compact_array    # show array"
   ]
  },
  {
   "cell_type": "code",
   "execution_count": 76,
   "id": "74b6be4d",
   "metadata": {},
   "outputs": [
    {
     "data": {
      "text/plain": [
       "array([[0, 1, 2, 3, 4],\n",
       "       [5, 6, 7, 8, 9]])"
      ]
     },
     "execution_count": 76,
     "metadata": {},
     "output_type": "execute_result"
    }
   ],
   "source": [
    "# Declare array one of 10 elements\n",
    "array1 = np.arange(10).reshape(2, 5)   # create an array with 2 rows and 5 columns\n",
    "array1   # show array"
   ]
  },
  {
   "cell_type": "code",
   "execution_count": 77,
   "id": "772e7f43",
   "metadata": {},
   "outputs": [
    {
     "data": {
      "text/plain": [
       "array([[0.5314726 , 0.58824315, 0.62574145, 0.87396235, 0.3195084 ],\n",
       "       [0.44765052, 0.03726213, 0.5466682 , 0.38458223, 0.93252164]])"
      ]
     },
     "execution_count": 77,
     "metadata": {},
     "output_type": "execute_result"
    }
   ],
   "source": [
    "# Declare array two of 10 elements\n",
    "array2 = np.random.rand(10).reshape(2, 5)   # create an array with 2 rows and 5 columns\n",
    "array2  # show array"
   ]
  },
  {
   "cell_type": "code",
   "execution_count": 78,
   "id": "8f099954",
   "metadata": {},
   "outputs": [
    {
     "data": {
      "text/plain": [
       "array([[0.5314726 , 1.58824315, 2.62574145, 3.87396235, 4.3195084 ],\n",
       "       [5.44765052, 6.03726213, 7.5466682 , 8.38458223, 9.93252164]])"
      ]
     },
     "execution_count": 78,
     "metadata": {},
     "output_type": "execute_result"
    }
   ],
   "source": [
    "# Addition\n",
    "array_sum = array1 + array2  # Perform element-wise addition\n",
    "array_sum    # show result array"
   ]
  },
  {
   "cell_type": "code",
   "execution_count": 79,
   "id": "cecf61bb",
   "metadata": {},
   "outputs": [
    {
     "data": {
      "text/plain": [
       "array([[-0.5314726 ,  0.41175685,  1.37425855,  2.12603765,  3.6804916 ],\n",
       "       [ 4.55234948,  5.96273787,  6.4533318 ,  7.61541777,  8.06747836]])"
      ]
     },
     "execution_count": 79,
     "metadata": {},
     "output_type": "execute_result"
    }
   ],
   "source": [
    "# Subtraction\n",
    "array_minus = array1 - array2  # Variable assignment\n",
    "array_minus  # show result array"
   ]
  },
  {
   "cell_type": "code",
   "execution_count": 80,
   "id": "013ee0c9",
   "metadata": {},
   "outputs": [
    {
     "data": {
      "text/plain": [
       "array([[0.        , 0.58824315, 1.2514829 , 2.62188704, 1.27803362],\n",
       "       [2.23825259, 0.22357278, 3.82667737, 3.07665785, 8.39269475]])"
      ]
     },
     "execution_count": 80,
     "metadata": {},
     "output_type": "execute_result"
    }
   ],
   "source": [
    "# Multiplication\n",
    "array_product = array1 * array2  # Variable assignment\n",
    "array_product   # show result array"
   ]
  },
  {
   "cell_type": "code",
   "execution_count": 81,
   "id": "ae2ddcab",
   "metadata": {},
   "outputs": [
    {
     "data": {
      "text/plain": [
       "array([[  0.        ,   1.69997729,   3.19620828,   3.43264216,\n",
       "         12.51923251],\n",
       "       [ 11.16942748, 161.02138868,  12.80484224,  20.80179309,\n",
       "          9.65125057]])"
      ]
     },
     "execution_count": 81,
     "metadata": {},
     "output_type": "execute_result"
    }
   ],
   "source": [
    "# Division\n",
    "array_divide = array1 / array2  # Variable assignment\n",
    "array_divide   # show result array"
   ]
  },
  {
   "cell_type": "code",
   "execution_count": 82,
   "id": "2065bae5",
   "metadata": {},
   "outputs": [
    {
     "data": {
      "text/plain": [
       "array([ 0,  1,  2,  3,  4,  5,  6,  7,  8,  9, 10])"
      ]
     },
     "execution_count": 82,
     "metadata": {},
     "output_type": "execute_result"
    }
   ],
   "source": [
    "# Create an array of values from 0 to 10\n",
    "new_array = np.arange(0, 11)    # array of values from 0-10\n",
    "new_array    # show array"
   ]
  },
  {
   "cell_type": "code",
   "execution_count": 83,
   "id": "76332579",
   "metadata": {},
   "outputs": [],
   "source": [
    "scalar = 100   # scalar value"
   ]
  },
  {
   "cell_type": "code",
   "execution_count": 84,
   "id": "7add578c",
   "metadata": {},
   "outputs": [
    {
     "data": {
      "text/plain": [
       "array([100, 101, 102, 103, 104, 105, 106, 107, 108, 109, 110])"
      ]
     },
     "execution_count": 84,
     "metadata": {},
     "output_type": "execute_result"
    }
   ],
   "source": [
    "# Create an array with a range from 100 - 110 using +\n",
    "add_array = new_array + scalar    # add 100 to the every item in new_array\n",
    "add_array    # show result array"
   ]
  },
  {
   "cell_type": "code",
   "execution_count": 85,
   "id": "5fc9d42c",
   "metadata": {},
   "outputs": [
    {
     "data": {
      "text/plain": [
       "array([100, 100, 100, 100, 100, 100, 100, 100, 100, 100, 100])"
      ]
     },
     "execution_count": 85,
     "metadata": {},
     "output_type": "execute_result"
    }
   ],
   "source": [
    "# Create an array of 100s using -\n",
    "minus_array = add_array - new_array    # get 100s\n",
    "minus_array    # show result array"
   ]
  },
  {
   "cell_type": "code",
   "execution_count": 86,
   "id": "948f76f7",
   "metadata": {},
   "outputs": [
    {
     "data": {
      "text/plain": [
       "array([   0,  100,  200,  300,  400,  500,  600,  700,  800,  900, 1000])"
      ]
     },
     "execution_count": 86,
     "metadata": {},
     "output_type": "execute_result"
    }
   ],
   "source": [
    "# Create an array using multiplication\n",
    "multi_array = new_array * 100   # multiply by 100\n",
    "multi_array   # show result array"
   ]
  },
  {
   "cell_type": "code",
   "execution_count": 87,
   "id": "7c52e54a",
   "metadata": {},
   "outputs": [
    {
     "name": "stderr",
     "output_type": "stream",
     "text": [
      "C:\\Users\\dchen\\AppData\\Local\\Temp\\ipykernel_29832\\3671682171.py:2: RuntimeWarning: invalid value encountered in divide\n",
      "  err_array = new_array / new_array     # divide one array by another array.\n"
     ]
    },
    {
     "data": {
      "text/plain": [
       "array([nan,  1.,  1.,  1.,  1.,  1.,  1.,  1.,  1.,  1.,  1.])"
      ]
     },
     "execution_count": 87,
     "metadata": {},
     "output_type": "execute_result"
    }
   ],
   "source": [
    "# Create an array using division\n",
    "err_array = new_array / new_array     # divide one array by another array. \n",
    "err_array    # show result array"
   ]
  },
  {
   "cell_type": "code",
   "execution_count": 88,
   "id": "93df3e71",
   "metadata": {},
   "outputs": [
    {
     "data": {
      "text/plain": [
       "array([100, 101, 102, 103, 104, 105, 106, 107, 108, 109, 110])"
      ]
     },
     "execution_count": 88,
     "metadata": {},
     "output_type": "execute_result"
    }
   ],
   "source": [
    "# Use univeral function for addition\n",
    "u_add = np.add(new_array, scalar)   # add scalar value to the array\n",
    "u_add   # show result array"
   ]
  },
  {
   "cell_type": "code",
   "execution_count": 89,
   "id": "0cfbf020",
   "metadata": {},
   "outputs": [
    {
     "data": {
      "text/plain": [
       "array([100, 100, 100, 100, 100, 100, 100, 100, 100, 100, 100])"
      ]
     },
     "execution_count": 89,
     "metadata": {},
     "output_type": "execute_result"
    }
   ],
   "source": [
    "# Subtract one array from another array\n",
    "u_sub = np.subtract(add_array, new_array)  # Variable assignment\n",
    "u_sub   # show result array"
   ]
  },
  {
   "cell_type": "code",
   "execution_count": 90,
   "id": "0b099b97",
   "metadata": {},
   "outputs": [
    {
     "name": "stderr",
     "output_type": "stream",
     "text": [
      "C:\\Users\\dchen\\AppData\\Local\\Temp\\ipykernel_29832\\2035590514.py:2: RuntimeWarning: divide by zero encountered in log\n",
      "  u_log = np.log(new_array)  # Variable assignment\n"
     ]
    },
    {
     "data": {
      "text/plain": [
       "array([      -inf, 0.        , 0.69314718, 1.09861229, 1.38629436,\n",
       "       1.60943791, 1.79175947, 1.94591015, 2.07944154, 2.19722458,\n",
       "       2.30258509])"
      ]
     },
     "execution_count": 90,
     "metadata": {},
     "output_type": "execute_result"
    }
   ],
   "source": [
    "# Apply natural log on an array\n",
    "u_log = np.log(new_array)  # Variable assignment\n",
    "u_log   # show result array"
   ]
  },
  {
   "cell_type": "code",
   "execution_count": 91,
   "id": "84269d4f",
   "metadata": {},
   "outputs": [
    {
     "data": {
      "text/plain": [
       "array([ 0.        ,  0.84147098,  0.90929743,  0.14112001, -0.7568025 ,\n",
       "       -0.95892427, -0.2794155 ,  0.6569866 ,  0.98935825,  0.41211849,\n",
       "       -0.54402111])"
      ]
     },
     "execution_count": 91,
     "metadata": {},
     "output_type": "execute_result"
    }
   ],
   "source": [
    "# Apply sine wave on an array\n",
    "u_sine = np.sin(new_array)    # Variable assignment\n",
    "u_sine    # show result array"
   ]
  },
  {
   "cell_type": "code",
   "execution_count": 92,
   "id": "e8ab7b8a",
   "metadata": {},
   "outputs": [
    {
     "data": {
      "text/plain": [
       "10"
      ]
     },
     "execution_count": 92,
     "metadata": {},
     "output_type": "execute_result"
    }
   ],
   "source": [
    "# Find the maximum value using the .method\n",
    "new_array.max()   # find maximum"
   ]
  },
  {
   "cell_type": "code",
   "execution_count": 93,
   "id": "e6fbb002",
   "metadata": {},
   "outputs": [
    {
     "data": {
      "text/plain": [
       "10"
      ]
     },
     "execution_count": 93,
     "metadata": {},
     "output_type": "execute_result"
    }
   ],
   "source": [
    "# Find the maximum value using the max() method\n",
    "np.max(new_array)  # find maximum"
   ]
  },
  {
   "cell_type": "code",
   "execution_count": 94,
   "id": "10b457d3",
   "metadata": {},
   "outputs": [
    {
     "data": {
      "text/plain": [
       "array([[0, 1, 2],\n",
       "       [3, 4, 5]])"
      ]
     },
     "execution_count": 94,
     "metadata": {},
     "output_type": "execute_result"
    }
   ],
   "source": [
    "# Create a 2D array\n",
    "np_array_2d = np.arange(0,6).reshape(2,3)  # Reshape the array\n",
    "np_array_2d  # Additional operation"
   ]
  },
  {
   "cell_type": "code",
   "execution_count": 95,
   "id": "fcf2b2cc",
   "metadata": {},
   "outputs": [
    {
     "data": {
      "text/plain": [
       "array([3, 5, 7])"
      ]
     },
     "execution_count": 95,
     "metadata": {},
     "output_type": "execute_result"
    }
   ],
   "source": [
    "# Sum with axis = 0\n",
    "np.sum(np_array_2d, axis=0)  # Variable assignment"
   ]
  },
  {
   "cell_type": "code",
   "execution_count": 96,
   "id": "efbac117",
   "metadata": {},
   "outputs": [
    {
     "data": {
      "text/plain": [
       "array([ 3, 12])"
      ]
     },
     "execution_count": 96,
     "metadata": {},
     "output_type": "execute_result"
    }
   ],
   "source": [
    "# Sum with axis = 1\n",
    "np.sum(np_array_2d, axis=1)  # Variable assignment"
   ]
  },
  {
   "cell_type": "code",
   "execution_count": 97,
   "id": "e50740c9",
   "metadata": {},
   "outputs": [
    {
     "data": {
      "text/plain": [
       "array([0, 1, 2, 3, 4, 5, 6, 7, 8, 9])"
      ]
     },
     "execution_count": 97,
     "metadata": {},
     "output_type": "execute_result"
    }
   ],
   "source": [
    "freq = np.arange(10)  # Create an array with a range of values\n",
    "freq  # Additional operation"
   ]
  },
  {
   "cell_type": "code",
   "execution_count": 98,
   "id": "e532eb28",
   "metadata": {},
   "outputs": [
    {
     "data": {
      "text/plain": [
       "array([[0, 1],\n",
       "       [2, 3],\n",
       "       [4, 5],\n",
       "       [6, 7],\n",
       "       [8, 9]])"
      ]
     },
     "execution_count": 98,
     "metadata": {},
     "output_type": "execute_result"
    }
   ],
   "source": [
    "np.reshape(freq, (5, 2))  # Reshape the array"
   ]
  },
  {
   "cell_type": "code",
   "execution_count": 99,
   "id": "57c77bbf",
   "metadata": {},
   "outputs": [
    {
     "data": {
      "text/plain": [
       "array([0.86757343, 0.67811572, 0.4011323 , 0.73651793, 0.51365722,\n",
       "       0.65484709, 0.94530883, 0.37395268, 0.74023335, 0.49687462])"
      ]
     },
     "execution_count": 99,
     "metadata": {},
     "output_type": "execute_result"
    }
   ],
   "source": [
    "values = np.random.rand(10)  # Variable assignment\n",
    "values  # Additional operation"
   ]
  },
  {
   "cell_type": "code",
   "execution_count": 100,
   "id": "0fdef2c8",
   "metadata": {},
   "outputs": [
    {
     "data": {
      "text/plain": [
       "array([[0.86757343, 0.67811572, 0.4011323 , 0.73651793, 0.51365722],\n",
       "       [0.65484709, 0.94530883, 0.37395268, 0.74023335, 0.49687462]])"
      ]
     },
     "execution_count": 100,
     "metadata": {},
     "output_type": "execute_result"
    }
   ],
   "source": [
    "np.reshape(values, (2, 5))  # Reshape the array"
   ]
  },
  {
   "cell_type": "code",
   "execution_count": 101,
   "id": "5c22b6c7",
   "metadata": {},
   "outputs": [
    {
     "data": {
      "text/plain": [
       "array([[0, 1, 2],\n",
       "       [3, 4, 5]])"
      ]
     },
     "execution_count": 101,
     "metadata": {},
     "output_type": "execute_result"
    }
   ],
   "source": [
    "np_array_2d = np.arange(0, 6).reshape((2,3))  # Reshape the array\n",
    "np_array_2d  # Additional operation"
   ]
  },
  {
   "cell_type": "markdown",
   "id": "ea2a70e8",
   "metadata": {},
   "source": []
  },
  {
   "cell_type": "code",
   "execution_count": 102,
   "id": "457ba672",
   "metadata": {},
   "outputs": [
    {
     "data": {
      "text/plain": [
       "0.9453088275515285"
      ]
     },
     "execution_count": 102,
     "metadata": {},
     "output_type": "execute_result"
    }
   ],
   "source": [
    "values.max()  # Additional operation"
   ]
  },
  {
   "cell_type": "code",
   "execution_count": 103,
   "id": "1727ec59",
   "metadata": {},
   "outputs": [
    {
     "data": {
      "text/plain": [
       "6"
      ]
     },
     "execution_count": 103,
     "metadata": {},
     "output_type": "execute_result"
    }
   ],
   "source": [
    "values.argmax()  # Additional operation"
   ]
  },
  {
   "cell_type": "code",
   "execution_count": 104,
   "id": "60425bc3",
   "metadata": {},
   "outputs": [
    {
     "data": {
      "text/plain": [
       "0.37395267559743317"
      ]
     },
     "execution_count": 104,
     "metadata": {},
     "output_type": "execute_result"
    }
   ],
   "source": [
    "values.min()  # Additional operation"
   ]
  },
  {
   "cell_type": "code",
   "execution_count": 105,
   "id": "9aa556bb",
   "metadata": {},
   "outputs": [
    {
     "data": {
      "text/plain": [
       "7"
      ]
     },
     "execution_count": 105,
     "metadata": {},
     "output_type": "execute_result"
    }
   ],
   "source": [
    "values.argmin()  # Additional operation"
   ]
  },
  {
   "cell_type": "code",
   "execution_count": 106,
   "id": "d502d1bd",
   "metadata": {},
   "outputs": [
    {
     "data": {
      "text/plain": [
       "0.8675734338051594"
      ]
     },
     "execution_count": 106,
     "metadata": {},
     "output_type": "execute_result"
    }
   ],
   "source": [
    "values[0]  # Indexing operation on the array"
   ]
  },
  {
   "cell_type": "code",
   "execution_count": 107,
   "id": "7374bda4",
   "metadata": {},
   "outputs": [
    {
     "data": {
      "text/plain": [
       "0.496874620689572"
      ]
     },
     "execution_count": 107,
     "metadata": {},
     "output_type": "execute_result"
    }
   ],
   "source": [
    "values[-1]  # Indexing operation on the array"
   ]
  },
  {
   "cell_type": "code",
   "execution_count": 108,
   "id": "e5695b15",
   "metadata": {},
   "outputs": [
    {
     "data": {
      "text/plain": [
       "array([0.67811572, 0.4011323 ])"
      ]
     },
     "execution_count": 108,
     "metadata": {},
     "output_type": "execute_result"
    }
   ],
   "source": [
    "values[1:3]  # Indexing operation on the array"
   ]
  },
  {
   "cell_type": "code",
   "execution_count": 109,
   "id": "a0edb011",
   "metadata": {},
   "outputs": [
    {
     "data": {
      "text/plain": [
       "array([0.73651793, 0.51365722, 0.65484709, 0.94530883, 0.37395268])"
      ]
     },
     "execution_count": 109,
     "metadata": {},
     "output_type": "execute_result"
    }
   ],
   "source": [
    "values[3:8]  # Indexing operation on the array"
   ]
  },
  {
   "cell_type": "code",
   "execution_count": 110,
   "id": "5cc5ea9e",
   "metadata": {},
   "outputs": [
    {
     "data": {
      "text/plain": [
       "[0, 1, 2, 3, 4, 5, 6, 7, 8, 9, 10]"
      ]
     },
     "execution_count": 110,
     "metadata": {},
     "output_type": "execute_result"
    }
   ],
   "source": [
    "num_list = list(range(11))  # Variable assignment\n",
    "num_list  # Additional operation"
   ]
  },
  {
   "cell_type": "code",
   "execution_count": 111,
   "id": "4a1cf082",
   "metadata": {},
   "outputs": [
    {
     "data": {
      "text/plain": [
       "list"
      ]
     },
     "execution_count": 111,
     "metadata": {},
     "output_type": "execute_result"
    }
   ],
   "source": [
    "type(num_list)  # Additional operation"
   ]
  },
  {
   "cell_type": "code",
   "execution_count": 112,
   "id": "1583101d",
   "metadata": {},
   "outputs": [
    {
     "data": {
      "text/plain": [
       "[0, 1, 2, 3]"
      ]
     },
     "execution_count": 112,
     "metadata": {},
     "output_type": "execute_result"
    }
   ],
   "source": [
    "list_slice = num_list[:4]  # Indexing operation on the array\n",
    "list_slice  # Additional operation"
   ]
  },
  {
   "cell_type": "code",
   "execution_count": 113,
   "id": "22ad947d",
   "metadata": {},
   "outputs": [
    {
     "data": {
      "text/plain": [
       "[5, 7, 9, 3]"
      ]
     },
     "execution_count": 113,
     "metadata": {},
     "output_type": "execute_result"
    }
   ],
   "source": [
    "list_slice[:] = [5, 7, 9, 3]  # Indexing operation on the array\n",
    "list_slice  # Additional operation"
   ]
  },
  {
   "cell_type": "code",
   "execution_count": 114,
   "id": "3890ac09",
   "metadata": {},
   "outputs": [
    {
     "data": {
      "text/plain": [
       "[0, 1, 2, 3, 4, 5, 6, 7, 8, 9, 10]"
      ]
     },
     "execution_count": 114,
     "metadata": {},
     "output_type": "execute_result"
    }
   ],
   "source": [
    "num_list  # Additional operation"
   ]
  },
  {
   "cell_type": "code",
   "execution_count": 115,
   "id": "03f58297",
   "metadata": {},
   "outputs": [],
   "source": [
    "num_array = np.arange(11)  # Create an array with a range of values"
   ]
  },
  {
   "cell_type": "code",
   "execution_count": 116,
   "id": "a4f159e8",
   "metadata": {},
   "outputs": [
    {
     "data": {
      "text/plain": [
       "array([ 0,  1,  2,  3,  4,  5,  6,  7,  8,  9, 10])"
      ]
     },
     "execution_count": 116,
     "metadata": {},
     "output_type": "execute_result"
    }
   ],
   "source": [
    "num_array  # Additional operation"
   ]
  },
  {
   "cell_type": "code",
   "execution_count": 117,
   "id": "b6341132",
   "metadata": {},
   "outputs": [
    {
     "data": {
      "text/plain": [
       "numpy.ndarray"
      ]
     },
     "execution_count": 117,
     "metadata": {},
     "output_type": "execute_result"
    }
   ],
   "source": [
    "type(num_array)  # Additional operation"
   ]
  },
  {
   "cell_type": "code",
   "execution_count": 118,
   "id": "bf737736",
   "metadata": {},
   "outputs": [
    {
     "data": {
      "text/plain": [
       "array([0, 1, 2, 3])"
      ]
     },
     "execution_count": 118,
     "metadata": {},
     "output_type": "execute_result"
    }
   ],
   "source": [
    "array_slice = num_array[:4]  # Indexing operation on the array\n",
    "array_slice  # Additional operation"
   ]
  },
  {
   "cell_type": "code",
   "execution_count": 119,
   "id": "b2d781bb",
   "metadata": {},
   "outputs": [
    {
     "data": {
      "text/plain": [
       "array([5, 7, 9, 3])"
      ]
     },
     "execution_count": 119,
     "metadata": {},
     "output_type": "execute_result"
    }
   ],
   "source": [
    "array_slice[:] = [5, 7, 9, 3]  # Indexing operation on the array\n",
    "array_slice  # Additional operation"
   ]
  },
  {
   "cell_type": "code",
   "execution_count": 120,
   "id": "351ae1ce",
   "metadata": {},
   "outputs": [
    {
     "data": {
      "text/plain": [
       "array([5, 7, 9, 3])"
      ]
     },
     "execution_count": 120,
     "metadata": {},
     "output_type": "execute_result"
    }
   ],
   "source": [
    "array_copy = num_array.copy()[:4]  # Create a copy of the array (not a view)\n",
    "array_copy  # Create a copy of the array (not a view)"
   ]
  },
  {
   "cell_type": "code",
   "execution_count": 121,
   "id": "e2c826ff",
   "metadata": {},
   "outputs": [
    {
     "data": {
      "text/plain": [
       "array([1, 1, 1, 1])"
      ]
     },
     "execution_count": 121,
     "metadata": {},
     "output_type": "execute_result"
    }
   ],
   "source": [
    "array_copy[:] = [1, 1, 1, 1]  # Create a copy of the array (not a view)\n",
    "array_copy  # Create a copy of the array (not a view)"
   ]
  },
  {
   "cell_type": "code",
   "execution_count": 122,
   "id": "dc122231",
   "metadata": {},
   "outputs": [
    {
     "data": {
      "text/plain": [
       "array([[ 5, 10, 15],\n",
       "       [20, 25, 30],\n",
       "       [35, 40, 45]])"
      ]
     },
     "execution_count": 122,
     "metadata": {},
     "output_type": "execute_result"
    }
   ],
   "source": [
    "matrix = np.array(([5, 10, 15], [20, 25, 30], [35, 40, 45]))  # Create a NumPy array\n",
    "matrix  # Additional operation"
   ]
  },
  {
   "cell_type": "code",
   "execution_count": 123,
   "id": "b1935af8",
   "metadata": {},
   "outputs": [
    {
     "data": {
      "text/plain": [
       "array([20, 25, 30])"
      ]
     },
     "execution_count": 123,
     "metadata": {},
     "output_type": "execute_result"
    }
   ],
   "source": [
    "matrix[1]  # Indexing operation on the array"
   ]
  },
  {
   "cell_type": "code",
   "execution_count": 124,
   "id": "ffcdd37a",
   "metadata": {},
   "outputs": [
    {
     "data": {
      "text/plain": [
       "35"
      ]
     },
     "execution_count": 124,
     "metadata": {},
     "output_type": "execute_result"
    }
   ],
   "source": [
    "matrix[2][0]  # Indexing operation on the array"
   ]
  },
  {
   "cell_type": "code",
   "execution_count": 125,
   "id": "5119b493",
   "metadata": {},
   "outputs": [
    {
     "data": {
      "text/plain": [
       "array([[ 5, 10, 15],\n",
       "       [20, 25, 30]])"
      ]
     },
     "execution_count": 125,
     "metadata": {},
     "output_type": "execute_result"
    }
   ],
   "source": [
    "matrix[:2]  # Indexing operation on the array"
   ]
  },
  {
   "cell_type": "code",
   "execution_count": 126,
   "id": "72f521c9",
   "metadata": {},
   "outputs": [
    {
     "data": {
      "text/plain": [
       "45"
      ]
     },
     "execution_count": 126,
     "metadata": {},
     "output_type": "execute_result"
    }
   ],
   "source": [
    "matrix[2][2]  # Indexing operation on the array"
   ]
  },
  {
   "cell_type": "code",
   "execution_count": 127,
   "id": "786202f9",
   "metadata": {},
   "outputs": [
    {
     "data": {
      "text/plain": [
       "45"
      ]
     },
     "execution_count": 127,
     "metadata": {},
     "output_type": "execute_result"
    }
   ],
   "source": [
    "matrix[2, 2]  # Indexing operation on the array"
   ]
  },
  {
   "cell_type": "code",
   "execution_count": 128,
   "id": "a28ca75c",
   "metadata": {},
   "outputs": [
    {
     "data": {
      "text/plain": [
       "array([[ 5, 10, 15],\n",
       "       [20, 25, 30],\n",
       "       [35, 40, 45]])"
      ]
     },
     "execution_count": 128,
     "metadata": {},
     "output_type": "execute_result"
    }
   ],
   "source": [
    "matrix  # Additional operation"
   ]
  },
  {
   "cell_type": "code",
   "execution_count": 129,
   "id": "eba17187",
   "metadata": {},
   "outputs": [
    {
     "data": {
      "text/plain": [
       "array([[10, 15],\n",
       "       [25, 30],\n",
       "       [40, 45]])"
      ]
     },
     "execution_count": 129,
     "metadata": {},
     "output_type": "execute_result"
    }
   ],
   "source": [
    "colum_slice = matrix[:, 1:3]  # Indexing operation on the array\n",
    "colum_slice  # Additional operation"
   ]
  },
  {
   "cell_type": "code",
   "execution_count": 130,
   "id": "30b64f92",
   "metadata": {},
   "outputs": [
    {
     "data": {
      "text/plain": [
       "array([ 0,  2,  4,  6,  8, 10, 12, 14, 16, 18])"
      ]
     },
     "execution_count": 130,
     "metadata": {},
     "output_type": "execute_result"
    }
   ],
   "source": [
    "even_array = np.arange(0, 20, 2)  # Create an array with a range of values\n",
    "even_array  # Additional operation"
   ]
  },
  {
   "cell_type": "code",
   "execution_count": 131,
   "id": "b6091dd3",
   "metadata": {},
   "outputs": [
    {
     "data": {
      "text/plain": [
       "array([False, False, False, False, False, False,  True,  True,  True,\n",
       "        True])"
      ]
     },
     "execution_count": 131,
     "metadata": {},
     "output_type": "execute_result"
    }
   ],
   "source": [
    "bool_array = even_array > 11  # Create a boolean mask\n",
    "bool_array  # Additional operation"
   ]
  },
  {
   "cell_type": "code",
   "execution_count": 132,
   "id": "d6a8258a",
   "metadata": {},
   "outputs": [
    {
     "data": {
      "text/plain": [
       "array([12, 14, 16, 18])"
      ]
     },
     "execution_count": 132,
     "metadata": {},
     "output_type": "execute_result"
    }
   ],
   "source": [
    "useful_array = even_array[bool_array]  # Indexing operation on the array\n",
    "useful_array  # Additional operation"
   ]
  },
  {
   "cell_type": "code",
   "execution_count": 133,
   "id": "6422d63f",
   "metadata": {},
   "outputs": [
    {
     "data": {
      "text/plain": [
       "array([12, 14, 16, 18])"
      ]
     },
     "execution_count": 133,
     "metadata": {},
     "output_type": "execute_result"
    }
   ],
   "source": [
    "compact_array = even_array[even_array > 11]  # Create a boolean mask\n",
    "compact_array  # Additional operation"
   ]
  },
  {
   "cell_type": "code",
   "execution_count": 134,
   "id": "51d35fd1",
   "metadata": {},
   "outputs": [
    {
     "data": {
      "text/plain": [
       "array([[0, 1, 2, 3, 4],\n",
       "       [5, 6, 7, 8, 9]])"
      ]
     },
     "execution_count": 134,
     "metadata": {},
     "output_type": "execute_result"
    }
   ],
   "source": [
    "array1 = np.arange(10).reshape(2, 5)  # Reshape the array\n",
    "array1  # Additional operation"
   ]
  },
  {
   "cell_type": "code",
   "execution_count": 135,
   "id": "342d2e25",
   "metadata": {},
   "outputs": [
    {
     "data": {
      "text/plain": [
       "array([[0.01076785, 0.65208188, 0.21308731, 0.30581511, 0.94344148],\n",
       "       [0.35076832, 0.40653302, 0.11669713, 0.43856435, 0.19422649]])"
      ]
     },
     "execution_count": 135,
     "metadata": {},
     "output_type": "execute_result"
    }
   ],
   "source": [
    "array2 = np.random.rand(10).reshape(2, 5)  # Reshape the array\n",
    "array2  # Additional operation"
   ]
  },
  {
   "cell_type": "code",
   "execution_count": 136,
   "id": "acdaa475",
   "metadata": {},
   "outputs": [
    {
     "data": {
      "text/plain": [
       "array([[0.01076785, 1.65208188, 2.21308731, 3.30581511, 4.94344148],\n",
       "       [5.35076832, 6.40653302, 7.11669713, 8.43856435, 9.19422649]])"
      ]
     },
     "execution_count": 136,
     "metadata": {},
     "output_type": "execute_result"
    }
   ],
   "source": [
    "#Addition\n",
    "array_sum = array1 + array2  # Perform element-wise addition\n",
    "array_sum  # Additional operation"
   ]
  },
  {
   "cell_type": "code",
   "execution_count": 137,
   "id": "a227d556",
   "metadata": {},
   "outputs": [
    {
     "data": {
      "text/plain": [
       "array([[-0.01076785,  0.34791812,  1.78691269,  2.69418489,  3.05655852],\n",
       "       [ 4.64923168,  5.59346698,  6.88330287,  7.56143565,  8.80577351]])"
      ]
     },
     "execution_count": 137,
     "metadata": {},
     "output_type": "execute_result"
    }
   ],
   "source": [
    "#Substraction\n",
    "array_minus = array1 - array2  # Variable assignment\n",
    "array_minus  # Additional operation"
   ]
  },
  {
   "cell_type": "code",
   "execution_count": 138,
   "id": "b88a002d",
   "metadata": {},
   "outputs": [
    {
     "data": {
      "text/plain": [
       "array([[0.        , 0.65208188, 0.42617462, 0.91744533, 3.77376593],\n",
       "       [1.75384162, 2.43919809, 0.81687992, 3.50851482, 1.74803841]])"
      ]
     },
     "execution_count": 138,
     "metadata": {},
     "output_type": "execute_result"
    }
   ],
   "source": [
    "array_product = array1 * array2  # Variable assignment\n",
    "array_product  # Additional operation"
   ]
  },
  {
   "cell_type": "code",
   "execution_count": 139,
   "id": "bfbc992f",
   "metadata": {},
   "outputs": [
    {
     "data": {
      "text/plain": [
       "array([[ 0.        ,  1.53354975,  9.38582403,  9.80984888,  4.23979661],\n",
       "       [14.25442281, 14.75894891, 59.98433685, 18.24133667, 46.33765461]])"
      ]
     },
     "execution_count": 139,
     "metadata": {},
     "output_type": "execute_result"
    }
   ],
   "source": [
    "# Division\n",
    "array_divide = array1 / array2  # Variable assignment\n",
    "array_divide  # Additional operation"
   ]
  },
  {
   "cell_type": "code",
   "execution_count": 140,
   "id": "9b0ac3d9",
   "metadata": {},
   "outputs": [
    {
     "data": {
      "text/plain": [
       "array([ 0,  1,  2,  3,  4,  5,  6,  7,  8,  9, 10])"
      ]
     },
     "execution_count": 140,
     "metadata": {},
     "output_type": "execute_result"
    }
   ],
   "source": [
    "new_array = np.arange(0, 11)  # Create an array with a range of values\n",
    "new_array  # Additional operation"
   ]
  },
  {
   "cell_type": "code",
   "execution_count": 141,
   "id": "de055c2c",
   "metadata": {},
   "outputs": [],
   "source": [
    "scalar = 100  # Variable assignment"
   ]
  },
  {
   "cell_type": "code",
   "execution_count": 142,
   "id": "f3ade634",
   "metadata": {},
   "outputs": [
    {
     "data": {
      "text/plain": [
       "array([100, 101, 102, 103, 104, 105, 106, 107, 108, 109, 110])"
      ]
     },
     "execution_count": 142,
     "metadata": {},
     "output_type": "execute_result"
    }
   ],
   "source": [
    "add_array = new_array + scalar  # Perform element-wise addition\n",
    "add_array  # Additional operation"
   ]
  },
  {
   "cell_type": "code",
   "execution_count": 143,
   "id": "ddc784bd",
   "metadata": {},
   "outputs": [
    {
     "data": {
      "text/plain": [
       "array([100, 100, 100, 100, 100, 100, 100, 100, 100, 100, 100])"
      ]
     },
     "execution_count": 143,
     "metadata": {},
     "output_type": "execute_result"
    }
   ],
   "source": [
    "minus_array = add_array - new_array  # Variable assignment\n",
    "minus_array  # Additional operation"
   ]
  },
  {
   "cell_type": "code",
   "execution_count": 144,
   "id": "61fe9369",
   "metadata": {},
   "outputs": [
    {
     "data": {
      "text/plain": [
       "array([   0,  100,  200,  300,  400,  500,  600,  700,  800,  900, 1000])"
      ]
     },
     "execution_count": 144,
     "metadata": {},
     "output_type": "execute_result"
    }
   ],
   "source": [
    "multi_array = new_array * scalar  # Variable assignment\n",
    "multi_array  # Additional operation"
   ]
  },
  {
   "cell_type": "code",
   "execution_count": 145,
   "id": "2fa6cbc9",
   "metadata": {},
   "outputs": [
    {
     "name": "stderr",
     "output_type": "stream",
     "text": [
      "C:\\Users\\dchen\\AppData\\Local\\Temp\\ipykernel_29832\\4266569895.py:1: RuntimeWarning: invalid value encountered in divide\n",
      "  err_array = new_array / new_array  # Variable assignment\n"
     ]
    },
    {
     "data": {
      "text/plain": [
       "array([nan,  1.,  1.,  1.,  1.,  1.,  1.,  1.,  1.,  1.,  1.])"
      ]
     },
     "execution_count": 145,
     "metadata": {},
     "output_type": "execute_result"
    }
   ],
   "source": [
    "err_array = new_array / new_array  # Variable assignment\n",
    "err_array  # Additional operation"
   ]
  },
  {
   "cell_type": "code",
   "execution_count": 146,
   "id": "39390d42",
   "metadata": {},
   "outputs": [
    {
     "data": {
      "text/plain": [
       "array([100, 101, 102, 103, 104, 105, 106, 107, 108, 109, 110])"
      ]
     },
     "execution_count": 146,
     "metadata": {},
     "output_type": "execute_result"
    }
   ],
   "source": [
    "u_add = np.add(new_array, scalar)  # Variable assignment\n",
    "u_add  # Additional operation"
   ]
  },
  {
   "cell_type": "code",
   "execution_count": 147,
   "id": "6de0d8ba",
   "metadata": {},
   "outputs": [
    {
     "data": {
      "text/plain": [
       "array([100, 100, 100, 100, 100, 100, 100, 100, 100, 100, 100])"
      ]
     },
     "execution_count": 147,
     "metadata": {},
     "output_type": "execute_result"
    }
   ],
   "source": [
    "u_sub = np.subtract(add_array, new_array)  # Variable assignment\n",
    "u_sub  # Additional operation"
   ]
  },
  {
   "cell_type": "code",
   "execution_count": 148,
   "id": "85cee405",
   "metadata": {},
   "outputs": [
    {
     "name": "stderr",
     "output_type": "stream",
     "text": [
      "C:\\Users\\dchen\\AppData\\Local\\Temp\\ipykernel_29832\\3030517451.py:1: RuntimeWarning: divide by zero encountered in log\n",
      "  u_log = np.log(new_array)  # Variable assignment\n"
     ]
    },
    {
     "data": {
      "text/plain": [
       "array([      -inf, 0.        , 0.69314718, 1.09861229, 1.38629436,\n",
       "       1.60943791, 1.79175947, 1.94591015, 2.07944154, 2.19722458,\n",
       "       2.30258509])"
      ]
     },
     "execution_count": 148,
     "metadata": {},
     "output_type": "execute_result"
    }
   ],
   "source": [
    "u_log = np.log(new_array)  # Variable assignment\n",
    "u_log  # Additional operation"
   ]
  },
  {
   "cell_type": "code",
   "execution_count": 149,
   "id": "a090e850",
   "metadata": {},
   "outputs": [
    {
     "data": {
      "text/plain": [
       "array([ 0.        ,  0.84147098,  0.90929743,  0.14112001, -0.7568025 ,\n",
       "       -0.95892427, -0.2794155 ,  0.6569866 ,  0.98935825,  0.41211849,\n",
       "       -0.54402111])"
      ]
     },
     "execution_count": 149,
     "metadata": {},
     "output_type": "execute_result"
    }
   ],
   "source": [
    "u_sine = np.sin(new_array)  # Variable assignment\n",
    "u_sine  # Additional operation"
   ]
  },
  {
   "cell_type": "code",
   "execution_count": 150,
   "id": "3fcdbf8d",
   "metadata": {},
   "outputs": [
    {
     "data": {
      "text/plain": [
       "10"
      ]
     },
     "execution_count": 150,
     "metadata": {},
     "output_type": "execute_result"
    }
   ],
   "source": [
    "new_array.max()  # Additional operation"
   ]
  },
  {
   "cell_type": "code",
   "execution_count": 151,
   "id": "0e6b919f",
   "metadata": {},
   "outputs": [
    {
     "data": {
      "text/plain": [
       "10"
      ]
     },
     "execution_count": 151,
     "metadata": {},
     "output_type": "execute_result"
    }
   ],
   "source": [
    "np.max(new_array)  # Additional operation"
   ]
  },
  {
   "cell_type": "code",
   "execution_count": 152,
   "id": "720ab8ee",
   "metadata": {},
   "outputs": [
    {
     "data": {
      "text/plain": [
       "array(['Red', 'Green', 'Orange'], dtype='<U6')"
      ]
     },
     "execution_count": 152,
     "metadata": {},
     "output_type": "execute_result"
    }
   ],
   "source": [
    "my_array = np.array([\"Red\", \"Green\", \"Orange\"])  # Create a NumPy array\n",
    "my_array  # Additional operation"
   ]
  },
  {
   "cell_type": "code",
   "execution_count": 153,
   "id": "6e84bc6f",
   "metadata": {},
   "outputs": [
    {
     "data": {
      "text/plain": [
       "array(['Red', 'Green', 'Orange', 'Yellow', 'Pink'], dtype='<U6')"
      ]
     },
     "execution_count": 153,
     "metadata": {},
     "output_type": "execute_result"
    }
   ],
   "source": [
    "extended = np.append(my_array, [\"Yellow\", \"Pink\"])  # Indexing operation on the array\n",
    "extended  # Additional operation"
   ]
  },
  {
   "cell_type": "code",
   "execution_count": 154,
   "id": "ee6acc05",
   "metadata": {},
   "outputs": [
    {
     "data": {
      "text/plain": [
       "array(['Red', 'Green', 'Orange'], dtype='<U6')"
      ]
     },
     "execution_count": 154,
     "metadata": {},
     "output_type": "execute_result"
    }
   ],
   "source": [
    "my_array  # Additional operation"
   ]
  },
  {
   "cell_type": "code",
   "execution_count": 155,
   "id": "5b389d0b",
   "metadata": {},
   "outputs": [
    {
     "data": {
      "text/plain": [
       "array([[0., 0., 0.],\n",
       "       [0., 0., 0.],\n",
       "       [0., 0., 0.]])"
      ]
     },
     "execution_count": 155,
     "metadata": {},
     "output_type": "execute_result"
    }
   ],
   "source": [
    "zeros_array = np.zeros((3, 3))  # Variable assignment\n",
    "zeros_array  # Additional operation"
   ]
  },
  {
   "cell_type": "code",
   "execution_count": 156,
   "id": "5a1dd651",
   "metadata": {},
   "outputs": [
    {
     "data": {
      "text/plain": [
       "array([[0., 0., 0., 1.],\n",
       "       [0., 0., 0., 2.],\n",
       "       [0., 0., 0., 3.]])"
      ]
     },
     "execution_count": 156,
     "metadata": {},
     "output_type": "execute_result"
    }
   ],
   "source": [
    "extended = np.append(zeros_array, [[1], [2], [3]], axis=1)  # Indexing operation on the array\n",
    "extended  # Additional operation"
   ]
  },
  {
   "cell_type": "code",
   "execution_count": 157,
   "id": "9dbc6188",
   "metadata": {},
   "outputs": [
    {
     "data": {
      "text/plain": [
       "array(['Red', 'Orange'], dtype='<U6')"
      ]
     },
     "execution_count": 157,
     "metadata": {},
     "output_type": "execute_result"
    }
   ],
   "source": [
    "updated_array = np.delete(my_array, 1)  # Variable assignment\n",
    "updated_array  # Additional operation"
   ]
  },
  {
   "cell_type": "code",
   "execution_count": 158,
   "id": "310a01e7",
   "metadata": {},
   "outputs": [
    {
     "data": {
      "text/plain": [
       "array([[ 3,  4,  6,  1,  2],\n",
       "       [ 9,  5,  8,  3,  3],\n",
       "       [ 7,  4, 10,  4,  5],\n",
       "       [ 3,  2,  3,  5,  3]])"
      ]
     },
     "execution_count": 158,
     "metadata": {},
     "output_type": "execute_result"
    }
   ],
   "source": [
    "integer_random = np.random.randint(1, 11, size=(4,5))  # Variable assignment\n",
    "integer_random  # Additional operation"
   ]
  },
  {
   "cell_type": "code",
   "execution_count": 159,
   "id": "02eddebe",
   "metadata": {},
   "outputs": [
    {
     "data": {
      "text/plain": [
       "array([[ 3,  4,  6,  1,  2],\n",
       "       [ 7,  4, 10,  4,  5],\n",
       "       [ 3,  2,  3,  5,  3]])"
      ]
     },
     "execution_count": 159,
     "metadata": {},
     "output_type": "execute_result"
    }
   ],
   "source": [
    "updated_array = np.delete(integer_random, 1, axis=0)  # Variable assignment\n",
    "updated_array  # Additional operation"
   ]
  },
  {
   "cell_type": "code",
   "execution_count": 160,
   "id": "dbe21a54",
   "metadata": {},
   "outputs": [
    {
     "data": {
      "text/plain": [
       "array([[ 3,  4,  6,  1,  2],\n",
       "       [ 9,  5,  8,  3,  3],\n",
       "       [ 7,  4, 10,  4,  5],\n",
       "       [ 3,  2,  3,  5,  3]])"
      ]
     },
     "execution_count": 160,
     "metadata": {},
     "output_type": "execute_result"
    }
   ],
   "source": [
    "integer_random  # Additional operation"
   ]
  },
  {
   "cell_type": "code",
   "execution_count": 161,
   "id": "41375076",
   "metadata": {},
   "outputs": [
    {
     "data": {
      "text/plain": [
       "array([[ 3,  6,  1,  2],\n",
       "       [ 9,  8,  3,  3],\n",
       "       [ 7, 10,  4,  5],\n",
       "       [ 3,  3,  5,  3]])"
      ]
     },
     "execution_count": 161,
     "metadata": {},
     "output_type": "execute_result"
    }
   ],
   "source": [
    "update_array = np.delete(integer_random, 1, axis=1)  # Variable assignment\n",
    "update_array  # Additional operation"
   ]
  },
  {
   "cell_type": "code",
   "execution_count": 162,
   "id": "ec88f74a",
   "metadata": {},
   "outputs": [
    {
     "data": {
      "text/plain": [
       "array([18, 14,  8, 15,  7,  5, 14, 10, 13,  7])"
      ]
     },
     "execution_count": 162,
     "metadata": {},
     "output_type": "execute_result"
    }
   ],
   "source": [
    "my_array = np.random.randint(1, 20, 10)  # Variable assignment\n",
    "my_array  # Additional operation"
   ]
  },
  {
   "cell_type": "code",
   "execution_count": 163,
   "id": "bf081abf",
   "metadata": {},
   "outputs": [
    {
     "data": {
      "text/plain": [
       "array([ 5,  7,  7,  8, 10, 13, 14, 14, 15, 18])"
      ]
     },
     "execution_count": 163,
     "metadata": {},
     "output_type": "execute_result"
    }
   ],
   "source": [
    "sorted_array = np.sort(my_array)  # Variable assignment\n",
    "sorted_array  # Additional operation"
   ]
  },
  {
   "cell_type": "code",
   "execution_count": 164,
   "id": "90b73b75",
   "metadata": {},
   "outputs": [
    {
     "data": {
      "text/plain": [
       "array(['Red', 'Green', 'Blue', 'Yellow'], dtype='<U6')"
      ]
     },
     "execution_count": 164,
     "metadata": {},
     "output_type": "execute_result"
    }
   ],
   "source": [
    "my_array = np.array([\"Red\", \"Green\", \"Blue\", \"Yellow\"])  # Create a NumPy array\n",
    "my_array  # Additional operation"
   ]
  },
  {
   "cell_type": "code",
   "execution_count": 165,
   "id": "fdb423c2",
   "metadata": {},
   "outputs": [
    {
     "data": {
      "text/plain": [
       "array([False,  True,  True, False, False,  True, False,  True])"
      ]
     },
     "execution_count": 165,
     "metadata": {},
     "output_type": "execute_result"
    }
   ],
   "source": [
    "my_array = np.array([False, True, True, False, False, True, False, True])  # Create a NumPy array\n",
    "my_array  # Additional operation"
   ]
  },
  {
   "cell_type": "code",
   "execution_count": 166,
   "id": "51882029",
   "metadata": {},
   "outputs": [
    {
     "data": {
      "text/plain": [
       "array([[ 1, 16, 12, 10, 10, 11],\n",
       "       [13,  6,  3,  8,  8, 10],\n",
       "       [16, 17, 12, 12,  2, 18],\n",
       "       [ 2, 10,  2,  5,  5,  7]])"
      ]
     },
     "execution_count": 166,
     "metadata": {},
     "output_type": "execute_result"
    }
   ],
   "source": [
    "my_array = np.random.randint(1, 20, size=(4, 6))  # Variable assignment\n",
    "my_array  # Additional operation"
   ]
  },
  {
   "cell_type": "code",
   "execution_count": 167,
   "id": "1f044426",
   "metadata": {},
   "outputs": [
    {
     "data": {
      "text/plain": [
       "array([18, 15, 14, 14, 13, 10,  8,  7,  7,  5])"
      ]
     },
     "execution_count": 167,
     "metadata": {},
     "output_type": "execute_result"
    }
   ],
   "source": [
    "reverse_sorted = np.flipud(sorted_array)  # Variable assignment\n",
    "reverse_sorted  # Additional operation"
   ]
  },
  {
   "cell_type": "code",
   "execution_count": 168,
   "id": "bff8885b",
   "metadata": {},
   "outputs": [
    {
     "data": {
      "text/plain": [
       "array([[ 3, 18,  6,  9,  4, 15],\n",
       "       [ 7, 14, 10,  7,  9, 13],\n",
       "       [ 4, 15,  4, 10,  7, 10],\n",
       "       [ 3, 14,  8,  7,  3,  1]])"
      ]
     },
     "execution_count": 168,
     "metadata": {},
     "output_type": "execute_result"
    }
   ],
   "source": [
    "two_d_array = np.random.randint(1, 20, size=(4,6))  # Variable assignment\n",
    "two_d_array  # Additional operation"
   ]
  },
  {
   "cell_type": "code",
   "execution_count": 169,
   "id": "413e7d52",
   "metadata": {},
   "outputs": [
    {
     "data": {
      "text/plain": [
       "array([ 3, 18,  6,  9,  4, 15,  7, 14, 10,  7,  9, 13,  4, 15,  4, 10,  7,\n",
       "       10,  3, 14,  8,  7,  3,  1])"
      ]
     },
     "execution_count": 169,
     "metadata": {},
     "output_type": "execute_result"
    }
   ],
   "source": [
    "one_d_array = two_d_array.reshape(24)  # Reshape the array\n",
    "one_d_array  # Additional operation"
   ]
  },
  {
   "cell_type": "code",
   "execution_count": 170,
   "id": "7db33bb8",
   "metadata": {},
   "outputs": [
    {
     "data": {
      "text/plain": [
       "array([[ 3, 18,  6,  9,  4, 15],\n",
       "       [ 7, 14, 10,  7,  9, 13],\n",
       "       [ 4, 15,  4, 10,  7, 10],\n",
       "       [ 3, 14,  8,  7,  3,  1]])"
      ]
     },
     "execution_count": 170,
     "metadata": {},
     "output_type": "execute_result"
    }
   ],
   "source": [
    "two_d_array  # Additional operation"
   ]
  },
  {
   "cell_type": "code",
   "execution_count": 171,
   "id": "51e10430",
   "metadata": {},
   "outputs": [
    {
     "data": {
      "text/plain": [
       "array([ 3, 18,  6,  9,  4, 15,  7, 14, 10,  7,  9, 13,  4, 15,  4, 10,  7,\n",
       "       10,  3, 14,  8,  7,  3,  1])"
      ]
     },
     "execution_count": 171,
     "metadata": {},
     "output_type": "execute_result"
    }
   ],
   "source": [
    "one_d_array = two_d_array.reshape(-1)  # Reshape the array\n",
    "one_d_array  # Additional operation"
   ]
  },
  {
   "cell_type": "code",
   "execution_count": 172,
   "id": "0827c4d2",
   "metadata": {},
   "outputs": [
    {
     "data": {
      "text/plain": [
       "array([24, 35, 41])"
      ]
     },
     "execution_count": 172,
     "metadata": {},
     "output_type": "execute_result"
    }
   ],
   "source": [
    "array1 = np.array([14, 25, 31])  # Create a NumPy array\n",
    "array2 = np.array([10])  # Create a NumPy array\n",
    "result = array1 + array2  # Perform element-wise addition\n",
    "result  # Additional operation"
   ]
  },
  {
   "cell_type": "code",
   "execution_count": 173,
   "id": "9642702e",
   "metadata": {},
   "outputs": [
    {
     "data": {
      "text/plain": [
       "array([10, 12, 14, 16, 18, 20])"
      ]
     },
     "execution_count": 173,
     "metadata": {},
     "output_type": "execute_result"
    }
   ],
   "source": [
    "array1 = np.array([10, 12, 14, 16, 18, 20])  # Create a NumPy array\n",
    "array1  # Additional operation"
   ]
  },
  {
   "cell_type": "code",
   "execution_count": 174,
   "id": "0326d94b",
   "metadata": {},
   "outputs": [],
   "source": [
    "np.save(r\"c:\\temp\\my_array.npy\", array1)  # Additional operation"
   ]
  },
  {
   "cell_type": "code",
   "execution_count": 175,
   "id": "5923efdc",
   "metadata": {},
   "outputs": [
    {
     "data": {
      "text/plain": [
       "array([10, 12, 14, 16, 18, 20])"
      ]
     },
     "execution_count": 175,
     "metadata": {},
     "output_type": "execute_result"
    }
   ],
   "source": [
    "loaded_array = np.load(r\"c:\\temp\\my_array.npy\")  # Variable assignment\n",
    "loaded_array  # Additional operation"
   ]
  },
  {
   "cell_type": "code",
   "execution_count": 176,
   "id": "c6d3a640",
   "metadata": {},
   "outputs": [],
   "source": [
    "np.savetxt(r\"c:\\temp\\my_array.txt\", array1)  # Additional operation"
   ]
  },
  {
   "cell_type": "code",
   "execution_count": 177,
   "id": "dd88696b",
   "metadata": {},
   "outputs": [
    {
     "data": {
      "text/plain": [
       "array([10., 12., 14., 16., 18., 20.])"
      ]
     },
     "execution_count": 177,
     "metadata": {},
     "output_type": "execute_result"
    }
   ],
   "source": [
    "loaded_array = np.loadtxt(r\"c:\\temp\\my_array.txt\")  # Variable assignment\n",
    "loaded_array  # Additional operation"
   ]
  },
  {
   "cell_type": "code",
   "execution_count": 178,
   "id": "40649261",
   "metadata": {},
   "outputs": [
    {
     "data": {
      "text/plain": [
       "array([ 2,  4,  8, 10, 12])"
      ]
     },
     "execution_count": 178,
     "metadata": {},
     "output_type": "execute_result"
    }
   ],
   "source": [
    "my_array = np.array([2,4,8,10, 12])  # Create a NumPy array\n",
    "my_array  # Additional operation"
   ]
  },
  {
   "cell_type": "code",
   "execution_count": 179,
   "id": "577126e8",
   "metadata": {},
   "outputs": [
    {
     "data": {
      "text/plain": [
       "7.2"
      ]
     },
     "execution_count": 179,
     "metadata": {},
     "output_type": "execute_result"
    }
   ],
   "source": [
    "np.mean(my_array)  # Additional operation"
   ]
  },
  {
   "cell_type": "code",
   "execution_count": 180,
   "id": "c4f25b63",
   "metadata": {},
   "outputs": [
    {
     "data": {
      "text/plain": [
       "array([[ 9,  8,  4],\n",
       "       [ 1, 18,  1]])"
      ]
     },
     "execution_count": 180,
     "metadata": {},
     "output_type": "execute_result"
    }
   ],
   "source": [
    "my_array = np.random.randint(1, 20, size=(2,3))  # Variable assignment\n",
    "my_array  # Additional operation"
   ]
  },
  {
   "cell_type": "code",
   "execution_count": 181,
   "id": "3a0cdc67",
   "metadata": {},
   "outputs": [
    {
     "data": {
      "text/plain": [
       "array([7.        , 6.66666667])"
      ]
     },
     "execution_count": 181,
     "metadata": {},
     "output_type": "execute_result"
    }
   ],
   "source": [
    "np.mean(my_array, axis=1)  # Variable assignment"
   ]
  },
  {
   "cell_type": "code",
   "execution_count": 182,
   "id": "8cc2e8a3",
   "metadata": {},
   "outputs": [
    {
     "data": {
      "text/plain": [
       "array([ 5. , 13. ,  2.5])"
      ]
     },
     "execution_count": 182,
     "metadata": {},
     "output_type": "execute_result"
    }
   ],
   "source": [
    "np.mean(my_array, axis=0)  # Variable assignment"
   ]
  },
  {
   "cell_type": "code",
   "execution_count": 183,
   "id": "e263abbc",
   "metadata": {},
   "outputs": [
    {
     "data": {
      "text/plain": [
       "array([ 2,  4,  8, 10, 12])"
      ]
     },
     "execution_count": 183,
     "metadata": {},
     "output_type": "execute_result"
    }
   ],
   "source": [
    "my_array = np.array([2,4,8, 10, 12])  # Create a NumPy array\n",
    "my_array  # Additional operation"
   ]
  },
  {
   "cell_type": "code",
   "execution_count": 184,
   "id": "03aa14c7",
   "metadata": {},
   "outputs": [
    {
     "data": {
      "text/plain": [
       "8.0"
      ]
     },
     "execution_count": 184,
     "metadata": {},
     "output_type": "execute_result"
    }
   ],
   "source": [
    "np.median(my_array)  # Additional operation"
   ]
  },
  {
   "cell_type": "code",
   "execution_count": 185,
   "id": "449ee549",
   "metadata": {},
   "outputs": [
    {
     "data": {
      "text/plain": [
       "array([[ 5, 12,  8, 19],\n",
       "       [ 2, 15, 10, 19],\n",
       "       [ 1,  9,  4,  7]])"
      ]
     },
     "execution_count": 185,
     "metadata": {},
     "output_type": "execute_result"
    }
   ],
   "source": [
    "my_array = np.random.randint(1,20, size=(3,4))  # Variable assignment\n",
    "my_array  # Additional operation"
   ]
  },
  {
   "cell_type": "code",
   "execution_count": 186,
   "id": "9d980239",
   "metadata": {},
   "outputs": [
    {
     "data": {
      "text/plain": [
       "array([19, 19,  9])"
      ]
     },
     "execution_count": 186,
     "metadata": {},
     "output_type": "execute_result"
    }
   ],
   "source": [
    "np.amax(my_array, axis=1)  # Variable assignment"
   ]
  },
  {
   "cell_type": "code",
   "execution_count": 187,
   "id": "4c73f8ff",
   "metadata": {},
   "outputs": [
    {
     "data": {
      "text/plain": [
       "array([ 5, 15, 10, 19])"
      ]
     },
     "execution_count": 187,
     "metadata": {},
     "output_type": "execute_result"
    }
   ],
   "source": [
    "np.amax(my_array, axis=0)  # Variable assignment"
   ]
  },
  {
   "cell_type": "code",
   "execution_count": 188,
   "id": "0b82705c",
   "metadata": {},
   "outputs": [
    {
     "data": {
      "text/plain": [
       "5.80409338312195"
      ]
     },
     "execution_count": 188,
     "metadata": {},
     "output_type": "execute_result"
    }
   ],
   "source": [
    "np.std(my_array)  # Additional operation"
   ]
  },
  {
   "cell_type": "code",
   "execution_count": 189,
   "id": "1ac2c856",
   "metadata": {},
   "outputs": [
    {
     "data": {
      "text/plain": [
       "array([1, 3, 4, 5, 6, 7, 8, 9])"
      ]
     },
     "execution_count": 189,
     "metadata": {},
     "output_type": "execute_result"
    }
   ],
   "source": [
    "my_array = np.array([5,8,7, 5, 9, 3, 7, 7, 1, 1, 8, 4, 6, 9, 7, 3])  # Create a NumPy array\n",
    "unique_items = np.unique(my_array)  # Variable assignment\n",
    "unique_items  # Additional operation"
   ]
  },
  {
   "cell_type": "code",
   "execution_count": 190,
   "id": "61ce078f",
   "metadata": {},
   "outputs": [
    {
     "data": {
      "text/plain": [
       "array([1, 3, 4, 5, 6, 7, 8, 9])"
      ]
     },
     "execution_count": 190,
     "metadata": {},
     "output_type": "execute_result"
    }
   ],
   "source": [
    "unique_items, counts = np.unique(my_array, return_counts=True)  # Variable assignment\n",
    "unique_items  # Additional operation"
   ]
  },
  {
   "cell_type": "code",
   "execution_count": 191,
   "id": "382c7647",
   "metadata": {},
   "outputs": [
    {
     "data": {
      "text/plain": [
       "array([2, 2, 1, 2, 1, 4, 2, 2], dtype=int64)"
      ]
     },
     "execution_count": 191,
     "metadata": {},
     "output_type": "execute_result"
    }
   ],
   "source": [
    "counts  # Additional operation"
   ]
  },
  {
   "cell_type": "code",
   "execution_count": 192,
   "id": "3fc5f1ad",
   "metadata": {},
   "outputs": [
    {
     "data": {
      "text/plain": [
       "array([[1, 3, 4, 5, 6, 7, 8, 9],\n",
       "       [2, 2, 1, 2, 1, 4, 2, 2]], dtype=int64)"
      ]
     },
     "execution_count": 192,
     "metadata": {},
     "output_type": "execute_result"
    }
   ],
   "source": [
    "frequencies = np.asarray((unique_items, counts))  # Variable assignment\n",
    "frequencies  # Additional operation"
   ]
  },
  {
   "cell_type": "code",
   "execution_count": 193,
   "id": "10fbf74b",
   "metadata": {},
   "outputs": [
    {
     "data": {
      "text/plain": [
       "array([3, 7, 9, 6, 4, 8, 1, 1, 7, 7, 3, 9, 5, 7, 8, 5])"
      ]
     },
     "execution_count": 193,
     "metadata": {},
     "output_type": "execute_result"
    }
   ],
   "source": [
    "reversed_array = np.flipud(my_array)  # Variable assignment\n",
    "reversed_array  # Additional operation"
   ]
  },
  {
   "cell_type": "code",
   "execution_count": 194,
   "id": "0b203120",
   "metadata": {},
   "outputs": [
    {
     "data": {
      "text/plain": [
       "array([[11,  3, 15,  4],\n",
       "       [ 3, 12,  3,  1],\n",
       "       [15,  4, 16, 15]])"
      ]
     },
     "execution_count": 194,
     "metadata": {},
     "output_type": "execute_result"
    }
   ],
   "source": [
    "my_array = np.random.randint(1, 20, size=(3,4))  # Variable assignment\n",
    "my_array  # Additional operation"
   ]
  },
  {
   "cell_type": "code",
   "execution_count": 195,
   "id": "88420fdf",
   "metadata": {},
   "outputs": [
    {
     "data": {
      "text/plain": [
       "array([[ 4, 15,  3, 11],\n",
       "       [ 1,  3, 12,  3],\n",
       "       [15, 16,  4, 15]])"
      ]
     },
     "execution_count": 195,
     "metadata": {},
     "output_type": "execute_result"
    }
   ],
   "source": [
    "reversed_array = np.fliplr(my_array)  # Variable assignment\n",
    "reversed_array  # Additional operation"
   ]
  },
  {
   "cell_type": "markdown",
   "id": "e5f7eddc",
   "metadata": {},
   "source": [
    "## Additional Important NumPy Concepts"
   ]
  },
  {
   "cell_type": "code",
   "execution_count": 196,
   "id": "ef8ae263",
   "metadata": {},
   "outputs": [
    {
     "name": "stdout",
     "output_type": "stream",
     "text": [
      "[[2 3 4]\n",
      " [3 4 5]\n",
      " [4 5 6]]\n"
     ]
    }
   ],
   "source": [
    "# Broadcasting\n",
    "import numpy as np  # Import NumPy library\n",
    "\n",
    "A = np.array([1, 2, 3])  # Create a NumPy array\n",
    "B = np.array([[1], [2], [3]])  # Create a NumPy array\n",
    "result = A + B  # Broadcasting adds each row of B to A\n",
    "print(result)  # Print the result"
   ]
  },
  {
   "cell_type": "code",
   "execution_count": 197,
   "id": "e921ca06",
   "metadata": {},
   "outputs": [
    {
     "name": "stdout",
     "output_type": "stream",
     "text": [
      "[4 5]\n"
     ]
    }
   ],
   "source": [
    "# Boolean Indexing\n",
    "arr = np.array([1, 2, 3, 4, 5])  # Create a NumPy array\n",
    "mask = arr > 3  # Create a boolean mask\n",
    "print(arr[mask])  # prints [4 5]"
   ]
  },
  {
   "cell_type": "code",
   "execution_count": 198,
   "id": "c7b1e3ee",
   "metadata": {},
   "outputs": [
    {
     "name": "stdout",
     "output_type": "stream",
     "text": [
      "[100   3]\n",
      "[2 3]\n"
     ]
    }
   ],
   "source": [
    "# Copy vs View\n",
    "arr = np.array([1, 2, 3])  # Create a NumPy array\n",
    "view = arr[1:]  # Indexing operation on the array\n",
    "copy = arr[1:].copy()  # Create a copy of the array (not a view)\n",
    "arr[1] = 100  # Indexing operation on the array\n",
    "print(view)  # Affected\n",
    "print(copy)  # Not affected"
   ]
  },
  {
   "cell_type": "code",
   "execution_count": 199,
   "id": "018eb58e",
   "metadata": {},
   "outputs": [
    {
     "name": "stdout",
     "output_type": "stream",
     "text": [
      "[[ 0  1  2  3]\n",
      " [ 4  5  6  7]\n",
      " [ 8  9 10 11]]\n"
     ]
    }
   ],
   "source": [
    "# Reshape with -1 (automatic calculation)\n",
    "arr = np.arange(12)  # Create an array with a range of values\n",
    "print(arr.reshape(3, -1))  # Reshape the array"
   ]
  }
 ],
 "metadata": {
  "kernelspec": {
   "display_name": "Python 3 (ipykernel)",
   "language": "python",
   "name": "python3"
  },
  "language_info": {
   "codemirror_mode": {
    "name": "ipython",
    "version": 3
   },
   "file_extension": ".py",
   "mimetype": "text/x-python",
   "name": "python",
   "nbconvert_exporter": "python",
   "pygments_lexer": "ipython3",
   "version": "3.9.21"
  }
 },
 "nbformat": 4,
 "nbformat_minor": 5
}
