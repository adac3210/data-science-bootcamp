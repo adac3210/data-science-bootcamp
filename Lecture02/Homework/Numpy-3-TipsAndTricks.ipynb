{
 "cells": [
  {
   "cell_type": "markdown",
   "id": "ef1f6d54-83e5-41ad-89a7-759daa6cf78c",
   "metadata": {},
   "source": [
    "## 1. Statistical Operations with NumPy\n",
    "NumPy arrays contain various functionalities for performing statistical\n",
    "operations, such as finding the mean, median, and standard deviations of\n",
    "items in a NumPy array."
   ]
  },
  {
   "cell_type": "markdown",
   "id": "f1c2d903-cb7d-4b38-b856-70d3f277f089",
   "metadata": {},
   "source": [
    "### 1.1. Finding the Mean\n",
    "To find the mean or average of all the items in a NumPy array, you need to\n",
    "pass the array to the mean() method of the NumPy module."
   ]
  },
  {
   "cell_type": "code",
   "execution_count": 1,
   "id": "faf1b691-1b58-409d-b5c4-2c479d675709",
   "metadata": {},
   "outputs": [
    {
     "name": "stdout",
     "output_type": "stream",
     "text": [
      "[ 2  4  8 10 12]\n",
      "mean:\n",
      "7.2\n"
     ]
    }
   ],
   "source": [
    "import numpy as np  # Import the NumPy library and give it the alias 'np'\n",
    "\n",
    "# Create a NumPy array with the elements 2, 4, 8, 10, and 12\n",
    "my_array = np.array([2, 4, 8, 10, 12])\n",
    "\n",
    "# Print the contents of the array\n",
    "print(my_array)\n",
    "\n",
    "# Print a label for clarity\n",
    "print(\"mean:\")\n",
    "\n",
    "# Calculate and print the mean (average) of the elements in the array\n",
    "print(np.mean(my_array))"
   ]
  },
  {
   "cell_type": "code",
   "execution_count": 2,
   "id": "fc005adf-cf16-4569-9696-cc50bddaaf13",
   "metadata": {},
   "outputs": [
    {
     "name": "stdout",
     "output_type": "stream",
     "text": [
      "[[ 4  7 11]\n",
      " [ 2 10 11]]\n",
      "mean:\n",
      "[7.33333333 7.66666667]\n",
      "[ 3.   8.5 11. ]\n"
     ]
    }
   ],
   "source": [
    "# Create a 2x3 array filled with random integers between 1 and 19 (inclusive of 1, exclusive of 20)\n",
    "my_array = np.random.randint(1, 20, size=(2, 3))\n",
    "\n",
    "# Print the generated random array\n",
    "print(my_array)\n",
    "\n",
    "# Print the text \"mean:\" to label the next outputs\n",
    "print(\"mean:\")\n",
    "\n",
    "# Calculate and print the mean of each row (axis=1 means operate along rows)\n",
    "print(np.mean(my_array, axis=1))\n",
    "\n",
    "# Calculate and print the mean of each column (axis=0 means operate along columns)\n",
    "print(np.mean(my_array, axis=0))"
   ]
  },
  {
   "cell_type": "markdown",
   "id": "1e82ff19-7a54-4aa3-9230-5fc61a5d884d",
   "metadata": {},
   "source": [
    "### 1.2. Finding the Median\n",
    "The median() method from the NumPy module is used to find the median\n",
    "value in a NumPy array."
   ]
  },
  {
   "cell_type": "code",
   "execution_count": 3,
   "id": "470d0b14-f980-4b2b-bfb1-8b0f7c6bf642",
   "metadata": {},
   "outputs": [
    {
     "name": "stdout",
     "output_type": "stream",
     "text": [
      "[ 2  4  8 10 12]\n",
      "median:\n",
      "8.0\n"
     ]
    }
   ],
   "source": [
    "# Create a NumPy array with the given list of numbers\n",
    "my_array = np.array([2, 4, 8, 10, 12])\n",
    "\n",
    "# Print the array to the console\n",
    "print(my_array)\n",
    "\n",
    "# Print a label indicating that the next value is the median\n",
    "print(\"median:\")\n",
    "\n",
    "# Calculate and print the median of the array\n",
    "# The median is the middle value when the numbers are sorted\n",
    "print(np.median(my_array))"
   ]
  },
  {
   "cell_type": "code",
   "execution_count": 4,
   "id": "c0180844-d0bf-4611-ad09-5aedac355973",
   "metadata": {},
   "outputs": [
    {
     "name": "stdout",
     "output_type": "stream",
     "text": [
      "[[ 3  5  4 12 14]\n",
      " [17  6 10  1 13]\n",
      " [ 6 16  9 12  9]]\n",
      "median:\n",
      "[ 5. 10.  9.]\n",
      "[ 6.  6.  9. 12. 13.]\n"
     ]
    }
   ],
   "source": [
    "# Create a 3x5 array of random integers between 1 (inclusive) and 20 (exclusive)\n",
    "# Shape of the array: 3 rows and 5 columns\n",
    "my_array = np.random.randint(1, 20, size=(3, 5))\n",
    "\n",
    "# Print the generated array\n",
    "print(my_array)\n",
    "\n",
    "# Print a label for clarity\n",
    "print(\"median:\")\n",
    "\n",
    "# Calculate and print the median along axis=1 (row-wise)\n",
    "# This means it computes the median of each row separately\n",
    "print(np.median(my_array, axis=1))\n",
    "\n",
    "# Calculate and print the median along axis=0 (column-wise)\n",
    "# This means it computes the median of each column separately\n",
    "print(np.median(my_array, axis=0))"
   ]
  },
  {
   "cell_type": "markdown",
   "id": "894822d2-48e5-4a34-a24d-17860bade78c",
   "metadata": {},
   "source": [
    "### 1.3. Finding the Max and Min Values\n",
    "The max() function returns the maximum value from the array, while the\n",
    "min() function returns the minimum value."
   ]
  },
  {
   "cell_type": "code",
   "execution_count": 5,
   "id": "99fbdc27-4d75-4f5b-b31e-709b7941e17c",
   "metadata": {},
   "outputs": [
    {
     "name": "stdout",
     "output_type": "stream",
     "text": [
      "[ 2  4  8 10 12]\n",
      "min value:\n",
      "2\n"
     ]
    }
   ],
   "source": [
    "# Create a NumPy array with the specified elements\n",
    "my_array = np.array([2, 4, 8, 10, 12])\n",
    "\n",
    "# Print the entire array\n",
    "print(my_array)\n",
    "\n",
    "# Print a label for the minimum value\n",
    "print(\"min value:\")\n",
    "\n",
    "# Find and print the minimum value in the array using np.amin()\n",
    "print(np.amin(my_array))"
   ]
  },
  {
   "cell_type": "code",
   "execution_count": 6,
   "id": "45053eb3-fc0d-4216-ad31-3329e91d89c1",
   "metadata": {},
   "outputs": [
    {
     "name": "stdout",
     "output_type": "stream",
     "text": [
      "[[16  4 12  7]\n",
      " [ 1  6  9 18]\n",
      " [16 10  2  7]]\n",
      "min:\n",
      "[4 1 2]\n",
      "[1 4 2 7]\n"
     ]
    }
   ],
   "source": [
    "# Create a 3x4 array filled with random integers between 1 and 19 (inclusive)\n",
    "my_array = np.random.randint(1, 20, size=(3, 4))\n",
    "\n",
    "# Print the generated array\n",
    "print(my_array)\n",
    "\n",
    "# Print \"min:\" as a label\n",
    "print(\"min:\")\n",
    "\n",
    "# Find and print the minimum value in each row (axis=1 means operate across columns)\n",
    "print(np.amin(my_array, axis=1))\n",
    "\n",
    "# Find and print the minimum value in each column (axis=0 means operate across rows)\n",
    "print(np.amin(my_array, axis=0))"
   ]
  },
  {
   "cell_type": "code",
   "execution_count": 7,
   "id": "2bad0faf-e10c-4030-bd1c-55636b3b33bb",
   "metadata": {},
   "outputs": [
    {
     "name": "stdout",
     "output_type": "stream",
     "text": [
      "[ 2  4  8 10 12]\n",
      "max value:\n",
      "12\n"
     ]
    }
   ],
   "source": [
    "# Create a NumPy array with the given list of numbers\n",
    "my_array = np.array([2, 4, 8, 10, 12])\n",
    "\n",
    "# Print the contents of the array\n",
    "print(my_array)\n",
    "\n",
    "# Print a label for the maximum value\n",
    "print(\"max value:\")\n",
    "\n",
    "# Find and print the maximum value in the array using np.amax()\n",
    "print(np.amax(my_array))"
   ]
  },
  {
   "cell_type": "code",
   "execution_count": 8,
   "id": "17b4ead1-a06f-4fb3-b2b8-d636a457600d",
   "metadata": {},
   "outputs": [
    {
     "name": "stdout",
     "output_type": "stream",
     "text": [
      "[[16  8 17 19]\n",
      " [10  4  7 14]\n",
      " [13  9  7 12]]\n",
      "max:\n",
      "[19 14 13]\n",
      "[16  9 17 19]\n"
     ]
    }
   ],
   "source": [
    "# Create a 3x4 array with random integers from 1 to 19 (inclusive of 1, exclusive of 20)\n",
    "my_array = np.random.randint(1, 20, size=(3, 4))\n",
    "\n",
    "# Print the generated 3x4 array\n",
    "print(my_array)\n",
    "\n",
    "# Print a label for clarity\n",
    "print(\"max:\")\n",
    "\n",
    "# Find and print the maximum value along each row (axis=1 means operate along rows)\n",
    "# This gives a 1D array with the largest value from each row\n",
    "print(np.amax(my_array, axis=1))\n",
    "\n",
    "# Find and print the maximum value along each column (axis=0 means operate along columns)\n",
    "# This gives a 1D array with the largest value from each column\n",
    "print(np.amax(my_array, axis=0))"
   ]
  },
  {
   "cell_type": "markdown",
   "id": "0560fc90-099a-4085-b162-70d73bc497d8",
   "metadata": {},
   "source": [
    "### 1.4. Finding Standard Deviation\n",
    "The standard deviation of a NumPy array can be found via the std() method."
   ]
  },
  {
   "cell_type": "code",
   "execution_count": 9,
   "id": "a84fd1b5-508c-4ddd-84c6-6941ec6aad12",
   "metadata": {},
   "outputs": [
    {
     "name": "stdout",
     "output_type": "stream",
     "text": [
      "[ 2  4  8 10 12]\n",
      "std value:\n",
      "3.7094473981982814\n"
     ]
    }
   ],
   "source": [
    "# Create a NumPy array with the elements 2, 4, 8, 10, and 12\n",
    "my_array = np.array([2, 4, 8, 10, 12])\n",
    "\n",
    "# Print the array to the console\n",
    "print(my_array)\n",
    "\n",
    "# Print a label for the standard deviation value\n",
    "print(\"std value:\")\n",
    "\n",
    "# Calculate and print the standard deviation of the array elements\n",
    "print(np.std(my_array))"
   ]
  },
  {
   "cell_type": "code",
   "execution_count": 10,
   "id": "6ee17fe5-1158-4d5c-933f-adb66817c103",
   "metadata": {},
   "outputs": [
    {
     "name": "stdout",
     "output_type": "stream",
     "text": [
      "[[ 1 12 19  3]\n",
      " [16  4 14 14]\n",
      " [19 12 13  8]]\n",
      "std-dev:\n",
      "[7.22409164 4.69041576 3.93700394]\n",
      "[7.87400787 3.77123617 2.62466929 4.49691252]\n"
     ]
    }
   ],
   "source": [
    "# Create a 3x4 array filled with random integers between 1 and 19 (inclusive of 1, exclusive of 20)\n",
    "my_array = np.random.randint(1, 20, size=(3, 4))\n",
    "\n",
    "# Print the generated random array\n",
    "print(my_array)\n",
    "\n",
    "# Print a label indicating the start of standard deviation outputs\n",
    "print(\"std-dev:\")\n",
    "\n",
    "# Compute and print the standard deviation along axis 1 (row-wise)\n",
    "# This calculates the standard deviation of each row (treat each row as a separate dataset)\n",
    "print(np.std(my_array, axis=1))\n",
    "\n",
    "# Compute and print the standard deviation along axis 0 (column-wise)\n",
    "# This calculates the standard deviation of each column (treat each column as a separate dataset)\n",
    "print(np.std(my_array, axis=0))"
   ]
  },
  {
   "cell_type": "markdown",
   "id": "03fc4a82-2cee-4665-8bd0-06e5d2c4a5a6",
   "metadata": {},
   "source": [
    "### 1.5. Finding Correlations\n",
    "To find correlations, you can use the correlation() method and pass it\n",
    "the two NumPy arrays between which you want to find the correlation"
   ]
  },
  {
   "cell_type": "code",
   "execution_count": 11,
   "id": "e06123ac-123d-4db1-b60d-66fef739155d",
   "metadata": {},
   "outputs": [
    {
     "name": "stdout",
     "output_type": "stream",
     "text": [
      "[1.  3.  0.  0.9 1.2]\n",
      "[-1.   0.5  0.2  0.6  5. ]\n",
      "correlation value:\n",
      "[7.04]\n"
     ]
    }
   ],
   "source": [
    "# Create a NumPy array 'a1' with 5 elements\n",
    "a1 = np.array([1, 3, 0, 0.9, 1.2])\n",
    "\n",
    "# Create another NumPy array 'a2' with 5 elements\n",
    "a2 = np.array([-1, 0.5, 0.2, 0.6, 5])\n",
    "\n",
    "# Print the first array\n",
    "print(a1)\n",
    "\n",
    "# Print the second array\n",
    "print(a2)\n",
    "\n",
    "# Print a label for the correlation result\n",
    "print(\"correlation value:\")\n",
    "\n",
    "# Compute the cross-correlation of a1 and a2 and print the result\n",
    "# np.correlate with default mode='valid' calculates the sum of element-wise\n",
    "# multiplication of a1 and a2 (like a dot product when arrays are the same size)\n",
    "print(np.correlate(a1, a2))"
   ]
  },
  {
   "cell_type": "markdown",
   "id": "54e78022-7e2b-4fdc-abb1-b61c62f5ddc7",
   "metadata": {},
   "source": [
    "## 2. Getting Unique Items and Counts\n",
    "To find unique values in a NumPy array, you need to pass the array to the\n",
    "unique() method from the NumPy module."
   ]
  },
  {
   "cell_type": "code",
   "execution_count": 12,
   "id": "7d67b484-d965-47e0-9f40-e9949b67ce44",
   "metadata": {},
   "outputs": [
    {
     "name": "stdout",
     "output_type": "stream",
     "text": [
      "[1 3 4 5 6 7 8 9]\n"
     ]
    }
   ],
   "source": [
    "# Create a NumPy array with a list of integers\n",
    "my_array = np.array([5, 8, 7, 5, 9, 3, 7, 7, 1, 1, 8, 4, 6, 9, 7, 3])\n",
    "\n",
    "# Find the unique elements in 'my_array' (removes duplicates and sorts the result)\n",
    "unique_items = np.unique(my_array)\n",
    "\n",
    "# Print the array of unique elements\n",
    "print(unique_items)"
   ]
  },
  {
   "cell_type": "code",
   "execution_count": 13,
   "id": "a7f199ec-85df-4d95-8211-7e0ff5e8b688",
   "metadata": {},
   "outputs": [
    {
     "name": "stdout",
     "output_type": "stream",
     "text": [
      "[1 3 4 5 6 7 8 9]\n",
      "[2 2 1 2 1 4 2 2]\n"
     ]
    }
   ],
   "source": [
    "# Create a NumPy array with some repeated elements\n",
    "my_array = np.array([5, 8, 7, 5, 9, 3, 7, 7, 1, 1, 8, 4, 6, 9, 7, 3])\n",
    "\n",
    "# Use np.unique to find the unique elements in the array\n",
    "# Set return_counts=True to also get the count of each unique element\n",
    "unique_items, counts = np.unique(my_array, return_counts=True)\n",
    "\n",
    "# Print the array of unique elements (sorted in ascending order)\n",
    "print(unique_items)\n",
    "\n",
    "# Print the array of counts corresponding to each unique element\n",
    "print(counts)"
   ]
  },
  {
   "cell_type": "code",
   "execution_count": 14,
   "id": "8e9c8f2c-0c28-4d34-8809-07a075d9cfee",
   "metadata": {},
   "outputs": [
    {
     "name": "stdout",
     "output_type": "stream",
     "text": [
      "[[1 3 4 5 6 7 8 9]\n",
      " [2 2 1 2 1 4 2 2]]\n"
     ]
    }
   ],
   "source": [
    "# Combine two arrays (unique_items and counts) into a single 2D NumPy array\n",
    "frequencies = np.asarray((unique_items, counts))\n",
    "\n",
    "# Print the resulting 2D array to see the unique items and their corresponding counts\n",
    "print(frequencies)"
   ]
  },
  {
   "cell_type": "code",
   "execution_count": 15,
   "id": "c3080fa2-f397-4d7a-b9ce-da71e1d90c54",
   "metadata": {},
   "outputs": [
    {
     "name": "stdout",
     "output_type": "stream",
     "text": [
      "[[1 2]\n",
      " [3 2]\n",
      " [4 1]\n",
      " [5 2]\n",
      " [6 1]\n",
      " [7 4]\n",
      " [8 2]\n",
      " [9 2]]\n"
     ]
    }
   ],
   "source": [
    "# Combine unique_items and counts into a NumPy array\n",
    "# np.asarray creates an array from a sequence (here, a tuple of unique_items and counts)\n",
    "# The result is a 2D array where the first row is unique_items and the second row is counts\n",
    "frequencies = np.asarray((unique_items, counts)).T\n",
    "\n",
    "# Transpose the array (.T) so that each row corresponds to [unique_item, count]\n",
    "# Now each row contains a unique item and its corresponding count as a pair\n",
    "\n",
    "# Print the resulting 2D array of [unique_item, count] pairs\n",
    "print(frequencies)"
   ]
  },
  {
   "cell_type": "markdown",
   "id": "ab9976eb-34ca-45a2-856f-a004776ab3d2",
   "metadata": {},
   "source": [
    "## 3. Reversing a NumPy Array\n",
    "There are two main methods to reverse a NumPy array: flipud() and fliplr().\n",
    "The flipud() method is used to reverse a one-dimensional NumPy array"
   ]
  },
  {
   "cell_type": "code",
   "execution_count": 16,
   "id": "00064b69-3e55-4a9c-9550-6f8f7371f349",
   "metadata": {},
   "outputs": [
    {
     "name": "stdout",
     "output_type": "stream",
     "text": [
      "original\n",
      "[ 8 18 13 16  1 10 19  1 12 12]\n",
      "reversed\n",
      "[12 12  1 19 10  1 16 13 18  8]\n"
     ]
    }
   ],
   "source": [
    "# Print a header to indicate the original array will be displayed\n",
    "print(\"original\")\n",
    "\n",
    "# Create a 1D NumPy array of 10 random integers between 1 (inclusive) and 20 (exclusive)\n",
    "my_array = np.random.randint(1, 20, 10)\n",
    "\n",
    "# Print the original array\n",
    "print(my_array)\n",
    "\n",
    "# Print a header to indicate the reversed array will be displayed\n",
    "print(\"reversed\")\n",
    "\n",
    "# Reverse the array using np.flipud (flip up/down for arrays; for 1D it simply reverses it)\n",
    "reversed_array = np.flipud(my_array)\n",
    "\n",
    "# Print the reversed array\n",
    "print(reversed_array)"
   ]
  },
  {
   "cell_type": "code",
   "execution_count": 17,
   "id": "e1ee3679-fef7-45c0-a94f-bfd594ddedcb",
   "metadata": {},
   "outputs": [
    {
     "name": "stdout",
     "output_type": "stream",
     "text": [
      "original\n",
      "[[18  2 18 10]\n",
      " [14 10  7  3]\n",
      " [12  7  4  3]]\n",
      "reversed\n",
      "[[10 18  2 18]\n",
      " [ 3  7 10 14]\n",
      " [ 3  4  7 12]]\n"
     ]
    }
   ],
   "source": [
    "print(\"original\")  # Print a header to indicate the original array\n",
    "\n",
    "# Create a 3x4 array filled with random integers between 1 (inclusive) and 20 (exclusive)\n",
    "my_array = np.random.randint(1, 20, size=(3, 4))\n",
    "print(my_array)  # Print the original array\n",
    "\n",
    "print(\"reversed\")  # Print a header to indicate the reversed array\n",
    "\n",
    "# Reverse the array elements left to right (i.e., flip each row horizontally)\n",
    "reversed_array = np.fliplr(my_array)\n",
    "print(reversed_array)  # Print the reversed array"
   ]
  },
  {
   "cell_type": "markdown",
   "id": "077ab6b3-f919-44fc-9c0b-1c6a7a654cc8",
   "metadata": {},
   "source": [
    "## 4. Importing and Exporting CSV Files\n",
    "CSV files are an important source of data. The NumPy library contains\n",
    "functions that allow you to store NumPy arrays in the form of CSV files. The\n",
    "NumPy module also allows you to load CSV files into NumPy arrays."
   ]
  },
  {
   "cell_type": "markdown",
   "id": "2a46712c-863c-4826-8dc5-30a56a669bf5",
   "metadata": {},
   "source": [
    "### 4.1. Saving a NumPy File as CSV\n",
    "To save a NumPy array in the form of a CSV file, you can use the tofile()\n",
    "method and pass it your NumPy array."
   ]
  },
  {
   "cell_type": "code",
   "execution_count": 18,
   "id": "8e8779d7-4ffe-4022-b3df-00941f827894",
   "metadata": {},
   "outputs": [
    {
     "name": "stdout",
     "output_type": "stream",
     "text": [
      "[[ 3  4 10  7]\n",
      " [13  8  8  3]\n",
      " [14  1  9 10]]\n"
     ]
    }
   ],
   "source": [
    "# Create a 3x4 NumPy array with random integers between 1 and 19 (inclusive)\n",
    "my_array = np.random.randint(1, 20, size=(3, 4))\n",
    "\n",
    "# Print the generated array to the console\n",
    "print(my_array)\n",
    "\n",
    "# Save the array to a file as a comma-separated text (CSV format)\n",
    "# The file will be saved at C:\\temp\\my_array.csv\n",
    "my_array.tofile('c:\\\\temp\\\\my_array.csv', sep=',')"
   ]
  },
  {
   "cell_type": "code",
   "execution_count": 19,
   "id": "09b90a06-e13f-4aa1-b616-408b8488a170",
   "metadata": {},
   "outputs": [
    {
     "name": "stdout",
     "output_type": "stream",
     "text": [
      "[[18 15  8 10]\n",
      " [ 1 18  2 18]\n",
      " [17  1  5  3]]\n"
     ]
    }
   ],
   "source": [
    "# Create a 3x4 array of random integers between 1 (inclusive) and 20 (exclusive)\n",
    "my_array = np.random.randint(1, 20, size=(3, 4))\n",
    "\n",
    "# Print the generated array to the console\n",
    "print(my_array)\n",
    "\n",
    "# Save the array to a CSV file at the specified path (C:\\temp\\my_array2.csv)\n",
    "# Use a comma as the delimiter between values\n",
    "np.savetxt('c:\\\\temp\\\\my_array2.csv', my_array, delimiter=\",\", fmt='%d')"
   ]
  },
  {
   "cell_type": "code",
   "execution_count": 20,
   "id": "eff5a618-f332-4ec9-b6b7-04abfd6536d0",
   "metadata": {},
   "outputs": [
    {
     "name": "stdout",
     "output_type": "stream",
     "text": [
      "[[18. 15.  8. 10.]\n",
      " [ 1. 18.  2. 18.]\n",
      " [17.  1.  5.  3.]]\n"
     ]
    }
   ],
   "source": [
    "# Load a CSV file into a NumPy array.\n",
    "# 'c:\\\\temp\\\\my_array2.csv' is the file path to the CSV file (note the double backslashes for Windows path).\n",
    "# delimiter=',' specifies that the CSV file uses commas to separate values.\n",
    "loaded_array = np.genfromtxt('c:\\\\temp\\\\my_array2.csv', delimiter=',')\n",
    "\n",
    "# Print the loaded array to the console\n",
    "print(loaded_array)"
   ]
  },
  {
   "cell_type": "markdown",
   "id": "29fda6f8-e828-4d95-bd3d-b9456b2ffc43",
   "metadata": {},
   "source": [
    "## 5. Plotting NumPy Arrays with Matplotlib\n",
    "You can use NumPy arrays along with Matplotlib plotting functionalities to\n",
    "plot various types of graphs."
   ]
  },
  {
   "cell_type": "code",
   "execution_count": 21,
   "id": "2e1e46d2-5eb3-45cc-a327-ec2b6cd03360",
   "metadata": {},
   "outputs": [
    {
     "name": "stdout",
     "output_type": "stream",
     "text": [
      "[ 0.          1.05263158  2.10526316  3.15789474  4.21052632  5.26315789\n",
      "  6.31578947  7.36842105  8.42105263  9.47368421 10.52631579 11.57894737\n",
      " 12.63157895 13.68421053 14.73684211 15.78947368 16.84210526 17.89473684\n",
      " 18.94736842 20.        ]\n"
     ]
    },
    {
     "data": {
      "image/png": "[encoded data removed]",
      "text/plain": [
       "<Figure size 640x480 with 1 Axes>"
      ]
     },
     "metadata": {},
     "output_type": "display_data"
    }
   ],
   "source": [
    "# Import the NumPy library for numerical operations and alias it as np\n",
    "import numpy as np\n",
    "\n",
    "# Import matplotlib.pyplot for plotting and alias it as plt\n",
    "import matplotlib.pyplot as plt\n",
    "\n",
    "# This magic command is used in Jupyter notebooks to display plots inline\n",
    "%matplotlib inline\n",
    "\n",
    "# Import the math module for mathematical functions\n",
    "import math\n",
    "\n",
    "# Generate 20 equally spaced values between 0 and 20\n",
    "x_vals = np.linspace(0, 20, 20)\n",
    "print(x_vals)  # Print the x values to the console\n",
    "\n",
    "# Create a list of square roots of each value in x_vals\n",
    "y_vals = [math.sqrt(i) for i in x_vals]\n",
    "\n",
    "# Plot x_vals on the x-axis and y_vals on the y-axis\n",
    "plt.plot(x_vals, y_vals)\n",
    "\n",
    "# Display the plot\n",
    "plt.show()"
   ]
  },
  {
   "cell_type": "code",
   "execution_count": 22,
   "id": "724f6079-1860-4e61-9624-85e79deb0b2c",
   "metadata": {},
   "outputs": [
    {
     "data": {
      "image/png": "[encoded data removed]",
      "text/plain": [
       "<Figure size 640x480 with 1 Axes>"
      ]
     },
     "metadata": {},
     "output_type": "display_data"
    }
   ],
   "source": [
    "# Create an array of 20 evenly spaced values from 0 to 20\n",
    "x_vals = np.linspace(0, 20, 20)\n",
    "\n",
    "# Calculate the square root of each x value using a list comprehension\n",
    "# NOTE: There was a typo in your code (\"foriinx_vals\"). Fixed to \"for i in x_vals\"\n",
    "y_vals = [math.sqrt(i) for i in x_vals]\n",
    "\n",
    "# Calculate the cube of each x value\n",
    "y2_vals = x_vals ** 3\n",
    "\n",
    "# Set the label for the X-axis\n",
    "plt.xlabel('X Values')\n",
    "\n",
    "# Set the label for the Y-axis\n",
    "plt.ylabel('Y Values')\n",
    "\n",
    "# Set the title of the plot\n",
    "plt.title('Square Roots and Cubes')\n",
    "\n",
    "# Plot the square root values with a red line and label\n",
    "plt.plot(x_vals, y_vals, 'r', label='Square Root')\n",
    "\n",
    "# Plot the cube values with a blue line and label\n",
    "plt.plot(x_vals, y2_vals, 'b', label='Cube')\n",
    "\n",
    "# Add a legend to the plot, positioning it at the upper center\n",
    "plt.legend(loc='upper center')\n",
    "\n",
    "# Display the plot\n",
    "plt.show()"
   ]
  },
  {
   "cell_type": "code",
   "execution_count": 23,
   "id": "957d5c75-5b10-4480-b133-e00d4c036a55",
   "metadata": {},
   "outputs": [
    {
     "name": "stdout",
     "output_type": "stream",
     "text": [
      "[[ 2  7 11  3]\n",
      " [ 9 18 15  6]\n",
      " [12 12  6 14]\n",
      " [17 15  8 17]]\n"
     ]
    },
    {
     "data": {
      "image/png": "[encoded data removed]",
      "text/plain": [
       "<Figure size 640x480 with 1 Axes>"
      ]
     },
     "metadata": {},
     "output_type": "display_data"
    }
   ],
   "source": [
    "# Create a 4x4 array filled with random integers between 1 and 19 (inclusive)\n",
    "my_array = np.random.randint(1, 20, size=(4, 4))\n",
    "\n",
    "# Print the generated array to the console\n",
    "print(my_array)\n",
    "\n",
    "# Display the array as an image using matplotlib's imshow (each value shown as a color)\n",
    "plt.imshow(my_array)\n",
    "\n",
    "# Show the plotted image in a window\n",
    "plt.show()"
   ]
  },
  {
   "cell_type": "code",
   "execution_count": null,
   "id": "c3519dc3-15c9-42d8-bb27-a87d2291a82a",
   "metadata": {},
   "outputs": [],
   "source": []
  },
  {
   "cell_type": "code",
   "execution_count": null,
   "id": "2a5bee3f-2dbe-4896-8bc2-17f200e28c26",
   "metadata": {},
   "outputs": [],
   "source": []
  }
 ],
 "metadata": {
  "kernelspec": {
   "display_name": "Python 3 (ipykernel)",
   "language": "python",
   "name": "python3"
  },
  "language_info": {
   "codemirror_mode": {
    "name": "ipython",
    "version": 3
   },
   "file_extension": ".py",
   "mimetype": "text/x-python",
   "name": "python",
   "nbconvert_exporter": "python",
   "pygments_lexer": "ipython3",
   "version": "3.12.7"
  }
 },
 "nbformat": 4,
 "nbformat_minor": 5
}
