{
 "cells": [
  {
   "cell_type": "markdown",
   "id": "c62416dc",
   "metadata": {},
   "source": [
    "# Python Basics — High School Review Notebook\n",
    "\n",
    "Welcome! This notebook reviews the most important Python concepts with **short explanations**, **commented examples**, and **mini-exercises** you can try right away.\n",
    "\n",
    "**How to use this notebook**\n",
    "- Read each explanation cell.\n",
    "- Run the example code cells.\n",
    "- Complete the **Try it** exercises (look for blocks titled *Your turn*).\n",
    "- If you get stuck, read the comments in the code and re-run cells.\n"
   ]
  },
  {
   "cell_type": "markdown",
   "id": "19f9cc84",
   "metadata": {},
   "source": [
    "## 1. Variables & Data Types\n",
    "A **variable** is a name that stores a value. Python figures out the type for you (dynamic typing). Common types:\n",
    "- `int` (whole numbers)  \n",
    "- `float` (decimals)  \n",
    "- `bool` (`True`/`False`)  \n",
    "- `str` (text)  \n"
   ]
  },
  {
   "cell_type": "code",
   "execution_count": 1,
   "id": "7058a4d9",
   "metadata": {},
   "outputs": [
    {
     "name": "stdout",
     "output_type": "stream",
     "text": [
      "<class 'int'> <class 'float'> <class 'bool'> <class 'str'>\n",
      "Age next year: 17\n"
     ]
    }
   ],
   "source": [
    "# Assigning variables of different types\n",
    "age = 16               # int (whole number)\n",
    "height = 1.72          # float (decimal number in meters)\n",
    "is_student = True      # bool (logical True/False)\n",
    "name = \"Alex\"          # str (sequence of characters)\n",
    "\n",
    "# Use type() to check a variable's data type\n",
    "print(type(age), type(height), type(is_student), type(name))\n",
    "\n",
    "# Variables can be re-assigned\n",
    "age = age + 1  # or: age += 1\n",
    "print(\"Age next year:\", age)"
   ]
  },
  {
   "cell_type": "markdown",
   "id": "e84bb258",
   "metadata": {},
   "source": [
    "**Your turn — Try it**  \n",
    "Create a variable `city` with your city name, a `temperature` with a decimal number, and print a sentence like:  \n",
    "`Today in <city>, the temperature is <temperature>°C.`"
   ]
  },
  {
   "cell_type": "code",
   "execution_count": 2,
   "id": "29d1a4de",
   "metadata": {},
   "outputs": [],
   "source": [
    "# TODO: Your code here\n",
    "city = \"\"\n",
    "temperature = 0.0\n",
    "# print a friendly message using your variables\n"
   ]
  },
  {
   "cell_type": "markdown",
   "id": "a0dca1de",
   "metadata": {},
   "source": [
    "## 2. Expressions & Operators\n",
    "Operators let you combine values:\n",
    "- Arithmetic: `+ - * / // % **`\n",
    "- Comparison: `< <= > >= == !=`\n",
    "- Logical: `and or not`\n"
   ]
  },
  {
   "cell_type": "code",
   "execution_count": 3,
   "id": "db04eb18",
   "metadata": {},
   "outputs": [
    {
     "name": "stdout",
     "output_type": "stream",
     "text": [
      "10 4 21 2.3333333333333335\n",
      "2 1 32\n",
      "True True True\n",
      "Go outside? True\n"
     ]
    }
   ],
   "source": [
    "# Arithmetic examples\n",
    "print(7 + 3, 7 - 3, 7 * 3, 7 / 3)   # normal division returns float\n",
    "print(7 // 3, 7 % 3, 2 ** 5)        # integer division, remainder, exponent\n",
    "\n",
    "# Comparison returns True/False\n",
    "print(5 > 2, 5 == 5, 5 != 2)\n",
    "\n",
    "# Logical operators combine True/False values\n",
    "is_warm = True\n",
    "is_sunny = False\n",
    "print(\"Go outside?\", is_warm and not is_sunny)"
   ]
  },
  {
   "cell_type": "markdown",
   "id": "363a1a18",
   "metadata": {},
   "source": [
    "## 3. Strings (Text)\n",
    "Strings are sequences of characters. Useful operations:\n",
    "- Concatenation with `+`\n",
    "- Repetition with `*`\n",
    "- f-strings for formatting: `f\"Hello {name}\"`\n",
    "- Methods: `.lower()`, `.upper()`, `.strip()`, `.replace()`, `.split()`\n"
   ]
  },
  {
   "cell_type": "code",
   "execution_count": 4,
   "id": "46bd36f4",
   "metadata": {},
   "outputs": [
    {
     "name": "stdout",
     "output_type": "stream",
     "text": [
      "Ada Lovelace\n",
      "Ada Lovelace will be 18 next year.\n",
      "python is fun!\n",
      "  Python Is powerful!  \n",
      "['csv', 'values', 'here']\n"
     ]
    }
   ],
   "source": [
    "first = \"Ada\"\n",
    "last = \"Lovelace\"\n",
    "full = first + \" \" + last\n",
    "print(full)\n",
    "\n",
    "# f-strings let you embed expressions inside {}\n",
    "age = 17\n",
    "print(f\"{full} will be {age + 1} next year.\")\n",
    "\n",
    "# Common string methods\n",
    "message = \"  Python Is FUN!  \"\n",
    "print(message.lower().strip())   # lowercase and remove surrounding spaces\n",
    "print(message.replace(\"FUN\", \"powerful\"))\n",
    "print(\"csv,values,here\".split(\",\"))"
   ]
  },
  {
   "cell_type": "markdown",
   "id": "403291c8",
   "metadata": {},
   "source": [
    "**Your turn — Try it**  \n",
    "Make a variable `quote` with your favorite quote. Print it in **all caps** and also print how many characters it has using `len(quote)`."
   ]
  },
  {
   "cell_type": "code",
   "execution_count": 5,
   "id": "58074fa8",
   "metadata": {},
   "outputs": [],
   "source": [
    "# TODO: Your code here\n",
    "quote = \"\"\n",
    "# print the uppercase version and its length\n"
   ]
  },
  {
   "cell_type": "markdown",
   "id": "7ad9e4d4",
   "metadata": {},
   "source": [
    "## 4. Collections: List, Tuple, Set, Dict\n",
    "- **List** `[]`: ordered, changeable\n",
    "- **Tuple** `()`: ordered, unchangeable\n",
    "- **Set** `{}`: unordered, unique elements\n",
    "- **Dict** `{key: value}`: maps keys to values\n"
   ]
  },
  {
   "cell_type": "code",
   "execution_count": 6,
   "id": "ed762486",
   "metadata": {},
   "outputs": [
    {
     "name": "stdout",
     "output_type": "stream",
     "text": [
      "List: [88, 93, 79, 95, 100] min= 79 max= 100\n",
      "Tuple: (3, 4)\n",
      "Set: {'blue', 'yellow', 'green', 'red'}\n",
      "Dict: {'name': 'Sam', 'grade': 11, 'gpa': 3.8, 'club': 'Robotics'}\n",
      "name: Sam\n",
      "grade: 11\n",
      "gpa: 3.8\n",
      "club: Robotics\n"
     ]
    }
   ],
   "source": [
    "# LIST\n",
    "scores = [88, 92, 79, 95]\n",
    "scores.append(100)       # add at end\n",
    "scores[1] = 93           # modify by index\n",
    "print(\"List:\", scores, \"min=\", min(scores), \"max=\", max(scores))\n",
    "\n",
    "# TUPLE (immutable)\n",
    "point = (3, 4)\n",
    "# point[0] = 10  # would error because tuples don't allow reassignment\n",
    "print(\"Tuple:\", point)\n",
    "\n",
    "# SET (unique items, no guaranteed order)\n",
    "colors = {\"red\", \"blue\", \"red\", \"green\"}\n",
    "colors.add(\"yellow\")\n",
    "print(\"Set:\", colors)\n",
    "\n",
    "# DICTIONARY (key -> value)\n",
    "student = {\"name\": \"Sam\", \"grade\": 11, \"gpa\": 3.7}\n",
    "student[\"gpa\"] = 3.8  # update value\n",
    "student[\"club\"] = \"Robotics\"  # add new key-value\n",
    "print(\"Dict:\", student)\n",
    "\n",
    "# Looping through dict\n",
    "for key, value in student.items():\n",
    "    print(f\"{key}: {value}\")"
   ]
  },
  {
   "cell_type": "markdown",
   "id": "294f8b06",
   "metadata": {},
   "source": [
    "**Your turn — Try it**  \n",
    "Create a dictionary `movie` with keys `title`, `year`, and `rating`. Print a sentence using its values with an f-string."
   ]
  },
  {
   "cell_type": "code",
   "execution_count": 7,
   "id": "8d7eb5c6",
   "metadata": {},
   "outputs": [],
   "source": [
    "# TODO: Your code here\n",
    "movie = {}\n",
    "# print a sentence describing the movie\n"
   ]
  },
  {
   "cell_type": "markdown",
   "id": "da9eb2ea",
   "metadata": {},
   "source": [
    "## 5. Conditionals: `if`, `elif`, `else`\n",
    "Use conditionals to execute code only when tests are `True`.\n"
   ]
  },
  {
   "cell_type": "code",
   "execution_count": 8,
   "id": "79233e17",
   "metadata": {},
   "outputs": [
    {
     "name": "stdout",
     "output_type": "stream",
     "text": [
      "Letter grade: B\n"
     ]
    }
   ],
   "source": [
    "grade = 87\n",
    "if grade >= 90:\n",
    "    letter = 'A'\n",
    "elif grade >= 80:\n",
    "    letter = 'B'\n",
    "elif grade >= 70:\n",
    "    letter = 'C'\n",
    "else:\n",
    "    letter = 'D or F'\n",
    "print(\"Letter grade:\", letter)"
   ]
  },
  {
   "cell_type": "markdown",
   "id": "bb262fce",
   "metadata": {},
   "source": [
    "## 6. Loops: `for` and `while`\n",
    "- Use `for` to iterate over a sequence.\n",
    "- Use `while` for repeated actions until a condition becomes `False`.\n"
   ]
  },
  {
   "cell_type": "code",
   "execution_count": 9,
   "id": "cc1bd193",
   "metadata": {},
   "outputs": [
    {
     "name": "stdout",
     "output_type": "stream",
     "text": [
      "Hello, Ana\n",
      "Hello, Ben\n",
      "Hello, Chloe\n",
      "1\n",
      "2\n",
      "3\n",
      "4\n",
      "5\n"
     ]
    }
   ],
   "source": [
    "# FOR loop\n",
    "names = [\"Ana\", \"Ben\", \"Chloe\"]\n",
    "for n in names:\n",
    "    print(\"Hello,\", n)\n",
    "\n",
    "# WHILE loop: print numbers 1..5\n",
    "num = 1\n",
    "while num <= 5:\n",
    "    print(num)\n",
    "    num += 1"
   ]
  },
  {
   "cell_type": "markdown",
   "id": "06eea273",
   "metadata": {},
   "source": [
    "## 7. Functions\n",
    "Functions are reusable blocks of code defined with `def`.\n"
   ]
  },
  {
   "cell_type": "code",
   "execution_count": 10,
   "id": "967e3146",
   "metadata": {},
   "outputs": [
    {
     "name": "stdout",
     "output_type": "stream",
     "text": [
      "Hi, Jordan!\n",
      "15\n",
      "5\n"
     ]
    }
   ],
   "source": [
    "def greet(name):\n",
    "    \"\"\"Return a friendly greeting for the given name.\"\"\"\n",
    "    return f\"Hi, {name}!\"\n",
    "\n",
    "print(greet(\"Jordan\"))\n",
    "\n",
    "# Multiple parameters with a default value\n",
    "def area_of_rectangle(width, height=1):\n",
    "    \"\"\"Compute area = width * height. Height defaults to 1 if not provided.\"\"\"\n",
    "    return width * height\n",
    "\n",
    "print(area_of_rectangle(5, 3))  # 15\n",
    "print(area_of_rectangle(5))     # 5 (using default)"
   ]
  },
  {
   "cell_type": "markdown",
   "id": "500e21b7",
   "metadata": {},
   "source": [
    "**Your turn — Try it**  \n",
    "Write a function `is_even(n)` that returns `True` if `n` is even, else `False`. Then test it with several numbers."
   ]
  },
  {
   "cell_type": "code",
   "execution_count": 11,
   "id": "641128dc",
   "metadata": {},
   "outputs": [],
   "source": [
    "# TODO: Your code here\n",
    "def is_even(n):\n",
    "    pass\n",
    "\n",
    "# test your function\n"
   ]
  },
  {
   "cell_type": "markdown",
   "id": "064090af",
   "metadata": {},
   "source": [
    "## 8. List Comprehensions\n",
    "A quick way to build lists using a `for` expression, optionally with an `if` filter.\n"
   ]
  },
  {
   "cell_type": "code",
   "execution_count": 12,
   "id": "c7dbe5bb",
   "metadata": {},
   "outputs": [
    {
     "name": "stdout",
     "output_type": "stream",
     "text": [
      "[1, 4, 9, 16, 25, 36, 49, 64, 81, 100]\n",
      "[4, 16, 36, 64, 100]\n"
     ]
    }
   ],
   "source": [
    "# Build a list of squares 1..10\n",
    "squares = [x * x for x in range(1, 11)]\n",
    "print(squares)\n",
    "\n",
    "# Filter: keep only even squares\n",
    "even_squares = [s for s in squares if s % 2 == 0]\n",
    "print(even_squares)"
   ]
  },
  {
   "cell_type": "markdown",
   "id": "87f9ee5c",
   "metadata": {},
   "source": [
    "## 9. Working with Files (read/write)\n",
    "Use `with open(...) as f:` to **safely** read or write files.\n"
   ]
  },
  {
   "cell_type": "code",
   "execution_count": 13,
   "id": "a9307c8d",
   "metadata": {},
   "outputs": [
    {
     "name": "stdout",
     "output_type": "stream",
     "text": [
      "File contents:\n",
      "First line\n",
      "Second line\n",
      "\n"
     ]
    }
   ],
   "source": [
    "# Write a small text file (in the current folder)\n",
    "text = \"First line\\nSecond line\\n\"\n",
    "with open(\"sample.txt\", \"w\", encoding=\"utf-8\") as f:\n",
    "    f.write(text)\n",
    "\n",
    "# Read it back\n",
    "with open(\"sample.txt\", \"r\", encoding=\"utf-8\") as f:\n",
    "    data = f.read()\n",
    "print(\"File contents:\\n\" + data)"
   ]
  },
  {
   "cell_type": "markdown",
   "id": "3dac0499",
   "metadata": {},
   "source": [
    "## 10. Exceptions (Errors) and `try/except`\n",
    "Handle errors gracefully so your program doesn't crash.\n"
   ]
  },
  {
   "cell_type": "code",
   "execution_count": 14,
   "id": "946b3aea",
   "metadata": {},
   "outputs": [
    {
     "name": "stdout",
     "output_type": "stream",
     "text": [
      "5.0\n",
      "Cannot divide by zero!\n"
     ]
    }
   ],
   "source": [
    "# Example: safe division function\n",
    "\n",
    "def safe_divide(a, b):\n",
    "    try:\n",
    "        return a / b\n",
    "    except ZeroDivisionError:\n",
    "        return \"Cannot divide by zero!\"\n",
    "\n",
    "print(safe_divide(10, 2))  # 5.0\n",
    "print(safe_divide(10, 0))  # handled message"
   ]
  },
  {
   "cell_type": "markdown",
   "id": "14a3a0c1",
   "metadata": {},
   "source": [
    "## 11. Modules & Imports\n",
    "You can import standard modules to access extra features (e.g., `math`, `random`).\n"
   ]
  },
  {
   "cell_type": "code",
   "execution_count": 15,
   "id": "e2a496cf",
   "metadata": {},
   "outputs": [
    {
     "name": "stdout",
     "output_type": "stream",
     "text": [
      "pi ~ 3.141592653589793\n",
      "sqrt(144) = 12.0\n",
      "Die roll: 3\n"
     ]
    }
   ],
   "source": [
    "import math, random\n",
    "\n",
    "print(\"pi ~\", math.pi)\n",
    "print(\"sqrt(144) =\", math.sqrt(144))\n",
    "\n",
    "# Random integer between 1 and 6 (like a die roll)\n",
    "print(\"Die roll:\", random.randint(1, 6))"
   ]
  },
  {
   "cell_type": "markdown",
   "id": "a59654b9",
   "metadata": {},
   "source": [
    "## 12. Intro to Classes (OOP)\n",
    "A **class** defines a new type (a blueprint). An **object** is an instance of a class.\n"
   ]
  },
  {
   "cell_type": "code",
   "execution_count": 16,
   "id": "e530e8ab",
   "metadata": {},
   "outputs": [
    {
     "name": "stdout",
     "output_type": "stream",
     "text": [
      "Student(name='Maya', grade=11, avg=91.50)\n",
      "Average: 91.5\n"
     ]
    }
   ],
   "source": [
    "class Student:\n",
    "    def __init__(self, name, grade):\n",
    "        # The constructor runs when you create a new Student\n",
    "        self.name = name\n",
    "        self.grade = grade\n",
    "        self.scores = []  # start with an empty list of test scores\n",
    "\n",
    "    def add_score(self, value):\n",
    "        # Add a new score to this student's record\n",
    "        self.scores.append(value)\n",
    "\n",
    "    def average(self):\n",
    "        # Compute average score; avoid division by zero\n",
    "        return sum(self.scores) / len(self.scores) if self.scores else 0\n",
    "\n",
    "    def __repr__(self):\n",
    "        # Helpful string representation for debugging/printing\n",
    "        return f\"Student(name={self.name!r}, grade={self.grade}, avg={self.average():.2f})\"\n",
    "\n",
    "# Create and use a Student\n",
    "s = Student(\"Maya\", 11)\n",
    "s.add_score(95)\n",
    "s.add_score(88)\n",
    "print(s)\n",
    "print(\"Average:\", s.average())"
   ]
  },
  {
   "cell_type": "markdown",
   "id": "ccc17c99",
   "metadata": {},
   "source": [
    "## 13. Mini‑Project: Gradebook Summary\n",
    "**Goal:** Given a list of students with scores, compute each student's average and the class average.\n"
   ]
  },
  {
   "cell_type": "code",
   "execution_count": 17,
   "id": "171214ee",
   "metadata": {},
   "outputs": [
    {
     "name": "stdout",
     "output_type": "stream",
     "text": [
      "Averages:\n",
      " - Alex: 91.7\n",
      " - Maya: 94.3\n",
      " - Ben: 75.3\n",
      "Class average: 87.1\n"
     ]
    }
   ],
   "source": [
    "# Starter data: each student has a list of scores\n",
    "class_data = {\n",
    "    \"Alex\": [88, 92, 95],\n",
    "    \"Maya\": [95, 88, 100],\n",
    "    \"Ben\":  [70, 76, 80],\n",
    "}\n",
    "\n",
    "# Compute per-student averages using a comprehension\n",
    "averages = {name: sum(scores)/len(scores) for name, scores in class_data.items()}\n",
    "\n",
    "# Compute class average\n",
    "all_scores = [score for scores in class_data.values() for score in scores]\n",
    "class_avg = sum(all_scores) / len(all_scores)\n",
    "\n",
    "print(\"Averages:\")\n",
    "for name, avg in averages.items():\n",
    "    print(f\" - {name}: {avg:.1f}\")\n",
    "print(f\"Class average: {class_avg:.1f}\")"
   ]
  },
  {
   "cell_type": "markdown",
   "id": "87a60adc",
   "metadata": {},
   "source": [
    "**Your turn — Extend it**  \n",
    "- Add a new student with 3 scores.\n",
    "- Recompute the averages and class average.\n",
    "- Print the **highest** and **lowest** student average, and who achieved them.\n"
   ]
  },
  {
   "cell_type": "code",
   "execution_count": 18,
   "id": "7643e4b3",
   "metadata": {},
   "outputs": [],
   "source": [
    "# TODO: Your code here\n",
    "# 1) Add a new student to class_data\n",
    "# 2) Recompute per-student and class averages\n",
    "# 3) Find and print highest/lowest averages\n"
   ]
  },
  {
   "cell_type": "markdown",
   "id": "7118b9b6",
   "metadata": {},
   "source": [
    "## 14. Practice Set (Quick Checks)\n",
    "1. Write a function `factorial(n)` that returns `n!` (assume `n >= 0`).\n",
    "2. Given a list of numbers, build a new list with only the **unique** numbers (any order is fine).\n",
    "3. Write code that counts how many vowels are in a string.\n",
    "4. Create a `Rectangle` class with `width` and `height` and a method `area()`.\n",
    "5. (Challenge) Given `text`, produce a dict mapping each **word** to its **frequency** (ignore case and punctuation).\n"
   ]
  },
  {
   "cell_type": "code",
   "execution_count": 19,
   "id": "f4158191",
   "metadata": {},
   "outputs": [],
   "source": [
    "# You can solve the practice problems here.\n",
    "# Add more cells if you need!\n"
   ]
  },
  {
   "cell_type": "markdown",
   "id": "7da27001",
   "metadata": {},
   "source": [
    "## 15. Next Steps\n",
    "- Explore the official Python tutorial: https://docs.python.org/3/tutorial/\n",
    "- Try problems on platforms like LeetCode (Easy) or USACO Bronze practice.\n",
    "- Learn popular libraries: `numpy` (math), `pandas` (data), `matplotlib` (plots).\n",
    "\n",
    "**Tip:** Programming is a skill — you get better by writing and debugging lots of code. Keep going! 🚀\n"
   ]
  },
  {
   "cell_type": "code",
   "execution_count": null,
   "id": "b3ee5d1a-0b88-46d2-b14f-1e14720fb818",
   "metadata": {},
   "outputs": [],
   "source": []
  }
 ],
 "metadata": {
  "colab": {
   "provenance": []
  },
  "kernelspec": {
   "display_name": "Python 3 (ipykernel)",
   "language": "python",
   "name": "python3"
  },
  "language_info": {
   "codemirror_mode": {
    "name": "ipython",
    "version": 3
   },
   "file_extension": ".py",
   "mimetype": "text/x-python",
   "name": "python",
   "nbconvert_exporter": "python",
   "pygments_lexer": "ipython3",
   "version": "3.12.7"
  }
 },
 "nbformat": 4,
 "nbformat_minor": 5
}
