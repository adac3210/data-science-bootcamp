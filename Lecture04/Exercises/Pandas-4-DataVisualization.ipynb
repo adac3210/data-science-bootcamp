{
 "cells": [
  {
   "cell_type": "markdown",
   "id": "95450f2c-685a-49e1-9821-1688ad8e2829",
   "metadata": {},
   "source": [
    "# Pandas for Data Visualization"
   ]
  },
  {
   "cell_type": "markdown",
   "id": "b308a0f3-63ec-4cc8-8813-616a991ee40b",
   "metadata": {},
   "source": [
    "## 1. Introduction\n",
    "In the previous chapters, you have seen how the Pandas library can\n",
    "be used to perform different types of data manipulation and analysis\n",
    "tasks. Data visualization is another extremely important data analysis\n",
    "task. Luckily enough for us, the Pandas library offers data\n",
    "visualization functionalities, as well, in the form of various charts.\n",
    "In this chapter, you will see how the Pandas library can be used to\n",
    "plot different types of visualizations. The Pandas library is probably\n",
    "the easiest library for data plotting, as you will see in this chapter."
   ]
  },
  {
   "cell_type": "markdown",
   "id": "6e3b515a-604d-4a6a-9bf5-c55bb2ba8da6",
   "metadata": {},
   "source": [
    "## 2. Loading Datasets with Pandas\n",
    "Before you can plot any visualization with the Pandas library, you\n",
    "need to read data into a Pandas dataframe. The best way to do so is\n",
    "via the read_csv() method. The following script shows how to read\n",
    "the Titanic dataset into a dataframe named titanic_data. You can give\n",
    "any name to the dataframe."
   ]
  },
  {
   "cell_type": "code",
   "execution_count": null,
   "id": "f4b93b61-c9d8-4af8-9e57-766601a3371c",
   "metadata": {},
   "outputs": [],
   "source": []
  }
 ],
 "metadata": {
  "kernelspec": {
   "display_name": "Python 3 (ipykernel)",
   "language": "python",
   "name": "python3"
  },
  "language_info": {
   "codemirror_mode": {
    "name": "ipython",
    "version": 3
   },
   "file_extension": ".py",
   "mimetype": "text/x-python",
   "name": "python",
   "nbconvert_exporter": "python",
   "pygments_lexer": "ipython3",
   "version": "3.12.7"
  }
 },
 "nbformat": 4,
 "nbformat_minor": 5
}
