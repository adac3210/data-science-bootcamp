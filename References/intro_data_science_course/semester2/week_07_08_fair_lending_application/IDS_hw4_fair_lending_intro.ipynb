{
 "cells": [
  {
   "cell_type": "markdown",
   "metadata": {},
   "source": [
    "<img src=\"../../predictioNN_Logo_JPG(72).jpg\" width=200>"
   ]
  },
  {
   "cell_type": "markdown",
   "metadata": {},
   "source": [
    "---\n",
    "\n",
    "## Introduction to Fair Lending\n",
    "\n",
    "### Programming for Data Science\n",
    "### Last Updated: November 11, 2022\n",
    "---  \n",
    "\n",
    "### PREREQUISITES\n",
    "- variables\n",
    "- data types\n",
    "- pandas\n",
    "\n",
    "### SOURCES \n",
    "- Fair Lending [introduction](https://www.occ.treas.gov/topics/consumers-and-communities/consumer-protection/fair-lending/index-fair-lending.html)\n",
    "- statsmodels [module](https://www.statsmodels.org/stable/index.html)\n",
    "\n",
    "### OBJECTIVES\n",
    "- Understand the definition of fair lending\n",
    "- Identify examples of protected classes and disparate treatment\n",
    "- Explore how to quantitatively check for fair lending\n",
    "- Illustrate how to fit a logistic regression model with `statsmodels`\n",
    "- Understand how to check if a predictor is statistically significant using software\n",
    "\n",
    "### CONCEPTS\n",
    "- fair lending\n",
    "- default\n",
    "- discrimination\n",
    "- disparate treatment\n",
    "- protected classes\n",
    "- statistical significance\n",
    "\n",
    "### GRADING\n",
    "This will be graded as a homework exercise worth 10 points.  \n",
    "\n",
    "---\n"
   ]
  },
  {
   "cell_type": "markdown",
   "metadata": {},
   "source": [
    "### I. Executive Summary\n",
    "\n",
    "This notebook introduces the concept of fair lending. It discusses how machine learning models are used for systematic decisioning of loans, and how models can be used to assess if the process is fair. You will complete the reading, and then work through an exercise that includes a synthetic dataset of lending information. You will fit (train) a logistic regression model to quantitatively assess fairness in the lending process.\n",
    "\n",
    "---"
   ]
  },
  {
   "cell_type": "markdown",
   "metadata": {},
   "source": [
    "### II. Introduction to Fair Lending\n",
    "\n",
    "The ability to borrow in advance of payment, or **credit**, is essential.\n",
    "\n",
    "As of September 2022, consumer debt in the United States was over $16 trillion (source: bankrate.com)."
   ]
  },
  {
   "cell_type": "markdown",
   "metadata": {},
   "source": [
    "\n",
    "Commercial banks are one large player in this space, providing loans and lending products such as:\n",
    "\n",
    "- mortgages\n",
    "- home equity loans\n",
    "- student loans\n",
    "- auto loans\n",
    "- credit cards\n",
    "\n",
    "Lenders want to avoid the possibility of nonpayment, or **default**, on part of the loan or the full loan.  \n",
    "They use historical information and judgement, among other things, to make lending decisions.  \n",
    "Unfortunately, some lenders include bias - knowingly and sometimes unknowingly - in their decision.\n",
    "\n",
    "Lending practices are not always fair. They may **discriminate** against subpopulations.\n",
    "\n",
    "Federal bank regulatory agencies such as the OCC have developed approaches to address unfair and deceptive lending practices. \n",
    "\n",
    "The Fair Housing Act (FHA) and the Equal Credit Opportunity Act (ECOA) protect consumers by prohibiting unfair and discriminatory practices.\n",
    "\n",
    "Discrimination in credit and real estate transactions is prohibited based on factors including:\n",
    "\n",
    "- race or color\n",
    "- national origin\n",
    "- religion\n",
    "- sex\n",
    "- age (provided the applicant is old enough to enter into a contract)\n",
    "\n",
    "A **protected class** refers to groups of individuals protected by anti-discrimination laws, such as: \n",
    "\n",
    "- women\n",
    "- individuals over the age of 65\n",
    "- Black, Hispanic, and Native American individuals\n",
    "\n",
    "**Disparate Treatment**\n",
    "\n",
    "Illegal disparate treatment occurs when a lender bases its decision on one or more discriminatory factors covered by fair lending laws. \n",
    "\n",
    "Example: A bank uses a lending process where females are offered an auto loan with a higher interest rate than males. This practice would be a violation of fair lending laws.\n"
   ]
  },
  {
   "cell_type": "markdown",
   "metadata": {},
   "source": [
    "***\n",
    "\n",
    "**THINK ABOUT AND DISCUSS**\n",
    "\n",
    "1) What is discrimination?"
   ]
  },
  {
   "cell_type": "markdown",
   "metadata": {
    "tags": []
   },
   "source": []
  },
  {
   "cell_type": "markdown",
   "metadata": {},
   "source": [
    "2) What are possible reasons for discrimination in lending?"
   ]
  },
  {
   "cell_type": "markdown",
   "metadata": {
    "tags": []
   },
   "source": []
  },
  {
   "cell_type": "markdown",
   "metadata": {},
   "source": [
    "---"
   ]
  },
  {
   "cell_type": "markdown",
   "metadata": {},
   "source": [
    "### III. Model-Based Lending\n",
    "\n",
    "In modern finance, banks and other lenders typically use machine learning (ML) models to make lending decisions.\n",
    "\n",
    "The decisions include:\n",
    "\n",
    "- accept or deny the loan request (underwriting)\n",
    "- given acceptance of the loan, which interest rate to offer (pricing)\n",
    "\n",
    "The underwriting decision model is commonly a logistic regression model.  \n",
    "The pricing decision model is commonly a linear regression model.\n",
    "\n",
    "The model predictors should capture the ability and willingness of borrowers to repay the loan.  \n",
    "The predictors should not use protected class information, as this can discriminate, promoting unfair lending.\n",
    "\n",
    "\n",
    "***\n",
    "\n",
    "**THINK ABOUT AND DISCUSS**\n",
    "\n",
    "3) Why do you think ML models are used in lending?"
   ]
  },
  {
   "cell_type": "markdown",
   "metadata": {
    "tags": []
   },
   "source": []
  },
  {
   "cell_type": "markdown",
   "metadata": {},
   "source": [
    "4. Which variables might be good predictors? Which variables would promote discrimination?"
   ]
  },
  {
   "cell_type": "markdown",
   "metadata": {
    "tags": []
   },
   "source": []
  },
  {
   "cell_type": "markdown",
   "metadata": {},
   "source": [
    "---"
   ]
  },
  {
   "cell_type": "markdown",
   "metadata": {},
   "source": [
    "### IV. Discussion of the Underwriting Models\n",
    "\n",
    "There will be two models discussed in this exercise. \n",
    "\n",
    "- the underwriting model $M_U$ used for making automated underwriting decisions\n",
    "- the fair lending model $M_{FL}$ used to assess if the underwriting process was systematically fair\n",
    "\n",
    "**THINK ABOUT AND DISCUSS**\n",
    "\n",
    "5) How might we quantify fair lending? Hint: think about the output from the model.\n"
   ]
  },
  {
   "cell_type": "markdown",
   "metadata": {
    "tags": []
   },
   "source": []
  },
  {
   "cell_type": "markdown",
   "metadata": {},
   "source": [
    "---"
   ]
  },
  {
   "cell_type": "markdown",
   "metadata": {},
   "source": [
    "### V. A Brief Introduction to Statistical Significance"
   ]
  },
  {
   "cell_type": "markdown",
   "metadata": {},
   "source": [
    "We will want to understand which predictors in a regression model are important, or **statistically significant**.\n",
    "\n",
    "This is done with a statistical test. We give an overview next. The details are beyond the scope of this course, but if you would like to dig deeper, you can search the web for \"p-values of regression coefficients.\"\n",
    "\n",
    "Suppose the logistic regression model has this form:\n",
    "\n",
    "$$Prob(Denied) = \\frac{e^{0.3 - 0.006 * FICO}}{1 + e^{0.3 - 0.006 * FICO}}$$\n",
    "\n",
    "where $Prob(Denied)$ is the probability that the loan request will be denied.\n",
    "\n",
    "The coefficient of the FICO score is -0.006. This is fairly close to zero, but to understand if it's statistically different from zero (meaning FICO is important), we would need to:\n",
    "\n",
    "- estimate its **standard error**, which quantifies the variability which arises because 1) the estimate was based on a sample and not the entire population and 2) the predictors and response are random variables with dispersed values\n",
    "- run a formal statistical test\n",
    "\n",
    "We used `sklearn` to fit logistic regression models, but unfortunately this package doesn't compute standard errors or run the statistical test. Next, we look at another module called `statsmodels` which will do this for us."
   ]
  },
  {
   "cell_type": "markdown",
   "metadata": {},
   "source": [
    "**THINK ABOUT AND DISCUSS**\n",
    "\n",
    "6) Given the model, if FICO increases, what happens to $Prob(Denied)$?\n"
   ]
  },
  {
   "cell_type": "markdown",
   "metadata": {
    "tags": []
   },
   "source": []
  },
  {
   "cell_type": "markdown",
   "metadata": {},
   "source": [
    "---"
   ]
  },
  {
   "cell_type": "markdown",
   "metadata": {},
   "source": [
    "### VI. Introduction to statsmodels \n",
    "\n",
    "The Python module `statsmodels` allows users to build various statistical models including regression models.  \n",
    "Importantly, it computes standard errors and p-values.\n",
    "\n",
    "The response data will be synthetic (made up) so that we can fit and examine a logistic regression example."
   ]
  },
  {
   "cell_type": "code",
   "execution_count": 1,
   "metadata": {},
   "outputs": [],
   "source": [
    "import numpy as np\n",
    "import pandas as pd\n",
    "import statsmodels.api as sm"
   ]
  },
  {
   "cell_type": "markdown",
   "metadata": {},
   "source": [
    "Load Country Happiness dataset."
   ]
  },
  {
   "cell_type": "code",
   "execution_count": 2,
   "metadata": {},
   "outputs": [
    {
     "data": {
      "text/html": [
       "<div>\n",
       "<style scoped>\n",
       "    .dataframe tbody tr th:only-of-type {\n",
       "        vertical-align: middle;\n",
       "    }\n",
       "\n",
       "    .dataframe tbody tr th {\n",
       "        vertical-align: top;\n",
       "    }\n",
       "\n",
       "    .dataframe thead th {\n",
       "        text-align: right;\n",
       "    }\n",
       "</style>\n",
       "<table border=\"1\" class=\"dataframe\">\n",
       "  <thead>\n",
       "    <tr style=\"text-align: right;\">\n",
       "      <th></th>\n",
       "      <th>Country</th>\n",
       "      <th>Happiness score</th>\n",
       "      <th>Whisker-high</th>\n",
       "      <th>Whisker-low</th>\n",
       "      <th>Dystopia (1.92) + residual</th>\n",
       "      <th>Explained by: GDP per capita</th>\n",
       "      <th>Explained by: Social support</th>\n",
       "      <th>Explained by: Healthy life expectancy</th>\n",
       "      <th>Explained by: Freedom to make life choices</th>\n",
       "      <th>Explained by: Generosity</th>\n",
       "      <th>Explained by: Perceptions of corruption</th>\n",
       "    </tr>\n",
       "  </thead>\n",
       "  <tbody>\n",
       "    <tr>\n",
       "      <th>0</th>\n",
       "      <td>Finland</td>\n",
       "      <td>7.632</td>\n",
       "      <td>7.695</td>\n",
       "      <td>7.569</td>\n",
       "      <td>2.595</td>\n",
       "      <td>1.305</td>\n",
       "      <td>1.592</td>\n",
       "      <td>0.874</td>\n",
       "      <td>0.681</td>\n",
       "      <td>0.192</td>\n",
       "      <td>0.393</td>\n",
       "    </tr>\n",
       "    <tr>\n",
       "      <th>1</th>\n",
       "      <td>Norway</td>\n",
       "      <td>7.594</td>\n",
       "      <td>7.657</td>\n",
       "      <td>7.530</td>\n",
       "      <td>2.383</td>\n",
       "      <td>1.456</td>\n",
       "      <td>1.582</td>\n",
       "      <td>0.861</td>\n",
       "      <td>0.686</td>\n",
       "      <td>0.286</td>\n",
       "      <td>0.340</td>\n",
       "    </tr>\n",
       "    <tr>\n",
       "      <th>2</th>\n",
       "      <td>Denmark</td>\n",
       "      <td>7.555</td>\n",
       "      <td>7.623</td>\n",
       "      <td>7.487</td>\n",
       "      <td>2.370</td>\n",
       "      <td>1.351</td>\n",
       "      <td>1.590</td>\n",
       "      <td>0.868</td>\n",
       "      <td>0.683</td>\n",
       "      <td>0.284</td>\n",
       "      <td>0.408</td>\n",
       "    </tr>\n",
       "    <tr>\n",
       "      <th>3</th>\n",
       "      <td>Iceland</td>\n",
       "      <td>7.495</td>\n",
       "      <td>7.593</td>\n",
       "      <td>7.398</td>\n",
       "      <td>2.426</td>\n",
       "      <td>1.343</td>\n",
       "      <td>1.644</td>\n",
       "      <td>0.914</td>\n",
       "      <td>0.677</td>\n",
       "      <td>0.353</td>\n",
       "      <td>0.138</td>\n",
       "    </tr>\n",
       "    <tr>\n",
       "      <th>4</th>\n",
       "      <td>Switzerland</td>\n",
       "      <td>7.487</td>\n",
       "      <td>7.570</td>\n",
       "      <td>7.405</td>\n",
       "      <td>2.320</td>\n",
       "      <td>1.420</td>\n",
       "      <td>1.549</td>\n",
       "      <td>0.927</td>\n",
       "      <td>0.660</td>\n",
       "      <td>0.256</td>\n",
       "      <td>0.357</td>\n",
       "    </tr>\n",
       "  </tbody>\n",
       "</table>\n",
       "</div>"
      ],
      "text/plain": [
       "       Country  Happiness score  Whisker-high  Whisker-low  \\\n",
       "0      Finland            7.632         7.695        7.569   \n",
       "1       Norway            7.594         7.657        7.530   \n",
       "2      Denmark            7.555         7.623        7.487   \n",
       "3      Iceland            7.495         7.593        7.398   \n",
       "4  Switzerland            7.487         7.570        7.405   \n",
       "\n",
       "   Dystopia (1.92) + residual  Explained by: GDP per capita  \\\n",
       "0                       2.595                         1.305   \n",
       "1                       2.383                         1.456   \n",
       "2                       2.370                         1.351   \n",
       "3                       2.426                         1.343   \n",
       "4                       2.320                         1.420   \n",
       "\n",
       "   Explained by: Social support  Explained by: Healthy life expectancy  \\\n",
       "0                         1.592                                  0.874   \n",
       "1                         1.582                                  0.861   \n",
       "2                         1.590                                  0.868   \n",
       "3                         1.644                                  0.914   \n",
       "4                         1.549                                  0.927   \n",
       "\n",
       "   Explained by: Freedom to make life choices  Explained by: Generosity  \\\n",
       "0                                       0.681                     0.192   \n",
       "1                                       0.686                     0.286   \n",
       "2                                       0.683                     0.284   \n",
       "3                                       0.677                     0.353   \n",
       "4                                       0.660                     0.256   \n",
       "\n",
       "   Explained by: Perceptions of corruption  \n",
       "0                                    0.393  \n",
       "1                                    0.340  \n",
       "2                                    0.408  \n",
       "3                                    0.138  \n",
       "4                                    0.357  "
      ]
     },
     "execution_count": 2,
     "metadata": {},
     "output_type": "execute_result"
    }
   ],
   "source": [
    "FULLPATH = '../datasets/Country_Happiness.csv'\n",
    "df = pd.read_csv(FULLPATH)\n",
    "df.head()"
   ]
  },
  {
   "cell_type": "markdown",
   "metadata": {},
   "source": [
    "Prepare the data"
   ]
  },
  {
   "cell_type": "code",
   "execution_count": 3,
   "metadata": {},
   "outputs": [
    {
     "name": "stdout",
     "output_type": "stream",
     "text": [
      "X first 5 rows:\n",
      " [[1.    1.592 0.874]\n",
      " [1.    1.582 0.861]\n",
      " [1.    1.59  0.868]\n",
      " [1.    1.644 0.914]\n",
      " [1.    1.549 0.927]]\n",
      "\n",
      "\n",
      "y first 5 values:\n",
      " [1 1 1 1 1]\n"
     ]
    }
   ],
   "source": [
    "# build the design matrix X\n",
    "X = df[['Explained by: Social support','Explained by: Healthy life expectancy']]\n",
    "\n",
    "# append column of 1s to design matrix for intercept term\n",
    "X = sm.add_constant(X) \n",
    "print('X first 5 rows:\\n', X.values[:5])\n",
    "\n",
    "# build the response vector y with some 1s and 0s\n",
    "y = df[\"response\"] = np.concatenate((np.repeat(1,100), np.repeat(0,56)))\n",
    "\n",
    "print('\\n')\n",
    "print('y first 5 values:\\n', y[:5])"
   ]
  },
  {
   "cell_type": "markdown",
   "metadata": {},
   "source": [
    "Fit the logistic regression model and show the results."
   ]
  },
  {
   "cell_type": "code",
   "execution_count": 4,
   "metadata": {},
   "outputs": [
    {
     "name": "stdout",
     "output_type": "stream",
     "text": [
      "Optimization terminated successfully.\n",
      "         Current function value: 0.293347\n",
      "         Iterations 7\n",
      "                           Logit Regression Results                           \n",
      "==============================================================================\n",
      "Dep. Variable:                      y   No. Observations:                  156\n",
      "Model:                          Logit   Df Residuals:                      153\n",
      "Method:                           MLE   Df Model:                            2\n",
      "Date:                Fri, 11 Nov 2022   Pseudo R-squ.:                  0.5506\n",
      "Time:                        06:04:34   Log-Likelihood:                -45.762\n",
      "converged:                       True   LL-Null:                       -101.84\n",
      "Covariance Type:            nonrobust   LLR p-value:                 4.419e-25\n",
      "=========================================================================================================\n",
      "                                            coef    std err          z      P>|z|      [0.025      0.975]\n",
      "---------------------------------------------------------------------------------------------------------\n",
      "const                                    -9.5796      1.685     -5.686      0.000     -12.882      -6.278\n",
      "Explained by: Social support              5.3500      1.365      3.920      0.000       2.675       8.025\n",
      "Explained by: Healthy life expectancy     6.7852      1.596      4.252      0.000       3.657       9.913\n",
      "=========================================================================================================\n"
     ]
    }
   ],
   "source": [
    "# Logit is a nickname for logistic regression\n",
    "results = sm.Logit(y, X).fit()\n",
    "\n",
    "print(results.summary())"
   ]
  },
  {
   "cell_type": "markdown",
   "metadata": {},
   "source": [
    "**Understanding Significance**\n",
    "\n",
    "The bottom table summarizes the regression coefficients.  The column $P>|z|$ shows p-values.  \n",
    "Values less than 0.05 (a common choice) can be interpreted to mean that the predictor is significant.\n",
    "\n",
    "In this case, all predictors are significant:\n",
    "- const (or intercept) \n",
    "- Social support\n",
    "- Healthy life expectancy\n",
    "\n",
    "You now have the tools to fit a logistic regression model and interpret significance by yourself!"
   ]
  },
  {
   "cell_type": "markdown",
   "metadata": {},
   "source": [
    "**TRY FOR YOURSELF**\n",
    "\n",
    "7) From the summary table, the Pseudo R-squared gives an estimate of how well the model fits (0=no fit, 1=perfect fit).  \n",
    "Do these things:\n",
    "\n",
    "- note the model fit\n",
    "- you will now make a small change to fit a different model. possibilities include: don't include an intercept, add another predictor.\n",
    "- note the model fit for this new model\n",
    "- do the results make sense?\n"
   ]
  },
  {
   "cell_type": "markdown",
   "metadata": {},
   "source": []
  },
  {
   "cell_type": "markdown",
   "metadata": {},
   "source": [
    "---"
   ]
  },
  {
   "cell_type": "markdown",
   "metadata": {},
   "source": [
    "### VII. Quantifying Fair Lending using a Logistic Regression Model\n",
    "\n",
    "Next, you will load in some synthetic mortgage lending data. This is a subset of what a typical file would look like.  \n",
    "\n",
    "- It includes the demographic variable: `gender`  \n",
    "- The credit factors are `fico` (for FICO score) and `loan_to_value`.  \n",
    "- Attributes of the loan are `loan_term` and `rate_type`  \n",
    "- The outcome variable is `denied`, where 1=denied, 0=approved \n",
    "\n",
    "You will explore the dataset and carry out the steps requested."
   ]
  },
  {
   "cell_type": "code",
   "execution_count": 6,
   "metadata": {},
   "outputs": [
    {
     "data": {
      "text/html": [
       "<div>\n",
       "<style scoped>\n",
       "    .dataframe tbody tr th:only-of-type {\n",
       "        vertical-align: middle;\n",
       "    }\n",
       "\n",
       "    .dataframe tbody tr th {\n",
       "        vertical-align: top;\n",
       "    }\n",
       "\n",
       "    .dataframe thead th {\n",
       "        text-align: right;\n",
       "    }\n",
       "</style>\n",
       "<table border=\"1\" class=\"dataframe\">\n",
       "  <thead>\n",
       "    <tr style=\"text-align: right;\">\n",
       "      <th></th>\n",
       "      <th>id</th>\n",
       "      <th>fico</th>\n",
       "      <th>loan_to_value</th>\n",
       "      <th>gender</th>\n",
       "      <th>occupation</th>\n",
       "      <th>denied</th>\n",
       "      <th>loan_term</th>\n",
       "      <th>rate_type</th>\n",
       "    </tr>\n",
       "  </thead>\n",
       "  <tbody>\n",
       "    <tr>\n",
       "      <th>0</th>\n",
       "      <td>0</td>\n",
       "      <td>696</td>\n",
       "      <td>62</td>\n",
       "      <td>m</td>\n",
       "      <td>salesman</td>\n",
       "      <td>0</td>\n",
       "      <td>30</td>\n",
       "      <td>fixed</td>\n",
       "    </tr>\n",
       "    <tr>\n",
       "      <th>1</th>\n",
       "      <td>1</td>\n",
       "      <td>752</td>\n",
       "      <td>61</td>\n",
       "      <td>m</td>\n",
       "      <td>salesman</td>\n",
       "      <td>0</td>\n",
       "      <td>30</td>\n",
       "      <td>fixed</td>\n",
       "    </tr>\n",
       "    <tr>\n",
       "      <th>2</th>\n",
       "      <td>2</td>\n",
       "      <td>726</td>\n",
       "      <td>63</td>\n",
       "      <td>m</td>\n",
       "      <td>salesman</td>\n",
       "      <td>0</td>\n",
       "      <td>30</td>\n",
       "      <td>fixed</td>\n",
       "    </tr>\n",
       "    <tr>\n",
       "      <th>3</th>\n",
       "      <td>3</td>\n",
       "      <td>759</td>\n",
       "      <td>60</td>\n",
       "      <td>m</td>\n",
       "      <td>salesman</td>\n",
       "      <td>0</td>\n",
       "      <td>30</td>\n",
       "      <td>fixed</td>\n",
       "    </tr>\n",
       "    <tr>\n",
       "      <th>4</th>\n",
       "      <td>4</td>\n",
       "      <td>798</td>\n",
       "      <td>62</td>\n",
       "      <td>m</td>\n",
       "      <td>salesman</td>\n",
       "      <td>0</td>\n",
       "      <td>15</td>\n",
       "      <td>fixed</td>\n",
       "    </tr>\n",
       "  </tbody>\n",
       "</table>\n",
       "</div>"
      ],
      "text/plain": [
       "   id  fico  loan_to_value gender occupation  denied  loan_term rate_type\n",
       "0   0   696             62      m   salesman       0         30     fixed\n",
       "1   1   752             61      m   salesman       0         30     fixed\n",
       "2   2   726             63      m   salesman       0         30     fixed\n",
       "3   3   759             60      m   salesman       0         30     fixed\n",
       "4   4   798             62      m   salesman       0         15     fixed"
      ]
     },
     "execution_count": 6,
     "metadata": {},
     "output_type": "execute_result"
    }
   ],
   "source": [
    "syn = pd.read_csv('../datasets/mortgage_lending.csv')\n",
    "syn.head()"
   ]
  },
  {
   "cell_type": "markdown",
   "metadata": {},
   "source": [
    "**Exploratory Data Analysis**\n",
    "\n",
    "8) **(2 PTS)** Compute the correlation between:  \n",
    "a. `fico` and `loan_to_value`  \n",
    "b. `fico` and `denied`  \n",
    "c. `loan_to_value` and `denied`  \n",
    "\n",
    "Do these results make sense? Explain your answer."
   ]
  },
  {
   "cell_type": "code",
   "execution_count": null,
   "metadata": {},
   "outputs": [],
   "source": []
  },
  {
   "cell_type": "markdown",
   "metadata": {},
   "source": [
    "9) **(2 PTS)** Create the following scatterplots (first variable on x-axis, second on y-axis):  \n",
    "a. `fico` vs `loan_to_value`  \n",
    "b. `fico` vs `denied`  \n",
    "c. `loan_to_value` vs `denied`  \n",
    "\n",
    "Do these results make sense? Explain your answer."
   ]
  },
  {
   "cell_type": "markdown",
   "metadata": {},
   "source": []
  },
  {
   "cell_type": "markdown",
   "metadata": {},
   "source": [
    "10) **(1 PT)** Examine the relationship between `gender` and `occupation`.  \n",
    "Do you notice anything that is interesting?  \n",
    "Do you notice anything that could be problematic (discriminatory)?"
   ]
  },
  {
   "cell_type": "code",
   "execution_count": null,
   "metadata": {},
   "outputs": [],
   "source": []
  },
  {
   "cell_type": "markdown",
   "metadata": {},
   "source": [
    "11) Conduct any additional analysis that you would like and enter it in this section. This may include statistics, tables, or graphs."
   ]
  },
  {
   "cell_type": "markdown",
   "metadata": {},
   "source": []
  },
  {
   "cell_type": "markdown",
   "metadata": {},
   "source": [
    "---"
   ]
  },
  {
   "cell_type": "markdown",
   "metadata": {},
   "source": [
    "The predictors used in the underwriting model $M_{U}$ are as follows:\n",
    "\n",
    "- `fico`\n",
    "- `loan_to_value`\n",
    "- `loan_term`\n",
    "- `nurse`\n",
    "\n",
    "We will call this list $L_U$"
   ]
  },
  {
   "cell_type": "markdown",
   "metadata": {},
   "source": [
    "12) **(1 PT)** From a Fair Lending perspective, which predictors from $L_U$ should be used, and which should not be used? Explain your answer."
   ]
  },
  {
   "cell_type": "markdown",
   "metadata": {},
   "source": []
  },
  {
   "cell_type": "markdown",
   "metadata": {},
   "source": [
    "13) **(2 PTS)** Train the underwriting model on the synthetic data, using $L_U$ as the predictors. Include an intercept term.  Print the model summary, and discuss which predictors are significant."
   ]
  },
  {
   "cell_type": "code",
   "execution_count": null,
   "metadata": {},
   "outputs": [],
   "source": []
  },
  {
   "cell_type": "markdown",
   "metadata": {},
   "source": [
    "14) **(2 PTS)** Next, you will fit a fair lending model $M_{FL}$ to understand if `gender` is a significant predictor.  \n",
    "The model should include an intercept term, the credit factors, the attributes of the loan, and `gender`. If you found problematic predictors from $L_U$ used in $M_{U}$, those should NOT be included.\n",
    "\n",
    "If `gender` is a significant predictor in $M_{FL}$, this would indicate that gender is being used to make lending decisions, which is discriminatory practice.\n",
    "\n",
    "Print the model summary, discuss if `gender` is significant, and discuss your conclusions."
   ]
  },
  {
   "cell_type": "code",
   "execution_count": null,
   "metadata": {},
   "outputs": [],
   "source": []
  },
  {
   "cell_type": "markdown",
   "metadata": {},
   "source": [
    "---"
   ]
  },
  {
   "cell_type": "markdown",
   "metadata": {},
   "source": [
    "### VIII. Summary"
   ]
  },
  {
   "cell_type": "markdown",
   "metadata": {},
   "source": [
    "In this exercise, you learned about fair lending and protected classes.\n",
    "\n",
    "We discussed how ML models are used in lending decisions, including underwriting and pricing.\n",
    "\n",
    "Sometimes, discriminatory behavior can unintentionally creep into models, as in the case with the `occupation` variable.\n",
    "\n",
    "You trained an underwriting model and a fair lending model on some synthetic data.\n",
    "\n",
    "The results of the models provided insight into which predictors correlated with the denial decision.\n",
    "\n",
    "This case was based on a real-world scenario. It illustrates the application of data science to a critically important task in finance."
   ]
  },
  {
   "cell_type": "markdown",
   "metadata": {},
   "source": [
    "---"
   ]
  }
 ],
 "metadata": {
  "anaconda-cloud": {},
  "kernelspec": {
   "display_name": "Python 3 (ipykernel)",
   "language": "python",
   "name": "python3"
  },
  "language_info": {
   "codemirror_mode": {
    "name": "ipython",
    "version": 3
   },
   "file_extension": ".py",
   "mimetype": "text/x-python",
   "name": "python",
   "nbconvert_exporter": "python",
   "pygments_lexer": "ipython3",
   "version": "3.9.12"
  }
 },
 "nbformat": 4,
 "nbformat_minor": 4
}
