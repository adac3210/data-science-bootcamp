{
 "cells": [
  {
   "cell_type": "markdown",
   "id": "c54f9f5a-ef5b-4f3b-a1fd-eec9628c8434",
   "metadata": {},
   "source": [
    "<img src=\"../../predictioNN_Logo_JPG(72).jpg\" width=200>"
   ]
  },
  {
   "cell_type": "markdown",
   "id": "b05f03d1-3af1-4233-9eb9-2b7636fe6550",
   "metadata": {},
   "source": [
    "---\n",
    "\n",
    "## Building Interactive Dashboards with Dash: Getting Started\n",
    "\n",
    "### Introduction to Data Science\n",
    "### Last Updated: October 22, 2022\n",
    "---  \n",
    "\n",
    "### SOURCES \n",
    "- [Dash intro](https://dash.plotly.com/introduction)\n",
    "- [Dash user guide](https://dash.plotly.com/)\n",
    "- [Dash gallery](https://dash.gallery/Portal/)\n",
    "\n",
    "### OBJECTIVES\n",
    "- Build an interactive dashboard using Dash\n",
    "\n",
    "### CONCEPTS\n",
    "- dashboard\n",
    "- localhost\n",
    "\n",
    "---\n"
   ]
  },
  {
   "cell_type": "markdown",
   "id": "b01a7a0c-ba59-47b3-8055-e4165b4288e3",
   "metadata": {
    "tags": []
   },
   "source": [
    "### I. Dash Gallery\n",
    "\n",
    "First, let's check out the [dashboard gallery](https://dash.gallery/Portal/)\n",
    "\n",
    "Here is a [brain viewer](https://dash.gallery/dash-brain-viewer/) from the gallery.\n",
    "\n",
    "These tools were all created with `Dash`, and you're going to use it to build your own dashboards."
   ]
  },
  {
   "cell_type": "markdown",
   "id": "32c98142-69f2-48d0-b0e5-4fa8b4bdebcc",
   "metadata": {},
   "source": [
    "### II. What is Dash?\n",
    "\n",
    "- powerful open-source library \n",
    "- helps build interactive and live web-based dashboards \n",
    "- uses Plotly, Flask, and React\n",
    "- Dash apps are rendered in the web browser"
   ]
  },
  {
   "cell_type": "markdown",
   "id": "b3726ac4-2c42-49d5-9887-b86f78d50427",
   "metadata": {},
   "source": [
    "### III. Game Plan\n",
    "\n",
    "In this notebook, we will:\n",
    "\n",
    "- make sure dash is installed\n",
    "- copy and run code to build and run our first app\n",
    "\n",
    "In subsequent notebooks, we will:\n",
    "\n",
    "- learn the essential elements like *callbacks*\n",
    "- customize the code to your data"
   ]
  },
  {
   "cell_type": "markdown",
   "id": "e924ef4f-5441-4c40-b590-95f0a48a14ad",
   "metadata": {},
   "source": [
    "### IV. Install Dash\n",
    "\n",
    "Instructions are [here](https://dash.plotly.com/installation) and copied below.\n",
    "\n",
    "Create a new notebook and run in a cell:\n",
    "\n",
    "```\n",
    "import dash\n",
    "```\n",
    "\n",
    "If this fails, then you'll need to install Dash by running this in a cell:\n",
    "\n",
    "```\n",
    "pip install dash\n",
    "```\n",
    "\n",
    "Then you should be able to import it."
   ]
  },
  {
   "cell_type": "markdown",
   "id": "6a85cdf5-9ad7-45e8-b1bb-6cf8abacb95d",
   "metadata": {},
   "source": [
    "### V. Building your First App\n",
    "\n",
    "Follow these steps:\n",
    "\n",
    "1) From this [page](https://dash.plotly.com/layout), follow the instructions to create file `app.py`  \n",
    "   The code can be found on this page.\n",
    "\n",
    "2) You'll run the file (script) from terminal. Open terminal in Jupyter by clicking + sign, then Terminal button.\n",
    "\n",
    "3) Change directory to the `dashboards` folder. For example on a Windows machine, it may look like:\n",
    "\n",
    "```\n",
    "> cd C:\\Users\\abc\\Documents\\intro_ds\\week_12_13_dashboards\\\n",
    "```\n",
    "\n",
    "where '>' is the prompt and `cd` is the change directory command.\n",
    "\n",
    "On a mac, use '/' instead of '\\\\' and there is no drive letter.\n",
    "\n",
    "4) Enter `python app.py` at the prompt to run it. For example:\n",
    "\n",
    "```\n",
    "PS C:\\Users\\abc\\Documents\\intro_ds\\week_12_13_dashboards> python app.py\n",
    "```\n",
    "\n",
    "---\n",
    "\n",
    "You will see output like this: \n",
    "\n",
    "```\n",
    "Dash is running on http://127.0.0.1:8050/\n",
    "\n",
    " * Serving Flask app \"app\" (lazy loading)\n",
    " * Environment: production\n",
    "   WARNING: This is a development server. Do not use it in a production deployment.\n",
    "   Use a production WSGI server instead.\n",
    " * Debug mode: on\n",
    "```\n",
    "\n",
    "---\n",
    "\n",
    "5) Paste http://127.0.0.1:8050/ in a browser and you should find your dashboard!\n",
    "\n",
    "6) Interact with your dashboard and notice what happens:\n",
    "- Hover over the bars\n",
    "- In the City legend, click on a city, then click again.\n",
    "\n",
    "**Note**: The url is actually your own machine (the `localhost`).  \n",
    "It is not running on the web yet, so others won't be able to find your app."
   ]
  },
  {
   "cell_type": "markdown",
   "id": "03ec96b7-2e3e-4de0-9631-20746f96ce5d",
   "metadata": {},
   "source": [
    "---\n"
   ]
  },
  {
   "cell_type": "markdown",
   "id": "23d8a371-7e88-41f5-906d-8a6f2f584c87",
   "metadata": {},
   "source": [
    "### Summary\n",
    "\n",
    "Congrats, you ran your first dashboard using Dash!\n",
    "\n",
    "Next, we will learn essentials so that we can build customized dashboards."
   ]
  },
  {
   "cell_type": "markdown",
   "id": "6159464a-c357-49fe-9c0b-530741efe8e5",
   "metadata": {},
   "source": [
    "---"
   ]
  }
 ],
 "metadata": {
  "kernelspec": {
   "display_name": "Python 3 (ipykernel)",
   "language": "python",
   "name": "python3"
  },
  "language_info": {
   "codemirror_mode": {
    "name": "ipython",
    "version": 3
   },
   "file_extension": ".py",
   "mimetype": "text/x-python",
   "name": "python",
   "nbconvert_exporter": "python",
   "pygments_lexer": "ipython3",
   "version": "3.9.12"
  }
 },
 "nbformat": 4,
 "nbformat_minor": 5
}
