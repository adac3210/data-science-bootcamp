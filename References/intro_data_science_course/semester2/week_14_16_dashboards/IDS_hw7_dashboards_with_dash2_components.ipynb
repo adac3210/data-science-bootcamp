{
 "cells": [
  {
   "cell_type": "markdown",
   "id": "6ca662a4-902e-4d2b-8e65-e82145eb2a1a",
   "metadata": {},
   "source": [
    "<img src=\"../../predictioNN_Logo_JPG(72).jpg\" width=200>"
   ]
  },
  {
   "cell_type": "markdown",
   "id": "b05f03d1-3af1-4233-9eb9-2b7636fe6550",
   "metadata": {},
   "source": [
    "---\n",
    "\n",
    "## Building Interactive Dashboards with Dash 2: Components\n",
    "\n",
    "### Introduction to Data Science\n",
    "### Last Updated: October 26, 2022\n",
    "---  \n",
    "\n",
    "### SOURCES \n",
    "- [Dash intro](https://dash.plotly.com/introduction)\n",
    "- [Dash layout](https://dash.plotly.com/layout)\n",
    "- [Dash basic callbacks](https://dash.plotly.com/basic-callbacks)\n",
    "\n",
    "### OBJECTIVES\n",
    "- Understand how to change the Dash layout components to create new dashboards\n",
    "- Import data into Dash and visualize it\n",
    "\n",
    "### CONCEPTS\n",
    "- layout\n",
    "- html components\n",
    "- Graph components\n",
    "- control components\n",
    "- attributes\n",
    "- callbacks\n",
    "\n",
    "### GRADING\n",
    "This will be graded as a homework exercise worth 10 points.  \n",
    "You will develop a Dash app, taking screenshots of its incremental development, and collecting them in a Word doc for submission.\n",
    "\n",
    "---\n"
   ]
  },
  {
   "cell_type": "markdown",
   "id": "b01a7a0c-ba59-47b3-8055-e4165b4288e3",
   "metadata": {
    "tags": []
   },
   "source": [
    "### I. Dash Fundamentals\n",
    "\n",
    "Let's learn some fundamentals to create our own custom dashboards.\n",
    "\n",
    "Review this [page](https://dash.plotly.com/layout) for details\n",
    "\n",
    "Dash apps consist of two parts: \n",
    "\n",
    "- *layout* - describes what the application looks like. \n",
    "- *callbacks* - supports the interactivity\n",
    "\n",
    "---\n",
    "\n",
    "Let's start by learning about the layout. In the code, it's a large block starting like this:\n",
    "\n",
    "`app.layout = html.Div(children=[`\n",
    "\n",
    "You'll see other components, such as a graph element:\n",
    "```\n",
    "    dcc.Graph(\n",
    "        id='example-graph',\n",
    "        figure=fig\n",
    "    )\n",
    "```\n",
    "\n",
    "html tags such as this one to create a header:  \n",
    "`html.H1(children='Hello Dash')`\n",
    "\n",
    "Some important concepts:\n",
    "- the module `dash.html` supports the HTML tags\n",
    "- the module `dash.dcc` generates components like controls and graphs\n",
    "- The layout is composed of a tree of *components* such as `html.H1` and `dcc.Graph`\n",
    "- Each component is described by keyword attributes like `id` and `figure`\n",
    "\n",
    "Hint: The components wrap code in parentheses. Try to keep the punctuation and commas organized to make things easier.\n",
    "\n",
    "---"
   ]
  },
  {
   "cell_type": "markdown",
   "id": "03ec96b7-2e3e-4de0-9631-20746f96ce5d",
   "metadata": {
    "jp-MarkdownHeadingCollapsed": true,
    "tags": []
   },
   "source": [
    "### II. Changing the Layout\n",
    "\n",
    "1) Do these things to learn how layout works.\n",
    "\n",
    "- Make a copy of your `app.py` file, naming it `app_v2.py`\n",
    "\n",
    "- In the `H1` component, change the text and the color.  \n",
    "- In the `Div` component, change the text.  \n",
    "- Add another component.\n",
    "- Save the file, run it from terminal, and check that your changes rendered\n",
    "\n",
    "**(1 POINT) Take a screenshot of your app and paste in Document. Number it (1).**\n",
    "\n",
    "When you want to stop the dashboard, type Ctrl+C in terminal.\n",
    "\n",
    "---"
   ]
  },
  {
   "cell_type": "markdown",
   "id": "a695f43c-ee04-44a0-895d-3d63f01f234c",
   "metadata": {},
   "source": [
    "### III. Changing the Visualization\n",
    "\n",
    "Next, you'll replace the bar chart with a scatterplot based on the `Country_Happiness.csv` dataset saved in `/semester2/datasets`.\n",
    "\n",
    "We want to study the relationship between GDP and Happiness by Country.\n",
    "\n",
    "2) Do these things:\n",
    "\n",
    "- Make a copy of your `app.py` file, naming it `app_scatter.py`\n",
    "- Modify the code that creates `df`. It should read in the `Country_Happiness.csv` dataset, using the full path.  \n",
    "  Full path example on Windows: 'C:/Users/abc/Documents/repos/covenant_ds/semester2/datasets/Country_Happiness.csv'\n",
    "- Modify the code that creates `fig`. It should use:\n",
    "  - x=\"Explained by: GDP per capita\"\n",
    "  - y=\"Happiness score\"\n",
    "  - hover_name=\"Country\"\n",
    "- Modify the Graph object, changing `id` to a more descriptive name\n",
    "- Save the file, run it from terminal, and check that your changes rendered\n",
    "\n",
    "**(2 POINTS) Take a screenshot of your app and paste in Document. Number it (2).**\n",
    "\n",
    "---"
   ]
  },
  {
   "cell_type": "markdown",
   "id": "c855c8d8-c191-4d1c-b2f3-4f8509d705b5",
   "metadata": {
    "jp-MarkdownHeadingCollapsed": true,
    "tags": []
   },
   "source": [
    "### IV. Adding Controls\n",
    "\n",
    "Dash allows you to embed different controls to allow for user interactivity, such as:\n",
    "\n",
    "- sliders\n",
    "- checkboxes\n",
    "- dropdowns\n",
    "- text boxes\n",
    "\n",
    "3) Add a dropdown box to `app_scatter.py`  \n",
    "Rerun the app to insure it works.  \n",
    "**(1 POINT) Take a screenshot of your app and paste in Document. Number it (3).**\n",
    "\n",
    "---\n",
    "\n",
    "4) Next, you're going to adapt the dropdown box to include all of the countries in your dataset `df`.  \n",
    "Hint: think about how to extract a column from a pandas dataframe.  \n",
    "You can set one of the countries as the default country.    \n",
    "**(1 POINT) Take a screenshot of your app and paste in Document. Number it (4).**\n",
    "\n",
    "---\n",
    "\n",
    "5) Sort the countries alphabetically (A-Z) and populate the dropdown box.    \n",
    "**(1 POINT) Take a screenshot of your app and paste in Document, making sure some of the countries are displayed. Number it (5).**\n",
    "\n",
    "---"
   ]
  },
  {
   "cell_type": "markdown",
   "id": "a35e61a6-a464-48cf-a09b-48d281df5c21",
   "metadata": {},
   "source": [
    "### V. Working with Callbacks\n",
    "\n",
    "Callbacks will make the controls come alive!\n",
    "\n",
    "For example, when we select a value in the dropdown, it can change the dashboard, making it interactive.\n",
    "\n",
    "The next two questions have you work with callbacks.\n",
    "\n",
    "6) Make a copy of `app_scatter.py` calling it `app_scatter-react.py`\n",
    "\n",
    "Add a callback that prints under the dropdown: \n",
    "\n",
    "'You have selected' [Country]  \n",
    "\n",
    "where [Country] is selected in the dropdown.\n",
    "\n",
    "For help, consult this [page](https://dash.plotly.com/dash-core-components/dropdown)\n",
    "\n",
    "**(1 POINT) Take a screenshot of your app and paste in Document. Number it (6).**\n",
    "\n",
    "---\n",
    "\n",
    "7) Make a copy of `app_scatter-react.py` calling it `app_scatter-react_v2.py`  \n",
    "You will change the dropdown to display the dataframe columns, and the plot will use the selected column on the x-axis.  \n",
    "From the dropdown, change the value to something different from Country.\n",
    "\n",
    "**(1 POINT) Take a screenshot of your app and paste in Document. Number it (7).**\n",
    "\n",
    "---\n",
    "\n",
    "8) Submitting your code from `app_scatter-react_v2.py`\n",
    "\n",
    "**(2 POINTS) Paste your code from `app_scatter-react_v2.py` at the bottom of your Document. Number it (8).**\n",
    "\n",
    "\n",
    "---"
   ]
  },
  {
   "cell_type": "markdown",
   "id": "23d8a371-7e88-41f5-906d-8a6f2f584c87",
   "metadata": {},
   "source": [
    "### VI. Summary\n",
    "\n",
    "If you completed everything in this exercise, then you've learned a lot of Dash!  \n",
    "\n",
    "You learned how to change the layout, include data, create a visualization, add controls, and make the plot interactive.\n",
    "\n",
    "These are the main elements for creating useful interactive dashboards."
   ]
  },
  {
   "cell_type": "markdown",
   "id": "6159464a-c357-49fe-9c0b-530741efe8e5",
   "metadata": {},
   "source": [
    "---"
   ]
  }
 ],
 "metadata": {
  "kernelspec": {
   "display_name": "Python 3 (ipykernel)",
   "language": "python",
   "name": "python3"
  },
  "language_info": {
   "codemirror_mode": {
    "name": "ipython",
    "version": 3
   },
   "file_extension": ".py",
   "mimetype": "text/x-python",
   "name": "python",
   "nbconvert_exporter": "python",
   "pygments_lexer": "ipython3",
   "version": "3.9.12"
  }
 },
 "nbformat": 4,
 "nbformat_minor": 5
}
