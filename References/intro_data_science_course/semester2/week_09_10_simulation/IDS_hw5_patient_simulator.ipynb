{
 "cells": [
  {
   "cell_type": "markdown",
   "metadata": {},
   "source": [
    "<img src=\"../../predictioNN_Logo_JPG(72).jpg\" width=200>"
   ]
  },
  {
   "cell_type": "markdown",
   "metadata": {
    "tags": []
   },
   "source": [
    "---\n",
    "\n",
    "## Coding Assignment 4: Patient Simulator\n",
    "### Introduction to Data Science\n",
    "### Last Updated: October 4, 2022\n",
    "\n",
    "---  \n",
    "\n",
    "### Skills Assessed\n",
    "\n",
    "You will demonstrate these skills in the HW:\n",
    "- Working with the normal distribution\n",
    "- Quantifying the probability of an event using simulation\n",
    "\n",
    "---\n"
   ]
  },
  {
   "cell_type": "markdown",
   "metadata": {},
   "source": [
    "### Instructions\n",
    "\n",
    "You will simulate a patient's cholesterol and answer questions about it.   \n",
    "Show all work and solutions for each question below. \n",
    "\n",
    "**Use seed 314 for all work.** Doing so will generate the same values each time the simulation is rerun, which makes your work reproducible.  Make sure that you get the same values each time you rerun a simulation step.\n",
    "\n",
    "**TOTAL POINTS: 10**\n",
    "\n",
    "---"
   ]
  },
  {
   "cell_type": "markdown",
   "metadata": {},
   "source": [
    "**BACKGROUND**\n",
    "\n",
    "Total cholesterol in adults is considered NORMAL if the level is less than 200 mg/dL.  \n",
    "A certain patient's total cholesterol follows a Gaussian (normal) distribution with mean 180 and standard deviation 40.\n",
    "\n",
    "Assume that this distribution does not change over time.  "
   ]
  },
  {
   "cell_type": "markdown",
   "metadata": {},
   "source": [
    "1) **(1 PT)** Suppose the patient has total cholesterol checked each month for a year.  \n",
    "Sample 12 values from the described normal distribution, which might represent the lab results. Print the values."
   ]
  },
  {
   "cell_type": "code",
   "execution_count": null,
   "metadata": {},
   "outputs": [],
   "source": []
  },
  {
   "cell_type": "markdown",
   "metadata": {},
   "source": [
    "2. **(1 PT)** Based on the 12 draws, what is the probability that total cholesterol will be above 200?"
   ]
  },
  {
   "cell_type": "code",
   "execution_count": null,
   "metadata": {},
   "outputs": [],
   "source": []
  },
  {
   "cell_type": "markdown",
   "metadata": {},
   "source": [
    "3. **(1 PT)** Now draw 100,000 values from the same distribution. What is the probability that total cholesterol will be above 200?"
   ]
  },
  {
   "cell_type": "code",
   "execution_count": null,
   "metadata": {},
   "outputs": [],
   "source": []
  },
  {
   "cell_type": "markdown",
   "metadata": {},
   "source": [
    "4. **(1 PT)** The *z-score* is fundamental in computing probabilities of events that follow a normal distribution.  \n",
    "The z-score allows for converting a normal distribution to a *standard normal distribution*, which has mean zero and standard deviation one. It is defined as follows:\n",
    "\n",
    "$\\large z = \\frac{X - \\mu}{\\sigma} $\n",
    "\n",
    "We will want to compute the exact probability of total cholesterol being above 200.\n",
    "\n",
    "As a first step, compute the z-score for X=200 and the given $\\mu$ and $\\sigma$."
   ]
  },
  {
   "cell_type": "code",
   "execution_count": null,
   "metadata": {},
   "outputs": [],
   "source": []
  },
  {
   "cell_type": "markdown",
   "metadata": {},
   "source": [
    "5. **(1 PT)** Explain what the cumulative distribution function (cdf) represents."
   ]
  },
  {
   "cell_type": "markdown",
   "metadata": {},
   "source": []
  },
  {
   "cell_type": "markdown",
   "metadata": {},
   "source": [
    "6. **(1 PT)** Use the cumulative distribution function of the normal distribution to compute the probability of total cholesterol being above 200. \n",
    "\n",
    "Is it close to your simulations?\n",
    "\n",
    "Hint 1: Try a google search using keywords: `python cumulative distribution function normal` to learn the function and how to use it.  \n",
    "Hint 2: The cdf can take z-score as input and return the probability of total cholesterol **below** 200. You want the probability it is **above** 200. For continuous distributions like the normal distribution, probabilities of a particular value like 200 should be treated as zero."
   ]
  },
  {
   "cell_type": "markdown",
   "metadata": {},
   "source": []
  },
  {
   "cell_type": "markdown",
   "metadata": {},
   "source": [
    "The exact probability is very close to the simulation based on 100000 values"
   ]
  },
  {
   "cell_type": "code",
   "execution_count": null,
   "metadata": {},
   "outputs": [],
   "source": []
  },
  {
   "cell_type": "markdown",
   "metadata": {},
   "source": [
    "7a. **(1 PT)** The patient begins taking a statin drug known to reduce cholesterol. After several months of taking the medication, the patient's total cholesterol now follows a normal distribution with mean 170 and standard deviation 40.\n",
    "\n",
    "Draw 100,000 values from this new distribution and estimate the probability that total cholesterol will be above 200."
   ]
  },
  {
   "cell_type": "code",
   "execution_count": null,
   "metadata": {},
   "outputs": [],
   "source": []
  },
  {
   "cell_type": "markdown",
   "metadata": {},
   "source": [
    "7b. **(1 PT)** Compare your answers from (6a) and (3). Do the results make sense? Explain why or why not."
   ]
  },
  {
   "cell_type": "markdown",
   "metadata": {},
   "source": []
  },
  {
   "cell_type": "markdown",
   "metadata": {},
   "source": [
    "7c. **(1 PT)** Suppose that the patient's latest lab result is above 200. Is it fair to conclude that the drug isn't working? Is it fair to conclude that the patient has high cholesterol? "
   ]
  },
  {
   "cell_type": "markdown",
   "metadata": {},
   "source": []
  },
  {
   "cell_type": "markdown",
   "metadata": {},
   "source": [
    "8. **(1 PT)** Total cholesterol will vary each time it is drawn. To estimate it accurately, what can be done?"
   ]
  },
  {
   "cell_type": "markdown",
   "metadata": {},
   "source": []
  }
 ],
 "metadata": {
  "anaconda-cloud": {},
  "kernelspec": {
   "display_name": "Python 3 (ipykernel)",
   "language": "python",
   "name": "python3"
  },
  "language_info": {
   "codemirror_mode": {
    "name": "ipython",
    "version": 3
   },
   "file_extension": ".py",
   "mimetype": "text/x-python",
   "name": "python",
   "nbconvert_exporter": "python",
   "pygments_lexer": "ipython3",
   "version": "3.9.12"
  }
 },
 "nbformat": 4,
 "nbformat_minor": 4
}
