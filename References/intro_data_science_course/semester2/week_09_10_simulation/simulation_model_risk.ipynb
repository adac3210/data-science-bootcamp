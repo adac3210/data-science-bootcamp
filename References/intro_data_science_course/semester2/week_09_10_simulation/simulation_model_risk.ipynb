{
 "cells": [
  {
   "cell_type": "markdown",
   "metadata": {},
   "source": [
    "<img src=\"../../predictioNN_Logo_JPG(72).jpg\" width=200>"
   ]
  },
  {
   "cell_type": "markdown",
   "metadata": {
    "tags": []
   },
   "source": [
    "---\n",
    "\n",
    "## Simulation Model Risk\n",
    "\n",
    "### Introduction to Data Science\n",
    "### Last Updated: October 5, 2022\n",
    "---  \n",
    "\n",
    "### OBJECTIVES\n",
    "- Understand how simulation can introduce model risk\n",
    "- Quantify model risk by simulating from competing models\n",
    "\n",
    "### CONCEPTS\n",
    "- model risk\n",
    "\n",
    "---\n"
   ]
  },
  {
   "cell_type": "code",
   "execution_count": 2,
   "metadata": {},
   "outputs": [],
   "source": [
    "import numpy as np\n",
    "import seaborn as sns"
   ]
  },
  {
   "cell_type": "markdown",
   "metadata": {
    "tags": []
   },
   "source": [
    "## I. Simulation Models and Their Risk\n",
    "\n",
    "We can set up and use simulations to solve problems in the real world.\n",
    "\n",
    "Simulations are especially useful when we can't learn from direct experience. For example:\n",
    "\n",
    "- testing how a patient would respond to a treatment, which may be dangerous\n",
    "- testing different drug candidates\n",
    "- testing how a portfolio would perform given a trading strategy\n",
    "- testing how a car can navigate through difficult terrain\n",
    "\n",
    "Simulations (and models in generally) are only useful if they model the important features of reality and they are sufficiently accurate.  \n",
    "\n",
    "When they fail to do this, they introduce *model risk*, which can have devastating consequences.\n",
    "\n",
    "For example, a large contributor to the Great Recession was improper mathematical models (Brownian motion).\n",
    "\n",
    "Next, you will run a simulation and quantify model risk directly.\n"
   ]
  },
  {
   "cell_type": "markdown",
   "metadata": {},
   "source": [
    "---\n",
    "\n",
    "**STOCK SIMULATOR**\n",
    "\n",
    "The annual return (percentage change) of a certain stock follows a Gaussian (normal) distribution with mean 0.08 and standard deviation 0.10. This denotes a mean of 8% and a standard deviation 10%.\n",
    "\n",
    "Unfortunately, an analyst uses the wrong model: a normal distribution with mean 0.08 and standard deviation 0.05.\n",
    "\n",
    "Use seed=314 to answer the questions below and quantify this terrible mistake.\n",
    "\n",
    "---"
   ]
  },
  {
   "cell_type": "markdown",
   "metadata": {},
   "source": [
    "1) Using the correct distribution, what is the probability of a 10% loss or greater (annual return < -0.10)?  \n",
    "Simulate 100,000 draws from the distribution to make an estimate."
   ]
  },
  {
   "cell_type": "code",
   "execution_count": null,
   "metadata": {},
   "outputs": [],
   "source": []
  },
  {
   "cell_type": "markdown",
   "metadata": {},
   "source": [
    "2) Using the analyst's distribution, what is the probability of a 10% loss or greater (annual return < -0.10)?  \n",
    "Simulate 100,000 draws from the distribution to make an estimate."
   ]
  },
  {
   "cell_type": "code",
   "execution_count": null,
   "metadata": {},
   "outputs": [],
   "source": []
  },
  {
   "cell_type": "markdown",
   "metadata": {},
   "source": [
    "3) Discuss your findings"
   ]
  },
  {
   "cell_type": "code",
   "execution_count": null,
   "metadata": {},
   "outputs": [],
   "source": []
  }
 ],
 "metadata": {
  "anaconda-cloud": {},
  "kernelspec": {
   "display_name": "Python 3 (ipykernel)",
   "language": "python",
   "name": "python3"
  },
  "language_info": {
   "codemirror_mode": {
    "name": "ipython",
    "version": 3
   },
   "file_extension": ".py",
   "mimetype": "text/x-python",
   "name": "python",
   "nbconvert_exporter": "python",
   "pygments_lexer": "ipython3",
   "version": "3.9.12"
  }
 },
 "nbformat": 4,
 "nbformat_minor": 4
}
