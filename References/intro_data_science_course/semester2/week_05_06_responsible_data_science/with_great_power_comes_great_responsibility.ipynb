{
 "cells": [
  {
   "cell_type": "markdown",
   "metadata": {},
   "source": [
    "<img src=\"../../predictioNN_Logo_JPG(72).jpg\" width=200>"
   ]
  },
  {
   "cell_type": "markdown",
   "metadata": {
    "tags": []
   },
   "source": [
    "---\n",
    "\n",
    "## With Great Power Comes Great Responsibility\n",
    "\n",
    "### Introduction to Data Science\n",
    "### Last Updated: October 30, 2022\n",
    "---  \n",
    "\n",
    "### OBJECTIVES\n",
    "- Understand how data science can solve societal problems...and create them\n",
    "\n",
    "### CONCEPTS\n",
    "- ethical data science\n",
    "- redlining\n",
    "- delivering value\n",
    "\n",
    "\n",
    "---\n"
   ]
  },
  {
   "cell_type": "markdown",
   "metadata": {
    "tags": []
   },
   "source": [
    "## I. Bias and Systematic Harm"
   ]
  },
  {
   "cell_type": "markdown",
   "metadata": {},
   "source": [
    "As data is collected, stored, processed, and used in models, we need to be careful:\n",
    "\n",
    "- the data needs to be *representative* of the population\n",
    "\n",
    "- the models and products need to be useful to everyone impacted\n",
    "\n",
    "If the data isn't representative, there may be systematic misrepresentation, or *bias*."
   ]
  },
  {
   "cell_type": "markdown",
   "metadata": {},
   "source": [
    "---\n",
    "\n",
    "**THINK ABOUT AND DISCUSS**\n",
    "\n",
    "1) Give some examples of how bias can enter into the data science process.\n",
    "\n",
    "    Hint: think about data collection, and model construction."
   ]
  },
  {
   "cell_type": "markdown",
   "metadata": {
    "jupyter": {
     "outputs_hidden": true
    },
    "tags": []
   },
   "source": [
    "answer\n",
    "\n",
    "- failing to collect data from a subgroup of people, like a particular demographic\n",
    "- including predictors that discriminate against subgroups\n",
    "- if the data is made publically available, not insuring that everyone can access it"
   ]
  },
  {
   "cell_type": "markdown",
   "metadata": {},
   "source": [
    "---"
   ]
  },
  {
   "cell_type": "markdown",
   "metadata": {},
   "source": [
    "When models make binary decisions, such as classifiers, bias is particularly dangerous:\n",
    "\n",
    "- Applicant applies for a loan (mortgage, credit card, ...) and is denied by an algorithm\n",
    "- Applicant applies for a job and is screened out by an algorithm\n",
    "\n",
    "These actions can suppress the ability of a person to make a living and have a good quality of life."
   ]
  },
  {
   "cell_type": "markdown",
   "metadata": {},
   "source": [
    "---"
   ]
  },
  {
   "cell_type": "markdown",
   "metadata": {},
   "source": [
    "**THINK ABOUT AND DISCUSS**\n",
    "\n",
    "2) Do you think biased algorithms are built intentionally? Can you think of how this might happen by accident?\n",
    "\n",
    "    Hint: Data science is done mostly by humans. "
   ]
  },
  {
   "cell_type": "markdown",
   "metadata": {
    "jupyter": {
     "source_hidden": true
    },
    "tags": []
   },
   "source": [
    "answer:\n",
    "\n",
    "- The data scientists may have their own biases that enter subconsciously\n",
    "- Some demographic groups are small and it may be hard to collect data on them\n",
    "- Some variables don't seem outwardly biased, but they act as demographic proxies (e.g., certain occupations such as doctors, nurses, teachers tend to have gender bias)"
   ]
  },
  {
   "cell_type": "markdown",
   "metadata": {},
   "source": [
    "---"
   ]
  },
  {
   "cell_type": "markdown",
   "metadata": {},
   "source": [
    "### Redlining"
   ]
  },
  {
   "cell_type": "markdown",
   "metadata": {},
   "source": [
    "It's the 1960s, you have a young family and you'd like to take out a mortgage to purchase a house in your neighborhood. \n",
    "\n",
    "You have a stable job and you've never defaulted on a loan.\n",
    "\n",
    "Unfortunately, banks won't give you a loan, because you live in a neighborhood deemed to be a \"poor financial risk.\" \n",
    "\n",
    "It turns out this neighborhood is primarily Black, and thus the lending policy is discriminating against the Black population. "
   ]
  },
  {
   "cell_type": "markdown",
   "metadata": {},
   "source": [
    "<img src=\"./450px-Home_Owners'_Loan_Corporation_Philadelphia_redlining_map.jpg\">"
   ]
  },
  {
   "cell_type": "markdown",
   "metadata": {},
   "source": [
    "A 1936 HOLC \"residential security\" map of Philadelphia, classifying various neighborhoods by estimated riskiness of mortgage loans\n",
    "\n",
    "source: https://en.wikipedia.org/wiki/Redlining"
   ]
  },
  {
   "cell_type": "markdown",
   "metadata": {},
   "source": [
    "Notice the legend, where there is the classification: HAZARDOUS\n",
    "\n",
    "Bear in mind: this is classifying neighborhoods comprising human beings.\n",
    "\n",
    "Next, a definition:  \n",
    "**Redlining** is a discriminatory practice in which services are withheld from potential customers who reside in neighborhoods classified as 'hazardous' to investment; these neighborhoods have significant numbers of racial and ethnic minorities, and low-income residents.\n",
    "\n",
    "Common resources withheld:\n",
    "- credit\n",
    "- insurance\n",
    "- health care\n",
    "- food"
   ]
  },
  {
   "cell_type": "markdown",
   "metadata": {},
   "source": [
    "---\n",
    "\n",
    "**THINK ABOUT AND DISCUSS**\n",
    "\n",
    "3) Suppose you're in charge of lending at a bank. You build a model to decide who should get a mortgage. It will be applied systematically with no human oversight. Which predictors should you use? Which predictors should you not use?"
   ]
  },
  {
   "cell_type": "markdown",
   "metadata": {
    "jupyter": {
     "source_hidden": true
    },
    "tags": []
   },
   "source": [
    "answer:\n",
    "\n",
    "You should use:\n",
    "- how much money do they want to borrow\n",
    "- term: how long do they need to borrow\n",
    "- variables that show ability to pay, like FICO score, debt to income\n",
    "\n",
    "You should not use:\n",
    "- zip code\n",
    "- demographic variables\n",
    "- language spoken"
   ]
  },
  {
   "cell_type": "markdown",
   "metadata": {},
   "source": [
    "---"
   ]
  },
  {
   "cell_type": "markdown",
   "metadata": {},
   "source": [
    "## II. Delivering Value"
   ]
  },
  {
   "cell_type": "markdown",
   "metadata": {},
   "source": [
    "We talked about bias and redlining.\n",
    "\n",
    "More broadly, data scientists can choose to do things that are impactful and helpful to their communities and their world.\n",
    "\n",
    "Alternatively, they can do things that make money for an organization, but rip apart communities and enrich groups of people at the expense of other groups of people.\n",
    "\n",
    "Refer back to the notebook from the first week of the course, and reflect on:\n",
    "\n",
    "**What Kinds of Problems Can Data Science Address?**\n",
    "\n",
    "Next, what does it mean to add value, at a high level? Here are some examples:\n",
    "\n",
    "- improve health\n",
    "- improve access to important resources/commodities (jobs, water, food, health care, heat, computing power, ...)\n",
    "- reduce waste/fraud/abuse\n",
    "- increase revenue \n",
    "- lower cost\n",
    "- increase automation of mundane tasks\n",
    "- give people a voice\n"
   ]
  },
  {
   "cell_type": "markdown",
   "metadata": {},
   "source": [
    "---\n",
    "\n",
    "**THINK ABOUT AND DISCUSS**\n",
    "\n",
    "4) What would you want to do with data science? \n",
    "\n",
    "---"
   ]
  },
  {
   "cell_type": "markdown",
   "metadata": {},
   "source": [
    "## III. Summary\n",
    "\n"
   ]
  },
  {
   "cell_type": "markdown",
   "metadata": {},
   "source": [
    "Increasingly, the world is run by algorithms.\n",
    "\n",
    "Data scientists build these algorithms, which means these individuals have expanding power.\n",
    "\n",
    "They should always ask themselves:\n",
    "\n",
    "- What would be a valuable product/practice/tool?\n",
    "\n",
    "- For a particular data science product/practice/tool, would it be harmful? How?\n"
   ]
  },
  {
   "cell_type": "markdown",
   "metadata": {},
   "source": [
    "---"
   ]
  }
 ],
 "metadata": {
  "anaconda-cloud": {},
  "kernelspec": {
   "display_name": "Python 3 (ipykernel)",
   "language": "python",
   "name": "python3"
  },
  "language_info": {
   "codemirror_mode": {
    "name": "ipython",
    "version": 3
   },
   "file_extension": ".py",
   "mimetype": "text/x-python",
   "name": "python",
   "nbconvert_exporter": "python",
   "pygments_lexer": "ipython3",
   "version": "3.9.12"
  }
 },
 "nbformat": 4,
 "nbformat_minor": 4
}
