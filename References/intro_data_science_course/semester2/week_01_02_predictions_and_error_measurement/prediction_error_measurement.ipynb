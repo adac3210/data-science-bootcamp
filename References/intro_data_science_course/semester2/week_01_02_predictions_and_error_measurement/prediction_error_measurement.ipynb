{
 "cells": [
  {
   "cell_type": "markdown",
   "metadata": {},
   "source": [
    "<img src=\"../../predictioNN_Logo_JPG(72).jpg\" width=200>"
   ]
  },
  {
   "cell_type": "markdown",
   "metadata": {
    "tags": []
   },
   "source": [
    "---\n",
    "\n",
    "## Prediction Error Measurement\n",
    "\n",
    "\n",
    "### Introduction to Data Science\n",
    "#### Last Updated: November 28, 2022\n",
    "---  \n",
    "\n",
    "### OBJECTIVES\n",
    "- Understand the different kinds of errors in a binary classification task, and how to compute them.\n",
    "- Understand different ways of measuring prediction accuracy\n",
    "- Understand errors in a regression model and root mean squared error\n",
    "- Compute root mean squared error\n",
    "\n",
    "### CONCEPTS\n",
    "\n",
    "- prediction error\n",
    "- false positive\n",
    "- false negative\n",
    "- true positive\n",
    "- true negative\n",
    "- accuracy\n",
    "- confusion matrix\n",
    "- root mean squared error\n",
    "\n",
    "---\n"
   ]
  },
  {
   "cell_type": "markdown",
   "metadata": {
    "tags": []
   },
   "source": [
    "## 1. Models Introduce Error"
   ]
  },
  {
   "cell_type": "markdown",
   "metadata": {
    "tags": []
   },
   "source": [
    "*All models are wrong, but some are useful*. George E. P. Box, statistician\n",
    "\n",
    "We use models to simplify reality enough that it's useful: it solves a problem well enough while keeping errors acceptable. \n",
    "\n",
    "Some models estimate the probability of an event (for example, someone liking a movie).  \n",
    "The higher this probability, the more confident we are that the viewer will like it.  \n",
    "We can make a decision by:\n",
    "\n",
    "- setting a threshold like 0.5\n",
    "- compare the probability to the threshold\n",
    "- if the probability > threshold, then alert (value=1), otherwise no alert (value=0)\n",
    "\n",
    "When an alert is triggered, we call this a **predicted positive**. Otherwise it is a **predicted negative**.     \n",
    "In each case, the alert may be warranted (**positive**) or not (**negative**).  \n",
    "This **confusion matrix** organizes the four possible outcomes:\n",
    "\n",
    "|Predicted / Actual| Positive      | Negative |\n",
    "| -----------     | ----------- | ----------- |\n",
    "| Positive        | True Positive | False Positive       |\n",
    "| Negative      | False Negative   | True Negative        |\n",
    "\n",
    "There are two possible errors:  \n",
    "When the actual result is positive and the prediction is negative, this is a **false negative**.  \n",
    "When the actual result is negative and the prediction is positive, this is a **false positive**.  \n",
    "\n",
    "There are two possible correct predictions:  \n",
    "When the actual result is positive and the prediction is positive, this is a **true positive**.  \n",
    "When the actual result is negative and the prediction is negative, this is a **true negative**.  \n",
    "\n",
    "For each case below, think about the errors and discuss which is worse.\n",
    "\n",
    "---\n",
    "\n",
    "1) A health monitoring system alerts that a patient is likely to have a heart attack  \n",
    " \n",
    "a. Giving the alert when there is no real risk (**false positive**)  \n",
    "b. Not given the alert when there IS a real risk (**false negative**)\n",
    "\n",
    "ANS: ____\n",
    "\n",
    "---\n",
    "\n",
    "2) A COVID test\n",
    " \n",
    "a. A positive result when the person does not have COVID (**false positive**)  \n",
    "b. A negative result when the person has COVID (**false negative**)\n",
    "\n",
    "ANS: ____\n",
    "\n",
    "---\n",
    "\n",
    "3) A recommender system suggests a movie to a viewer\n",
    " \n",
    "a. Recommending a movie that the viewer does not like (**false positive**)  \n",
    "b. Not recommending a movie that the viewer would have liked (**false negative**)\n",
    "\n",
    "ANS: ____\n",
    "\n",
    "---\n"
   ]
  },
  {
   "cell_type": "markdown",
   "metadata": {},
   "source": [
    "## 2. Measuring Error"
   ]
  },
  {
   "cell_type": "markdown",
   "metadata": {},
   "source": [
    "### 2A. Binary Classification\n",
    "\n",
    "The examples we considered are all **binary classification systems**: they produce a signal or they don't (two values).  \n",
    "We can summarize their effectiveness with statistics including:\n",
    "\n",
    "- accuracy = #correct / #total  \n",
    "  Accuracy is the fraction of correct predictions. \n",
    "  \n",
    "- recall = #true_positive / #actual_positive  \n",
    "  Recall is the fraction of positive cases that are predicted to be positive.\n",
    "\n",
    "- precision = #true_positive / #predicted_positive  \n",
    "  Precision represents the fraction of predicted positive cases that are positive\n",
    "  \n",
    "**Recall and precision should be used together**  \n",
    "The system can predict that every case will positive, getting 100% recall. This would not be very useful, however, due to the false positives. For this reason, precision should accompany recall.\n",
    "\n",
    "On the other hand, a system can be careful to only predict positive cases when highly confident. The precision would then be very high. However, it might fail to identify a lot of positive cases. For this reason, recall should accompany precision."
   ]
  },
  {
   "cell_type": "markdown",
   "metadata": {},
   "source": [
    "---\n",
    "\n",
    "**TRY FOR YOURSELF**\n",
    "\n",
    "4) Fifty people are tested for COVID.  \n",
    "The test predicts that 10 people have COVID.  Of those 10 people, 6 actually have COVID.  \n",
    "The test predicts that 40 people do not have COVID. Of those 40 people, three actually have COVID.  \n",
    "Calculate the following:  \n",
    "- accuracy\n",
    "- recall\n",
    "- precision\n"
   ]
  },
  {
   "cell_type": "code",
   "execution_count": null,
   "metadata": {},
   "outputs": [],
   "source": []
  },
  {
   "cell_type": "markdown",
   "metadata": {
    "jupyter": {
     "source_hidden": true
    },
    "tags": []
   },
   "source": [
    "answer  \n",
    "accuracy = (6 true positive + 37 true negative) / 50 total = 0.86\n",
    "\n",
    "recall = 6 true positive / (6 true positive + 3 false negative) = 0.67\n",
    "\n",
    "precision = 6 true positive / 10 predicted positive = 0.6"
   ]
  },
  {
   "cell_type": "markdown",
   "metadata": {},
   "source": [
    "---"
   ]
  },
  {
   "cell_type": "markdown",
   "metadata": {},
   "source": [
    "### 2B. Multiclass Classification\n",
    "\n",
    "Let's think about a model M1 that reads reviews that look like this:\n",
    "\n",
    "- This place has the best pizza!!  \n",
    "- The tacos here are AWFUL  \n",
    "- The chicken wings are...meh\n",
    "\n",
    "and it assigns them a sentiment score 1(NEGATIVE) / 2(NEUTRAL) / 3(POSITIVE)\n",
    "\n",
    "- [2] This place has the best pizza!!  \n",
    "- [1] The tacos here are AWFUL  \n",
    "- [2] The chicken wings are...meh"
   ]
  },
  {
   "cell_type": "markdown",
   "metadata": {},
   "source": [
    "Now let's look at the results from a competing model M2:\n",
    "\n",
    "- [1] This place has the best pizza!!  \n",
    "- [1] The tacos here are AWFUL  \n",
    "- [2] The chicken wings are...meh"
   ]
  },
  {
   "cell_type": "markdown",
   "metadata": {},
   "source": [
    "---\n",
    "\n",
    "**TRY FOR YOURSELF**\n",
    "\n",
    "5) How did M1 do?"
   ]
  },
  {
   "cell_type": "markdown",
   "metadata": {},
   "source": []
  },
  {
   "cell_type": "markdown",
   "metadata": {
    "jupyter": {
     "source_hidden": true
    },
    "tags": []
   },
   "source": [
    "ans: if we count a prediction that matches actual to be correct, and otherwise incorrect, then it gets 2/3 correct (this is accuracy)."
   ]
  },
  {
   "cell_type": "markdown",
   "metadata": {},
   "source": [
    "6) How did M2 do? "
   ]
  },
  {
   "cell_type": "markdown",
   "metadata": {},
   "source": []
  },
  {
   "cell_type": "markdown",
   "metadata": {
    "jupyter": {
     "source_hidden": true
    },
    "tags": []
   },
   "source": [
    "ans: if we count a prediction that matches actual to be correct, and otherwise incorrect, then it gets 2/3 correct (this is accuracy)."
   ]
  },
  {
   "cell_type": "markdown",
   "metadata": {},
   "source": [
    "7) Which model is better?\n",
    "\n",
    "**Important point: \"better\" will depend on how you measure what is correct/incorrect.**  \n",
    "If the answer is 3, is a prediction of 2 better than a prediction of 1?\n",
    "\n",
    "Think about how you might measure accuracy for each model."
   ]
  },
  {
   "cell_type": "markdown",
   "metadata": {},
   "source": []
  },
  {
   "cell_type": "markdown",
   "metadata": {
    "jupyter": {
     "source_hidden": true
    },
    "tags": []
   },
   "source": [
    "ans: if we count a prediction that doesn't match actual to be incorrect, then the models perform the same.  \n",
    "if we penalize more when the prediction is further from actual, then M1 is better.\n",
    "\n",
    "For example we might compute the absolute difference between predictions and actual. Then we could add the absolute differences. Lower is better.\n",
    "\n",
    "For M1, sum of absolute difference is |3-2| = 1    \n",
    "For M2, sum of absolute difference is |3-1| = 2  "
   ]
  },
  {
   "cell_type": "markdown",
   "metadata": {},
   "source": [
    "---"
   ]
  },
  {
   "cell_type": "markdown",
   "metadata": {},
   "source": [
    "### 2C. Regression\n",
    "\n",
    "Regression models produce an output with continuous values, such as the predicted value of a house.\n",
    "\n",
    "This is very different from the binary classifier which handles an outcome with two possible values, and the multiclass classifier which handles an outcome with several values.\n",
    "\n",
    "The closer the prediction is to the true value, the better.\n",
    "\n",
    "Next, we look at some house prices, a model that predicts the price, and the prediction errors."
   ]
  },
  {
   "cell_type": "code",
   "execution_count": 2,
   "metadata": {},
   "outputs": [],
   "source": [
    "import pandas as pd\n",
    "import seaborn as sns"
   ]
  },
  {
   "cell_type": "code",
   "execution_count": 3,
   "metadata": {},
   "outputs": [],
   "source": [
    "housing_datafile = '../datasets/ames_housing.csv'"
   ]
  },
  {
   "cell_type": "code",
   "execution_count": 4,
   "metadata": {},
   "outputs": [
    {
     "data": {
      "text/html": [
       "<div>\n",
       "<style scoped>\n",
       "    .dataframe tbody tr th:only-of-type {\n",
       "        vertical-align: middle;\n",
       "    }\n",
       "\n",
       "    .dataframe tbody tr th {\n",
       "        vertical-align: top;\n",
       "    }\n",
       "\n",
       "    .dataframe thead th {\n",
       "        text-align: right;\n",
       "    }\n",
       "</style>\n",
       "<table border=\"1\" class=\"dataframe\">\n",
       "  <thead>\n",
       "    <tr style=\"text-align: right;\">\n",
       "      <th></th>\n",
       "      <th>Id</th>\n",
       "      <th>MSSubClass</th>\n",
       "      <th>MSZoning</th>\n",
       "      <th>LotFrontage</th>\n",
       "      <th>LotArea</th>\n",
       "      <th>Street</th>\n",
       "      <th>Alley</th>\n",
       "      <th>LotShape</th>\n",
       "      <th>LandContour</th>\n",
       "      <th>Utilities</th>\n",
       "      <th>...</th>\n",
       "      <th>PoolArea</th>\n",
       "      <th>PoolQC</th>\n",
       "      <th>Fence</th>\n",
       "      <th>MiscFeature</th>\n",
       "      <th>MiscVal</th>\n",
       "      <th>MoSold</th>\n",
       "      <th>YrSold</th>\n",
       "      <th>SaleType</th>\n",
       "      <th>SaleCondition</th>\n",
       "      <th>SalePrice</th>\n",
       "    </tr>\n",
       "  </thead>\n",
       "  <tbody>\n",
       "    <tr>\n",
       "      <th>0</th>\n",
       "      <td>1.0</td>\n",
       "      <td>60.0</td>\n",
       "      <td>RL</td>\n",
       "      <td>65.0</td>\n",
       "      <td>8450.0</td>\n",
       "      <td>Pave</td>\n",
       "      <td>NaN</td>\n",
       "      <td>Reg</td>\n",
       "      <td>Lvl</td>\n",
       "      <td>AllPub</td>\n",
       "      <td>...</td>\n",
       "      <td>0.0</td>\n",
       "      <td>NaN</td>\n",
       "      <td>NaN</td>\n",
       "      <td>NaN</td>\n",
       "      <td>0.0</td>\n",
       "      <td>2.0</td>\n",
       "      <td>2008.0</td>\n",
       "      <td>WD</td>\n",
       "      <td>Normal</td>\n",
       "      <td>208500.0</td>\n",
       "    </tr>\n",
       "    <tr>\n",
       "      <th>1</th>\n",
       "      <td>2.0</td>\n",
       "      <td>20.0</td>\n",
       "      <td>RL</td>\n",
       "      <td>80.0</td>\n",
       "      <td>9600.0</td>\n",
       "      <td>Pave</td>\n",
       "      <td>NaN</td>\n",
       "      <td>Reg</td>\n",
       "      <td>Lvl</td>\n",
       "      <td>AllPub</td>\n",
       "      <td>...</td>\n",
       "      <td>0.0</td>\n",
       "      <td>NaN</td>\n",
       "      <td>NaN</td>\n",
       "      <td>NaN</td>\n",
       "      <td>0.0</td>\n",
       "      <td>5.0</td>\n",
       "      <td>2007.0</td>\n",
       "      <td>WD</td>\n",
       "      <td>Normal</td>\n",
       "      <td>181500.0</td>\n",
       "    </tr>\n",
       "    <tr>\n",
       "      <th>2</th>\n",
       "      <td>3.0</td>\n",
       "      <td>60.0</td>\n",
       "      <td>RL</td>\n",
       "      <td>68.0</td>\n",
       "      <td>11250.0</td>\n",
       "      <td>Pave</td>\n",
       "      <td>NaN</td>\n",
       "      <td>IR1</td>\n",
       "      <td>Lvl</td>\n",
       "      <td>AllPub</td>\n",
       "      <td>...</td>\n",
       "      <td>0.0</td>\n",
       "      <td>NaN</td>\n",
       "      <td>NaN</td>\n",
       "      <td>NaN</td>\n",
       "      <td>0.0</td>\n",
       "      <td>9.0</td>\n",
       "      <td>2008.0</td>\n",
       "      <td>WD</td>\n",
       "      <td>Normal</td>\n",
       "      <td>223500.0</td>\n",
       "    </tr>\n",
       "  </tbody>\n",
       "</table>\n",
       "<p>3 rows × 81 columns</p>\n",
       "</div>"
      ],
      "text/plain": [
       "    Id  MSSubClass MSZoning  LotFrontage  LotArea Street Alley LotShape  \\\n",
       "0  1.0        60.0       RL         65.0   8450.0   Pave   NaN      Reg   \n",
       "1  2.0        20.0       RL         80.0   9600.0   Pave   NaN      Reg   \n",
       "2  3.0        60.0       RL         68.0  11250.0   Pave   NaN      IR1   \n",
       "\n",
       "  LandContour Utilities  ... PoolArea PoolQC Fence MiscFeature MiscVal MoSold  \\\n",
       "0         Lvl    AllPub  ...      0.0    NaN   NaN         NaN     0.0    2.0   \n",
       "1         Lvl    AllPub  ...      0.0    NaN   NaN         NaN     0.0    5.0   \n",
       "2         Lvl    AllPub  ...      0.0    NaN   NaN         NaN     0.0    9.0   \n",
       "\n",
       "   YrSold  SaleType  SaleCondition  SalePrice  \n",
       "0  2008.0        WD         Normal   208500.0  \n",
       "1  2007.0        WD         Normal   181500.0  \n",
       "2  2008.0        WD         Normal   223500.0  \n",
       "\n",
       "[3 rows x 81 columns]"
      ]
     },
     "execution_count": 4,
     "metadata": {},
     "output_type": "execute_result"
    }
   ],
   "source": [
    "housing = pd.read_csv(housing_datafile)\n",
    "housing.head(3)"
   ]
  },
  {
   "cell_type": "markdown",
   "metadata": {},
   "source": [
    "Let's look at the data columns. Many of them describe the condition and attributes of the houses."
   ]
  },
  {
   "cell_type": "code",
   "execution_count": 5,
   "metadata": {},
   "outputs": [
    {
     "data": {
      "text/plain": [
       "Index(['Id', 'MSSubClass', 'MSZoning', 'LotFrontage', 'LotArea', 'Street',\n",
       "       'Alley', 'LotShape', 'LandContour', 'Utilities', 'LotConfig',\n",
       "       'LandSlope', 'Neighborhood', 'Condition1', 'Condition2', 'BldgType',\n",
       "       'HouseStyle', 'OverallQual', 'OverallCond', 'YearBuilt', 'YearRemodAdd',\n",
       "       'RoofStyle', 'RoofMatl', 'Exterior1st', 'Exterior2nd', 'MasVnrType',\n",
       "       'MasVnrArea', 'ExterQual', 'ExterCond', 'Foundation', 'BsmtQual',\n",
       "       'BsmtCond', 'BsmtExposure', 'BsmtFinType1', 'BsmtFinSF1',\n",
       "       'BsmtFinType2', 'BsmtFinSF2', 'BsmtUnfSF', 'TotalBsmtSF', 'Heating',\n",
       "       'HeatingQC', 'CentralAir', 'Electrical', '1stFlrSF', '2ndFlrSF',\n",
       "       'LowQualFinSF', 'GrLivArea', 'BsmtFullBath', 'BsmtHalfBath', 'FullBath',\n",
       "       'HalfBath', 'BedroomAbvGr', 'KitchenAbvGr', 'KitchenQual',\n",
       "       'TotRmsAbvGrd', 'Functional', 'Fireplaces', 'FireplaceQu', 'GarageType',\n",
       "       'GarageYrBlt', 'GarageFinish', 'GarageCars', 'GarageArea', 'GarageQual',\n",
       "       'GarageCond', 'PavedDrive', 'WoodDeckSF', 'OpenPorchSF',\n",
       "       'EnclosedPorch', '3SsnPorch', 'ScreenPorch', 'PoolArea', 'PoolQC',\n",
       "       'Fence', 'MiscFeature', 'MiscVal', 'MoSold', 'YrSold', 'SaleType',\n",
       "       'SaleCondition', 'SalePrice'],\n",
       "      dtype='object')"
      ]
     },
     "execution_count": 5,
     "metadata": {},
     "output_type": "execute_result"
    }
   ],
   "source": [
    "housing.columns"
   ]
  },
  {
   "cell_type": "markdown",
   "metadata": {},
   "source": [
    "The target variable is **SalePrice**  "
   ]
  },
  {
   "cell_type": "code",
   "execution_count": 6,
   "metadata": {},
   "outputs": [],
   "source": [
    "target = 'SalePrice'"
   ]
  },
  {
   "cell_type": "markdown",
   "metadata": {},
   "source": [
    "Plot SalePrice against some potential predictors"
   ]
  },
  {
   "cell_type": "code",
   "execution_count": 7,
   "metadata": {},
   "outputs": [
    {
     "data": {
      "text/plain": [
       "<AxesSubplot:xlabel='1stFlrSF', ylabel='SalePrice'>"
      ]
     },
     "execution_count": 7,
     "metadata": {},
     "output_type": "execute_result"
    },
    {
     "data": {
      "image/png": "[encoded data removed]",
      "text/plain": [
       "<Figure size 432x288 with 1 Axes>"
      ]
     },
     "metadata": {
      "needs_background": "light"
     },
     "output_type": "display_data"
    }
   ],
   "source": [
    "sns.scatterplot(x='1stFlrSF', y=target, data=housing)"
   ]
  },
  {
   "cell_type": "markdown",
   "metadata": {},
   "source": [
    "**8) What do you notice about the relationship between SalePrice and 1stFlrSF?**"
   ]
  },
  {
   "cell_type": "markdown",
   "metadata": {
    "jupyter": {
     "source_hidden": true
    },
    "tags": []
   },
   "source": [
    "ans: there is a linear relationship, but there is large variation. There are also outliers far to the right."
   ]
  },
  {
   "cell_type": "code",
   "execution_count": 8,
   "metadata": {},
   "outputs": [
    {
     "data": {
      "text/plain": [
       "<AxesSubplot:xlabel='2ndFlrSF', ylabel='SalePrice'>"
      ]
     },
     "execution_count": 8,
     "metadata": {},
     "output_type": "execute_result"
    },
    {
     "data": {
      "image/png": "[encoded data removed]",
      "text/plain": [
       "<Figure size 432x288 with 1 Axes>"
      ]
     },
     "metadata": {
      "needs_background": "light"
     },
     "output_type": "display_data"
    }
   ],
   "source": [
    "sns.scatterplot(x='2ndFlrSF', y=target, data=housing)"
   ]
  },
  {
   "cell_type": "markdown",
   "metadata": {},
   "source": [
    "**9) What do you notice about the relationship between SalePrice and 2ndFlrSF?**"
   ]
  },
  {
   "cell_type": "markdown",
   "metadata": {
    "jupyter": {
     "source_hidden": true
    },
    "tags": []
   },
   "source": [
    "The relationship is linear but many points have 2ndFlrSF value of zero."
   ]
  },
  {
   "cell_type": "markdown",
   "metadata": {},
   "source": [
    "**10) What do all the zeroes mean on the x-axis?**"
   ]
  },
  {
   "cell_type": "markdown",
   "metadata": {
    "jupyter": {
     "source_hidden": true
    },
    "tags": []
   },
   "source": [
    "Ans: These are homes without a 2nd floor. Since other variables explain SalePrice, there will be a range of different SalePrices when there isn't a second floor."
   ]
  },
  {
   "cell_type": "markdown",
   "metadata": {},
   "source": [
    "Next we fit some simple models (in practice, scaling the data is recommended)."
   ]
  },
  {
   "cell_type": "code",
   "execution_count": 1,
   "metadata": {},
   "outputs": [],
   "source": [
    "# import packages\n",
    "\n",
    "from sklearn.linear_model import LinearRegression\n",
    "from sklearn.metrics import mean_squared_error\n",
    "import math"
   ]
  },
  {
   "cell_type": "markdown",
   "metadata": {},
   "source": [
    "sklearn models require that data are in arrays. We extract the arrays and make them columns."
   ]
  },
  {
   "cell_type": "code",
   "execution_count": 11,
   "metadata": {},
   "outputs": [],
   "source": [
    "X = housing['1stFlrSF'].values.reshape(-1,1)\n",
    "y = housing[target].values.reshape(-1,1)\n",
    "\n",
    "reg1 = LinearRegression().fit(X, y)"
   ]
  },
  {
   "cell_type": "markdown",
   "metadata": {},
   "source": [
    "compute predictions and errors (actual - prediction)"
   ]
  },
  {
   "cell_type": "code",
   "execution_count": 135,
   "metadata": {},
   "outputs": [],
   "source": [
    "preds = reg1.predict(X)\n",
    "errors = y - preds"
   ]
  },
  {
   "cell_type": "markdown",
   "metadata": {},
   "source": [
    "Make a histogram of the errors."
   ]
  },
  {
   "cell_type": "code",
   "execution_count": 136,
   "metadata": {},
   "outputs": [
    {
     "data": {
      "text/plain": [
       "<AxesSubplot:ylabel='Count'>"
      ]
     },
     "execution_count": 136,
     "metadata": {},
     "output_type": "execute_result"
    },
    {
     "data": {
      "image/png": "[encoded data removed]",
      "text/plain": [
       "<Figure size 432x288 with 1 Axes>"
      ]
     },
     "metadata": {
      "needs_background": "light"
     },
     "output_type": "display_data"
    }
   ],
   "source": [
    "sns.histplot(errors)"
   ]
  },
  {
   "cell_type": "markdown",
   "metadata": {},
   "source": [
    "**11) There are positive and negative errors. What do these mean?**"
   ]
  },
  {
   "cell_type": "markdown",
   "metadata": {
    "jupyter": {
     "source_hidden": true
    },
    "tags": []
   },
   "source": [
    "ans: since error = actual - predicted, positive errors are when predicted is less than actual, and negative errors are when predicted is more than actual."
   ]
  },
  {
   "cell_type": "markdown",
   "metadata": {},
   "source": [
    "Next we compute the mean squared error, which is the average of the squared errors.  \n",
    "By using squared errors, this avoids positive and negative errors cancelling."
   ]
  },
  {
   "cell_type": "code",
   "execution_count": 137,
   "metadata": {},
   "outputs": [
    {
     "data": {
      "text/plain": [
       "3991838509.3767366"
      ]
     },
     "execution_count": 137,
     "metadata": {},
     "output_type": "execute_result"
    }
   ],
   "source": [
    "mse = mean_squared_error(y, preds)\n",
    "mse"
   ]
  },
  {
   "cell_type": "markdown",
   "metadata": {},
   "source": [
    "Lastly, we compute the root mean squared error (rmse). This inverts the squaring, and gives the average error."
   ]
  },
  {
   "cell_type": "code",
   "execution_count": 138,
   "metadata": {},
   "outputs": [
    {
     "data": {
      "text/plain": [
       "63180.99800871094"
      ]
     },
     "execution_count": 138,
     "metadata": {},
     "output_type": "execute_result"
    }
   ],
   "source": [
    "math.sqrt(mse)"
   ]
  },
  {
   "cell_type": "markdown",
   "metadata": {},
   "source": [
    "**12) The average error is 63,000. Is this large? How can you think about this?**"
   ]
  },
  {
   "cell_type": "code",
   "execution_count": null,
   "metadata": {},
   "outputs": [],
   "source": []
  },
  {
   "cell_type": "markdown",
   "metadata": {
    "jupyter": {
     "source_hidden": true
    },
    "tags": []
   },
   "source": [
    "Answer: For reference, the average sale price is "
   ]
  },
  {
   "cell_type": "code",
   "execution_count": 140,
   "metadata": {
    "collapsed": true,
    "jupyter": {
     "outputs_hidden": true,
     "source_hidden": true
    },
    "tags": []
   },
   "outputs": [
    {
     "data": {
      "text/plain": [
       "180921.19589041095"
      ]
     },
     "execution_count": 140,
     "metadata": {},
     "output_type": "execute_result"
    }
   ],
   "source": [
    "housing[target].mean()"
   ]
  },
  {
   "cell_type": "markdown",
   "metadata": {
    "jupyter": {
     "source_hidden": true
    },
    "tags": []
   },
   "source": [
    "The average error is 35% of the average home price, which is large."
   ]
  },
  {
   "cell_type": "code",
   "execution_count": 141,
   "metadata": {
    "collapsed": true,
    "jupyter": {
     "outputs_hidden": true,
     "source_hidden": true
    },
    "tags": []
   },
   "outputs": [
    {
     "data": {
      "text/plain": [
       "0.34921833065364793"
      ]
     },
     "execution_count": 141,
     "metadata": {},
     "output_type": "execute_result"
    }
   ],
   "source": [
    "63180.99800871094 / 180921.19589041095"
   ]
  },
  {
   "cell_type": "markdown",
   "metadata": {},
   "source": [
    "---\n",
    "\n",
    "**TRY FOR YOURSELF**\n",
    "\n",
    "13) Fit a linear regression model using `2ndFlrSF` as a predictor and `SalePrice` as the target.  \n",
    "Compute the rmse.  How does this compare to the rmse from the model using `1stFlrSF`?  \n",
    "From what you know about the scatterplots, does this make sense?"
   ]
  },
  {
   "cell_type": "code",
   "execution_count": null,
   "metadata": {},
   "outputs": [],
   "source": []
  },
  {
   "cell_type": "code",
   "execution_count": 144,
   "metadata": {
    "collapsed": true,
    "jupyter": {
     "outputs_hidden": true,
     "source_hidden": true
    },
    "tags": []
   },
   "outputs": [
    {
     "data": {
      "text/plain": [
       "75257.28959073259"
      ]
     },
     "execution_count": 144,
     "metadata": {},
     "output_type": "execute_result"
    }
   ],
   "source": [
    "# answer\n",
    "\n",
    "X2 = housing['2ndFlrSF'].values.reshape(-1,1)\n",
    "reg2 = LinearRegression().fit(X2, y)\n",
    "preds2 = reg2.predict(X2)\n",
    "math.sqrt(mean_squared_error(y, preds2))\n"
   ]
  },
  {
   "cell_type": "markdown",
   "metadata": {
    "jupyter": {
     "source_hidden": true
    },
    "tags": []
   },
   "source": [
    "It makes sense the 2ndFlrSF regression model has higher rmse. For example the 2ndFlrSF scatterplot does not have as strong a linear relationship to SalePrice as the 1stFlrSF scatterplot."
   ]
  },
  {
   "cell_type": "markdown",
   "metadata": {},
   "source": [
    "---"
   ]
  }
 ],
 "metadata": {
  "anaconda-cloud": {},
  "kernelspec": {
   "display_name": "Python 3 (ipykernel)",
   "language": "python",
   "name": "python3"
  },
  "language_info": {
   "codemirror_mode": {
    "name": "ipython",
    "version": 3
   },
   "file_extension": ".py",
   "mimetype": "text/x-python",
   "name": "python",
   "nbconvert_exporter": "python",
   "pygments_lexer": "ipython3",
   "version": "3.9.12"
  }
 },
 "nbformat": 4,
 "nbformat_minor": 4
}
