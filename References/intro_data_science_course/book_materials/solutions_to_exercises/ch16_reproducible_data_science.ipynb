{
 "cells": [
  {
   "cell_type": "markdown",
   "id": "e0f27310-ab21-4420-b026-3916923ad617",
   "metadata": {},
   "source": [
    "<img src=\"../../predictioNN_Logo_JPG(72).jpg\" width=200>"
   ]
  },
  {
   "cell_type": "markdown",
   "id": "acbe558c-5b7c-4e21-a622-12a2eab873eb",
   "metadata": {},
   "source": [
    "## Book Solutions\n",
    "### Chapter 16: Reproducible Data Science\n",
    "\n",
    "Last updated: November 8, 2023\n",
    "\n",
    "---"
   ]
  },
  {
   "cell_type": "markdown",
   "id": "74d06935-0397-4cf0-9c6b-8e8bc6e91da4",
   "metadata": {},
   "source": [
    "2. Explain why it is useful to provide unit tests with data science applications."
   ]
  },
  {
   "cell_type": "markdown",
   "id": "2438d16a-a41b-406f-aad7-332f74ccb524",
   "metadata": {},
   "source": [
    "Answer: Unit testing is useful for isolating small elements of code to verify if they work as intended. For example, a unit test might verify that a function or method works as intended.\n",
    "\n",
    "\n",
    "---"
   ]
  },
  {
   "cell_type": "markdown",
   "id": "cb240609-0ca7-4f29-9bce-45123cd02b0e",
   "metadata": {},
   "source": [
    "3. Investigate sanity tests and explain their value."
   ]
  },
  {
   "cell_type": "markdown",
   "id": "b6a036e7-d2ce-473c-b9bb-2972b6c7d2b0",
   "metadata": {},
   "source": [
    "Answer: Sanity tests are useful for quickly evaluating whether basic functionality of new software is working correctly.\n",
    "\n",
    "---"
   ]
  },
  {
   "cell_type": "markdown",
   "id": "80fdebe4-4596-422c-99eb-8b064f238576",
   "metadata": {},
   "source": [
    "5. Explain the difference between a Docker image and a Docker container."
   ]
  },
  {
   "cell_type": "markdown",
   "id": "6599ff94-2e7b-490f-bd38-6381654e1192",
   "metadata": {},
   "source": [
    "Answer: A Docker image is a read-only template that contains instructions for creating a Docker container. A Docker container is an instance of the Docker image.\n",
    "\n",
    "---"
   ]
  },
  {
   "cell_type": "markdown",
   "id": "4e03aa5c-e2ec-4897-a1f4-7495121f3e26",
   "metadata": {},
   "source": [
    "7. Is it possible to provide a name for a container? If so, how can this be done?"
   ]
  },
  {
   "cell_type": "markdown",
   "id": "8dbe1ed6-5ae5-4a6d-a924-8598c29ce475",
   "metadata": {},
   "source": [
    "Answer: Yes, a Docker container can be named with the $\\texttt{--name <container_name>}$ flag which can be included in the $\\texttt{run}$ command as follows:\n",
    "\n",
    "$\\texttt{> docker run -d --name somename}$\n",
    "\n",
    "\n",
    "---"
   ]
  },
  {
   "cell_type": "markdown",
   "id": "a523ce05-d5ca-4ba0-b264-dd460c267b08",
   "metadata": {},
   "source": [
    "8. A data scientist runs a container that rapidly makes predictions using a model and then stops running. She checks the list of containers by running the command $\\texttt{docker ps}$ but does not see the container listed. Does this make sense? Provide justification for your answer."
   ]
  },
  {
   "cell_type": "markdown",
   "id": "a99201d0-26c5-46d9-8715-af98fe5cdca1",
   "metadata": {},
   "source": [
    "Answer: The $\\texttt{docker ps}$ command shows only the running containers by default. Since the model stopped running, the container is no longer running, which explains why it is not listed. To show all containers, the flag $\\texttt{-a}$ can be included like this:\n",
    "\n",
    "$\\texttt{> docker ps -a}$\n",
    "\n",
    "---"
   ]
  }
 ],
 "metadata": {
  "kernelspec": {
   "display_name": "Python 3 (ipykernel)",
   "language": "python",
   "name": "python3"
  },
  "language_info": {
   "codemirror_mode": {
    "name": "ipython",
    "version": 3
   },
   "file_extension": ".py",
   "mimetype": "text/x-python",
   "name": "python",
   "nbconvert_exporter": "python",
   "pygments_lexer": "ipython3",
   "version": "3.9.12"
  }
 },
 "nbformat": 4,
 "nbformat_minor": 5
}
