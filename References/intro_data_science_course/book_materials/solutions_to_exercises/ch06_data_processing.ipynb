{
 "cells": [
  {
   "cell_type": "markdown",
   "id": "ff815acd-71a8-4646-91e5-fbf4198affea",
   "metadata": {},
   "source": [
    "<img src=\"../../predictioNN_Logo_JPG(72).jpg\" width=200>"
   ]
  },
  {
   "cell_type": "markdown",
   "id": "e741faaf-40ef-40ee-9652-f74dee162a4a",
   "metadata": {},
   "source": [
    "## Book Solutions\n",
    "### Chapter 6: Data Processing\n",
    "\n",
    "Last updated: April 22, 2024\n",
    "\n",
    "---"
   ]
  },
  {
   "cell_type": "markdown",
   "id": "74d06935-0397-4cf0-9c6b-8e8bc6e91da4",
   "metadata": {},
   "source": [
    "1.  Explain the difference an absolute path and a relative path. Why is it preferable to use a relative path?"
   ]
  },
  {
   "cell_type": "markdown",
   "id": "2438d16a-a41b-406f-aad7-332f74ccb524",
   "metadata": {},
   "source": [
    "Answer: The absolute path is the full path from the root. The relative path provides the path from the current directory. \n",
    "\n",
    "It is preferable to use the relative path as this will be portable for other users. Absolute paths can include things name username which will be different across machines.\n",
    "\n",
    "---"
   ]
  },
  {
   "cell_type": "markdown",
   "id": "cb240609-0ca7-4f29-9bce-45123cd02b0e",
   "metadata": {},
   "source": [
    "3. In our text analytics, we split the article on periods to extract sentences. Can you think of any issues with segmenting sentences by splitting on periods? Explain your answer."
   ]
  },
  {
   "cell_type": "markdown",
   "id": "b6a036e7-d2ce-473c-b9bb-2972b6c7d2b0",
   "metadata": {},
   "source": [
    "Answer: Periods are commonly used for acronyms and abbreviations. They also appear in ellipses and titles. Splitting on periods will produce unwanted text fragments.\n",
    "\n",
    "---"
   ]
  },
  {
   "cell_type": "markdown",
   "id": "7b1c0a4b-8278-4875-976a-764b1d88a401",
   "metadata": {},
   "source": [
    "5. For the wildfire article, tokenize it on spaces and calculate the average length of the tokens. For example, an article consisting of 'california wildfire' would produce the tokens 'california' (length=10) and 'wildfire' (length=8), for an average token length of 9. "
   ]
  },
  {
   "cell_type": "markdown",
   "id": "ed51d685-c473-496f-9ff7-77182223e04a",
   "metadata": {},
   "source": [
    "Answer: 5.4198 (after rounding)\n",
    "\n",
    "There are several ways to compute this. This solution converts the list of words to a `numpy` array to compute the mean.\n",
    "\n",
    "```\n",
    "import numpy as np\n",
    "\n",
    "# split on spaces\n",
    "wild = data.split(' ')\n",
    "\n",
    "# list comprehension to compute length of each word\n",
    "ct = [len(word) for word in wild]\n",
    "\n",
    "# cast to numpy array and compute mean\n",
    "np.asarray(ct).mean()\n",
    "```\n",
    "\n",
    "---"
   ]
  },
  {
   "cell_type": "markdown",
   "id": "3d394e84-b60e-4349-97a4-5404d8758c64",
   "metadata": {},
   "source": [
    "7. True or False: The `pandas` dataframe is most useful for unstructured text data."
   ]
  },
  {
   "cell_type": "markdown",
   "id": "11f6ccce-3716-4a45-a233-3def7c692e23",
   "metadata": {},
   "source": [
    "Answer: False. It is most useful for structured data.\n",
    "\n",
    "---"
   ]
  },
  {
   "cell_type": "markdown",
   "id": "08a7cbe0-40b6-4354-922a-8ed3894bf8cc",
   "metadata": {},
   "source": [
    "8. The wildfire exercise included the creation of a dictionary named `word_index` that held strings as keys and positions as values. Write a function that takes `word_index` as input and returns a new dictionary where the keys and values are reversed. That is, the keys should hold the positions and the values should hold the strings."
   ]
  },
  {
   "cell_type": "markdown",
   "id": "399cb0ea-786b-4871-b02b-e46c3be06bf1",
   "metadata": {},
   "source": [
    "Answer: \n",
    "\n",
    "```\n",
    "def reverse_dict(d):\n",
    "    \n",
    "    # create empty dictionary\n",
    "    d_rev = {}\n",
    "\n",
    "    # store index in key, store token in value\n",
    "    for ix, token in enumerate(d):\n",
    "            d_rev[ix] = token\n",
    "        \n",
    "    return d_rev\n",
    "```\n",
    "\n",
    "---"
   ]
  },
  {
   "cell_type": "markdown",
   "id": "80fdebe4-4596-422c-99eb-8b064f238576",
   "metadata": {},
   "source": [
    "11.  Suppose that you've extracted the values from a `pandas` dataframe `df` with the `df.values` attribute. What is the data type of these values?"
   ]
  },
  {
   "cell_type": "markdown",
   "id": "6599ff94-2e7b-490f-bd38-6381654e1192",
   "metadata": {},
   "source": [
    "Answer: The values will be a `numpy` array\n",
    "\n",
    "---"
   ]
  },
  {
   "cell_type": "markdown",
   "id": "4e03aa5c-e2ec-4897-a1f4-7495121f3e26",
   "metadata": {},
   "source": [
    "13. For the `patientid` variable in the blood pressure dataset, are the percentile statistics useful? Explain your answer."
   ]
  },
  {
   "cell_type": "markdown",
   "id": "8dbe1ed6-5ae5-4a6d-a924-8598c29ce475",
   "metadata": {},
   "source": [
    "Answer: Since `patientid` is an identifier column, the percentiles don't hold useful meaning.\n",
    "\n",
    "---"
   ]
  },
  {
   "cell_type": "markdown",
   "id": "a523ce05-d5ca-4ba0-b264-dd460c267b08",
   "metadata": {},
   "source": [
    "14. A data scientist uses the `ffill()` function to impute some missing data in a dataframe column. Provide an example where this practice would not work well and explain your reasoning."
   ]
  },
  {
   "cell_type": "markdown",
   "id": "a99201d0-26c5-46d9-8715-af98fe5cdca1",
   "metadata": {},
   "source": [
    "Answer: The `ffill()` function can be very useful in time series data where the user wishes to carry forward an earlier value. For cross sectional data, such as a group of students in a class, using `ffill()` to impute missing grades would not work well. This is because the function would apply values from previous students to fill later student grades, which is not sensible.\n",
    "\n",
    "---"
   ]
  }
 ],
 "metadata": {
  "kernelspec": {
   "display_name": "Python 3 (ipykernel)",
   "language": "python",
   "name": "python3"
  },
  "language_info": {
   "codemirror_mode": {
    "name": "ipython",
    "version": 3
   },
   "file_extension": ".py",
   "mimetype": "text/x-python",
   "name": "python",
   "nbconvert_exporter": "python",
   "pygments_lexer": "ipython3",
   "version": "3.9.12"
  }
 },
 "nbformat": 4,
 "nbformat_minor": 5
}
