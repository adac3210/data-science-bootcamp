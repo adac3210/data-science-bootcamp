{
 "cells": [
  {
   "cell_type": "markdown",
   "id": "a1012453-b8f4-49c8-8468-8f384bc9bdd0",
   "metadata": {},
   "source": [
    "<img src=\"../../predictioNN_Logo_JPG(72).jpg\" width=200>"
   ]
  },
  {
   "cell_type": "markdown",
   "id": "596415c8-6dfb-4919-a8cb-0951c20b6c84",
   "metadata": {},
   "source": [
    "## Book Solutions\n",
    "### Chapter 14: Classification with Logistic Regression\n",
    "\n",
    "Last updated: January 14, 2023\\4\n",
    "\n",
    "---"
   ]
  },
  {
   "cell_type": "markdown",
   "id": "6e28c2dd-5eb9-444f-b85d-8b65cc929163",
   "metadata": {},
   "source": [
    "1. Explain why the direct use of a linear combination of predictors is not appropriate for the logistic regression model."
   ]
  },
  {
   "cell_type": "markdown",
   "id": "839a418a-48d3-48d7-a813-47634f95a59d",
   "metadata": {},
   "source": [
    "Answer: A logistic regression model will require the probability that an event occurs. The range of a linear combination of predictors could be $(-\\infty, \\infty)$, which is inconsistent with probabilities.\n",
    "\n",
    "---"
   ]
  },
  {
   "cell_type": "markdown",
   "id": "24aa5c8a-0a6c-4323-afa4-157912d1e12c",
   "metadata": {},
   "source": [
    "3. If the odds of an event are 1/3, what is the probability of the event?"
   ]
  },
  {
   "cell_type": "markdown",
   "id": "088e76cb-4598-4a24-9472-83160aa173b4",
   "metadata": {},
   "source": [
    "Answer: 1/4\n",
    "\n",
    "We can write the definition of the odds and solve for the probability.  \n",
    "Let o = odds and p = probability of event\n",
    "\n",
    "Then\n",
    "\n",
    "$o = \\frac{p}{1-p}$\n",
    "\n",
    "$o(1-p)=p$  \n",
    "$o-op=p$  \n",
    "$p+op=o$  \n",
    "$p(1+o)=o$  \n",
    "$p=\\frac{o}{1+o}$\n",
    "\n",
    "Plugging in,\n",
    "\n",
    "$p = \\frac{1/3}{1+1/3} = 1/4$\n",
    "\n",
    "---"
   ]
  },
  {
   "cell_type": "markdown",
   "id": "260a182c-923a-442a-9a60-a1d32be72b5e",
   "metadata": {},
   "source": [
    "5. True or False: The parameters that maximize the likelihood will also maximize the log-likelihood.\n"
   ]
  },
  {
   "cell_type": "markdown",
   "id": "78c8d8b8-4b83-48c3-9b73-952aaae80453",
   "metadata": {},
   "source": [
    "Answer: True\n",
    "\n",
    "This follows because the `log()` function is monotonically increasing.\n",
    "\n",
    "---"
   ]
  },
  {
   "cell_type": "markdown",
   "id": "773fa7e6-8b52-41f6-8691-ecd495889db7",
   "metadata": {},
   "source": [
    "9. In gradient descent, does it always make sense to use a large step size? Explain your answer.\n"
   ]
  },
  {
   "cell_type": "markdown",
   "id": "a36302bf-2931-4371-97b2-f2d8fc939d2b",
   "metadata": {},
   "source": [
    "Answer: No. \n",
    "\n",
    "If the step size is ''too large'' the update step might move the next parameter estimate away from the extrema.\n",
    "\n",
    "---"
   ]
  },
  {
   "cell_type": "markdown",
   "id": "6162c004-2344-4d46-8354-8ec90ce92bd5",
   "metadata": {},
   "source": [
    "10. In computing the gradient of the log-likelihood, we made a substitution for the event probability. Show that their representations below are equivalent.\n",
    "\n",
    "Expression I\n",
    "\n",
    "$\n",
    "\\frac{exp(\\beta_0 + \\beta_1 x_{i1} + \\ldots + \\beta_{p} x_{ip})}{1+exp(\\beta_0 + \\beta_1 x_{i1} + \\ldots + \\beta_{p} x_{ip})}\n",
    "$\n",
    "\n",
    "Expression II\n",
    "\n",
    "$\n",
    "\\frac{1}{1+exp(-(\\beta_0 + \\beta_1 x_{i1} + \\ldots + \\beta_{p} x_{ip}))}\n",
    "$\n"
   ]
  },
  {
   "cell_type": "markdown",
   "id": "2a4f7dd3-3536-414f-bf91-71458587dc8b",
   "metadata": {},
   "source": [
    "Answer:\n",
    "\n",
    "This can be shown by multiplying the numerator and denominator of Expression II by the factor:\n",
    "\n",
    "$exp(\\beta_0 + \\beta_1 x_{i1} + \\ldots + \\beta_{p} x_{ip})$\n",
    "\n",
    "If we call the factor $a$, then\n",
    "\n",
    "this uses the property that $e^a e^{-a} = e^{a+(-a)}=1$\n",
    "\n",
    "---"
   ]
  },
  {
   "cell_type": "markdown",
   "id": "732d6e1f-0165-460a-8bb9-1ab4198dc28c",
   "metadata": {},
   "source": [
    "13. True or False: When the logistic regression parameter estimates are computed with gradient descent, we should expect them to be very different from estimates derived by a statistical package like `statsmodels`."
   ]
  },
  {
   "cell_type": "markdown",
   "id": "dcebdeb1-8e89-46c1-82e6-27ceefc2661a",
   "metadata": {},
   "source": [
    "Answer: False\n",
    "\n",
    "We should expect the result from a package to yield similar or identical results to gradient descent.\n",
    "\n",
    "---"
   ]
  },
  {
   "cell_type": "markdown",
   "id": "133ce299-58fb-459b-a51a-7c6151f50e9c",
   "metadata": {},
   "source": [
    "15. Using the `sklearn` module, fit a logistic regression model to this dataset: $\\{(3,0),(3.2,0),(4,1)\\}$. Show your code and print the intercept and slope coefficient estimates. For a predictor value of 6, what is the predicted target?"
   ]
  },
  {
   "cell_type": "markdown",
   "id": "f9ff0403-e07c-4d90-9ca2-4cb43a81e582",
   "metadata": {},
   "source": [
    "Answer: The code below will accomplish the task:"
   ]
  },
  {
   "cell_type": "code",
   "execution_count": 1,
   "id": "56daf88a-37ca-4755-9ba6-c590a42745e7",
   "metadata": {},
   "outputs": [],
   "source": [
    "import numpy as np\n",
    "from sklearn.linear_model import LogisticRegression"
   ]
  },
  {
   "cell_type": "code",
   "execution_count": 2,
   "id": "6dd0bdaa-9614-4d1f-be0d-16f13fe11cf7",
   "metadata": {},
   "outputs": [
    {
     "data": {
      "text/plain": [
       "array([[3. , 0. ],\n",
       "       [3.2, 0. ],\n",
       "       [4. , 1. ]])"
      ]
     },
     "execution_count": 2,
     "metadata": {},
     "output_type": "execute_result"
    }
   ],
   "source": [
    "data = np.array([[3,0],[3.2,0],[4,1]])\n",
    "data"
   ]
  },
  {
   "cell_type": "code",
   "execution_count": 3,
   "id": "f9e21f8e-78c3-426f-b5aa-d8a4b9432ee2",
   "metadata": {},
   "outputs": [],
   "source": [
    "reg = LogisticRegression().fit(data[:,0].reshape(-1, 1), \n",
    "                               data[:,1])"
   ]
  },
  {
   "cell_type": "code",
   "execution_count": 4,
   "id": "c5729133-df28-49c6-8a51-a95ccc249c8d",
   "metadata": {},
   "outputs": [
    {
     "data": {
      "text/plain": [
       "array([-2.5127071])"
      ]
     },
     "execution_count": 4,
     "metadata": {},
     "output_type": "execute_result"
    }
   ],
   "source": [
    "reg.intercept_"
   ]
  },
  {
   "cell_type": "code",
   "execution_count": 5,
   "id": "e579fc40-9318-4143-9e7a-37488398d678",
   "metadata": {},
   "outputs": [
    {
     "data": {
      "text/plain": [
       "array([[0.53268991]])"
      ]
     },
     "execution_count": 5,
     "metadata": {},
     "output_type": "execute_result"
    }
   ],
   "source": [
    "reg.coef_"
   ]
  },
  {
   "cell_type": "code",
   "execution_count": 6,
   "id": "4a312034-c990-4f4b-b173-440211816294",
   "metadata": {},
   "outputs": [
    {
     "data": {
      "text/plain": [
       "array([1.])"
      ]
     },
     "execution_count": 6,
     "metadata": {},
     "output_type": "execute_result"
    }
   ],
   "source": [
    "reg.predict(np.array([6]).reshape(-1,1))"
   ]
  },
  {
   "cell_type": "markdown",
   "id": "721415ba-eed8-4c0d-a5f6-750cea664750",
   "metadata": {},
   "source": [
    "---"
   ]
  },
  {
   "cell_type": "markdown",
   "id": "25c0b990-4201-49b4-aa4f-f63367f914ea",
   "metadata": {},
   "source": [
    "16. Explain the difference between the `sklearn` functions `predict()` and `predict_proba()`. Specifically, when would it make sense to use each of them?"
   ]
  },
  {
   "cell_type": "markdown",
   "id": "9880fc56-3e1c-4b91-8e78-79114d55e149",
   "metadata": {},
   "source": [
    "Answer:\n",
    "\n",
    "The `predict_proba()` function will produce a predicted probability.  \n",
    "This probability can be thresholded at cutoff 0.5 to produce predicted labels.  \n",
    "This function is useful, for example, if a different threshold might be applied to determine the predicted label.\n",
    "\n",
    "The `predict()` function will produce a predicted label.  \n",
    "This can be useful for producing a confusion matrix, for example,\n",
    "where the probability cutoff is 0.5.\n",
    "\n",
    "\n",
    "---"
   ]
  },
  {
   "cell_type": "markdown",
   "id": "5bfd957d-1d63-40bd-8324-6db7f5fca6f1",
   "metadata": {},
   "source": [
    "18. A logistic regression model was applied to a live dataset. The  resulting precision was deemed too low by product leadership. What can be done to the probability threshold to produce a higher precision?"
   ]
  },
  {
   "cell_type": "markdown",
   "id": "dcce7471-1332-4fb3-bd29-b58a3e873084",
   "metadata": {},
   "source": [
    "Answer:\n",
    "\n",
    "Setting a higher probability threshold may increase the precision, as the hurdle to predict a positive label will be higher.  \n",
    "This may reduce the number of false positives.\n",
    "\n",
    "---"
   ]
  }
 ],
 "metadata": {
  "kernelspec": {
   "display_name": "Python 3 (ipykernel)",
   "language": "python",
   "name": "python3"
  },
  "language_info": {
   "codemirror_mode": {
    "name": "ipython",
    "version": 3
   },
   "file_extension": ".py",
   "mimetype": "text/x-python",
   "name": "python",
   "nbconvert_exporter": "python",
   "pygments_lexer": "ipython3",
   "version": "3.9.12"
  }
 },
 "nbformat": 4,
 "nbformat_minor": 5
}
