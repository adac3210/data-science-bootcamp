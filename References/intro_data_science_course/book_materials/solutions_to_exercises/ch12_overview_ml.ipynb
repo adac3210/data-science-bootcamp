{
 "cells": [
  {
   "cell_type": "markdown",
   "id": "91bf7331-dece-4408-ad6b-bd0906504de8",
   "metadata": {},
   "source": [
    "<img src=\"../../predictioNN_Logo_JPG(72).jpg\" width=200>"
   ]
  },
  {
   "cell_type": "markdown",
   "id": "ef6d0bfb-ba3e-4abd-a758-cd4ef32ac855",
   "metadata": {},
   "source": [
    "## Book Solutions\n",
    "### Chapter 12: Overview of Machine Learning\n",
    "\n",
    "Last updated: January 13, 2024\n",
    "\n",
    "---"
   ]
  },
  {
   "cell_type": "markdown",
   "id": "6e28c2dd-5eb9-444f-b85d-8b65cc929163",
   "metadata": {},
   "source": [
    "2. Discuss the major difference between supervised learning and unsupervised learning. What is one reason why unsupervised learning might be used in favor of supervised learning?"
   ]
  },
  {
   "cell_type": "markdown",
   "id": "839a418a-48d3-48d7-a813-47634f95a59d",
   "metadata": {},
   "source": [
    "Answer: \n",
    "\n",
    "Supervised learning requires the correct answer (the label) for each observation. Oftentimes, this is not available. To explore substructure when labels are not available, unsupervised learning is a potential approach.\n",
    "\n",
    "\n",
    "---"
   ]
  },
  {
   "cell_type": "markdown",
   "id": "24aa5c8a-0a6c-4323-afa4-157912d1e12c",
   "metadata": {},
   "source": [
    "4. For each problem below, indicate whether it is a regression problem (R), classification problem (C), or clustering problem (S).\n",
    "\n",
    "a) Summer campers are signing up for club activities. The activity each camper will select will depend on interests and who is teaching the activities. You are asked to predict the probability that a camper signs up for each activity.  \n",
    "\n",
    "b) A teacher wishes to place students into three reading-ability groups based on a reading comprehension exam. \n",
    "\n",
    "c) An engineer needs to predict the engine horsepower of a prototype sports car based on the size of the engine and the number of cylinders."
   ]
  },
  {
   "cell_type": "markdown",
   "id": "088e76cb-4598-4a24-9472-83160aa173b4",
   "metadata": {},
   "source": [
    "Answer: \n",
    "\n",
    "a - This task is a classification problem (C) as there are a discrete number of outcomes (the activities).\n",
    "\n",
    "b - For this task, students are to be grouped and labels are not available. This is a clustering problem (S).\n",
    "\n",
    "c - For this task, where horsepower is a quantitative variable, this is a regression problem (R).\n",
    "\n",
    "---"
   ]
  },
  {
   "cell_type": "markdown",
   "id": "260a182c-923a-442a-9a60-a1d32be72b5e",
   "metadata": {},
   "source": [
    "5. Define a function that takes 1) the positive class predicted probability and 2) the label as inputs and returns cross-entropy loss. Use base $e$ for the logarithm. Next, call the function, passing 0.5 as the positive class predicted probability and 1 as the label. Show your code and the result.\n"
   ]
  },
  {
   "cell_type": "markdown",
   "id": "78c8d8b8-4b83-48c3-9b73-952aaae80453",
   "metadata": {},
   "source": [
    "Answer: 0.6931471805599453\n",
    "\n",
    "The cross-entropy loss is defined as $ H(\\hat{p}_i,y_i) = -(y_i log(\\hat{p}_i) + (1-y_i) log(1-\\hat{p}_i))$\n",
    " \n",
    "The code below will solve the task:\n"
   ]
  },
  {
   "cell_type": "code",
   "execution_count": 7,
   "id": "679064b1-aa6a-40ad-b1ff-368fc5282e54",
   "metadata": {},
   "outputs": [
    {
     "data": {
      "text/plain": [
       "0.6931471805599453"
      ]
     },
     "execution_count": 7,
     "metadata": {},
     "output_type": "execute_result"
    }
   ],
   "source": [
    "import numpy as np\n",
    "\n",
    "def cross_entropy_loss(p, y):\n",
    "    '''\n",
    "    p is the positive class predicted probability\n",
    "    y is the label\n",
    "    '''\n",
    "    \n",
    "    if y == 1:\n",
    "      return -np.log(p)\n",
    "    else:\n",
    "      return -np.log(1 - p)\n",
    "\n",
    "# call the function\n",
    "cross_entropy_loss(0.5, 1)"
   ]
  },
  {
   "cell_type": "markdown",
   "id": "773fa7e6-8b52-41f6-8691-ecd495889db7",
   "metadata": {},
   "source": [
    "7. Explain exploration and exploitation. What is the downside to an agent that only exploits and never explores?"
   ]
  },
  {
   "cell_type": "markdown",
   "id": "a36302bf-2931-4371-97b2-f2d8fc939d2b",
   "metadata": {},
   "source": [
    "Answer:\n",
    "\n",
    "Exploitation is the practice of taking the action that appears to offer the highest reward. Exploration is the practice of trying different actions to learn about their rewards. \n",
    "\n",
    "The downside to exploiting is that the agent might unknowingly settle for an action that is suboptimal. This may occur when the reward of taking an action is a random variable, for example.\n",
    "\n",
    "---"
   ]
  },
  {
   "cell_type": "markdown",
   "id": "6162c004-2344-4d46-8354-8ec90ce92bd5",
   "metadata": {},
   "source": [
    "8. Explain overfitting. Why is overfitting a major concern for data scientists and users of data science models?"
   ]
  },
  {
   "cell_type": "markdown",
   "id": "2a4f7dd3-3536-414f-bf91-71458587dc8b",
   "metadata": {},
   "source": [
    "Answer:\n",
    "\n",
    "In overfitting, the model learns a pattern that does not generalize to new data. This can occur when the model has too many parameters, for example. The concern is that the model learns specific patterns whch won't persist, the performance is overstated, and then it disappoints on new data.\n",
    "\n",
    "\n",
    "---"
   ]
  },
  {
   "cell_type": "markdown",
   "id": "732d6e1f-0165-460a-8bb9-1ab4198dc28c",
   "metadata": {},
   "source": [
    "10. Explain the function of each of these datasets:\n",
    "\n",
    "a) Training set  \n",
    "b) Validation set  \n",
    "c) Test set"
   ]
  },
  {
   "cell_type": "markdown",
   "id": "dcebdeb1-8e89-46c1-82e6-27ceefc2661a",
   "metadata": {},
   "source": [
    "Answer: \n",
    "\n",
    "a - the training set can be used to fit model parameters (e.g., the weights)\n",
    "\n",
    "b - the validation set can be used to fine tune the model hyperparameters\n",
    "\n",
    "c - the test set can be used to evaluate model performance on independent data\n",
    "\n",
    "---"
   ]
  },
  {
   "cell_type": "markdown",
   "id": "133ce299-58fb-459b-a51a-7c6151f50e9c",
   "metadata": {},
   "source": [
    "11. True or False: It is best practice to train a model on all of the available data, and then evaluate it on a random subset of that data."
   ]
  },
  {
   "cell_type": "markdown",
   "id": "f9ff0403-e07c-4d90-9ca2-4cb43a81e582",
   "metadata": {},
   "source": [
    "Answer: False. The model should be trained on a portion of the data and evaluated on a separate portion of data.\n",
    "\n",
    "\n",
    "---"
   ]
  },
  {
   "cell_type": "markdown",
   "id": "25c0b990-4201-49b4-aa4f-f63367f914ea",
   "metadata": {},
   "source": [
    "13. True or False: Consider a supervised learning model that has been trained on a dataset. If new patterns emerge in future data, the model will not be able to use them effectively."
   ]
  },
  {
   "cell_type": "markdown",
   "id": "9880fc56-3e1c-4b91-8e78-79114d55e149",
   "metadata": {},
   "source": [
    "Answer: True. The model will only know the patterns that it learns through training. It is best to retrain the model with the new data included so that it can learn the new patterns.\n",
    "\n",
    "\n",
    "---"
   ]
  },
  {
   "cell_type": "markdown",
   "id": "5bfd957d-1d63-40bd-8324-6db7f5fca6f1",
   "metadata": {},
   "source": [
    "15. A data scientist has developed a model to predict personal bankruptcy. She trained the model on credit scores between 500 and 820, with a mean of 700. Over the next year, the credit scores were between 450 and 750, with a mean of 650. Should the model be retrained? Explain your answer."
   ]
  },
  {
   "cell_type": "markdown",
   "id": "dcce7471-1332-4fb3-bd29-b58a3e873084",
   "metadata": {},
   "source": [
    "Answer: Yes, the model should be retrained because the distribution of the credit scores has changed.\n",
    "\n",
    "\n",
    "---"
   ]
  },
  {
   "cell_type": "markdown",
   "id": "1fa91706-4ada-411e-8f19-397c1e289cae",
   "metadata": {},
   "source": [
    "17.  What are the strengths and weakness of the mean squared error compared to the mean absolute error?"
   ]
  },
  {
   "cell_type": "markdown",
   "id": "43c5ad1c-0063-4638-8b74-af19ba463ad7",
   "metadata": {},
   "source": [
    "Answer:\n",
    "\n",
    "Mean squared error is a smooth, continuously differentiable function which makes minimization easier. However, the squaring of errors means that outliers will have a large influence.\n",
    "\n",
    "---"
   ]
  },
  {
   "cell_type": "markdown",
   "id": "d47104f3-bc4b-48cc-8d7a-95501fb3c4bd",
   "metadata": {},
   "source": [
    "21. For the binary classification problem, is precision sufficient in measuring model performance? Explain your reasoning."
   ]
  },
  {
   "cell_type": "markdown",
   "id": "51e1e058-131c-4329-ba7c-5c12579ed6b4",
   "metadata": {},
   "source": [
    "Answer: Precision is not sufficient, since it can be made larger by increasing the threshold to predict positive cases. Precision can be counterbalanced by recall, which requires identifying positive cases.\n",
    "\n",
    "---"
   ]
  },
  {
   "cell_type": "markdown",
   "id": "28bbaeec-d695-469d-8e15-900ac1ec14a4",
   "metadata": {},
   "source": [
    "23. True or False: A recall of 80\\% is considered excellent for any machine learning problem."
   ]
  },
  {
   "cell_type": "markdown",
   "id": "8979caa7-e1c8-469d-afda-1633f4d3f942",
   "metadata": {},
   "source": [
    "Answer: False. The quality of a metric will depend on the particular problem.\n",
    "\n",
    "---"
   ]
  }
 ],
 "metadata": {
  "kernelspec": {
   "display_name": "Python 3 (ipykernel)",
   "language": "python",
   "name": "python3"
  },
  "language_info": {
   "codemirror_mode": {
    "name": "ipython",
    "version": 3
   },
   "file_extension": ".py",
   "mimetype": "text/x-python",
   "name": "python",
   "nbconvert_exporter": "python",
   "pygments_lexer": "ipython3",
   "version": "3.9.12"
  }
 },
 "nbformat": 4,
 "nbformat_minor": 5
}
