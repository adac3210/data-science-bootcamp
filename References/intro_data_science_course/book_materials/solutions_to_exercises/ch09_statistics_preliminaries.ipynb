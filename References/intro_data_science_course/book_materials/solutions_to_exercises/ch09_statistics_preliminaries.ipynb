{
 "cells": [
  {
   "cell_type": "markdown",
   "id": "bb27dd0a-627e-44fa-8176-2fe670c38712",
   "metadata": {},
   "source": [
    "<img src=\"../../predictioNN_Logo_JPG(72).jpg\" width=200>"
   ]
  },
  {
   "cell_type": "markdown",
   "id": "c4181d56-668d-4793-984d-f4f0666e2a93",
   "metadata": {},
   "source": [
    "## Book Solutions\n",
    "### Chapter 9: Statistics Preliminaries\n",
    "\n",
    "Last updated: May 11, 2023\n",
    "\n",
    "---"
   ]
  },
  {
   "cell_type": "markdown",
   "id": "6e28c2dd-5eb9-444f-b85d-8b65cc929163",
   "metadata": {},
   "source": [
    "1. How is descriptive statistics different from inferential statistics?"
   ]
  },
  {
   "cell_type": "markdown",
   "id": "839a418a-48d3-48d7-a813-47634f95a59d",
   "metadata": {},
   "source": [
    "Answer: \n",
    "\n",
    "Descriptive statistics provide summaries of the data to help us understand the population.  \n",
    "Inferential statistics allow us to draw conclusions about the population based on the sample.\n",
    "\n",
    "---"
   ]
  },
  {
   "cell_type": "markdown",
   "id": "24aa5c8a-0a6c-4323-afa4-157912d1e12c",
   "metadata": {},
   "source": [
    "2. The five-number summary is something of a compromise between a single statistic and a histogram. Explain what this means."
   ]
  },
  {
   "cell_type": "markdown",
   "id": "088e76cb-4598-4a24-9472-83160aa173b4",
   "metadata": {},
   "source": [
    "Answer: A single statistic will provide information about one feature of the data, such as the central tendency.  \n",
    "A histogram will provide a visualization of the full distribution of the data.  \n",
    "The five-number summary, which portrays the central tendency, spread, outliers, and range of the data, will provide more information than a single statistic, but less information than the histogram.\n",
    "\n",
    "---"
   ]
  },
  {
   "cell_type": "markdown",
   "id": "260a182c-923a-442a-9a60-a1d32be72b5e",
   "metadata": {},
   "source": [
    "3. When is the median preferred over the mean as a measure of central tendency?"
   ]
  },
  {
   "cell_type": "markdown",
   "id": "78c8d8b8-4b83-48c3-9b73-952aaae80453",
   "metadata": {},
   "source": [
    "Answer: \n",
    "\n",
    "Since the median uses the ranks of the data points, it is not influenced by outliers.\n",
    "\n",
    "---"
   ]
  },
  {
   "cell_type": "markdown",
   "id": "773fa7e6-8b52-41f6-8691-ecd495889db7",
   "metadata": {},
   "source": [
    "4. For a data distribution that is skewed to the right, what does this tell us about the relationship between the mean and median?"
   ]
  },
  {
   "cell_type": "markdown",
   "id": "a36302bf-2931-4371-97b2-f2d8fc939d2b",
   "metadata": {},
   "source": [
    "Answer:\n",
    "\n",
    "A data distribution that is skewed to the right has a mean that is greater than the median of the data.\n",
    "\n",
    "\n",
    "---"
   ]
  },
  {
   "cell_type": "markdown",
   "id": "6162c004-2344-4d46-8354-8ec90ce92bd5",
   "metadata": {},
   "source": [
    "7. Explain how correlation is different from covariance. "
   ]
  },
  {
   "cell_type": "markdown",
   "id": "2a4f7dd3-3536-414f-bf91-71458587dc8b",
   "metadata": {},
   "source": [
    "Answer:\n",
    "\n",
    "Correlation is equal to the covariance divided by the product of the standard deviations of each variable.  \n",
    "This provides a normalized measure of co-movement in the range $[-1,1]$.\n",
    "\n",
    "---"
   ]
  },
  {
   "cell_type": "markdown",
   "id": "133ce299-58fb-459b-a51a-7c6151f50e9c",
   "metadata": {},
   "source": [
    "9. A marketer observes a response rate of 40\\% from campaign A and 50\\% from campaign B. Explain why hypothesis testing is useful in determining if these rates are different."
   ]
  },
  {
   "cell_type": "markdown",
   "id": "f9ff0403-e07c-4d90-9ca2-4cb43a81e582",
   "metadata": {},
   "source": [
    "Answer: While the response rate for campaign B is higher, this may be due to sampling error.  \n",
    "It is necessary to perform a hypothesis test on these results to determine if there is a significant difference in the response rates.\n",
    "\n",
    "---"
   ]
  },
  {
   "cell_type": "markdown",
   "id": "25c0b990-4201-49b4-aa4f-f63367f914ea",
   "metadata": {},
   "source": [
    "11. Explain what the p-value represents."
   ]
  },
  {
   "cell_type": "markdown",
   "id": "9880fc56-3e1c-4b91-8e78-79114d55e149",
   "metadata": {},
   "source": [
    "Answer:\n",
    "\n",
    "The p-value is the probability of observing the attained value of a test statistic or something more extreme assuming that the null hypothesis is true.\n",
    "\n",
    "---"
   ]
  },
  {
   "cell_type": "markdown",
   "id": "5bfd957d-1d63-40bd-8324-6db7f5fca6f1",
   "metadata": {},
   "source": [
    "12. What is the interpretation of a confidence interval?"
   ]
  },
  {
   "cell_type": "markdown",
   "id": "dcce7471-1332-4fb3-bd29-b58a3e873084",
   "metadata": {},
   "source": [
    "Answer: \n",
    "\n",
    "A confidence interval can be understood from a frequentist viewpoint: \n",
    "\n",
    "- Imagine that we draw a large number of samples from the population\n",
    "- For each sample, we can construct a confidence interval with a desired confidence level (e.g., 95\\%)  \n",
    "- The fraction of confidence intervals containing the true parameter will approach 95\\% as the number of samples increases \n",
    "\n",
    "\n",
    "---"
   ]
  },
  {
   "cell_type": "markdown",
   "id": "d8bf5e23-6d68-40da-924a-c16ee65a860b",
   "metadata": {},
   "source": [
    "13. True or False: A 95\\% confidence level means that for a given interval, there is a 95\\% probability that the population parameter falls within the interval."
   ]
  },
  {
   "cell_type": "markdown",
   "id": "c71b6df6-8a98-47ff-bb7c-db0ff72fde14",
   "metadata": {},
   "source": [
    "Answer: False. This is a common but incorrect understanding of a confidence interval.  \n",
    "The solution to (12) contains the correct interpretation of a confidence interval.\n",
    "\n",
    "---"
   ]
  },
  {
   "cell_type": "markdown",
   "id": "399e3c7a-5aee-456f-8c01-a6f711cf85e4",
   "metadata": {},
   "source": [
    "15. Construct a 95\\% confidence interval for the mean based a sample of size 500 with sample mean 10 and sample standard deviation 20."
   ]
  },
  {
   "cell_type": "markdown",
   "id": "d0ce3f93-6ed4-4adf-b916-20f4a0463117",
   "metadata": {},
   "source": [
    "Answer:\n",
    "\n",
    "The standard error (SE) is $\\frac{s}{\\sqrt{n}}=\\frac{20}{\\sqrt{500}}$  \n",
    "\n",
    "For a 95% confidence interval, the critical value (cv) is 1.96.  \n",
    "This is the value such that there is 2.5% probability is greater than 1.96, and a 2.5% probability less than -1.96.  \n",
    "\n",
    "The CI then looks like:\n",
    "\n",
    "$(\\bar{x} - cv \\times SE, \\bar{x} + cv \\times SE)$  \n",
    "\n",
    "=$(10 - 1.96 \\frac{20}{\\sqrt{500}}, 10 + 1.96 \\frac{20}{\\sqrt{500}})$\n",
    "\n",
    "We can compute this in Python:"
   ]
  },
  {
   "cell_type": "code",
   "execution_count": 20,
   "id": "236d2fdf-4c71-453d-8d17-c45cf6bd0011",
   "metadata": {},
   "outputs": [
    {
     "name": "stdout",
     "output_type": "stream",
     "text": [
      "95% CI: ( 8.246922705640165 , 11.753077294359835 )\n"
     ]
    }
   ],
   "source": [
    "import math\n",
    "\n",
    "xbar = 10\n",
    "s = 20\n",
    "n = 500\n",
    "SE = s / math.sqrt(n)\n",
    "cv = 1.96\n",
    "\n",
    "lower_limit = xbar - cv * SE\n",
    "upper_limit = xbar + cv * SE\n",
    "\n",
    "print('95% CI:', '(', lower_limit, ',', upper_limit, ')')"
   ]
  },
  {
   "cell_type": "markdown",
   "id": "489d5b32-6fec-4a0d-8128-b0f33e195aa6",
   "metadata": {},
   "source": [
    "---"
   ]
  }
 ],
 "metadata": {
  "kernelspec": {
   "display_name": "Python 3 (ipykernel)",
   "language": "python",
   "name": "python3"
  },
  "language_info": {
   "codemirror_mode": {
    "name": "ipython",
    "version": 3
   },
   "file_extension": ".py",
   "mimetype": "text/x-python",
   "name": "python",
   "nbconvert_exporter": "python",
   "pygments_lexer": "ipython3",
   "version": "3.9.12"
  }
 },
 "nbformat": 4,
 "nbformat_minor": 5
}
