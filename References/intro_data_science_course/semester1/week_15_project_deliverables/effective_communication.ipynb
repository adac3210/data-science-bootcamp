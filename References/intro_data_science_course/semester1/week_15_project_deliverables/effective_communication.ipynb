{
 "cells": [
  {
   "cell_type": "markdown",
   "metadata": {},
   "source": [
    "<img src=\"../../predictioNN_Logo_JPG(72).jpg\" width=200>"
   ]
  },
  {
   "cell_type": "markdown",
   "metadata": {
    "tags": []
   },
   "source": [
    "---\n",
    "\n",
    "## Effective Communication\n",
    "\n",
    "### Introduction to Data Science\n",
    "### Last Updated: April 26, 2023\n",
    "---  \n",
    "\n",
    "### OBJECTIVES\n",
    "- Use methods for effective communication of data science projects\n",
    "- Express curiosity when challenging someone's work\n",
    "\n",
    "### CONCEPTS\n",
    "\n",
    "- presentations use a visual track and an audio track: balance them well for greatest impact\n",
    "- getting curious\n",
    "\n",
    "---\n"
   ]
  },
  {
   "cell_type": "markdown",
   "metadata": {},
   "source": [
    "### I. Motivation\n",
    "\n",
    "Data scientists can work on highly visible projects in an organization.\n",
    "\n",
    "It is essential that data scientists communicate clearly and effectively.\n",
    "\n",
    "Below, you will find some pointers for effective communication."
   ]
  },
  {
   "cell_type": "markdown",
   "metadata": {},
   "source": [
    "### II. The Presentation: What to Include / Exclude\n",
    "\n",
    "**What to Include**  \n",
    "When presenting a data science project, be sure to:\n",
    "\n",
    "- Discuss the problem you are trying to solve. It is **essential** to make this perfectly clear.\n",
    "  - Before continuing, check with the audience if they need clarification.\n",
    "- Summarize how the data was collected and processed\n",
    "- Discuss the target variable if relevant. This should include:\n",
    "  - is it binary or continuous?\n",
    "  - if it is binary, how many observations were there for each level?\n",
    "  - a statistical summary\n",
    "- Discuss important assumptions\n",
    "- Discuss limitations of the **data** and **models**\n",
    "- Show visualizations / tables / statistical summaries of the predictors\n",
    "- Summarize model performance\n",
    "- Show references\n",
    "- Discuss possible next steps\n",
    "\n",
    "Discussing the assumptions and limitations earns trust from your audience, as it brings credibility and thoughtfulness.  \n",
    "In a field of increasing automation, data scientists add value by scrutinizing details and advising."
   ]
  },
  {
   "cell_type": "markdown",
   "metadata": {},
   "source": [
    "**Specific Slides to Include**\n",
    "\n",
    "- Title / Names / Date\n",
    "- Table of Contents\n",
    "- Problem Statement\n",
    "- Data Summary\n",
    "  - include background, limitations, and assumptions \n",
    "- Target variable & Predictor variables summary (include graphics)\n",
    "- Methods\n",
    "  - outline the data preparation, data transformation, modeling\n",
    "  - showing code snippets can be interesting\n",
    "  - include any interesting, challenging details\n",
    "- Model Performance Summary\n",
    "  - only mention things that are noteworthy (e.g., model with best performance)\n",
    "- Next Steps\n",
    "  - if you had more time, what would you have done?\n",
    "- References"
   ]
  },
  {
   "cell_type": "markdown",
   "metadata": {},
   "source": [
    "**What to Exclude**  \n",
    "\n",
    "Items that don't need to be included in a presentation:\n",
    "\n",
    "- Details of every model and transformation considered (you might link to materials for a deeper dive)\n",
    "- It is not necessary to speak to each model performance number\n",
    "- A repository of data or results (important items can be in an appendix)"
   ]
  },
  {
   "cell_type": "markdown",
   "metadata": {},
   "source": [
    "**Preparing Slides**\n",
    "\n",
    "- Start with a compelling story or statistic about the problem. This catches the audience's attention.\n",
    "- Slides should be informative. Before the presentation, decide on the points to be made by each slide.\n",
    "- Slides should not make the audience read very much\n",
    "  - include visuals and **limited text on each slide**\n",
    "  - you can elaborate on the points by speaking to them\n",
    "  - break down a wordy slide into multiple slides\n",
    "\n",
    "The guiding principal: you want your audience to mostly **listen** and not **read**."
   ]
  },
  {
   "cell_type": "markdown",
   "metadata": {},
   "source": [
    "**Good Delivery of the Presentation**\n",
    "\n",
    "- Be clear on which slides you're presenting\n",
    "- Practice by yourself, then practice in front of people\n",
    "- Time yourself\n",
    "- If you are prepared, then you don't need to worry.\n",
    "- Speak clearly\n",
    "- Speak loud enough for the audience to hear you\n",
    "- Talk with your hands. It generates interest.\n",
    "- Look from side to side, presenting to everyone in the room\n",
    "- Be confident"
   ]
  },
  {
   "cell_type": "markdown",
   "metadata": {},
   "source": [
    "### III. Effective Challenge of Work"
   ]
  },
  {
   "cell_type": "markdown",
   "metadata": {},
   "source": [
    "It is important to be considerate and respectful when diving deep and challenging someone's work.\n",
    "\n",
    "Below are examples that come across as aggressive and generally put the recipient on the defensive:\n",
    "\n",
    "- Why didn't you do X\n",
    "- Clearly, this is wrong because X\n",
    "- It seems obvious to everyone here that X\n",
    "\n",
    "When you encounter something surprising or flat out wrong, it is better to \"seek to understand\" and \"stay curious.\"  \n",
    "For example:\n",
    "\n",
    "- I'm curious about your use of X\n",
    "- Can you elaborate more on X\n",
    "\n",
    "This approach invites the recipient to elaborate and it shows respect. Dialogue will flow more easily."
   ]
  },
  {
   "cell_type": "markdown",
   "metadata": {},
   "source": [
    "---"
   ]
  },
  {
   "cell_type": "markdown",
   "metadata": {},
   "source": [
    "### IV. Summary\n",
    "\n",
    "These tips can get you on your way to becoming a more effective communicator.\n",
    "\n",
    "Remember that data science is both a technical and a people-based profession. Great communication is essential!\n",
    "\n",
    "---"
   ]
  }
 ],
 "metadata": {
  "anaconda-cloud": {},
  "kernelspec": {
   "display_name": "Python 3 (ipykernel)",
   "language": "python",
   "name": "python3"
  },
  "language_info": {
   "codemirror_mode": {
    "name": "ipython",
    "version": 3
   },
   "file_extension": ".py",
   "mimetype": "text/x-python",
   "name": "python",
   "nbconvert_exporter": "python",
   "pygments_lexer": "ipython3",
   "version": "3.9.12"
  }
 },
 "nbformat": 4,
 "nbformat_minor": 4
}
