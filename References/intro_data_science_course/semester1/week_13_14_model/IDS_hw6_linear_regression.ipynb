{
 "cells": [
  {
   "cell_type": "markdown",
   "metadata": {},
   "source": [
    "<img src=\"../../predictioNN_Logo_JPG(72).jpg\" width=200>"
   ]
  },
  {
   "cell_type": "markdown",
   "metadata": {},
   "source": [
    "---\n",
    "\n",
    "## Coding Assignment 6: Linear Regression Modeling\n",
    "\n",
    "### Introduction to Data Science\n",
    "#### Last Updated: November 19, 2022\n",
    "\n",
    "---"
   ]
  },
  {
   "cell_type": "markdown",
   "metadata": {},
   "source": [
    "### Skills Assessed\n",
    "\n",
    "You will demonstrate these skills in the HW:\n",
    "- Identifying features that could introduce bias into a model\n",
    "- Fitting a linear regression model with `sklearn`\n",
    "- Measuring model fit\n",
    "\n",
    "---"
   ]
  },
  {
   "cell_type": "markdown",
   "metadata": {},
   "source": [
    "### Instructions\n",
    "\n",
    "You will work with the Online News Popularity Data Set in this assignment to conduct a regression task.\n",
    "\n",
    "The dataset contains a set of features about articles published by Mashable over a two-year period.  \n",
    "The goal is to predict the number of shares in social networks (popularity).\n",
    "\n",
    "Link to project:  \n",
    "https://archive.ics.uci.edu/ml/datasets/Online+News+Popularity\n",
    "\n",
    "To get the data, click on the `Data Folder` at the top (next to *Download*).  \n",
    "Next, click OnlineNewsPopularity.zip and unzip the data.  \n",
    "Find the file named `OnlineNewsPopularity.csv` and load it into Python.\n",
    "\n",
    "\n",
    "**TOTAL POINTS: 12**\n",
    "\n",
    "---"
   ]
  },
  {
   "cell_type": "markdown",
   "metadata": {},
   "source": [
    "import packages"
   ]
  },
  {
   "cell_type": "code",
   "execution_count": null,
   "metadata": {},
   "outputs": [],
   "source": []
  },
  {
   "cell_type": "markdown",
   "metadata": {},
   "source": [
    "parameters"
   ]
  },
  {
   "cell_type": "code",
   "execution_count": 82,
   "metadata": {
    "scrolled": true
   },
   "outputs": [],
   "source": [
    "datapath = 'FILL THIS IN'\n",
    "target = 'FILL THIS IN'"
   ]
  },
  {
   "cell_type": "markdown",
   "metadata": {},
   "source": [
    "import the data"
   ]
  },
  {
   "cell_type": "code",
   "execution_count": null,
   "metadata": {},
   "outputs": [],
   "source": []
  },
  {
   "cell_type": "markdown",
   "metadata": {},
   "source": [
    "Print out the columns. You might notice some contain a space. This can cause an issue, so remove the spaces.  "
   ]
  },
  {
   "cell_type": "code",
   "execution_count": 21,
   "metadata": {},
   "outputs": [],
   "source": [
    "df.columns"
   ]
  },
  {
   "cell_type": "code",
   "execution_count": null,
   "metadata": {},
   "outputs": [],
   "source": [
    "# use a list comprehension to strip spaces\n",
    "\n",
    "df.columns = [col.strip() for col in df.columns]\n",
    "df.columns"
   ]
  },
  {
   "cell_type": "markdown",
   "metadata": {},
   "source": [
    "**1. Produce a histogram of the target variable: `shares` (1 PT)**"
   ]
  },
  {
   "cell_type": "code",
   "execution_count": null,
   "metadata": {},
   "outputs": [],
   "source": []
  },
  {
   "cell_type": "markdown",
   "metadata": {},
   "source": [
    "**2. Why is the histogram hard to visualize? Do you have any ideas to improve it? (1 PT)**"
   ]
  },
  {
   "cell_type": "markdown",
   "metadata": {},
   "source": []
  },
  {
   "cell_type": "markdown",
   "metadata": {},
   "source": [
    "Read about the attribute information on the [project page](https://archive.ics.uci.edu/ml/datasets/Online+News+Popularity) to get a sense of which predictors might be useful."
   ]
  },
  {
   "cell_type": "markdown",
   "metadata": {},
   "source": [
    "**3. Compute the correlation between the variables. This may help identify useful predictors. Which two variables have the highest correlation with shares? It will help to sort the correlations after computing them. (1 PT)**\n",
    "\n",
    "Hint: You can select the `shares` column from the correlation matrix and then sort by that column."
   ]
  },
  {
   "cell_type": "code",
   "execution_count": null,
   "metadata": {},
   "outputs": [],
   "source": []
  },
  {
   "cell_type": "markdown",
   "metadata": {},
   "source": [
    "**4. The two variables with highest correlation from Part 3 will be used as predictors.  \n",
    "Call `describe()` on the predictor variables. Notice the variables are on very different scales. (1 PT)**"
   ]
  },
  {
   "cell_type": "code",
   "execution_count": null,
   "metadata": {},
   "outputs": [],
   "source": []
  },
  {
   "cell_type": "markdown",
   "metadata": {},
   "source": [
    "**5. Prepare the data for regression:**   \n",
    "\n",
    "Create a variable X which holds the predictor values.    \n",
    "Create a variable y which holds the target values.\n",
    "\n",
    "Print the first five records from X and y. **(1 PT)**"
   ]
  },
  {
   "cell_type": "code",
   "execution_count": null,
   "metadata": {},
   "outputs": [],
   "source": []
  },
  {
   "cell_type": "markdown",
   "metadata": {},
   "source": [
    "**6. Split X and y into a train set (80% of records) and a test set (20%).  For the seed, use `random_state=314`  \n",
    "Print the number of records in `x_train`, `x_test`, `y_train`, `y_test` (1 PT)**"
   ]
  },
  {
   "cell_type": "code",
   "execution_count": null,
   "metadata": {},
   "outputs": [],
   "source": []
  },
  {
   "cell_type": "code",
   "execution_count": null,
   "metadata": {},
   "outputs": [],
   "source": []
  },
  {
   "cell_type": "markdown",
   "metadata": {},
   "source": [
    "**7a. Recall the predictors are on different scales.  \n",
    "Scale `x_train` and print the first 5 records. (1 PT)**  "
   ]
  },
  {
   "cell_type": "code",
   "execution_count": null,
   "metadata": {},
   "outputs": [],
   "source": []
  },
  {
   "cell_type": "markdown",
   "metadata": {},
   "source": [
    "**7b. After scaling, what happened to the zeros in the first predictor? Explain. (1 PT)**  \n",
    "Hint: think about how scaling works."
   ]
  },
  {
   "cell_type": "markdown",
   "metadata": {},
   "source": []
  },
  {
   "cell_type": "markdown",
   "metadata": {},
   "source": [
    "**8. Fit a linear regression model to the data. Use the scaled data as predictors.  Print the coefficients and the intercept. (1 PT)**"
   ]
  },
  {
   "cell_type": "code",
   "execution_count": null,
   "metadata": {},
   "outputs": [],
   "source": []
  },
  {
   "cell_type": "code",
   "execution_count": null,
   "metadata": {},
   "outputs": [],
   "source": []
  },
  {
   "cell_type": "code",
   "execution_count": null,
   "metadata": {},
   "outputs": [],
   "source": []
  },
  {
   "cell_type": "markdown",
   "metadata": {},
   "source": [
    "**9. Predictions on test set**  \n",
    "First, scale `x_test`, reusing the scaler from the training data.  Call this variable `x_test_s`"
   ]
  },
  {
   "cell_type": "code",
   "execution_count": null,
   "metadata": {},
   "outputs": [],
   "source": []
  },
  {
   "cell_type": "markdown",
   "metadata": {},
   "source": [
    "Next, feed `x_test_s` into the model to predict `y_test`, calling this `y_test_predicted`"
   ]
  },
  {
   "cell_type": "code",
   "execution_count": null,
   "metadata": {},
   "outputs": [],
   "source": []
  },
  {
   "cell_type": "markdown",
   "metadata": {},
   "source": [
    "Make a scatterplot with `y_test_predicted` on the x-axis and `y_test` on the y-axis.  \n",
    "If the model fit well, `y_test_predicted` would match `y_test`.  \n",
    "Based on the plot, does the model seem to fit well? Explain why or why not. **(1 PT)**"
   ]
  },
  {
   "cell_type": "markdown",
   "metadata": {},
   "source": []
  },
  {
   "cell_type": "markdown",
   "metadata": {},
   "source": [
    "**10. Compute the R-squared of the model and print it.**  \n",
    "What does the R-squared tell you about the fit? Does this agree with your answer based on the graph? **(1 PT)**"
   ]
  },
  {
   "cell_type": "markdown",
   "metadata": {},
   "source": []
  },
  {
   "cell_type": "markdown",
   "metadata": {},
   "source": [
    "**11. Avoiding biased predictors (1 PT)**\n"
   ]
  },
  {
   "cell_type": "markdown",
   "metadata": {},
   "source": [
    "This question is independent of the earlier task.  \n",
    "Which of these variables would be problematic - and should be excluded from modeling - as they might discriminate among protected individuals?  Enter the letter corresponding to each such variable."
   ]
  },
  {
   "cell_type": "markdown",
   "metadata": {},
   "source": [
    "A) `is_disabled` : indicator of disability  \n",
    "B) `is_female`   : indicator of female  \n",
    "C) `has_iphone`  : indicator that subject has an iphone  \n",
    "D) `age_over_65` : indicator that subject age is greater than 65"
   ]
  },
  {
   "cell_type": "markdown",
   "metadata": {},
   "source": []
  },
  {
   "cell_type": "markdown",
   "metadata": {},
   "source": [
    "---"
   ]
  }
 ],
 "metadata": {
  "anaconda-cloud": {},
  "kernelspec": {
   "display_name": "Python 3 (ipykernel)",
   "language": "python",
   "name": "python3"
  },
  "language_info": {
   "codemirror_mode": {
    "name": "ipython",
    "version": 3
   },
   "file_extension": ".py",
   "mimetype": "text/x-python",
   "name": "python",
   "nbconvert_exporter": "python",
   "pygments_lexer": "ipython3",
   "version": "3.9.12"
  }
 },
 "nbformat": 4,
 "nbformat_minor": 4
}
