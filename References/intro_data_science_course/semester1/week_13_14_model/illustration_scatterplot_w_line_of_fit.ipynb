{
 "cells": [
  {
   "cell_type": "markdown",
   "id": "14433180-8e65-4110-9fdd-0aa69108b091",
   "metadata": {},
   "source": [
    "<img src=\"../../predictioNN_Logo_JPG(72).jpg\" width=200>"
   ]
  },
  {
   "cell_type": "markdown",
   "id": "4aa20055-e74a-40b2-a655-8503af11075e",
   "metadata": {},
   "source": [
    "---\n",
    "\n",
    "## Illustration of Scatter Plot with Line of Best Fit\n",
    "### Last Updated: January 19, 2023"
   ]
  },
  {
   "cell_type": "code",
   "execution_count": 52,
   "id": "2f5d42da-a5a0-47a7-bed9-aff60c261605",
   "metadata": {},
   "outputs": [],
   "source": [
    "from sklearn.linear_model import LinearRegression\n",
    "import matplotlib.pyplot as plt\n",
    "import seaborn as sns\n",
    "import numpy as np"
   ]
  },
  {
   "cell_type": "markdown",
   "id": "2a8c3244-0edc-49bd-9afe-eefd98544c40",
   "metadata": {},
   "source": [
    "#### Generate x, y, and error e"
   ]
  },
  {
   "cell_type": "code",
   "execution_count": 53,
   "id": "7ecbc819-736d-4963-8113-d685a4e7a080",
   "metadata": {},
   "outputs": [],
   "source": [
    "x = np.random.normal(loc=1, scale=10, size=100) # mean 1, standard deviation 10; 100 observations\n",
    "e = np.random.normal(loc=0, scale=10, size=100)\n",
    "y = 2 * x + e   # y is linearly related to x with slope 2"
   ]
  },
  {
   "cell_type": "code",
   "execution_count": 58,
   "id": "a061c246-7998-4676-a2be-be80688d3b1f",
   "metadata": {},
   "outputs": [
    {
     "data": {
      "text/plain": [
       "<AxesSubplot:>"
      ]
     },
     "execution_count": 58,
     "metadata": {},
     "output_type": "execute_result"
    },
    {
     "data": {
      "image/png": "[encoded data removed]",
      "text/plain": [
       "<Figure size 432x288 with 1 Axes>"
      ]
     },
     "metadata": {
      "needs_background": "light"
     },
     "output_type": "display_data"
    }
   ],
   "source": [
    "sns.scatterplot(x=x,y=y)"
   ]
  },
  {
   "cell_type": "markdown",
   "id": "468c9594-b319-4aa7-9b3e-90a826147268",
   "metadata": {},
   "source": [
    "Reshape for model fitting"
   ]
  },
  {
   "cell_type": "code",
   "execution_count": 59,
   "id": "4362e222-6d58-4aea-8958-dd75fc061625",
   "metadata": {},
   "outputs": [],
   "source": [
    "X = x.reshape(-1,1)\n",
    "Y = y.reshape(-1,1)"
   ]
  },
  {
   "cell_type": "markdown",
   "id": "36fa2324-64a2-42ef-b095-985dc71e2974",
   "metadata": {},
   "source": [
    "Fit linear regression to data and extract intercept, slope"
   ]
  },
  {
   "cell_type": "code",
   "execution_count": 60,
   "id": "613029ee-f599-4053-a9bd-3da3d102ea1d",
   "metadata": {},
   "outputs": [],
   "source": [
    "reg = LinearRegression().fit(X, Y)"
   ]
  },
  {
   "cell_type": "code",
   "execution_count": 61,
   "id": "6896289c-7337-4a64-a7a7-7e02a43a83f6",
   "metadata": {},
   "outputs": [],
   "source": [
    "beta0 = reg.intercept_\n",
    "beta1 = reg.coef_"
   ]
  },
  {
   "cell_type": "code",
   "execution_count": 62,
   "id": "ba08ea47-a72c-4352-a7b7-fdb94504f912",
   "metadata": {},
   "outputs": [
    {
     "name": "stdout",
     "output_type": "stream",
     "text": [
      "intercept: [-0.64854243] slope: [[2.17028558]]\n"
     ]
    }
   ],
   "source": [
    "print('intercept:', beta0, 'slope:', beta1)"
   ]
  },
  {
   "cell_type": "markdown",
   "id": "4e5df863-2943-4ecd-ab5f-dd42bcc1dcf0",
   "metadata": {},
   "source": [
    "Notice the estimated slope differs from the true slope of 2. Rerunning will resample and give different slope estimates."
   ]
  },
  {
   "cell_type": "markdown",
   "id": "8e8da6aa-f899-42ac-861b-bb1f3cb6b3f1",
   "metadata": {},
   "source": [
    "Calculate fitted values (predictions)"
   ]
  },
  {
   "cell_type": "code",
   "execution_count": 63,
   "id": "ba47afbe-b654-4eda-a1fa-c62714934211",
   "metadata": {},
   "outputs": [],
   "source": [
    "fitted = beta0 + beta1 * x\n",
    "fitted = fitted.reshape(-1,1)"
   ]
  },
  {
   "cell_type": "markdown",
   "id": "f8abe371-94a0-4616-9c46-35f9923fd38c",
   "metadata": {},
   "source": [
    "Scatter plot with line of best fit"
   ]
  },
  {
   "cell_type": "code",
   "execution_count": 65,
   "id": "64a724e3-60d4-4ebb-94cb-b5acc49844ae",
   "metadata": {},
   "outputs": [
    {
     "data": {
      "text/plain": [
       "[<matplotlib.lines.Line2D at 0x280e931fbb0>]"
      ]
     },
     "execution_count": 65,
     "metadata": {},
     "output_type": "execute_result"
    },
    {
     "data": {
      "image/png": "[encoded data removed]",
      "text/plain": [
       "<Figure size 432x288 with 1 Axes>"
      ]
     },
     "metadata": {
      "needs_background": "light"
     },
     "output_type": "display_data"
    }
   ],
   "source": [
    "sns.scatterplot(x=x,y=y)\n",
    "plt.plot(x, fitted)"
   ]
  },
  {
   "cell_type": "markdown",
   "id": "2fa51bb5-052d-418f-97e5-341532f9afea",
   "metadata": {},
   "source": [
    "Notice the line fits the data well"
   ]
  }
 ],
 "metadata": {
  "kernelspec": {
   "display_name": "Python 3 (ipykernel)",
   "language": "python",
   "name": "python3"
  },
  "language_info": {
   "codemirror_mode": {
    "name": "ipython",
    "version": 3
   },
   "file_extension": ".py",
   "mimetype": "text/x-python",
   "name": "python",
   "nbconvert_exporter": "python",
   "pygments_lexer": "ipython3",
   "version": "3.9.12"
  }
 },
 "nbformat": 4,
 "nbformat_minor": 5
}
