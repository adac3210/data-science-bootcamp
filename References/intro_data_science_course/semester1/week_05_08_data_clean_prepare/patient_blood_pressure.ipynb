{
 "cells": [
  {
   "cell_type": "markdown",
   "id": "46615283-8e3d-45e8-be56-08c74fbc57fc",
   "metadata": {},
   "source": [
    "<img src=\"../../predictioNN_Logo_JPG(72).jpg\" width=200>"
   ]
  },
  {
   "cell_type": "markdown",
   "id": "9deb4d48-43a2-42c0-bf6d-8021e38505f9",
   "metadata": {},
   "source": [
    "---\n",
    "\n",
    "### Patient Blood Pressure Analysis\n",
    "\n",
    "### Working with Structured Data\n",
    "### Introduction to Data Science\n",
    "\n",
    "### Last Updated: 12/14/2022"
   ]
  },
  {
   "cell_type": "code",
   "execution_count": 27,
   "id": "1848fa66-034d-41e4-a071-1ddcce57ba97",
   "metadata": {},
   "outputs": [],
   "source": [
    "import numpy as np\n",
    "import pandas as pd"
   ]
  },
  {
   "cell_type": "code",
   "execution_count": 28,
   "id": "57eb4c6f-0c7e-43c8-b414-74a41af79323",
   "metadata": {},
   "outputs": [],
   "source": [
    "# set path to datafile\n",
    "PATH_TO_DATA = '../datasets/blood_pressure.csv'"
   ]
  },
  {
   "cell_type": "markdown",
   "id": "bd4d8965-781b-4fc6-913e-75e541e82b82",
   "metadata": {},
   "source": [
    "### Source of Data\n",
    "\n",
    "This is synthetic blood pressure patient data."
   ]
  },
  {
   "cell_type": "code",
   "execution_count": 29,
   "id": "d76df174-a540-4c24-b4f5-96c4b47c7555",
   "metadata": {},
   "outputs": [
    {
     "data": {
      "text/html": [
       "<div>\n",
       "<style scoped>\n",
       "    .dataframe tbody tr th:only-of-type {\n",
       "        vertical-align: middle;\n",
       "    }\n",
       "\n",
       "    .dataframe tbody tr th {\n",
       "        vertical-align: top;\n",
       "    }\n",
       "\n",
       "    .dataframe thead th {\n",
       "        text-align: right;\n",
       "    }\n",
       "</style>\n",
       "<table border=\"1\" class=\"dataframe\">\n",
       "  <thead>\n",
       "    <tr style=\"text-align: right;\">\n",
       "      <th></th>\n",
       "      <th>patientid</th>\n",
       "      <th>date</th>\n",
       "      <th>bp_systolic</th>\n",
       "      <th>bp_diastolic</th>\n",
       "    </tr>\n",
       "  </thead>\n",
       "  <tbody>\n",
       "    <tr>\n",
       "      <th>0</th>\n",
       "      <td>1</td>\n",
       "      <td>02/01/22</td>\n",
       "      <td>120</td>\n",
       "      <td>76.0</td>\n",
       "    </tr>\n",
       "    <tr>\n",
       "      <th>1</th>\n",
       "      <td>1</td>\n",
       "      <td>02/02/22</td>\n",
       "      <td>127</td>\n",
       "      <td>75.0</td>\n",
       "    </tr>\n",
       "    <tr>\n",
       "      <th>2</th>\n",
       "      <td>1</td>\n",
       "      <td>02/03/22</td>\n",
       "      <td>127</td>\n",
       "      <td>70.0</td>\n",
       "    </tr>\n",
       "    <tr>\n",
       "      <th>3</th>\n",
       "      <td>1</td>\n",
       "      <td>02/04/22</td>\n",
       "      <td>127</td>\n",
       "      <td>76.0</td>\n",
       "    </tr>\n",
       "    <tr>\n",
       "      <th>4</th>\n",
       "      <td>1</td>\n",
       "      <td>02/05/22</td>\n",
       "      <td>-20</td>\n",
       "      <td>74.0</td>\n",
       "    </tr>\n",
       "  </tbody>\n",
       "</table>\n",
       "</div>"
      ],
      "text/plain": [
       "   patientid      date  bp_systolic  bp_diastolic\n",
       "0          1  02/01/22          120          76.0\n",
       "1          1  02/02/22          127          75.0\n",
       "2          1  02/03/22          127          70.0\n",
       "3          1  02/04/22          127          76.0\n",
       "4          1  02/05/22          -20          74.0"
      ]
     },
     "execution_count": 29,
     "metadata": {},
     "output_type": "execute_result"
    }
   ],
   "source": [
    "df = pd.read_csv(PATH_TO_DATA)\n",
    "df.head()"
   ]
  },
  {
   "cell_type": "markdown",
   "id": "878e022a-e000-41fd-ac88-2c89975335a6",
   "metadata": {},
   "source": [
    "Quickly check the datatypes and data summary."
   ]
  },
  {
   "cell_type": "code",
   "execution_count": 30,
   "id": "13aa719d-f80e-485f-9828-226a9c9ed532",
   "metadata": {},
   "outputs": [
    {
     "data": {
      "text/plain": [
       "patientid         int64\n",
       "date             object\n",
       "bp_systolic       int64\n",
       "bp_diastolic    float64\n",
       "dtype: object"
      ]
     },
     "execution_count": 30,
     "metadata": {},
     "output_type": "execute_result"
    }
   ],
   "source": [
    "df.dtypes"
   ]
  },
  {
   "cell_type": "code",
   "execution_count": 31,
   "id": "ec510069-5b6c-4401-abbb-79f6ccf45419",
   "metadata": {},
   "outputs": [
    {
     "data": {
      "text/plain": [
       "str"
      ]
     },
     "execution_count": 31,
     "metadata": {},
     "output_type": "execute_result"
    }
   ],
   "source": [
    "type(df.date[0])"
   ]
  },
  {
   "cell_type": "code",
   "execution_count": 32,
   "id": "a0062339-94c1-417e-9af5-f99135055496",
   "metadata": {},
   "outputs": [
    {
     "data": {
      "text/html": [
       "<div>\n",
       "<style scoped>\n",
       "    .dataframe tbody tr th:only-of-type {\n",
       "        vertical-align: middle;\n",
       "    }\n",
       "\n",
       "    .dataframe tbody tr th {\n",
       "        vertical-align: top;\n",
       "    }\n",
       "\n",
       "    .dataframe thead th {\n",
       "        text-align: right;\n",
       "    }\n",
       "</style>\n",
       "<table border=\"1\" class=\"dataframe\">\n",
       "  <thead>\n",
       "    <tr style=\"text-align: right;\">\n",
       "      <th></th>\n",
       "      <th>patientid</th>\n",
       "      <th>bp_systolic</th>\n",
       "      <th>bp_diastolic</th>\n",
       "    </tr>\n",
       "  </thead>\n",
       "  <tbody>\n",
       "    <tr>\n",
       "      <th>count</th>\n",
       "      <td>99.000000</td>\n",
       "      <td>99.000000</td>\n",
       "      <td>98.000000</td>\n",
       "    </tr>\n",
       "    <tr>\n",
       "      <th>mean</th>\n",
       "      <td>2.595960</td>\n",
       "      <td>124.171717</td>\n",
       "      <td>75.653061</td>\n",
       "    </tr>\n",
       "    <tr>\n",
       "      <th>std</th>\n",
       "      <td>0.978537</td>\n",
       "      <td>16.744198</td>\n",
       "      <td>5.143512</td>\n",
       "    </tr>\n",
       "    <tr>\n",
       "      <th>min</th>\n",
       "      <td>1.000000</td>\n",
       "      <td>-20.000000</td>\n",
       "      <td>70.000000</td>\n",
       "    </tr>\n",
       "    <tr>\n",
       "      <th>25%</th>\n",
       "      <td>2.000000</td>\n",
       "      <td>122.000000</td>\n",
       "      <td>73.250000</td>\n",
       "    </tr>\n",
       "    <tr>\n",
       "      <th>50%</th>\n",
       "      <td>3.000000</td>\n",
       "      <td>125.000000</td>\n",
       "      <td>76.000000</td>\n",
       "    </tr>\n",
       "    <tr>\n",
       "      <th>75%</th>\n",
       "      <td>3.000000</td>\n",
       "      <td>128.000000</td>\n",
       "      <td>77.000000</td>\n",
       "    </tr>\n",
       "    <tr>\n",
       "      <th>max</th>\n",
       "      <td>4.000000</td>\n",
       "      <td>200.000000</td>\n",
       "      <td>120.000000</td>\n",
       "    </tr>\n",
       "  </tbody>\n",
       "</table>\n",
       "</div>"
      ],
      "text/plain": [
       "       patientid  bp_systolic  bp_diastolic\n",
       "count  99.000000    99.000000     98.000000\n",
       "mean    2.595960   124.171717     75.653061\n",
       "std     0.978537    16.744198      5.143512\n",
       "min     1.000000   -20.000000     70.000000\n",
       "25%     2.000000   122.000000     73.250000\n",
       "50%     3.000000   125.000000     76.000000\n",
       "75%     3.000000   128.000000     77.000000\n",
       "max     4.000000   200.000000    120.000000"
      ]
     },
     "execution_count": 32,
     "metadata": {},
     "output_type": "execute_result"
    }
   ],
   "source": [
    "df.describe()"
   ]
  },
  {
   "cell_type": "markdown",
   "id": "98d4855e-dfd4-4fda-b01f-11fd44ddb81e",
   "metadata": {},
   "source": [
    "How many unique patients are there?"
   ]
  },
  {
   "cell_type": "code",
   "execution_count": 33,
   "id": "d760a5d0-b5fb-426a-8bde-bb7afd403c03",
   "metadata": {},
   "outputs": [
    {
     "data": {
      "text/plain": [
       "4"
      ]
     },
     "execution_count": 33,
     "metadata": {},
     "output_type": "execute_result"
    }
   ],
   "source": [
    "len(df.patientid.unique())"
   ]
  },
  {
   "cell_type": "markdown",
   "id": "9286b5c0-cf34-4731-b392-051adac6087a",
   "metadata": {},
   "source": [
    "### Data Issue 1: Missingness"
   ]
  },
  {
   "cell_type": "markdown",
   "id": "b02424f0-7578-4651-85d0-0beaf8c4a0be",
   "metadata": {},
   "source": [
    "We notice the counts for bp_systolic and bp_diastolic are different. This suggests missing data.  \n",
    "Let's check for it:"
   ]
  },
  {
   "cell_type": "code",
   "execution_count": 34,
   "id": "e0527015-c9b1-44e4-a275-5eb0083736bc",
   "metadata": {},
   "outputs": [
    {
     "data": {
      "text/html": [
       "<div>\n",
       "<style scoped>\n",
       "    .dataframe tbody tr th:only-of-type {\n",
       "        vertical-align: middle;\n",
       "    }\n",
       "\n",
       "    .dataframe tbody tr th {\n",
       "        vertical-align: top;\n",
       "    }\n",
       "\n",
       "    .dataframe thead th {\n",
       "        text-align: right;\n",
       "    }\n",
       "</style>\n",
       "<table border=\"1\" class=\"dataframe\">\n",
       "  <thead>\n",
       "    <tr style=\"text-align: right;\">\n",
       "      <th></th>\n",
       "      <th>patientid</th>\n",
       "      <th>date</th>\n",
       "      <th>bp_systolic</th>\n",
       "      <th>bp_diastolic</th>\n",
       "    </tr>\n",
       "  </thead>\n",
       "  <tbody>\n",
       "    <tr>\n",
       "      <th>6</th>\n",
       "      <td>1</td>\n",
       "      <td>02/07/22</td>\n",
       "      <td>121</td>\n",
       "      <td>NaN</td>\n",
       "    </tr>\n",
       "  </tbody>\n",
       "</table>\n",
       "</div>"
      ],
      "text/plain": [
       "   patientid      date  bp_systolic  bp_diastolic\n",
       "6          1  02/07/22          121           NaN"
      ]
     },
     "execution_count": 34,
     "metadata": {},
     "output_type": "execute_result"
    }
   ],
   "source": [
    "df[df.bp_diastolic.isnull() == True]"
   ]
  },
  {
   "cell_type": "code",
   "execution_count": 35,
   "id": "5b497e22-1c51-41bd-961e-0f9d5f9a9bf1",
   "metadata": {},
   "outputs": [
    {
     "data": {
      "text/html": [
       "<div>\n",
       "<style scoped>\n",
       "    .dataframe tbody tr th:only-of-type {\n",
       "        vertical-align: middle;\n",
       "    }\n",
       "\n",
       "    .dataframe tbody tr th {\n",
       "        vertical-align: top;\n",
       "    }\n",
       "\n",
       "    .dataframe thead th {\n",
       "        text-align: right;\n",
       "    }\n",
       "</style>\n",
       "<table border=\"1\" class=\"dataframe\">\n",
       "  <thead>\n",
       "    <tr style=\"text-align: right;\">\n",
       "      <th></th>\n",
       "      <th>patientid</th>\n",
       "      <th>date</th>\n",
       "      <th>bp_systolic</th>\n",
       "      <th>bp_diastolic</th>\n",
       "    </tr>\n",
       "  </thead>\n",
       "  <tbody>\n",
       "  </tbody>\n",
       "</table>\n",
       "</div>"
      ],
      "text/plain": [
       "Empty DataFrame\n",
       "Columns: [patientid, date, bp_systolic, bp_diastolic]\n",
       "Index: []"
      ]
     },
     "execution_count": 35,
     "metadata": {},
     "output_type": "execute_result"
    }
   ],
   "source": [
    "df[df.bp_systolic.isnull() == True]"
   ]
  },
  {
   "cell_type": "markdown",
   "id": "00ce646d-603a-4c0b-bdbe-e3525c7d6da5",
   "metadata": {},
   "source": [
    "There are different possible methods. Here, we will use the last value carried forward.  \n",
    "The assumption is that the diastolic pressure hasn't changed since the last reading."
   ]
  },
  {
   "cell_type": "code",
   "execution_count": 36,
   "id": "236bd33b-7a00-48d6-9a55-8e83f89a9382",
   "metadata": {},
   "outputs": [],
   "source": [
    "df.ffill(inplace=True)"
   ]
  },
  {
   "cell_type": "markdown",
   "id": "920d3bd8-0338-42d1-bac0-62280220cc70",
   "metadata": {},
   "source": [
    "Checking for missing again, we see the record was imputed."
   ]
  },
  {
   "cell_type": "code",
   "execution_count": 37,
   "id": "783dab11-2e28-4e45-bb8d-e950e8e836f2",
   "metadata": {},
   "outputs": [
    {
     "data": {
      "text/html": [
       "<div>\n",
       "<style scoped>\n",
       "    .dataframe tbody tr th:only-of-type {\n",
       "        vertical-align: middle;\n",
       "    }\n",
       "\n",
       "    .dataframe tbody tr th {\n",
       "        vertical-align: top;\n",
       "    }\n",
       "\n",
       "    .dataframe thead th {\n",
       "        text-align: right;\n",
       "    }\n",
       "</style>\n",
       "<table border=\"1\" class=\"dataframe\">\n",
       "  <thead>\n",
       "    <tr style=\"text-align: right;\">\n",
       "      <th></th>\n",
       "      <th>patientid</th>\n",
       "      <th>date</th>\n",
       "      <th>bp_systolic</th>\n",
       "      <th>bp_diastolic</th>\n",
       "    </tr>\n",
       "  </thead>\n",
       "  <tbody>\n",
       "  </tbody>\n",
       "</table>\n",
       "</div>"
      ],
      "text/plain": [
       "Empty DataFrame\n",
       "Columns: [patientid, date, bp_systolic, bp_diastolic]\n",
       "Index: []"
      ]
     },
     "execution_count": 37,
     "metadata": {},
     "output_type": "execute_result"
    }
   ],
   "source": [
    "df[df.bp_diastolic.isnull() == True]"
   ]
  },
  {
   "cell_type": "markdown",
   "id": "f6a90f61-4414-4d11-b43a-11667c91c9ae",
   "metadata": {},
   "source": [
    "Let's look at records around the previously missing row:"
   ]
  },
  {
   "cell_type": "code",
   "execution_count": 38,
   "id": "69ebfba0-eb59-43ed-9748-fbeb8b874f38",
   "metadata": {},
   "outputs": [
    {
     "data": {
      "text/html": [
       "<div>\n",
       "<style scoped>\n",
       "    .dataframe tbody tr th:only-of-type {\n",
       "        vertical-align: middle;\n",
       "    }\n",
       "\n",
       "    .dataframe tbody tr th {\n",
       "        vertical-align: top;\n",
       "    }\n",
       "\n",
       "    .dataframe thead th {\n",
       "        text-align: right;\n",
       "    }\n",
       "</style>\n",
       "<table border=\"1\" class=\"dataframe\">\n",
       "  <thead>\n",
       "    <tr style=\"text-align: right;\">\n",
       "      <th></th>\n",
       "      <th>patientid</th>\n",
       "      <th>date</th>\n",
       "      <th>bp_systolic</th>\n",
       "      <th>bp_diastolic</th>\n",
       "    </tr>\n",
       "  </thead>\n",
       "  <tbody>\n",
       "    <tr>\n",
       "      <th>5</th>\n",
       "      <td>1</td>\n",
       "      <td>02/06/22</td>\n",
       "      <td>129</td>\n",
       "      <td>75.0</td>\n",
       "    </tr>\n",
       "    <tr>\n",
       "      <th>6</th>\n",
       "      <td>1</td>\n",
       "      <td>02/07/22</td>\n",
       "      <td>121</td>\n",
       "      <td>75.0</td>\n",
       "    </tr>\n",
       "    <tr>\n",
       "      <th>7</th>\n",
       "      <td>1</td>\n",
       "      <td>02/08/22</td>\n",
       "      <td>125</td>\n",
       "      <td>74.0</td>\n",
       "    </tr>\n",
       "  </tbody>\n",
       "</table>\n",
       "</div>"
      ],
      "text/plain": [
       "   patientid      date  bp_systolic  bp_diastolic\n",
       "5          1  02/06/22          129          75.0\n",
       "6          1  02/07/22          121          75.0\n",
       "7          1  02/08/22          125          74.0"
      ]
     },
     "execution_count": 38,
     "metadata": {},
     "output_type": "execute_result"
    }
   ],
   "source": [
    "df.loc[5:7]"
   ]
  },
  {
   "cell_type": "markdown",
   "id": "aad57a58-959b-4387-aa6e-045aece8651a",
   "metadata": {},
   "source": [
    "Notice the memory address of df will differ after assignment. This means a new df is created."
   ]
  },
  {
   "cell_type": "code",
   "execution_count": 39,
   "id": "14ba5f28-0641-44e2-95d5-45e52be2761e",
   "metadata": {},
   "outputs": [
    {
     "data": {
      "text/plain": [
       "2641537675616"
      ]
     },
     "execution_count": 39,
     "metadata": {},
     "output_type": "execute_result"
    }
   ],
   "source": [
    "id(df)"
   ]
  },
  {
   "cell_type": "code",
   "execution_count": 40,
   "id": "8a205981-74cb-4097-bb84-956e76ea1def",
   "metadata": {},
   "outputs": [],
   "source": [
    "df = df.astype({'bp_diastolic':np.int32})"
   ]
  },
  {
   "cell_type": "code",
   "execution_count": 41,
   "id": "3c569cc1-a41d-43f6-9046-0499d8f975ec",
   "metadata": {},
   "outputs": [
    {
     "data": {
      "text/plain": [
       "2641465449296"
      ]
     },
     "execution_count": 41,
     "metadata": {},
     "output_type": "execute_result"
    }
   ],
   "source": [
    "id(df)"
   ]
  },
  {
   "cell_type": "code",
   "execution_count": 42,
   "id": "dbf632c6-1888-4c24-8273-5fdbb49fd71e",
   "metadata": {},
   "outputs": [
    {
     "data": {
      "text/plain": [
       "patientid        int64\n",
       "date            object\n",
       "bp_systolic      int64\n",
       "bp_diastolic     int32\n",
       "dtype: object"
      ]
     },
     "execution_count": 42,
     "metadata": {},
     "output_type": "execute_result"
    }
   ],
   "source": [
    "df.dtypes"
   ]
  },
  {
   "cell_type": "markdown",
   "id": "502ca440-d140-456a-bf36-611d2fdcc6cd",
   "metadata": {},
   "source": [
    "### Data Issue 2: Extreme and Non-Sensical Values"
   ]
  },
  {
   "cell_type": "markdown",
   "id": "934c4a7a-48f4-41f7-97a7-ffea7cb46606",
   "metadata": {},
   "source": [
    "Looking at `bp_systolic` there is a negative value and a very high value.  \n",
    "Negative values cannot happen. There are different options for handling this case.  \n",
    "Here, we set a rule where we replace negative values with the previous measurement."
   ]
  },
  {
   "cell_type": "code",
   "execution_count": 43,
   "id": "d5e63e39-0731-483b-aeaa-e11c72e993ba",
   "metadata": {},
   "outputs": [],
   "source": [
    "df.loc[df.bp_systolic < 0, 'bp_systolic'] = np.nan\n",
    "df.bp_systolic.ffill(inplace=True)"
   ]
  },
  {
   "cell_type": "markdown",
   "id": "0a62cc88-965a-4cf7-bd91-0b817b129a6f",
   "metadata": {},
   "source": [
    "---\n",
    "\n",
    "For patient 2, the systolic measurement on 02/01/22 is 200, which is out of line with the other values.  \n",
    "This value is possible and troubling. It may not be incorrect, so we choose to leave it in place."
   ]
  },
  {
   "cell_type": "code",
   "execution_count": 44,
   "id": "2ab90a37-5a63-45bd-81e2-d745adb66660",
   "metadata": {},
   "outputs": [
    {
     "data": {
      "text/html": [
       "<div>\n",
       "<style scoped>\n",
       "    .dataframe tbody tr th:only-of-type {\n",
       "        vertical-align: middle;\n",
       "    }\n",
       "\n",
       "    .dataframe tbody tr th {\n",
       "        vertical-align: top;\n",
       "    }\n",
       "\n",
       "    .dataframe thead th {\n",
       "        text-align: right;\n",
       "    }\n",
       "</style>\n",
       "<table border=\"1\" class=\"dataframe\">\n",
       "  <thead>\n",
       "    <tr style=\"text-align: right;\">\n",
       "      <th></th>\n",
       "      <th>patientid</th>\n",
       "      <th>date</th>\n",
       "      <th>bp_systolic</th>\n",
       "      <th>bp_diastolic</th>\n",
       "    </tr>\n",
       "  </thead>\n",
       "  <tbody>\n",
       "    <tr>\n",
       "      <th>13</th>\n",
       "      <td>2</td>\n",
       "      <td>01/15/22</td>\n",
       "      <td>127.0</td>\n",
       "      <td>79</td>\n",
       "    </tr>\n",
       "    <tr>\n",
       "      <th>14</th>\n",
       "      <td>2</td>\n",
       "      <td>01/16/22</td>\n",
       "      <td>128.0</td>\n",
       "      <td>78</td>\n",
       "    </tr>\n",
       "    <tr>\n",
       "      <th>15</th>\n",
       "      <td>2</td>\n",
       "      <td>01/17/22</td>\n",
       "      <td>123.0</td>\n",
       "      <td>76</td>\n",
       "    </tr>\n",
       "    <tr>\n",
       "      <th>16</th>\n",
       "      <td>2</td>\n",
       "      <td>01/18/22</td>\n",
       "      <td>128.0</td>\n",
       "      <td>71</td>\n",
       "    </tr>\n",
       "    <tr>\n",
       "      <th>17</th>\n",
       "      <td>2</td>\n",
       "      <td>01/19/22</td>\n",
       "      <td>123.0</td>\n",
       "      <td>75</td>\n",
       "    </tr>\n",
       "    <tr>\n",
       "      <th>18</th>\n",
       "      <td>2</td>\n",
       "      <td>01/20/22</td>\n",
       "      <td>129.0</td>\n",
       "      <td>73</td>\n",
       "    </tr>\n",
       "    <tr>\n",
       "      <th>19</th>\n",
       "      <td>2</td>\n",
       "      <td>01/21/22</td>\n",
       "      <td>128.0</td>\n",
       "      <td>77</td>\n",
       "    </tr>\n",
       "    <tr>\n",
       "      <th>20</th>\n",
       "      <td>2</td>\n",
       "      <td>01/22/22</td>\n",
       "      <td>127.0</td>\n",
       "      <td>74</td>\n",
       "    </tr>\n",
       "    <tr>\n",
       "      <th>21</th>\n",
       "      <td>2</td>\n",
       "      <td>01/23/22</td>\n",
       "      <td>126.0</td>\n",
       "      <td>73</td>\n",
       "    </tr>\n",
       "    <tr>\n",
       "      <th>22</th>\n",
       "      <td>2</td>\n",
       "      <td>01/24/22</td>\n",
       "      <td>121.0</td>\n",
       "      <td>74</td>\n",
       "    </tr>\n",
       "    <tr>\n",
       "      <th>23</th>\n",
       "      <td>2</td>\n",
       "      <td>01/25/22</td>\n",
       "      <td>127.0</td>\n",
       "      <td>77</td>\n",
       "    </tr>\n",
       "    <tr>\n",
       "      <th>24</th>\n",
       "      <td>2</td>\n",
       "      <td>01/26/22</td>\n",
       "      <td>122.0</td>\n",
       "      <td>75</td>\n",
       "    </tr>\n",
       "    <tr>\n",
       "      <th>25</th>\n",
       "      <td>2</td>\n",
       "      <td>01/27/22</td>\n",
       "      <td>120.0</td>\n",
       "      <td>70</td>\n",
       "    </tr>\n",
       "    <tr>\n",
       "      <th>26</th>\n",
       "      <td>2</td>\n",
       "      <td>01/28/22</td>\n",
       "      <td>122.0</td>\n",
       "      <td>72</td>\n",
       "    </tr>\n",
       "    <tr>\n",
       "      <th>27</th>\n",
       "      <td>2</td>\n",
       "      <td>01/29/22</td>\n",
       "      <td>121.0</td>\n",
       "      <td>77</td>\n",
       "    </tr>\n",
       "    <tr>\n",
       "      <th>28</th>\n",
       "      <td>2</td>\n",
       "      <td>01/30/22</td>\n",
       "      <td>122.0</td>\n",
       "      <td>76</td>\n",
       "    </tr>\n",
       "    <tr>\n",
       "      <th>29</th>\n",
       "      <td>2</td>\n",
       "      <td>01/31/22</td>\n",
       "      <td>129.0</td>\n",
       "      <td>77</td>\n",
       "    </tr>\n",
       "    <tr>\n",
       "      <th>30</th>\n",
       "      <td>2</td>\n",
       "      <td>02/01/22</td>\n",
       "      <td>200.0</td>\n",
       "      <td>120</td>\n",
       "    </tr>\n",
       "    <tr>\n",
       "      <th>31</th>\n",
       "      <td>2</td>\n",
       "      <td>02/02/22</td>\n",
       "      <td>129.0</td>\n",
       "      <td>78</td>\n",
       "    </tr>\n",
       "    <tr>\n",
       "      <th>32</th>\n",
       "      <td>2</td>\n",
       "      <td>02/03/22</td>\n",
       "      <td>128.0</td>\n",
       "      <td>77</td>\n",
       "    </tr>\n",
       "    <tr>\n",
       "      <th>33</th>\n",
       "      <td>2</td>\n",
       "      <td>02/04/22</td>\n",
       "      <td>125.0</td>\n",
       "      <td>72</td>\n",
       "    </tr>\n",
       "    <tr>\n",
       "      <th>34</th>\n",
       "      <td>2</td>\n",
       "      <td>02/05/22</td>\n",
       "      <td>120.0</td>\n",
       "      <td>76</td>\n",
       "    </tr>\n",
       "    <tr>\n",
       "      <th>35</th>\n",
       "      <td>2</td>\n",
       "      <td>02/06/22</td>\n",
       "      <td>128.0</td>\n",
       "      <td>78</td>\n",
       "    </tr>\n",
       "    <tr>\n",
       "      <th>36</th>\n",
       "      <td>2</td>\n",
       "      <td>02/07/22</td>\n",
       "      <td>128.0</td>\n",
       "      <td>73</td>\n",
       "    </tr>\n",
       "    <tr>\n",
       "      <th>37</th>\n",
       "      <td>2</td>\n",
       "      <td>02/08/22</td>\n",
       "      <td>121.0</td>\n",
       "      <td>71</td>\n",
       "    </tr>\n",
       "    <tr>\n",
       "      <th>38</th>\n",
       "      <td>2</td>\n",
       "      <td>02/09/22</td>\n",
       "      <td>124.0</td>\n",
       "      <td>74</td>\n",
       "    </tr>\n",
       "    <tr>\n",
       "      <th>39</th>\n",
       "      <td>2</td>\n",
       "      <td>02/10/22</td>\n",
       "      <td>122.0</td>\n",
       "      <td>76</td>\n",
       "    </tr>\n",
       "    <tr>\n",
       "      <th>40</th>\n",
       "      <td>2</td>\n",
       "      <td>02/11/22</td>\n",
       "      <td>124.0</td>\n",
       "      <td>74</td>\n",
       "    </tr>\n",
       "    <tr>\n",
       "      <th>41</th>\n",
       "      <td>2</td>\n",
       "      <td>02/12/22</td>\n",
       "      <td>127.0</td>\n",
       "      <td>77</td>\n",
       "    </tr>\n",
       "    <tr>\n",
       "      <th>42</th>\n",
       "      <td>2</td>\n",
       "      <td>02/13/22</td>\n",
       "      <td>129.0</td>\n",
       "      <td>73</td>\n",
       "    </tr>\n",
       "    <tr>\n",
       "      <th>43</th>\n",
       "      <td>2</td>\n",
       "      <td>02/14/22</td>\n",
       "      <td>124.0</td>\n",
       "      <td>76</td>\n",
       "    </tr>\n",
       "    <tr>\n",
       "      <th>44</th>\n",
       "      <td>2</td>\n",
       "      <td>02/15/22</td>\n",
       "      <td>129.0</td>\n",
       "      <td>78</td>\n",
       "    </tr>\n",
       "    <tr>\n",
       "      <th>45</th>\n",
       "      <td>2</td>\n",
       "      <td>02/16/22</td>\n",
       "      <td>128.0</td>\n",
       "      <td>79</td>\n",
       "    </tr>\n",
       "    <tr>\n",
       "      <th>46</th>\n",
       "      <td>2</td>\n",
       "      <td>02/17/22</td>\n",
       "      <td>121.0</td>\n",
       "      <td>79</td>\n",
       "    </tr>\n",
       "    <tr>\n",
       "      <th>47</th>\n",
       "      <td>2</td>\n",
       "      <td>02/18/22</td>\n",
       "      <td>123.0</td>\n",
       "      <td>75</td>\n",
       "    </tr>\n",
       "    <tr>\n",
       "      <th>48</th>\n",
       "      <td>2</td>\n",
       "      <td>02/19/22</td>\n",
       "      <td>129.0</td>\n",
       "      <td>76</td>\n",
       "    </tr>\n",
       "  </tbody>\n",
       "</table>\n",
       "</div>"
      ],
      "text/plain": [
       "    patientid      date  bp_systolic  bp_diastolic\n",
       "13          2  01/15/22        127.0            79\n",
       "14          2  01/16/22        128.0            78\n",
       "15          2  01/17/22        123.0            76\n",
       "16          2  01/18/22        128.0            71\n",
       "17          2  01/19/22        123.0            75\n",
       "18          2  01/20/22        129.0            73\n",
       "19          2  01/21/22        128.0            77\n",
       "20          2  01/22/22        127.0            74\n",
       "21          2  01/23/22        126.0            73\n",
       "22          2  01/24/22        121.0            74\n",
       "23          2  01/25/22        127.0            77\n",
       "24          2  01/26/22        122.0            75\n",
       "25          2  01/27/22        120.0            70\n",
       "26          2  01/28/22        122.0            72\n",
       "27          2  01/29/22        121.0            77\n",
       "28          2  01/30/22        122.0            76\n",
       "29          2  01/31/22        129.0            77\n",
       "30          2  02/01/22        200.0           120\n",
       "31          2  02/02/22        129.0            78\n",
       "32          2  02/03/22        128.0            77\n",
       "33          2  02/04/22        125.0            72\n",
       "34          2  02/05/22        120.0            76\n",
       "35          2  02/06/22        128.0            78\n",
       "36          2  02/07/22        128.0            73\n",
       "37          2  02/08/22        121.0            71\n",
       "38          2  02/09/22        124.0            74\n",
       "39          2  02/10/22        122.0            76\n",
       "40          2  02/11/22        124.0            74\n",
       "41          2  02/12/22        127.0            77\n",
       "42          2  02/13/22        129.0            73\n",
       "43          2  02/14/22        124.0            76\n",
       "44          2  02/15/22        129.0            78\n",
       "45          2  02/16/22        128.0            79\n",
       "46          2  02/17/22        121.0            79\n",
       "47          2  02/18/22        123.0            75\n",
       "48          2  02/19/22        129.0            76"
      ]
     },
     "execution_count": 44,
     "metadata": {},
     "output_type": "execute_result"
    }
   ],
   "source": [
    "df[df.patientid == 2]"
   ]
  },
  {
   "cell_type": "markdown",
   "id": "238cc6a9-570d-4278-a46b-6365218919f9",
   "metadata": {},
   "source": [
    "### Conclusions\n",
    "\n",
    "- The data should always be carefully reviewed and validated before analysis\n",
    "\n",
    "- We need to be thoughtful about handling missing data and extreme observations.  \n",
    "For each variable, we need to think about the implications and best strategy."
   ]
  },
  {
   "cell_type": "markdown",
   "id": "7b664b1d-758a-4013-b515-c6a53d3a94f3",
   "metadata": {},
   "source": [
    "---"
   ]
  }
 ],
 "metadata": {
  "kernelspec": {
   "display_name": "Python 3 (ipykernel)",
   "language": "python",
   "name": "python3"
  },
  "language_info": {
   "codemirror_mode": {
    "name": "ipython",
    "version": 3
   },
   "file_extension": ".py",
   "mimetype": "text/x-python",
   "name": "python",
   "nbconvert_exporter": "python",
   "pygments_lexer": "ipython3",
   "version": "3.9.12"
  }
 },
 "nbformat": 4,
 "nbformat_minor": 5
}
