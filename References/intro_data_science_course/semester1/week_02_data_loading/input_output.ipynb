{
 "cells": [
  {
   "cell_type": "markdown",
   "metadata": {},
   "source": [
    "<img src=\"../../predictioNN_Logo_JPG(72).jpg\" width=200>"
   ]
  },
  {
   "cell_type": "markdown",
   "metadata": {},
   "source": [
    "---\n",
    "\n",
    "## Input/Output\n",
    "\n",
    "\n",
    "### Introduction to Data Science\n",
    "### Last Updated: November 14, 2022\n",
    "---  \n",
    "\n",
    "### SOURCES \n",
    "\n",
    "\n",
    "- pandas read_csv()  \n",
    "https://pandas.pydata.org/pandas-docs/stable/reference/api/pandas.read_csv.html\n",
    "\n",
    "\n",
    "### OBJECTIVES\n",
    "- Understand how to set a path to a file\n",
    "- Understand how to change the path\n",
    "- Introduce data formats: text, csv\n",
    "- Show how to work with the data formats: read, write\n",
    "- Introduce how to get help with functions\n",
    "\n",
    "### CONCEPTS\n",
    "\n",
    "- file path\n",
    "- text file\n",
    "- csv\n",
    "- delimiter\n",
    "- `with`, `open()`, `close()`\n",
    "\n",
    "---\n"
   ]
  },
  {
   "cell_type": "markdown",
   "metadata": {
    "tags": []
   },
   "source": [
    "## Working with Paths"
   ]
  },
  {
   "cell_type": "markdown",
   "metadata": {
    "tags": []
   },
   "source": [
    "How does Python know where to look for things?  \n",
    "It uses a search path. This path can be retrieved and changed.\n",
    "The module `os` can help."
   ]
  },
  {
   "cell_type": "code",
   "execution_count": null,
   "metadata": {
    "tags": []
   },
   "outputs": [],
   "source": [
    "import os"
   ]
  },
  {
   "cell_type": "markdown",
   "metadata": {
    "tags": []
   },
   "source": [
    "Get the current working directory, which will vary for each computer.  "
   ]
  },
  {
   "cell_type": "code",
   "execution_count": null,
   "metadata": {
    "tags": []
   },
   "outputs": [],
   "source": [
    "os.getcwd()"
   ]
  },
  {
   "cell_type": "markdown",
   "metadata": {},
   "source": [
    "Note: Windows operating systems will use backslashes `\\` while Mac will use forward slashes `/`\n",
    "\n",
    "If the file is in the current working directory, then we don't need to give a path.\n",
    "\n",
    "**Here's an example of reading in data from a file** (don't worry about the function specifics, they will be explained later):"
   ]
  },
  {
   "cell_type": "code",
   "execution_count": null,
   "metadata": {},
   "outputs": [],
   "source": [
    "f1 = open('data_example.txt','r') # we can simply enter the name of the file, without its path\n",
    "data = f1.read()                  # read file content\n",
    "print(data)"
   ]
  },
  {
   "cell_type": "markdown",
   "metadata": {},
   "source": [
    "---"
   ]
  },
  {
   "cell_type": "markdown",
   "metadata": {},
   "source": [
    "Next, we would like to load a file named `data_example_test.csv` but it's in a different folder called `datasets`  \n",
    "Watch what happens if we don't set the path:"
   ]
  },
  {
   "cell_type": "code",
   "execution_count": null,
   "metadata": {},
   "outputs": [],
   "source": [
    "f1 = open('data_example_test.csv','r')\n",
    "data = f1.read()\n",
    "print(data)"
   ]
  },
  {
   "cell_type": "markdown",
   "metadata": {},
   "source": [
    "To navigate to this folder, we need to:\n",
    "1) back up one folder (we can use `../` for this)  \n",
    "2) look in the `datasets` folder (`../datasets`)\n",
    "\n",
    "Note: backing up two folders looks like `../..` and so on.\n",
    "\n",
    "OK now let's put things together:"
   ]
  },
  {
   "cell_type": "code",
   "execution_count": null,
   "metadata": {},
   "outputs": [],
   "source": [
    "f1 = open('../datasets/data_example_test.csv','r')\n",
    "data = f1.read()\n",
    "print(data)"
   ]
  },
  {
   "cell_type": "markdown",
   "metadata": {},
   "source": [
    "**It worked!** Using pathing like this to navigate around is an important skill.\n",
    "\n",
    "We will see this again throughout the course.\n",
    "\n",
    "Next we study different data file formats and how to read from them and write to them."
   ]
  },
  {
   "cell_type": "markdown",
   "metadata": {},
   "source": [
    "## Text File Format \n",
    "\n",
    "- text files contain textual data (absent images)   \n",
    "- can be saved in plain text or rich text formats\n",
    "- typical extensions: txt, rtf, log, doc, docx (where doc, docx are proprietary to Microsoft)\n",
    "\n",
    "## Text in Python"
   ]
  },
  {
   "cell_type": "markdown",
   "metadata": {},
   "source": [
    "**Read in text file** using `open()`, print the data, and close the file:"
   ]
  },
  {
   "cell_type": "code",
   "execution_count": null,
   "metadata": {},
   "outputs": [],
   "source": [
    "f1 = open('../datasets/data_example.txt','r') # 'r' for read mode\n",
    "data = f1.read()                  # read file content\n",
    "print(data)\n",
    "f1.close()"
   ]
  },
  {
   "cell_type": "markdown",
   "metadata": {},
   "source": [
    "**Using `with open()` is preferred**, as the file will be closed, even in the event of an error"
   ]
  },
  {
   "cell_type": "code",
   "execution_count": null,
   "metadata": {},
   "outputs": [],
   "source": [
    "with open('../datasets/data_example.txt', \"r\") as f:\n",
    "    data = f.read()\n",
    "    print(data)\n",
    "\n",
    "# check if file is closed\n",
    "print('\\nFile closed? \\n', f.closed)"
   ]
  },
  {
   "cell_type": "markdown",
   "metadata": {},
   "source": [
    "**Writing to text file**\n",
    "\n",
    "`open()` can be used again, in mode 'a' for append or 'w' for write."
   ]
  },
  {
   "cell_type": "code",
   "execution_count": null,
   "metadata": {},
   "outputs": [],
   "source": [
    "# append to the file\n",
    "with open('../datasets/data_example.txt', \"a\") as f:\n",
    "    f.write('\\n' + 'another line')"
   ]
  },
  {
   "cell_type": "markdown",
   "metadata": {},
   "source": [
    "**Aside 1: Context Manager**  \n",
    "`with` command is called a *context manager*.   \n",
    "The context manager sets up a temporary context, and destructs the context after the operations are completed.  \n",
    "Here, it does housekeeping of opening, closing file."
   ]
  },
  {
   "cell_type": "markdown",
   "metadata": {},
   "source": [
    "**Aside 2: Getting help on functions**\n",
    "\n",
    "We are seeing examples of functions such as `print`\n",
    "\n",
    "You can learn more about the functions by asking for help:"
   ]
  },
  {
   "cell_type": "code",
   "execution_count": null,
   "metadata": {
    "tags": []
   },
   "outputs": [],
   "source": [
    "help(print)"
   ]
  },
  {
   "cell_type": "code",
   "execution_count": null,
   "metadata": {},
   "outputs": [],
   "source": [
    "?print"
   ]
  },
  {
   "cell_type": "markdown",
   "metadata": {},
   "source": [
    "---"
   ]
  },
  {
   "cell_type": "markdown",
   "metadata": {},
   "source": [
    "## CSV Format\n",
    "\n",
    "A *comma separated value* (CSV) file is a plain text file containing rows of data separated by a character, generally commas.  \n",
    "A header row containing column (field) names may be included. It's often in the first row.  \n",
    "\n",
    "Example:\n",
    "```\n",
    "name,email,phone\n",
    "laura palmer,lpalmer@twin_peaks,123-456-7890,\n",
    "agent dale cooper,dcooper@twin_peaks,123-454-7899\n",
    "```\n",
    "\n",
    "CSV format is very popular, but using comma as separator (delimiter) can be problematic:   \n",
    "if data itself contains commas, delimiter won't work properly.\n",
    "\n",
    "Popular workaround: enclose text with commas in quotes...works until data contains commas and quotes!  \n",
    "Leads to alternative delimiters such as pipe `|` which less commonly appears in data.\n"
   ]
  },
  {
   "cell_type": "markdown",
   "metadata": {},
   "source": [
    "## CSV in Python\n",
    "\n",
    "**Read data in csv format:**\n",
    "\n",
    "Here we use **pandas** `read_csv()` to read data in csv format.  \n",
    "This is the most common method for reading this format.\n",
    "\n",
    "**NOTE**  \n",
    "pandas is an essential package for working with data frames (abbreviated: `df`).  \n",
    "We will have more to say about `pandas` later; will be used throughout the course.  \n",
    "\n",
    "Some important parameters:\n",
    "- *filepath*: the full path to the dataset including filename\n",
    "- *delimiter* or *sep*: the field delimiter. default is comma.\n",
    "- *header*: row number containing column names\n",
    "\n",
    "\n",
    "[Details](https://pandas.pydata.org/pandas-docs/stable/reference/api/pandas.read_csv.html)"
   ]
  },
  {
   "cell_type": "code",
   "execution_count": null,
   "metadata": {},
   "outputs": [],
   "source": [
    "import pandas as pd\n",
    "\n",
    "# data source: https://archive.ics.uci.edu/ml/datasets/Wine\n",
    "\n",
    "chem = pd.read_csv('../datasets/data_example_chem.csv')"
   ]
  },
  {
   "cell_type": "markdown",
   "metadata": {},
   "source": [
    "#### Show the first few rows of data (and the header)"
   ]
  },
  {
   "cell_type": "code",
   "execution_count": null,
   "metadata": {},
   "outputs": [],
   "source": [
    "chem.head()"
   ]
  },
  {
   "cell_type": "code",
   "execution_count": null,
   "metadata": {},
   "outputs": [],
   "source": []
  },
  {
   "cell_type": "markdown",
   "metadata": {},
   "source": [
    "**Take a random sample of data:**"
   ]
  },
  {
   "cell_type": "code",
   "execution_count": null,
   "metadata": {},
   "outputs": [],
   "source": [
    "chem.sample(5)"
   ]
  },
  {
   "cell_type": "markdown",
   "metadata": {},
   "source": [
    "**What is the data type of `chem`?**"
   ]
  },
  {
   "cell_type": "code",
   "execution_count": null,
   "metadata": {},
   "outputs": [],
   "source": [
    "type(chem)"
   ]
  },
  {
   "cell_type": "markdown",
   "metadata": {},
   "source": [
    "**Check if `chem` is a pandas dataframe:**"
   ]
  },
  {
   "cell_type": "code",
   "execution_count": null,
   "metadata": {},
   "outputs": [],
   "source": [
    "isinstance(chem, pd.DataFrame)"
   ]
  },
  {
   "cell_type": "markdown",
   "metadata": {},
   "source": [
    "The data now lives in a pandas dataframe for a wide range of work.  \n",
    "We will do a lot of pandas work in the course."
   ]
  },
  {
   "cell_type": "markdown",
   "metadata": {},
   "source": [
    "**Which columns are in`chem`?**"
   ]
  },
  {
   "cell_type": "code",
   "execution_count": null,
   "metadata": {},
   "outputs": [],
   "source": [
    "chem.columns"
   ]
  },
  {
   "cell_type": "markdown",
   "metadata": {},
   "source": [
    "**Write the first two rows to a new csv file:**"
   ]
  },
  {
   "cell_type": "code",
   "execution_count": null,
   "metadata": {},
   "outputs": [],
   "source": [
    "chem.head(2).to_csv('../datasets/data_example_chem_first_two_rows.csv')"
   ]
  },
  {
   "cell_type": "markdown",
   "metadata": {},
   "source": [
    "**TRY FOR YOURSELF**  \n",
    "\n",
    "CSV Exercise\n",
    "\n",
    "1a) Read in a dataset from this URL:  \n",
    "'https://archive.ics.uci.edu/ml/machine-learning-databases/iris/bezdekIris.data'\n",
    "\n",
    "note: this URL can be directly passed to read_csv()\n",
    "\n",
    "1b) You will notice the first record comes in as a header row.\n",
    "Pass a parameter to read_csv() so there is no header.\n",
    "\n",
    "1c) Write the data to a file in datasets folder with .txt extension and with pipe separator |"
   ]
  },
  {
   "cell_type": "code",
   "execution_count": null,
   "metadata": {},
   "outputs": [],
   "source": []
  },
  {
   "cell_type": "code",
   "execution_count": null,
   "metadata": {
    "jupyter": {
     "source_hidden": true
    },
    "tags": []
   },
   "outputs": [],
   "source": [
    "import pandas as pd\n",
    "\n",
    "url = 'https://archive.ics.uci.edu/ml/machine-learning-databases/iris/bezdekIris.data'\n",
    "iris = pd.read_csv(url, header=None)\n",
    "iris\n",
    "iris.to_csv('../datasets/some_data.txt',sep='|')"
   ]
  },
  {
   "cell_type": "markdown",
   "metadata": {},
   "source": [
    "---"
   ]
  }
 ],
 "metadata": {
  "anaconda-cloud": {},
  "kernelspec": {
   "display_name": "Python 3 (ipykernel)",
   "language": "python",
   "name": "python3"
  },
  "language_info": {
   "codemirror_mode": {
    "name": "ipython",
    "version": 3
   },
   "file_extension": ".py",
   "mimetype": "text/x-python",
   "name": "python",
   "nbconvert_exporter": "python",
   "pygments_lexer": "ipython3",
   "version": "3.9.12"
  }
 },
 "nbformat": 4,
 "nbformat_minor": 4
}
