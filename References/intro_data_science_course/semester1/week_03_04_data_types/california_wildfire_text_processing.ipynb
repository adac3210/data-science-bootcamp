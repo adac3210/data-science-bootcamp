{
 "cells": [
  {
   "cell_type": "markdown",
   "metadata": {},
   "source": [
    "<img src=\"../../predictioNN_Logo_JPG(72).jpg\" width=200>"
   ]
  },
  {
   "cell_type": "markdown",
   "metadata": {
    "tags": []
   },
   "source": [
    "---\n",
    "\n",
    "## Text Processing Exercise - California Wildfire\n",
    "\n",
    "### Introduction to Data Science\n",
    "### Last Updated: December 8, 2022\n",
    "---  \n",
    "\n",
    "### PREREQUISITES\n",
    "- data loading\n",
    "- variables\n",
    "\n",
    "### SOURCES \n",
    "- The text used in this exercise was sourced from Wikipedia and can be found here: https://en.wikipedia.org/wiki/2021_California_wildfires\n",
    "\n",
    "### OBJECTIVES\n",
    "- Motivate the use and understanding of data types\n",
    "\n",
    "### CONCEPTS\n",
    "\n",
    "- lists\n",
    "- strings\n",
    "- dictionaries\n",
    "- sets\n",
    "\n",
    "---"
   ]
  },
  {
   "cell_type": "markdown",
   "metadata": {},
   "source": [
    "### INSTRUCTIONS\n",
    "\n",
    "In this exercise, you will import an article in text format. Next, you will do some operations and discover different forms and data types.\n",
    "\n",
    "To answer some of the questions, you can do a web search for information, or reference the notebook `data_types.ipynb`.\n",
    "\n",
    "---"
   ]
  },
  {
   "cell_type": "markdown",
   "metadata": {},
   "source": [
    "### I. Hands-On Practice Working with Data"
   ]
  },
  {
   "cell_type": "markdown",
   "metadata": {},
   "source": [
    "Read in the article"
   ]
  },
  {
   "cell_type": "code",
   "execution_count": 1,
   "metadata": {},
   "outputs": [],
   "source": [
    "# set path to datafile\n",
    "PATH_TO_DATA = '../datasets/california_wildfire.txt'\n",
    "\n",
    "# open file and read into variable\n",
    "f1 = open(PATH_TO_DATA,'r')\n",
    "data = f1.read()  "
   ]
  },
  {
   "cell_type": "markdown",
   "metadata": {},
   "source": [
    "1. Print the article"
   ]
  },
  {
   "cell_type": "code",
   "execution_count": null,
   "metadata": {},
   "outputs": [],
   "source": []
  },
  {
   "cell_type": "markdown",
   "metadata": {},
   "source": [
    "2. Check the type of `data` by using `type()`"
   ]
  },
  {
   "cell_type": "code",
   "execution_count": null,
   "metadata": {},
   "outputs": [],
   "source": []
  },
  {
   "cell_type": "markdown",
   "metadata": {},
   "source": [
    "3. You would like to process the article to make it more useful. Split the data on periods using `split()` - which will approximately segment the sentences - saving the result into variable: `sent` and printing it."
   ]
  },
  {
   "cell_type": "code",
   "execution_count": null,
   "metadata": {},
   "outputs": [],
   "source": []
  },
  {
   "cell_type": "markdown",
   "metadata": {},
   "source": [
    "4. What are the '\\n' characters?"
   ]
  },
  {
   "cell_type": "markdown",
   "metadata": {},
   "source": []
  },
  {
   "cell_type": "markdown",
   "metadata": {},
   "source": [
    "5. What is the data type of `sent`? Do a web search to learn a bit more about this data type."
   ]
  },
  {
   "cell_type": "code",
   "execution_count": null,
   "metadata": {},
   "outputs": [],
   "source": []
  },
  {
   "cell_type": "markdown",
   "metadata": {},
   "source": [
    "6. What is the length of `sent`? This is the number of \"sentences.\""
   ]
  },
  {
   "cell_type": "code",
   "execution_count": null,
   "metadata": {},
   "outputs": [],
   "source": []
  },
  {
   "cell_type": "markdown",
   "metadata": {},
   "source": [
    "7. Can you think of any issues with segmenting sentences by splitting on periods?"
   ]
  },
  {
   "cell_type": "markdown",
   "metadata": {},
   "source": []
  },
  {
   "cell_type": "markdown",
   "metadata": {},
   "source": [
    "8. You would like to make the first sentence the article headline. Extract the first sentence from `sent`, saving it into variable `headline`. This requires subsetting, so you might want to read about that. Print the headline."
   ]
  },
  {
   "cell_type": "code",
   "execution_count": null,
   "metadata": {},
   "outputs": [],
   "source": []
  },
  {
   "cell_type": "markdown",
   "metadata": {},
   "source": [
    "9. Next, you would like to tokenize the headline, which means producing a list of words. Split the headline on spaces to tokenize the headline. Save the result into variable: `tokens` and print it."
   ]
  },
  {
   "cell_type": "code",
   "execution_count": null,
   "metadata": {},
   "outputs": [],
   "source": []
  },
  {
   "cell_type": "markdown",
   "metadata": {},
   "source": [
    "---"
   ]
  },
  {
   "cell_type": "markdown",
   "metadata": {},
   "source": [
    "10. Next, you would like to store each word of `tokens` with its position in the sentence.  \n",
    "It should look like this:\n",
    "\n",
    "```\n",
    "word_index = {'Rain': 0, 'helps': 1, 'increase': 2, 'containment': 3, 'of': 4, 'huge': 5, 'California': 6, 'wildfire': 7}\n",
    "```\n",
    "\n",
    "This object is called a `dictionary` and it stores key : value pairs.\n",
    "\n",
    "To solve this problem, fill in the BLANK placeholders below.\n",
    "\n",
    "You may need to search the web and refer to the notebook: `data_types.ipynb`"
   ]
  },
  {
   "cell_type": "code",
   "execution_count": null,
   "metadata": {},
   "outputs": [],
   "source": [
    "# create empty dictionary\n",
    "word_index = {}\n",
    "\n",
    "for ix, token in enumerate(BLANK):\n",
    "        word_index[token] = BLANK\n",
    "        \n",
    "print(word_index)"
   ]
  },
  {
   "cell_type": "markdown",
   "metadata": {},
   "source": [
    "11. Lastly, we select a sentence from the text. The task is to get the unique words using the `set` object which deduplicates elements. Print the result of deduped words."
   ]
  },
  {
   "cell_type": "code",
   "execution_count": 46,
   "metadata": {},
   "outputs": [
    {
     "data": {
      "text/plain": [
       "\" It's the state's largest wildfire of the year so far\""
      ]
     },
     "execution_count": 46,
     "metadata": {},
     "output_type": "execute_result"
    }
   ],
   "source": [
    "# sentence before splitting\n",
    "sent[5]"
   ]
  },
  {
   "cell_type": "code",
   "execution_count": 1,
   "metadata": {},
   "outputs": [],
   "source": [
    "# sentence after splitting\n"
   ]
  },
  {
   "cell_type": "markdown",
   "metadata": {},
   "source": [
    "---"
   ]
  },
  {
   "cell_type": "markdown",
   "metadata": {},
   "source": [
    "If you made it to here, nice work! You processed a news article and learned some Python data types and processing along the way:\n",
    "\n",
    "- lists\n",
    "- strings\n",
    "- dictionaries\n",
    "- sets"
   ]
  },
  {
   "cell_type": "markdown",
   "metadata": {},
   "source": [
    "---"
   ]
  }
 ],
 "metadata": {
  "anaconda-cloud": {},
  "kernelspec": {
   "display_name": "Python 3 (ipykernel)",
   "language": "python",
   "name": "python3"
  },
  "language_info": {
   "codemirror_mode": {
    "name": "ipython",
    "version": 3
   },
   "file_extension": ".py",
   "mimetype": "text/x-python",
   "name": "python",
   "nbconvert_exporter": "python",
   "pygments_lexer": "ipython3",
   "version": "3.9.12"
  }
 },
 "nbformat": 4,
 "nbformat_minor": 4
}
