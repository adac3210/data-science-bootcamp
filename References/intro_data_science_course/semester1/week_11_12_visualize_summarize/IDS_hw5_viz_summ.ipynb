{
 "cells": [
  {
   "cell_type": "markdown",
   "id": "e678fca1-fe77-4e9a-a709-ec13d0763811",
   "metadata": {},
   "source": [
    "<img src=\"../../predictioNN_Logo_JPG(72).jpg\" width=200>"
   ]
  },
  {
   "cell_type": "markdown",
   "id": "f64d4824",
   "metadata": {},
   "source": [
    "---\n",
    "\n",
    "## Coding Assignment 5: Data Visualization and Summarization\n",
    "\n",
    "### Introduction to Data Science\n",
    "#### Last Updated: November 20, 2022"
   ]
  },
  {
   "cell_type": "markdown",
   "id": "4903c392",
   "metadata": {},
   "source": [
    "---  \n",
    "\n",
    "### Skills Assessed\n",
    "\n",
    "- Selecting the graph type that best tells the data story\n",
    "- Understanding of correlation and its relationship to a scatterplot\n",
    "- Graphing with `seaborn` and `matplotlib`\n",
    "- Setting attributes on a graph\n",
    "- Understanding the effect of outliers on the mean and median\n",
    "\n",
    "---"
   ]
  },
  {
   "cell_type": "markdown",
   "id": "d407703e",
   "metadata": {},
   "source": [
    "### Instructions\n",
    "\n",
    "You will show off your visualization and summarization skills in this assignment.\n",
    "\n",
    "**TOTAL POINTS: 14**\n",
    "\n",
    "---"
   ]
  },
  {
   "cell_type": "markdown",
   "id": "40bb925c",
   "metadata": {},
   "source": [
    "Import `seaborn`, `pandas`, and `matplotlib.pyplot`"
   ]
  },
  {
   "cell_type": "code",
   "execution_count": null,
   "id": "263d0cc5-8067-4826-b9ee-e211ae789594",
   "metadata": {},
   "outputs": [],
   "source": []
  },
  {
   "cell_type": "markdown",
   "id": "fd30cf28-a48a-4ff9-accd-fff2137d56a2",
   "metadata": {},
   "source": [
    "Import the Country Happiness Dataset"
   ]
  },
  {
   "cell_type": "code",
   "execution_count": null,
   "id": "28c2cd63",
   "metadata": {},
   "outputs": [],
   "source": []
  },
  {
   "cell_type": "markdown",
   "id": "02d87d63",
   "metadata": {},
   "source": [
    "1) Let's understand the relationship between `Explained by: GDP per capita` and `Explained by: Healthy life expectancy`  \n",
    "Make a plot with GDP on the x-axis and Life Expectancy on the y-axis.  **(1 point)**  \n",
    "Add gridlines to the plot. **(1 point)**  \n",
    "Add this title to the plot: GDP vs Life Expectancy **(1 point)**  "
   ]
  },
  {
   "cell_type": "code",
   "execution_count": null,
   "id": "b9e0073c",
   "metadata": {},
   "outputs": [],
   "source": []
  },
  {
   "cell_type": "markdown",
   "id": "e28350a1",
   "metadata": {},
   "source": [
    "2. What do you notice about the relationship between these variables? Write 1-2 sentences explaining your observations. **(1 point)**"
   ]
  },
  {
   "cell_type": "markdown",
   "id": "7d45161e-9156-4566-a168-8fafd15f832c",
   "metadata": {},
   "source": []
  },
  {
   "cell_type": "markdown",
   "id": "19d330fd",
   "metadata": {},
   "source": [
    "---"
   ]
  },
  {
   "cell_type": "markdown",
   "id": "b58a6801-e80a-4af4-9760-55a7d807fd26",
   "metadata": {},
   "source": [
    "3. Choose two columns that you hypothesize will have a negative correlation.  In other words, as one feature increases, another decreases.  Test your hypothesis by creating a scatterplot visualization.  Briefly comment on the outcome.  You will not be penalized if you were incorrect in your hypothesis, and the plot proves you wrong. **(2 points)**"
   ]
  },
  {
   "cell_type": "code",
   "execution_count": null,
   "id": "529e70ff-69cc-4061-8159-9d57923d2440",
   "metadata": {},
   "outputs": [],
   "source": []
  },
  {
   "cell_type": "markdown",
   "id": "6995db3a-4994-4bbe-be98-caa6a5e19b12",
   "metadata": {},
   "source": [
    "4. Using .corr() will show you the pairwise correlation for all columns in a dataframe.  \n",
    "A correlation close to -1 indicates a strong negative association.  \n",
    "A correlation close to +1 indicates a strong positive association.  \n",
    "\n",
    "4a) First, display the pairwise correlation. Then choose two features, not used previously, which are negatively correlated.  Create a Matplotlib scatterplot with these features and display it.  Write a sentence about the comparison between the plot and the pairwise correlation.  **(2 points)**"
   ]
  },
  {
   "cell_type": "code",
   "execution_count": null,
   "id": "66e96a86-38c0-48e2-902f-7172c8a2051b",
   "metadata": {
    "tags": []
   },
   "outputs": [],
   "source": []
  },
  {
   "cell_type": "code",
   "execution_count": null,
   "id": "bd945465-53a1-43e7-8136-761e85693075",
   "metadata": {},
   "outputs": [],
   "source": []
  },
  {
   "cell_type": "markdown",
   "id": "313144ad",
   "metadata": {},
   "source": [
    "---"
   ]
  },
  {
   "cell_type": "markdown",
   "id": "a62ba698-043a-4976-9c28-40a580486fc1",
   "metadata": {},
   "source": [
    "4b) Choose two features, not used previously, which are positively correlated.  Create a Matplotlib scatterplot with these features and display it.  Write a sentence about the comparison between the plot and the pairwise correlation.  **(2 points)**"
   ]
  },
  {
   "cell_type": "code",
   "execution_count": null,
   "id": "288a4bcb-58bf-4cb5-8c72-8a7559e24427",
   "metadata": {},
   "outputs": [],
   "source": []
  },
  {
   "cell_type": "markdown",
   "id": "825d1b71-2b97-4725-8e70-7e5706cdd08c",
   "metadata": {},
   "source": [
    "5a) Make a line plot with GDP on the x-axis and Life Expectancy on the y-axis.  **(1 point)**"
   ]
  },
  {
   "cell_type": "code",
   "execution_count": null,
   "id": "cad0f814-2827-45ad-870a-08fa87b73ca0",
   "metadata": {},
   "outputs": [],
   "source": []
  },
  {
   "cell_type": "markdown",
   "id": "3ca5aed0-d516-433a-a253-0e962e0890db",
   "metadata": {},
   "source": [
    "5b) Which is a better graph: the line plot from (5a) or the scatterplot from (1)? Explain your answer. **(1 point)**"
   ]
  },
  {
   "cell_type": "code",
   "execution_count": null,
   "id": "04d2fc8e-085a-4667-a421-0dc1a1e79801",
   "metadata": {},
   "outputs": [],
   "source": []
  },
  {
   "cell_type": "markdown",
   "id": "949484c4-3ea5-4479-b785-11c4b225dad1",
   "metadata": {},
   "source": [
    "6a) You are studying home sale price data for a neighborhood where most homes sold for less than 500K, but a small fraction of homes sold for over 10 million. You want to compute a statistic to measure the center of the data. Would it be better to compute the median or the mean? Explain your answer. **(1 point)**"
   ]
  },
  {
   "cell_type": "code",
   "execution_count": null,
   "id": "cc54d50d-f76c-4665-b0c6-ad71b8f73a1b",
   "metadata": {},
   "outputs": [],
   "source": []
  },
  {
   "cell_type": "markdown",
   "id": "5c98404a-3052-4a1d-b03a-de03ef917da0",
   "metadata": {},
   "source": [
    "6b) From problem described in (6a), would the mean be higher or lower than the median? **(1 point)**"
   ]
  },
  {
   "cell_type": "code",
   "execution_count": null,
   "id": "8123f62c-2ff8-4f3f-98b0-4ea77432cba3",
   "metadata": {},
   "outputs": [],
   "source": []
  }
 ],
 "metadata": {
  "kernelspec": {
   "display_name": "Python 3 (ipykernel)",
   "language": "python",
   "name": "python3"
  },
  "language_info": {
   "codemirror_mode": {
    "name": "ipython",
    "version": 3
   },
   "file_extension": ".py",
   "mimetype": "text/x-python",
   "name": "python",
   "nbconvert_exporter": "python",
   "pygments_lexer": "ipython3",
   "version": "3.9.12"
  }
 },
 "nbformat": 4,
 "nbformat_minor": 5
}
