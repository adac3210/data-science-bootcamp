{
 "cells": [
  {
   "cell_type": "markdown",
   "metadata": {},
   "source": [
    "<img src=\"../../predictioNN_Logo_JPG(72).jpg\" width=200>"
   ]
  },
  {
   "cell_type": "markdown",
   "metadata": {},
   "source": [
    "---\n",
    "\n",
    "## What Kinds of Problems Can Data Science Address?\n",
    "\n",
    "### Introduction to Data Science\n",
    "#### Last Updated: December 4, 2022\n",
    " \n",
    "---\n",
    "\n",
    "### OBJECTIVES\n",
    "- Understand the kinds of societal problems that data science can address\n",
    "\n",
    "---\n"
   ]
  },
  {
   "cell_type": "markdown",
   "metadata": {},
   "source": [
    "## A Growing List"
   ]
  },
  {
   "cell_type": "markdown",
   "metadata": {},
   "source": [
    "Here are some examples of problems that data science can address.  \n",
    "Note that data science will always make mistakes, but if these are sufficiently small, then the products and tools can be useful.\n",
    "\n",
    "This is not a complete list by any means, and it will keep growing.\n",
    "\n",
    "**Finance & Insurance**  \n",
    "- Lending (e.g., automated decisioning on loans, interest rate determination)\n",
    "- Security pricing, portfolio management, risk management\n",
    "- Predicting bankruptcy\n",
    "- Predicting likelihood of people and businesses to file insurance claims\n",
    "- Fraud identification and prediction\n",
    "- Predicting the next action of an individual\n",
    "\n",
    "**Healthcare**  \n",
    "- Risk stratification of patients for triage\n",
    "- Optimizing medication dosing\n",
    "- Detecting objects of interest in images, such as tumors\n",
    "- Transcribing caregiver information\n",
    "- Search and retrieval of data\n",
    "- Identifying high-risk features such as genetic abnormalities and heart arrhythmias\n",
    "- Predicting events of interest, such as stroke and sepsis \n",
    "- Predicting patient return to hospital\n",
    "- Personalized medicine: developing effective treatments for targeted individuals\n",
    "\n",
    "**Marketing and Social Media**  \n",
    "- Predicting the next action of an individual: what they will click on, like, purchase\n",
    "- What might interest a user\n",
    "- Who a user might want to add to their network\n",
    "- Who a user might want to friend\n",
    "\n",
    "**Education**  \n",
    "- Personalizing a student's study plan\n",
    "- Recommending relevant course content to teachers and students\n",
    "- Predicting which students might be at risk of dropout / failing out / needing support\n",
    "\n",
    "**Sports and Entertainment**  \n",
    "- Auto-summarization and captioning\n",
    "- Predicting next best action for an athlete\n",
    "- Predicting the outcome of a game\n",
    "\n",
    "**Politics**  \n",
    "- Predicting who will win an election\n",
    "\n",
    "**Security and Defense**  \n",
    "- Securing data, people, assets, countries\n",
    "- Fighting terrorism\n",
    "\n",
    "**Aerospace and Heavy Industry**  \n",
    "- Predicting the best time to conduct maintenance upgrades\n",
    "\n",
    "**Robotics**  \n",
    "- Developing smarter robots that can navigate difficult terrain and interact effectively with other agents\n",
    "\n",
    "**E-Commerce**  \n",
    "- Recommending relevant products to shoppers\n",
    "\n",
    "**Transportation and Urban Planning**  \n",
    "- Determining where a traffic light should be placed to increase vehicle safety\n",
    "- Determining where a street light should be placed to increase pedestrian safety\n",
    "\n",
    "**Humanitarian Aid**  \n",
    "- Identifying regions needing critical resources during a natural disaster\n",
    "\n",
    "---"
   ]
  },
  {
   "cell_type": "markdown",
   "metadata": {},
   "source": [
    "## Frontiers\n",
    "\n",
    "The list is impressive, but we can keep pushing frontiers as the tools improve and our knowledge increases.  \n",
    "Data science a wide open field that needs your energy, excitement, skill, and creativity! \n",
    "\n",
    "---"
   ]
  },
  {
   "cell_type": "markdown",
   "metadata": {},
   "source": [
    "**THINK ABOUT AND DISCUSS**\n",
    "\n",
    "Can you identify other applications of data science? \n",
    "\n",
    "---"
   ]
  },
  {
   "cell_type": "code",
   "execution_count": null,
   "metadata": {},
   "outputs": [],
   "source": []
  }
 ],
 "metadata": {
  "anaconda-cloud": {},
  "kernelspec": {
   "display_name": "Python 3 (ipykernel)",
   "language": "python",
   "name": "python3"
  },
  "language_info": {
   "codemirror_mode": {
    "name": "ipython",
    "version": 3
   },
   "file_extension": ".py",
   "mimetype": "text/x-python",
   "name": "python",
   "nbconvert_exporter": "python",
   "pygments_lexer": "ipython3",
   "version": "3.9.12"
  }
 },
 "nbformat": 4,
 "nbformat_minor": 4
}
